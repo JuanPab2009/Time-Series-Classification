{
  "cells": [
    {
      "cell_type": "markdown",
      "id": "14178294",
      "metadata": {
        "id": "14178294"
      },
      "source": [
        "___\n",
        "<img style=\"float: left; margin: 30px 15px 15px 15px;\" src=\"https://upload.wikimedia.org/wikipedia/commons/d/db/Logo_ITESO_normal.jpg\" width=\"150\" height=\"100\" />\n",
        "\n",
        "\n",
        "# SEGUNDO EXAMEN PARCIAL\n",
        "# MODELO NO LINEAL PARA PRONÓSTICOS\n",
        "\n",
        "## Examen Tema 2\n",
        "## Nombre: Juan Pablo Blanco Lemus\n",
        "\n",
        "## Fecha: 3 de mayo del 2026\n",
        "\n",
        "## Por: Oscar David Jaramillo Z."
      ]
    },
    {
      "cell_type": "markdown",
      "id": "eec582f3",
      "metadata": {
        "id": "eec582f3"
      },
      "source": [
        "# Examen de clasificación de Series de Tiempo con Redes Neuronales\n",
        "\n",
        "En este problema, se trata de clasificar señales biomédicas, como electrocardiogramas (ECG), en diferentes categorías, como:\n",
        "\n",
        "    - `~` -> Noisy recording\n",
        "    - `N` -> Normal rhythm\n",
        "    - `O` -> Other rhythm\n",
        "    - `A` -> AF rhythm (Atrial Fibrillation)\n",
        "\n",
        "Los datos se obtuvieron del siguiente [repositorio](https://github.com/hsd1503/resnet1d). Se utilizará el siguiente [`.pickle`](https://drive.google.com/drive/folders/1AuPxvGoyUbKcVaFmeyt3xsqj6ucWZezf) donde los datos ya se encutran procesados. El objetivo es poder clasificar dada una señal de ECG, a cuál de las 4 clases mostradas inicialmente pertenece dicha serie de tiempo. Se propondrá la siguiente métrica para usar como comparación en cada uno de los algoritmos propuestos.\n",
        "\n",
        "![imagen.png](attachment:imagen.png)\n",
        "\n",
        "## Ejercicio 0:\n",
        "Explica qué es una señal ECG y cómo se utiliza en la medicina. ¿Por qué es importante clasificar las señales ECG correctamente? Explica que el significado de la señal Atrial Fibrillation.\n"
      ]
    },
    {
      "metadata": {
        "id": "25269b5440ec90ae"
      },
      "cell_type": "markdown",
      "source": [
        "+ Una señal ECG (electrocardiograma) es la representación gráfica de la actividad eléctrica del corazón que se registra por medio de electrodos colocados sobre la piel. Estos electrodos detectan los impulsos que mueven el corazón y los convierten en una especie de trazo que se visualiza en la pantalla o se imprime.\n",
        "Muestran qué tan rápido o lento late el corazón y pueden ayudar a diagnosticar arritmias, signos de arterias cardíacas obstruídas o estrechas. También puede ser útil para saber si un marcapasos o algún tratamiento contra una enfermedad cardíaca está funcionando bien.\n",
        "\n",
        "+ La clasificación correcta de señales ECG es sumamente importante para el diagnóstico preciso de enfermedades cardíacas, como son las arritmias. Esto ayuda mucho para poder dar un tratamiento oportuno y efectivo.\n",
        "\n",
        "+ La Atrial Fibrillation (AF) es un trastorno frecuente del ritmo cardíaco que ocurre cuando las aurículas se contraen muy rápido y de forma irregular. Esto hace que la sangre se acumule en las aurículas en lugar de bombearse hacía los ventrículos. Si se acumula la sangre en las aurículas, es muy probable que esta se coagule.\n",
        "+ En el ECG se aprecia como ondas P ausentes o irregulares, y los complejos QRS aparecen de forma irregular."
      ],
      "id": "25269b5440ec90ae"
    },
    {
      "metadata": {
        "id": "e350575ad02abedb"
      },
      "cell_type": "markdown",
      "source": [
        "## Ejercicio 1: (10 puntos)\n",
        "Realiza un análisis exploratorio de los señales sumunistradas y en base a este análisis justifique el procesamiento y/o transformaciones que se debe de hacer a las señales. Justifique su respuesta.\n"
      ],
      "id": "e350575ad02abedb"
    },
    {
      "metadata": {
        "id": "9ea9b1aba3018acd"
      },
      "cell_type": "markdown",
      "source": [
        "Primero vamos a ver cómo están nuestros datos, tenemos que abrir el pickle y ver a qué nos enfrentamos."
      ],
      "id": "9ea9b1aba3018acd"
    },
    {
      "cell_type": "code",
      "source": [
        "!git clone https://github.com/JuanPab2009/Time-Series-Classification.git"
      ],
      "metadata": {
        "colab": {
          "base_uri": "https://localhost:8080/"
        },
        "id": "IAh870vBCoyb",
        "outputId": "853e7490-6bac-4a5c-baa5-7203d418b960"
      },
      "id": "IAh870vBCoyb",
      "execution_count": 1,
      "outputs": [
        {
          "output_type": "stream",
          "name": "stdout",
          "text": [
            "Cloning into 'Time-Series-Classification'...\n",
            "remote: Enumerating objects: 12, done.\u001b[K\n",
            "remote: Counting objects: 100% (12/12), done.\u001b[K\n",
            "remote: Compressing objects: 100% (7/7), done.\u001b[K\n",
            "remote: Total 12 (delta 3), reused 8 (delta 2), pack-reused 0 (from 0)\u001b[K\n",
            "Receiving objects: 100% (12/12), 468.16 KiB | 4.22 MiB/s, done.\n",
            "Resolving deltas: 100% (3/3), done.\n"
          ]
        }
      ]
    },
    {
      "cell_type": "code",
      "source": [
        "%cd Time-Series-Classification/"
      ],
      "metadata": {
        "colab": {
          "base_uri": "https://localhost:8080/"
        },
        "id": "x7WXYMCBDhFQ",
        "outputId": "737c7eb2-abd0-462c-9467-7445bc00e168"
      },
      "id": "x7WXYMCBDhFQ",
      "execution_count": 2,
      "outputs": [
        {
          "output_type": "stream",
          "name": "stdout",
          "text": [
            "/content/Time-Series-Classification\n"
          ]
        }
      ]
    },
    {
      "metadata": {
        "ExecuteTime": {
          "end_time": "2025-05-04T22:01:50.633073Z",
          "start_time": "2025-05-04T22:01:50.282014Z"
        },
        "colab": {
          "base_uri": "https://localhost:8080/"
        },
        "id": "8238f480e1a48344",
        "outputId": "5e50f914-0a0d-4b2e-e08d-d9cdfdd29ab7"
      },
      "cell_type": "code",
      "source": [
        "import pickle\n",
        "from typing import Counter\n",
        "import matplotlib.pyplot as plt\n",
        "from sklearn.cluster import KMeans\n",
        "\n",
        "with open('./data/challenge2017.pkl', 'rb') as f:\n",
        "    data = pickle.load(f)\n",
        "    print(data.keys())"
      ],
      "id": "8238f480e1a48344",
      "outputs": [
        {
          "output_type": "stream",
          "name": "stdout",
          "text": [
            "dict_keys(['data', 'label'])\n"
          ]
        }
      ],
      "execution_count": 3
    },
    {
      "metadata": {
        "id": "6779202af7a38fe8"
      },
      "cell_type": "markdown",
      "source": [
        "Vamos a asignar nuestras `X` y `y`"
      ],
      "id": "6779202af7a38fe8"
    },
    {
      "metadata": {
        "ExecuteTime": {
          "end_time": "2025-05-04T22:01:51.147411Z",
          "start_time": "2025-05-04T22:01:51.145353Z"
        },
        "id": "bf05d406403fd608"
      },
      "cell_type": "code",
      "source": [
        "X = data['data']\n",
        "y = data['label']"
      ],
      "id": "bf05d406403fd608",
      "outputs": [],
      "execution_count": 4
    },
    {
      "metadata": {
        "ExecuteTime": {
          "end_time": "2025-05-04T22:01:51.385966Z",
          "start_time": "2025-05-04T22:01:51.383417Z"
        },
        "colab": {
          "base_uri": "https://localhost:8080/"
        },
        "id": "d69b5fc7a244adfd",
        "outputId": "ac1b1825-e25a-4ea4-8599-4e82d2f0bddb"
      },
      "cell_type": "code",
      "source": [
        "n_samples = len(X)\n",
        "print(n_samples)"
      ],
      "id": "d69b5fc7a244adfd",
      "outputs": [
        {
          "output_type": "stream",
          "name": "stdout",
          "text": [
            "8528\n"
          ]
        }
      ],
      "execution_count": 5
    },
    {
      "metadata": {
        "ExecuteTime": {
          "end_time": "2025-05-04T22:01:51.738451Z",
          "start_time": "2025-05-04T22:01:51.567463Z"
        },
        "colab": {
          "base_uri": "https://localhost:8080/",
          "height": 351
        },
        "id": "7f42d35164494dc7",
        "outputId": "7f2ae2d2-2391-48ee-9d3d-21ecbeacc396"
      },
      "cell_type": "code",
      "source": [
        "n_plots = 5\n",
        "plt.figure(figsize=(12, 6))\n",
        "for i in range(n_plots):\n",
        "    plt.subplot(n_plots, 1, i+1)\n",
        "    plt.plot(X[i], linewidth=0.5)\n",
        "    plt.title(f\"Señal #{i} — Clase: {y[i]}\")\n",
        "    plt.ylabel(\"uV\")\n",
        "    plt.xticks([])\n",
        "    plt.tight_layout()\n",
        "plt.xlabel(\"Tiempo (muestras)\")\n",
        "plt.show()\n"
      ],
      "id": "7f42d35164494dc7",
      "outputs": [
        {
          "output_type": "display_data",
          "data": {
            "text/plain": [
              "<Figure size 1200x600 with 5 Axes>"
            ],
            "image/png": "[encoded data removed]"
          },
          "metadata": {}
        }
      ],
      "execution_count": 6
    },
    {
      "metadata": {
        "id": "5e4e017e2024adce"
      },
      "cell_type": "markdown",
      "source": [
        "Ahora veamos nuestras clases, esto es importante porque puede que haya un desbalanceo de clases y esto se tiene que tratar."
      ],
      "id": "5e4e017e2024adce"
    },
    {
      "metadata": {
        "ExecuteTime": {
          "end_time": "2025-05-04T22:01:51.903788Z",
          "start_time": "2025-05-04T22:01:51.901586Z"
        },
        "colab": {
          "base_uri": "https://localhost:8080/"
        },
        "id": "1bccb2c3eef4915e",
        "outputId": "820b2f82-3625-4149-c35a-184cfcde6852"
      },
      "cell_type": "code",
      "source": [
        "from collections import Counter\n",
        "class_counts = Counter(y)\n",
        "print(\"– Recuento por clase:\")\n",
        "for cls, cnt in class_counts.items():\n",
        "    print(f\"{cls}: {cnt} ({cnt / n_samples:.1%})\")\n"
      ],
      "id": "1bccb2c3eef4915e",
      "outputs": [
        {
          "output_type": "stream",
          "name": "stdout",
          "text": [
            "– Recuento por clase:\n",
            "N: 5076 (59.5%)\n",
            "A: 758 (8.9%)\n",
            "O: 2415 (28.3%)\n",
            "~: 279 (3.3%)\n"
          ]
        }
      ],
      "execution_count": 7
    },
    {
      "metadata": {
        "id": "1b5ba03308f189e0"
      },
      "cell_type": "markdown",
      "source": [
        "Podemos ver un claro desbalanceo de nuestras clases, tendremos que considerar esto en nuestro preprocesamiento ya que puede tener un impacto significativo en nuestros resultados."
      ],
      "id": "1b5ba03308f189e0"
    },
    {
      "metadata": {
        "id": "226e2b31b0223907"
      },
      "cell_type": "markdown",
      "source": [
        "Veamos las longitudes de las señales ECG para tener un poco más de información."
      ],
      "id": "226e2b31b0223907"
    },
    {
      "metadata": {
        "ExecuteTime": {
          "end_time": "2025-05-04T22:01:52.393470Z",
          "start_time": "2025-05-04T22:01:52.387825Z"
        },
        "colab": {
          "base_uri": "https://localhost:8080/"
        },
        "id": "7bf200f233b5c33b",
        "outputId": "1e7138f8-b7ff-487e-ed82-bdc2ec07bc82"
      },
      "cell_type": "code",
      "source": [
        "import numpy as np\n",
        "\n",
        "lengths = np.array([len(sig) for sig in X], dtype=int)\n",
        "print(\"– Longitud mínima:\", lengths.min())\n",
        "print(\"– Longitud máxima:\", lengths.max())\n",
        "print(\"– Longitud mediana:\", np.median(lengths))\n",
        "print(\"– Desviación de longitudes:\", lengths.std().round(1))\n"
      ],
      "id": "7bf200f233b5c33b",
      "outputs": [
        {
          "output_type": "stream",
          "name": "stdout",
          "text": [
            "– Longitud mínima: 2714\n",
            "– Longitud máxima: 18286\n",
            "– Longitud mediana: 9000.0\n",
            "– Desviación de longitudes: 3266.6\n"
          ]
        }
      ],
      "execution_count": 8
    },
    {
      "metadata": {
        "ExecuteTime": {
          "end_time": "2025-05-04T22:01:52.537294Z",
          "start_time": "2025-05-04T22:01:52.535185Z"
        },
        "colab": {
          "base_uri": "https://localhost:8080/"
        },
        "id": "67534d08ad62b81c",
        "outputId": "53915ec2-2ee2-407d-9e3b-5c35590c6b89"
      },
      "cell_type": "code",
      "source": [
        "uniform = np.all(lengths == lengths[0])\n",
        "print(uniform)"
      ],
      "id": "67534d08ad62b81c",
      "outputs": [
        {
          "output_type": "stream",
          "name": "stdout",
          "text": [
            "False\n"
          ]
        }
      ],
      "execution_count": 9
    },
    {
      "metadata": {
        "id": "982988f73158542e"
      },
      "cell_type": "markdown",
      "source": [
        "Vemos que nuestras longitudes van de 2714 a 18286, pero para nuestros propósitos necesitamos señales de tamaño idéntico, entonces aquí tenemos que decidir qué hacer, porque podemos truncar las series, rellenarlas con Padding o simplemente elegir un tamaño intermedio que minimice ambas operaciones."
      ],
      "id": "982988f73158542e"
    },
    {
      "metadata": {
        "ExecuteTime": {
          "end_time": "2025-05-04T22:01:52.852015Z",
          "start_time": "2025-05-04T22:01:52.847117Z"
        },
        "colab": {
          "base_uri": "https://localhost:8080/"
        },
        "id": "32d1ff6a51ae224",
        "outputId": "03a490af-dc3f-4d9f-c431-5397d6a4169b"
      },
      "cell_type": "code",
      "source": [
        "percentiles = np.percentile(lengths, [25, 50, 75])\n",
        "mode_len = Counter(lengths).most_common(1)[0][0]\n",
        "\n",
        "print(f\"25º percentil: {percentiles[0]:.0f}\")\n",
        "print(f\"50º percentil (mediana): {percentiles[1]:.0f}\")\n",
        "print(f\"75º percentil: {percentiles[2]:.0f}\")\n",
        "print(f\"Valor modal: {mode_len}\")"
      ],
      "id": "32d1ff6a51ae224",
      "outputs": [
        {
          "output_type": "stream",
          "name": "stdout",
          "text": [
            "25º percentil: 9000\n",
            "50º percentil (mediana): 9000\n",
            "75º percentil: 9000\n",
            "Valor modal: 9000\n"
          ]
        }
      ],
      "execution_count": 10
    },
    {
      "metadata": {
        "id": "b1fd21784c0470a8"
      },
      "cell_type": "markdown",
      "source": [
        "Okay, aquí podemos ver que el 75% de las señales tienen exactamente 9000 muestras, lo que se me ocurre hacer es tomar 9000 como longitud fija, así podemos truncar las señales más largas a 9000. Y hacerle padding a las señales más cortas a 9000. Pero antes de hacer esto quiero revisar qué porcentaje se verá afectado con este enfoque híbrido."
      ],
      "id": "b1fd21784c0470a8"
    },
    {
      "metadata": {
        "ExecuteTime": {
          "end_time": "2025-05-04T22:01:53.181922Z",
          "start_time": "2025-05-04T22:01:53.179176Z"
        },
        "colab": {
          "base_uri": "https://localhost:8080/"
        },
        "id": "2e74eb22b51be7f9",
        "outputId": "ea546690-2b5a-4981-8d30-a7dc94aa2e50"
      },
      "cell_type": "code",
      "source": [
        "n_total = len(lengths)\n",
        "n_shorter = np.sum(lengths < 9000)\n",
        "n_equal = np.sum(lengths == 9000)\n",
        "n_longer = np.sum(lengths > 9000)\n",
        "\n",
        "p_shorter = n_shorter / n_total * 100\n",
        "p_equal   = n_equal   / n_total * 100\n",
        "p_longer  = n_longer  / n_total * 100\n",
        "\n",
        "print(f\"Señales <9000: {n_shorter} ({p_shorter:.1f}%) → padding\")\n",
        "print(f\"Señales =9000: {n_equal} ({p_equal:.1f}%) → sin cambio\")\n",
        "print(f\"Señales >9000: {n_longer} ({p_longer:.1f}%) → truncado\")"
      ],
      "id": "2e74eb22b51be7f9",
      "outputs": [
        {
          "output_type": "stream",
          "name": "stdout",
          "text": [
            "Señales <9000: 967 (11.3%) → padding\n",
            "Señales =9000: 5977 (70.1%) → sin cambio\n",
            "Señales >9000: 1584 (18.6%) → truncado\n"
          ]
        }
      ],
      "execution_count": 11
    },
    {
      "metadata": {
        "id": "3d3ebef4e7fdf74d"
      },
      "cell_type": "markdown",
      "source": [
        "Okay ya podemos tener más certeza de cuánto estamos afectando. Lo que me mantiene tranquilo es que el 70% de las señales se mantienen intactas. 11% se va a paddear y el 18% se va a truncar. En cuanto al 18% de señales muy largas refuerza la idea de usar 9000 como longitud fija, porque no queremos descartar casi una quinta parte de los datos.\n",
        "\n",
        "Entonces ya está decidido, ahora hagamos una función que nos permita hacer estos cambios.\n",
        "En el caso del Padding, los ceros son un tipo de silencio que los filtros aprenden a ignorar."
      ],
      "id": "3d3ebef4e7fdf74d"
    },
    {
      "metadata": {
        "id": "79a68048d879bca9"
      },
      "cell_type": "markdown",
      "source": [
        "La función hará lo siguiente:\n",
        "\n",
        "1. **Contar señales (`n`)**\n",
        "   Sacamos cuántas series vamos a procesar, para luego crear una matriz de salida con esa misma cantidad de filas.\n",
        "\n",
        "2. **Crear matriz de salida (`out`)**\n",
        "\n",
        "   * `np.full((n, target_len), pad_value, dtype=…)` genera un array de tamaño `n × target_len` lleno de ceros.\n",
        "   * Esto garantiza que, si alguna señal es muy corta, las posiciones sobrantes ya están en cero.\n",
        "\n",
        "3. **Bucle sobre señales**\n",
        "\n",
        "   * `enumerate(signals)` te da el índice `i` y la señal `sig` a la vez.\n",
        "   * Calculamos `L = len(sig)` para saber si hay que recortar o rellenar.\n",
        "\n",
        "4. **Truncado vs. Padding**\n",
        "\n",
        "   * **Truncado** (`if L >= target_len`):\n",
        "\n",
        "     * Cogemos solo `sig[:target_len]`, es decir, las primeras `target_len` muestras.\n",
        "   * **Padding** (`else`):\n",
        "\n",
        "     * Copiamos la señal entera en `out[i, :L]`.\n",
        "     * El resto (desde `L` hasta `target_len`) permanece en el valor de relleno (0).\n",
        "\n",
        "5. **Devolver resultado**\n",
        "\n",
        "   * La función regresa un **`ndarray`** de forma `(n, target_len)`.\n",
        "\n",
        "Con esto, cualquier señal más corta se “silencia” al final y cualquier señal más larga se ajusta al tamaño deseado sin perder la parte inicial.\n"
      ],
      "id": "79a68048d879bca9"
    },
    {
      "metadata": {
        "ExecuteTime": {
          "end_time": "2025-05-04T22:01:53.865923Z",
          "start_time": "2025-05-04T22:01:53.860339Z"
        },
        "id": "32cc011797798ccc"
      },
      "cell_type": "code",
      "source": [
        "def fix_length(signals, target_len=9000, pad_value=0):\n",
        "    \"\"\"\n",
        "    signals: lista o array de arrays de distinta longitud.\n",
        "    target_len: longitud fija a la que queremos llegar\n",
        "    pad_value: valor con el que queremos rellenar, en este caso 0.\n",
        "\n",
        "    Para cada señal:\n",
        "      - Si len > target_len: la truncamos a las primeras target_len muestras.\n",
        "      - Si len < target_len: la rellenamos al final con pad_value.\n",
        "      - Si len == target_len: la dejamos igual.\n",
        "\n",
        "    Devuelve un array de shape (n_signals, target_len).\n",
        "    \"\"\"\n",
        "\n",
        "    n = len(signals)\n",
        "    out = np.full((n, target_len), pad_value, dtype=signals[0].dtype)\n",
        "    for i, sig in enumerate(signals):\n",
        "        L = len(sig)\n",
        "        if L >= target_len:\n",
        "            # Aquí truncamos, tomamos las primeras target_len muestras\n",
        "            out[i, :] = sig[:target_len]\n",
        "        else:\n",
        "            # Aquí es el padding, copiamos todas la señal y el resto queda en pad_value que es 0\n",
        "            out[i, :L] = sig\n",
        "    return out"
      ],
      "id": "32cc011797798ccc",
      "outputs": [],
      "execution_count": 12
    },
    {
      "metadata": {
        "id": "86252346ba50fd0c"
      },
      "cell_type": "markdown",
      "source": [
        "Y aplicamos a nuestras series"
      ],
      "id": "86252346ba50fd0c"
    },
    {
      "metadata": {
        "ExecuteTime": {
          "end_time": "2025-05-04T22:01:54.241490Z",
          "start_time": "2025-05-04T22:01:54.208036Z"
        },
        "colab": {
          "base_uri": "https://localhost:8080/"
        },
        "id": "c2845497c3a858b0",
        "outputId": "5b2874dd-d4b7-409a-ef30-dbecc93ae111"
      },
      "cell_type": "code",
      "source": [
        "X_fixed = fix_length(X, target_len=9000)\n",
        "print(\"Shape final de X:\", X_fixed.shape)"
      ],
      "id": "c2845497c3a858b0",
      "outputs": [
        {
          "output_type": "stream",
          "name": "stdout",
          "text": [
            "Shape final de X: (8528, 9000)\n"
          ]
        }
      ],
      "execution_count": 13
    },
    {
      "metadata": {
        "id": "51ee73dc7dc4f8f9"
      },
      "cell_type": "markdown",
      "source": [
        "Muy bien, ahora pasemos a la división train/test/val\n",
        "\n"
      ],
      "id": "51ee73dc7dc4f8f9"
    },
    {
      "metadata": {
        "ExecuteTime": {
          "end_time": "2025-05-04T22:01:55.315224Z",
          "start_time": "2025-05-04T22:01:54.528029Z"
        },
        "colab": {
          "base_uri": "https://localhost:8080/"
        },
        "id": "1e77dcd5e1dd7517",
        "outputId": "b6957497-af87-42ea-ff8e-acf1ae2285db"
      },
      "cell_type": "code",
      "source": [
        "from sklearn.model_selection import train_test_split\n",
        "\n",
        "X_train, X_test, y_train, y_test = train_test_split(\n",
        "    X_fixed, y,\n",
        "    test_size=0.2,\n",
        "    stratify=y,\n",
        "    random_state=42\n",
        ")\n",
        "\n",
        "X_train2, X_val, y_train2, y_val = train_test_split(\n",
        "    X_train, y_train,\n",
        "    test_size=0.2,\n",
        "    stratify=y_train,\n",
        "    random_state=42\n",
        ")\n",
        "\n",
        "print(\"Train ajustado   :\", X_train2.shape, y_train2.shape)\n",
        "print(\"Validation       :\", X_val.shape,   y_val.shape)\n",
        "print(\"Test (intacto)   :\", X_test.shape,  y_test.shape)"
      ],
      "id": "1e77dcd5e1dd7517",
      "outputs": [
        {
          "output_type": "stream",
          "name": "stdout",
          "text": [
            "Train ajustado   : (5457, 9000) (5457,)\n",
            "Validation       : (1365, 9000) (1365,)\n",
            "Test (intacto)   : (1706, 9000) (1706,)\n"
          ]
        }
      ],
      "execution_count": 14
    },
    {
      "metadata": {
        "id": "d9b677434d81dd06"
      },
      "cell_type": "markdown",
      "source": [
        "Ahora estandarizamos utilizando Standard Scaler"
      ],
      "id": "d9b677434d81dd06"
    },
    {
      "metadata": {
        "ExecuteTime": {
          "end_time": "2025-05-04T22:02:00.014673Z",
          "start_time": "2025-05-04T22:01:59.458443Z"
        },
        "colab": {
          "base_uri": "https://localhost:8080/"
        },
        "id": "ccab89dd5d4f3490",
        "outputId": "6e6ca420-655d-43a3-aa77-41572b6abf81"
      },
      "cell_type": "code",
      "source": [
        "from sklearn.preprocessing import StandardScaler\n",
        "\n",
        "# Creamos y ajustamos el scaler\n",
        "scaler = StandardScaler()\n",
        "scaler.fit(X_train2)\n",
        "\n",
        "# Transformamos train, validation y test\n",
        "X_train_scaled = scaler.transform(X_train2)\n",
        "X_val_scaled   = scaler.transform(X_val)\n",
        "X_test_scaled  = scaler.transform(X_test)\n",
        "\n",
        "# Verificación rápida de media y desviación\n",
        "print(\"Train scaled — mean:\", X_train_scaled.mean().round(3),\n",
        "      \" std:\", X_train_scaled.std().round(3))\n",
        "print(\"Val   scaled — mean:\", X_val_scaled.mean().round(3),\n",
        "      \" std:\", X_val_scaled.std().round(3))\n",
        "print(\"Test  scaled — mean:\", X_test_scaled.mean().round(3),\n",
        "      \" std:\", X_test_scaled.std().round(3))\n"
      ],
      "id": "ccab89dd5d4f3490",
      "outputs": [
        {
          "output_type": "stream",
          "name": "stdout",
          "text": [
            "Train scaled — mean: -0.0  std: 1.0\n",
            "Val   scaled — mean: -0.0  std: 0.976\n",
            "Test  scaled — mean: 0.0  std: 1.009\n"
          ]
        }
      ],
      "execution_count": 15
    },
    {
      "metadata": {
        "id": "d8b5aad1f45ef1de"
      },
      "cell_type": "markdown",
      "source": [
        "Antes de continuar, creo que hay una última cosa que puede meter ruído. El desbalanceo de clases. Hay que recordar que la distribución de las clases se ve así:\n",
        "| Categoría | Cantidad | Porcentaje |\n",
        "|----------|----------|----------|\n",
        "| N    | 5076   | 58.5%   |\n",
        "| A    | 758   | 8.9%   |\n",
        "| O    | 2415   | 28.3%   |\n",
        "| ~    | 279   | 3.3%   |\n",
        "\n",
        "Aquí hay algo interesante que tendrá mucho impacto en nuestro desarrollo del proyecto, según este enfoque, creo que tiene más valor que el modelo pueda predecir con mayor exactitud una Arritmia que una señal normal. Entonces primero entrenaremos nuestros modelos de forma normal y no nos fijaremos solo en el accuracy global, sino en otras métricas específicas para A, como el Recall para A, la Precisión para A y el F1-score. Ahora bien, esto no significa que solo nos fijaremos en estas métricas, pero serán un buen punto de partida para verificar si necesitamos hacer un ajuste en el balanceo de las clases."
      ],
      "id": "d8b5aad1f45ef1de"
    },
    {
      "metadata": {
        "ExecuteTime": {
          "end_time": "2025-05-05T01:44:52.845657Z",
          "start_time": "2025-05-05T01:44:52.838782Z"
        },
        "colab": {
          "base_uri": "https://localhost:8080/"
        },
        "id": "7b5d8724e263141d",
        "outputId": "9700a15b-5568-44cc-eb0b-f5488dc208b9"
      },
      "cell_type": "code",
      "source": [
        "from collections import Counter\n",
        "\n",
        "# Distribución en el train ajustado\n",
        "dist = Counter(y_train2)\n",
        "print(\"Distribución original:\")\n",
        "for cls, cnt in dist.items():\n",
        "    print(f\"  {cls}: {cnt}\")\n"
      ],
      "id": "7b5d8724e263141d",
      "outputs": [
        {
          "output_type": "stream",
          "name": "stdout",
          "text": [
            "Distribución original:\n",
            "  N: 3249\n",
            "  O: 1545\n",
            "  A: 485\n",
            "  ~: 178\n"
          ]
        }
      ],
      "execution_count": 16
    },
    {
      "metadata": {
        "id": "ec89d2ffd02bb365"
      },
      "cell_type": "markdown",
      "source": [
        "## Ejercicio 2: (10 puntos)\n",
        "\n",
        "Diseña modelos de clasificación de señales ECG utilizando algoritmos de machine learning, utiliza al menos 6 algoritmos distintos. Explica los pasos que seguirías para entrenar y validar el modelo y discute cómo podrías mejorar la precisión del modelo."
      ],
      "id": "ec89d2ffd02bb365"
    },
    {
      "metadata": {
        "id": "4de4e142a9e0d51f"
      },
      "cell_type": "markdown",
      "source": [
        "### K-Nearest Neighbors (KNN)\n",
        "\n",
        "+ Empezaremos utilizando el modelo KNN, que es un clasificador basado en la vecinidad, para cada nueva señal, busca las k señales más cercanas según la distancia Euclidiana en el conjunto de entrenamiento y asigna la clase más frecuente entre ellas. Decidí utilizar este para tener un buen punto de partida para poder evaluar qué tan separables están las clases en el espacio de características.\n",
        "\n"
      ],
      "id": "4de4e142a9e0d51f"
    },
    {
      "metadata": {
        "ExecuteTime": {
          "end_time": "2025-05-04T22:02:01.109390Z",
          "start_time": "2025-05-04T22:02:00.395759Z"
        },
        "colab": {
          "base_uri": "https://localhost:8080/"
        },
        "id": "2a8ca2ac7a971a0a",
        "outputId": "465ee4e6-7533-43c6-f976-664dc1dfa52e"
      },
      "cell_type": "code",
      "source": [
        "from sklearn.neighbors import KNeighborsClassifier\n",
        "from sklearn.metrics import accuracy_score, classification_report, silhouette_score\n",
        "\n",
        "# Instanciamos KNN con k=5\n",
        "knn = KNeighborsClassifier(n_neighbors=5)\n",
        "\n",
        "# Ajustamos el modelo con el train ajustado\n",
        "knn.fit(X_train_scaled, y_train2)\n",
        "\n",
        "# Predecimos en validación\n",
        "y_pred_val = knn.predict(X_val_scaled)\n",
        "\n",
        "# Calculamos accuracy\n",
        "acc_val_knn = accuracy_score(y_val, y_pred_val)\n",
        "print(\"Accuracy KNN:\", acc_val_knn)\n",
        "\n",
        "# Reporte\n",
        "print(\"Reporte de Clasificación\")\n",
        "print(classification_report(y_val, y_pred_val, digits=3))\n"
      ],
      "id": "2a8ca2ac7a971a0a",
      "outputs": [
        {
          "output_type": "stream",
          "name": "stdout",
          "text": [
            "Accuracy KNN: 0.5010989010989011\n",
            "Reporte de Clasificación\n",
            "              precision    recall  f1-score   support\n",
            "\n",
            "           A      0.132     0.165     0.147       121\n",
            "           N      0.591     0.794     0.678       812\n",
            "           O      0.316     0.047     0.081       387\n",
            "           ~      0.015     0.022     0.018        45\n",
            "\n",
            "    accuracy                          0.501      1365\n",
            "   macro avg      0.264     0.257     0.231      1365\n",
            "weighted avg      0.453     0.501     0.440      1365\n",
            "\n"
          ]
        }
      ],
      "execution_count": 17
    },
    {
      "metadata": {
        "id": "2ca30ddbab697500"
      },
      "cell_type": "markdown",
      "source": [
        "Después de este experimento podemos decir con seguridad que el desbalanceo de clases va a ser un problema, lo que podemos ver del reporte son varias cosas:\n",
        "1. Hasta ahora me acordé que algoritmos como KNN no funcionan bien con datasets de alta dimensionalidad, por lo que a continuación vamos a hacer un PCA para ver si ayuda a mejorar los resultados y bajar la dimensionalidad.\n",
        "2. Vemos el Accuracy Global ≃ 50%, pero esto no nos dice todo, veamos los resultados desglosados por clase:\n",
        "    + **Clase A (AF)**\n",
        "        + **Precision 0.132**: De todas las veces que el modelo predijo “A”, sólo el 13.2 % eran realmente fibrilación.\n",
        "        + **Recall   0.165**: De todas las señales de fibrilación reales, sólo detectó el 16.5 %.\n",
        "        + **F1-score 0.147**: Media armónica baja, refleja que tanto precision como recall son pobres.\n",
        "\n",
        "    + **Clase N (Normal)**\n",
        "        + Precision 0.591, Recall 0.794 → El 79.4 % de los normales se detectan y cuando predice “N” acierta casi el 60 %.\n",
        "        + Esta clase domina el dataset, por eso sale mejor.\n",
        "\n",
        "    + **Clase O (Other)** y **Clase \\~ (Noisy)**\n",
        "        + Recall muy bajo (4.7 % y 2.2 % respectivamente), prácticamente no las reconoce."
      ],
      "id": "2ca30ddbab697500"
    },
    {
      "metadata": {
        "id": "b7b78833c7d384d"
      },
      "cell_type": "markdown",
      "source": [
        "+ Para solucionar estos problemas, vamos a implementar dos cosas, OverSampling y PCA.\n"
      ],
      "id": "b7b78833c7d384d"
    },
    {
      "metadata": {
        "ExecuteTime": {
          "end_time": "2025-05-05T02:18:56.202219Z",
          "start_time": "2025-05-05T02:18:50.342977Z"
        },
        "colab": {
          "base_uri": "https://localhost:8080/"
        },
        "id": "4857b522afa7b0e4",
        "outputId": "76345e5a-d8b9-4571-d0aa-225213028f20"
      },
      "cell_type": "code",
      "source": [
        "from sklearn.decomposition import PCA\n",
        "pca = PCA(n_components=500, random_state=42)\n",
        "pca.fit(X_train_scaled)\n",
        "\n",
        "X_train_pca = pca.transform(X_train_scaled)\n",
        "X_val_pca   = pca.transform(X_val_scaled)\n",
        "\n",
        "explained_variance = sum(pca.explained_variance_ratio_)\n",
        "print(explained_variance)"
      ],
      "id": "4857b522afa7b0e4",
      "outputs": [
        {
          "output_type": "stream",
          "name": "stdout",
          "text": [
            "0.850118731169923\n"
          ]
        }
      ],
      "execution_count": 18
    },
    {
      "metadata": {
        "ExecuteTime": {
          "end_time": "2025-05-05T02:19:16.814838Z",
          "start_time": "2025-05-05T02:19:16.780753Z"
        },
        "colab": {
          "base_uri": "https://localhost:8080/"
        },
        "id": "1c8a25688c1290f9",
        "outputId": "1d6be516-f495-4769-9eaa-00cbac27c985"
      },
      "cell_type": "code",
      "source": [
        "import numpy as np\n",
        "from collections import Counter\n",
        "\n",
        "def random_oversample(X, y, seed=42):\n",
        "    rng = np.random.RandomState(seed)\n",
        "    dist = Counter(y)\n",
        "    max_count = max(dist.values())\n",
        "    X_os, y_os = [], []\n",
        "    for cls, cnt in dist.items():\n",
        "        idx = np.where(y == cls)[0]\n",
        "        X_cls, y_cls = X[idx], y[idx]\n",
        "        X_os.append(X_cls)\n",
        "        y_os.extend(y_cls)\n",
        "        n_need = max_count - cnt\n",
        "        if n_need > 0:\n",
        "            sel = rng.choice(len(X_cls), size=n_need, replace=True)\n",
        "            X_os.append(X_cls[sel])\n",
        "            y_os.extend(y_cls[sel])\n",
        "    X_res = np.vstack(X_os)\n",
        "    y_res = np.array(y_os)\n",
        "    perm = rng.permutation(len(y_res))\n",
        "    return X_res[perm], y_res[perm]\n",
        "\n",
        "X_train_os, y_train_os = random_oversample(X_train_pca, y_train2)\n",
        "print(\"Distribución tras oversampling (PCA):\", Counter(y_train_os))"
      ],
      "id": "1c8a25688c1290f9",
      "outputs": [
        {
          "output_type": "stream",
          "name": "stdout",
          "text": [
            "Distribución tras oversampling (PCA): Counter({np.str_('A'): 3249, np.str_('N'): 3249, np.str_('O'): 3249, np.str_('~'): 3249})\n"
          ]
        }
      ],
      "execution_count": 19
    },
    {
      "metadata": {
        "ExecuteTime": {
          "end_time": "2025-05-05T02:19:34.320895Z",
          "start_time": "2025-05-05T02:19:34.218936Z"
        },
        "colab": {
          "base_uri": "https://localhost:8080/"
        },
        "id": "9ada354b886038fc",
        "outputId": "d582cdf1-b041-4721-87ae-dca6c567a8e6"
      },
      "cell_type": "code",
      "source": [
        "\n",
        "# KNN en el espacio PCA balanceado\n",
        "knn_pca = KNeighborsClassifier(n_neighbors=5)\n",
        "knn_pca.fit(X_train_os, y_train_os)\n",
        "\n",
        "y_pred_val_knn_pca = knn_pca.predict(X_val_pca)\n",
        "print(\"Accuracy (KNN + PCA + oversample):\",\n",
        "      accuracy_score(y_val, y_pred_val_knn_pca))\n",
        "print(\"\\nClassification report:\")\n",
        "print(classification_report(\n",
        "    y_val, y_pred_val_knn_pca, digits=3,\n",
        "    target_names=['~','N','O','A']\n",
        "))"
      ],
      "id": "9ada354b886038fc",
      "outputs": [
        {
          "output_type": "stream",
          "name": "stdout",
          "text": [
            "Accuracy (KNN + PCA + oversample): 0.2827838827838828\n",
            "\n",
            "Classification report:\n",
            "              precision    recall  f1-score   support\n",
            "\n",
            "           ~      0.099     0.165     0.123       121\n",
            "           N      0.595     0.378     0.462       812\n",
            "           O      0.276     0.132     0.178       387\n",
            "           A      0.017     0.178     0.032        45\n",
            "\n",
            "    accuracy                          0.283      1365\n",
            "   macro avg      0.247     0.213     0.199      1365\n",
            "weighted avg      0.441     0.283     0.338      1365\n",
            "\n"
          ]
        }
      ],
      "execution_count": 20
    },
    {
      "metadata": {
        "id": "f96a82f34698e802"
      },
      "cell_type": "markdown",
      "source": [
        "Con los cambios que hicimos bajó la métrica, pero hay puntos interesantes a resaltar. Puede que la combinación que estemos haciendo sea la incorrecta, al utilizar PCA y oversampling, lo que pasa es que en un espacio reducido, al generar ejemplos sintéticos, podemos estar introduciendo puntos muy cercanos que hagan que se agrupen mal. Vamos a probar una última vez utilizando solo Oversampling."
      ],
      "id": "f96a82f34698e802"
    },
    {
      "metadata": {
        "ExecuteTime": {
          "end_time": "2025-05-05T03:01:03.713829Z",
          "start_time": "2025-05-05T03:01:02.510487Z"
        },
        "colab": {
          "base_uri": "https://localhost:8080/"
        },
        "id": "229aa046a5d6d296",
        "outputId": "216fe023-8aa8-47c1-8866-fe1d36b75922"
      },
      "cell_type": "code",
      "source": [
        "X_train_os, y_train_os = random_oversample(X_train_scaled, y_train2)\n",
        "print(\"Distribución tras oversampling:\", Counter(y_train_os))"
      ],
      "id": "229aa046a5d6d296",
      "outputs": [
        {
          "output_type": "stream",
          "name": "stdout",
          "text": [
            "Distribución tras oversampling: Counter({np.str_('A'): 3249, np.str_('N'): 3249, np.str_('O'): 3249, np.str_('~'): 3249})\n"
          ]
        }
      ],
      "execution_count": 21
    },
    {
      "metadata": {
        "ExecuteTime": {
          "end_time": "2025-05-05T03:01:14.603573Z",
          "start_time": "2025-05-05T03:01:14.463916Z"
        },
        "colab": {
          "base_uri": "https://localhost:8080/",
          "height": 80
        },
        "id": "4324c3054986bf38",
        "outputId": "7014c66d-2be8-402d-8d68-65956af1dc24"
      },
      "cell_type": "code",
      "source": [
        "knn_os = KNeighborsClassifier(n_neighbors=5)\n",
        "knn_os.fit(X_train_os, y_train_os)"
      ],
      "id": "4324c3054986bf38",
      "outputs": [
        {
          "output_type": "execute_result",
          "data": {
            "text/plain": [
              "KNeighborsClassifier()"
            ],
            "text/html": [
              "<style>#sk-container-id-1 {\n",
              "  /* Definition of color scheme common for light and dark mode */\n",
              "  --sklearn-color-text: #000;\n",
              "  --sklearn-color-text-muted: #666;\n",
              "  --sklearn-color-line: gray;\n",
              "  /* Definition of color scheme for unfitted estimators */\n",
              "  --sklearn-color-unfitted-level-0: #fff5e6;\n",
              "  --sklearn-color-unfitted-level-1: #f6e4d2;\n",
              "  --sklearn-color-unfitted-level-2: #ffe0b3;\n",
              "  --sklearn-color-unfitted-level-3: chocolate;\n",
              "  /* Definition of color scheme for fitted estimators */\n",
              "  --sklearn-color-fitted-level-0: #f0f8ff;\n",
              "  --sklearn-color-fitted-level-1: #d4ebff;\n",
              "  --sklearn-color-fitted-level-2: #b3dbfd;\n",
              "  --sklearn-color-fitted-level-3: cornflowerblue;\n",
              "\n",
              "  /* Specific color for light theme */\n",
              "  --sklearn-color-text-on-default-background: var(--sg-text-color, var(--theme-code-foreground, var(--jp-content-font-color1, black)));\n",
              "  --sklearn-color-background: var(--sg-background-color, var(--theme-background, var(--jp-layout-color0, white)));\n",
              "  --sklearn-color-border-box: var(--sg-text-color, var(--theme-code-foreground, var(--jp-content-font-color1, black)));\n",
              "  --sklearn-color-icon: #696969;\n",
              "\n",
              "  @media (prefers-color-scheme: dark) {\n",
              "    /* Redefinition of color scheme for dark theme */\n",
              "    --sklearn-color-text-on-default-background: var(--sg-text-color, var(--theme-code-foreground, var(--jp-content-font-color1, white)));\n",
              "    --sklearn-color-background: var(--sg-background-color, var(--theme-background, var(--jp-layout-color0, #111)));\n",
              "    --sklearn-color-border-box: var(--sg-text-color, var(--theme-code-foreground, var(--jp-content-font-color1, white)));\n",
              "    --sklearn-color-icon: #878787;\n",
              "  }\n",
              "}\n",
              "\n",
              "#sk-container-id-1 {\n",
              "  color: var(--sklearn-color-text);\n",
              "}\n",
              "\n",
              "#sk-container-id-1 pre {\n",
              "  padding: 0;\n",
              "}\n",
              "\n",
              "#sk-container-id-1 input.sk-hidden--visually {\n",
              "  border: 0;\n",
              "  clip: rect(1px 1px 1px 1px);\n",
              "  clip: rect(1px, 1px, 1px, 1px);\n",
              "  height: 1px;\n",
              "  margin: -1px;\n",
              "  overflow: hidden;\n",
              "  padding: 0;\n",
              "  position: absolute;\n",
              "  width: 1px;\n",
              "}\n",
              "\n",
              "#sk-container-id-1 div.sk-dashed-wrapped {\n",
              "  border: 1px dashed var(--sklearn-color-line);\n",
              "  margin: 0 0.4em 0.5em 0.4em;\n",
              "  box-sizing: border-box;\n",
              "  padding-bottom: 0.4em;\n",
              "  background-color: var(--sklearn-color-background);\n",
              "}\n",
              "\n",
              "#sk-container-id-1 div.sk-container {\n",
              "  /* jupyter's `normalize.less` sets `[hidden] { display: none; }`\n",
              "     but bootstrap.min.css set `[hidden] { display: none !important; }`\n",
              "     so we also need the `!important` here to be able to override the\n",
              "     default hidden behavior on the sphinx rendered scikit-learn.org.\n",
              "     See: https://github.com/scikit-learn/scikit-learn/issues/21755 */\n",
              "  display: inline-block !important;\n",
              "  position: relative;\n",
              "}\n",
              "\n",
              "#sk-container-id-1 div.sk-text-repr-fallback {\n",
              "  display: none;\n",
              "}\n",
              "\n",
              "div.sk-parallel-item,\n",
              "div.sk-serial,\n",
              "div.sk-item {\n",
              "  /* draw centered vertical line to link estimators */\n",
              "  background-image: linear-gradient(var(--sklearn-color-text-on-default-background), var(--sklearn-color-text-on-default-background));\n",
              "  background-size: 2px 100%;\n",
              "  background-repeat: no-repeat;\n",
              "  background-position: center center;\n",
              "}\n",
              "\n",
              "/* Parallel-specific style estimator block */\n",
              "\n",
              "#sk-container-id-1 div.sk-parallel-item::after {\n",
              "  content: \"\";\n",
              "  width: 100%;\n",
              "  border-bottom: 2px solid var(--sklearn-color-text-on-default-background);\n",
              "  flex-grow: 1;\n",
              "}\n",
              "\n",
              "#sk-container-id-1 div.sk-parallel {\n",
              "  display: flex;\n",
              "  align-items: stretch;\n",
              "  justify-content: center;\n",
              "  background-color: var(--sklearn-color-background);\n",
              "  position: relative;\n",
              "}\n",
              "\n",
              "#sk-container-id-1 div.sk-parallel-item {\n",
              "  display: flex;\n",
              "  flex-direction: column;\n",
              "}\n",
              "\n",
              "#sk-container-id-1 div.sk-parallel-item:first-child::after {\n",
              "  align-self: flex-end;\n",
              "  width: 50%;\n",
              "}\n",
              "\n",
              "#sk-container-id-1 div.sk-parallel-item:last-child::after {\n",
              "  align-self: flex-start;\n",
              "  width: 50%;\n",
              "}\n",
              "\n",
              "#sk-container-id-1 div.sk-parallel-item:only-child::after {\n",
              "  width: 0;\n",
              "}\n",
              "\n",
              "/* Serial-specific style estimator block */\n",
              "\n",
              "#sk-container-id-1 div.sk-serial {\n",
              "  display: flex;\n",
              "  flex-direction: column;\n",
              "  align-items: center;\n",
              "  background-color: var(--sklearn-color-background);\n",
              "  padding-right: 1em;\n",
              "  padding-left: 1em;\n",
              "}\n",
              "\n",
              "\n",
              "/* Toggleable style: style used for estimator/Pipeline/ColumnTransformer box that is\n",
              "clickable and can be expanded/collapsed.\n",
              "- Pipeline and ColumnTransformer use this feature and define the default style\n",
              "- Estimators will overwrite some part of the style using the `sk-estimator` class\n",
              "*/\n",
              "\n",
              "/* Pipeline and ColumnTransformer style (default) */\n",
              "\n",
              "#sk-container-id-1 div.sk-toggleable {\n",
              "  /* Default theme specific background. It is overwritten whether we have a\n",
              "  specific estimator or a Pipeline/ColumnTransformer */\n",
              "  background-color: var(--sklearn-color-background);\n",
              "}\n",
              "\n",
              "/* Toggleable label */\n",
              "#sk-container-id-1 label.sk-toggleable__label {\n",
              "  cursor: pointer;\n",
              "  display: flex;\n",
              "  width: 100%;\n",
              "  margin-bottom: 0;\n",
              "  padding: 0.5em;\n",
              "  box-sizing: border-box;\n",
              "  text-align: center;\n",
              "  align-items: start;\n",
              "  justify-content: space-between;\n",
              "  gap: 0.5em;\n",
              "}\n",
              "\n",
              "#sk-container-id-1 label.sk-toggleable__label .caption {\n",
              "  font-size: 0.6rem;\n",
              "  font-weight: lighter;\n",
              "  color: var(--sklearn-color-text-muted);\n",
              "}\n",
              "\n",
              "#sk-container-id-1 label.sk-toggleable__label-arrow:before {\n",
              "  /* Arrow on the left of the label */\n",
              "  content: \"▸\";\n",
              "  float: left;\n",
              "  margin-right: 0.25em;\n",
              "  color: var(--sklearn-color-icon);\n",
              "}\n",
              "\n",
              "#sk-container-id-1 label.sk-toggleable__label-arrow:hover:before {\n",
              "  color: var(--sklearn-color-text);\n",
              "}\n",
              "\n",
              "/* Toggleable content - dropdown */\n",
              "\n",
              "#sk-container-id-1 div.sk-toggleable__content {\n",
              "  max-height: 0;\n",
              "  max-width: 0;\n",
              "  overflow: hidden;\n",
              "  text-align: left;\n",
              "  /* unfitted */\n",
              "  background-color: var(--sklearn-color-unfitted-level-0);\n",
              "}\n",
              "\n",
              "#sk-container-id-1 div.sk-toggleable__content.fitted {\n",
              "  /* fitted */\n",
              "  background-color: var(--sklearn-color-fitted-level-0);\n",
              "}\n",
              "\n",
              "#sk-container-id-1 div.sk-toggleable__content pre {\n",
              "  margin: 0.2em;\n",
              "  border-radius: 0.25em;\n",
              "  color: var(--sklearn-color-text);\n",
              "  /* unfitted */\n",
              "  background-color: var(--sklearn-color-unfitted-level-0);\n",
              "}\n",
              "\n",
              "#sk-container-id-1 div.sk-toggleable__content.fitted pre {\n",
              "  /* unfitted */\n",
              "  background-color: var(--sklearn-color-fitted-level-0);\n",
              "}\n",
              "\n",
              "#sk-container-id-1 input.sk-toggleable__control:checked~div.sk-toggleable__content {\n",
              "  /* Expand drop-down */\n",
              "  max-height: 200px;\n",
              "  max-width: 100%;\n",
              "  overflow: auto;\n",
              "}\n",
              "\n",
              "#sk-container-id-1 input.sk-toggleable__control:checked~label.sk-toggleable__label-arrow:before {\n",
              "  content: \"▾\";\n",
              "}\n",
              "\n",
              "/* Pipeline/ColumnTransformer-specific style */\n",
              "\n",
              "#sk-container-id-1 div.sk-label input.sk-toggleable__control:checked~label.sk-toggleable__label {\n",
              "  color: var(--sklearn-color-text);\n",
              "  background-color: var(--sklearn-color-unfitted-level-2);\n",
              "}\n",
              "\n",
              "#sk-container-id-1 div.sk-label.fitted input.sk-toggleable__control:checked~label.sk-toggleable__label {\n",
              "  background-color: var(--sklearn-color-fitted-level-2);\n",
              "}\n",
              "\n",
              "/* Estimator-specific style */\n",
              "\n",
              "/* Colorize estimator box */\n",
              "#sk-container-id-1 div.sk-estimator input.sk-toggleable__control:checked~label.sk-toggleable__label {\n",
              "  /* unfitted */\n",
              "  background-color: var(--sklearn-color-unfitted-level-2);\n",
              "}\n",
              "\n",
              "#sk-container-id-1 div.sk-estimator.fitted input.sk-toggleable__control:checked~label.sk-toggleable__label {\n",
              "  /* fitted */\n",
              "  background-color: var(--sklearn-color-fitted-level-2);\n",
              "}\n",
              "\n",
              "#sk-container-id-1 div.sk-label label.sk-toggleable__label,\n",
              "#sk-container-id-1 div.sk-label label {\n",
              "  /* The background is the default theme color */\n",
              "  color: var(--sklearn-color-text-on-default-background);\n",
              "}\n",
              "\n",
              "/* On hover, darken the color of the background */\n",
              "#sk-container-id-1 div.sk-label:hover label.sk-toggleable__label {\n",
              "  color: var(--sklearn-color-text);\n",
              "  background-color: var(--sklearn-color-unfitted-level-2);\n",
              "}\n",
              "\n",
              "/* Label box, darken color on hover, fitted */\n",
              "#sk-container-id-1 div.sk-label.fitted:hover label.sk-toggleable__label.fitted {\n",
              "  color: var(--sklearn-color-text);\n",
              "  background-color: var(--sklearn-color-fitted-level-2);\n",
              "}\n",
              "\n",
              "/* Estimator label */\n",
              "\n",
              "#sk-container-id-1 div.sk-label label {\n",
              "  font-family: monospace;\n",
              "  font-weight: bold;\n",
              "  display: inline-block;\n",
              "  line-height: 1.2em;\n",
              "}\n",
              "\n",
              "#sk-container-id-1 div.sk-label-container {\n",
              "  text-align: center;\n",
              "}\n",
              "\n",
              "/* Estimator-specific */\n",
              "#sk-container-id-1 div.sk-estimator {\n",
              "  font-family: monospace;\n",
              "  border: 1px dotted var(--sklearn-color-border-box);\n",
              "  border-radius: 0.25em;\n",
              "  box-sizing: border-box;\n",
              "  margin-bottom: 0.5em;\n",
              "  /* unfitted */\n",
              "  background-color: var(--sklearn-color-unfitted-level-0);\n",
              "}\n",
              "\n",
              "#sk-container-id-1 div.sk-estimator.fitted {\n",
              "  /* fitted */\n",
              "  background-color: var(--sklearn-color-fitted-level-0);\n",
              "}\n",
              "\n",
              "/* on hover */\n",
              "#sk-container-id-1 div.sk-estimator:hover {\n",
              "  /* unfitted */\n",
              "  background-color: var(--sklearn-color-unfitted-level-2);\n",
              "}\n",
              "\n",
              "#sk-container-id-1 div.sk-estimator.fitted:hover {\n",
              "  /* fitted */\n",
              "  background-color: var(--sklearn-color-fitted-level-2);\n",
              "}\n",
              "\n",
              "/* Specification for estimator info (e.g. \"i\" and \"?\") */\n",
              "\n",
              "/* Common style for \"i\" and \"?\" */\n",
              "\n",
              ".sk-estimator-doc-link,\n",
              "a:link.sk-estimator-doc-link,\n",
              "a:visited.sk-estimator-doc-link {\n",
              "  float: right;\n",
              "  font-size: smaller;\n",
              "  line-height: 1em;\n",
              "  font-family: monospace;\n",
              "  background-color: var(--sklearn-color-background);\n",
              "  border-radius: 1em;\n",
              "  height: 1em;\n",
              "  width: 1em;\n",
              "  text-decoration: none !important;\n",
              "  margin-left: 0.5em;\n",
              "  text-align: center;\n",
              "  /* unfitted */\n",
              "  border: var(--sklearn-color-unfitted-level-1) 1pt solid;\n",
              "  color: var(--sklearn-color-unfitted-level-1);\n",
              "}\n",
              "\n",
              ".sk-estimator-doc-link.fitted,\n",
              "a:link.sk-estimator-doc-link.fitted,\n",
              "a:visited.sk-estimator-doc-link.fitted {\n",
              "  /* fitted */\n",
              "  border: var(--sklearn-color-fitted-level-1) 1pt solid;\n",
              "  color: var(--sklearn-color-fitted-level-1);\n",
              "}\n",
              "\n",
              "/* On hover */\n",
              "div.sk-estimator:hover .sk-estimator-doc-link:hover,\n",
              ".sk-estimator-doc-link:hover,\n",
              "div.sk-label-container:hover .sk-estimator-doc-link:hover,\n",
              ".sk-estimator-doc-link:hover {\n",
              "  /* unfitted */\n",
              "  background-color: var(--sklearn-color-unfitted-level-3);\n",
              "  color: var(--sklearn-color-background);\n",
              "  text-decoration: none;\n",
              "}\n",
              "\n",
              "div.sk-estimator.fitted:hover .sk-estimator-doc-link.fitted:hover,\n",
              ".sk-estimator-doc-link.fitted:hover,\n",
              "div.sk-label-container:hover .sk-estimator-doc-link.fitted:hover,\n",
              ".sk-estimator-doc-link.fitted:hover {\n",
              "  /* fitted */\n",
              "  background-color: var(--sklearn-color-fitted-level-3);\n",
              "  color: var(--sklearn-color-background);\n",
              "  text-decoration: none;\n",
              "}\n",
              "\n",
              "/* Span, style for the box shown on hovering the info icon */\n",
              ".sk-estimator-doc-link span {\n",
              "  display: none;\n",
              "  z-index: 9999;\n",
              "  position: relative;\n",
              "  font-weight: normal;\n",
              "  right: .2ex;\n",
              "  padding: .5ex;\n",
              "  margin: .5ex;\n",
              "  width: min-content;\n",
              "  min-width: 20ex;\n",
              "  max-width: 50ex;\n",
              "  color: var(--sklearn-color-text);\n",
              "  box-shadow: 2pt 2pt 4pt #999;\n",
              "  /* unfitted */\n",
              "  background: var(--sklearn-color-unfitted-level-0);\n",
              "  border: .5pt solid var(--sklearn-color-unfitted-level-3);\n",
              "}\n",
              "\n",
              ".sk-estimator-doc-link.fitted span {\n",
              "  /* fitted */\n",
              "  background: var(--sklearn-color-fitted-level-0);\n",
              "  border: var(--sklearn-color-fitted-level-3);\n",
              "}\n",
              "\n",
              ".sk-estimator-doc-link:hover span {\n",
              "  display: block;\n",
              "}\n",
              "\n",
              "/* \"?\"-specific style due to the `<a>` HTML tag */\n",
              "\n",
              "#sk-container-id-1 a.estimator_doc_link {\n",
              "  float: right;\n",
              "  font-size: 1rem;\n",
              "  line-height: 1em;\n",
              "  font-family: monospace;\n",
              "  background-color: var(--sklearn-color-background);\n",
              "  border-radius: 1rem;\n",
              "  height: 1rem;\n",
              "  width: 1rem;\n",
              "  text-decoration: none;\n",
              "  /* unfitted */\n",
              "  color: var(--sklearn-color-unfitted-level-1);\n",
              "  border: var(--sklearn-color-unfitted-level-1) 1pt solid;\n",
              "}\n",
              "\n",
              "#sk-container-id-1 a.estimator_doc_link.fitted {\n",
              "  /* fitted */\n",
              "  border: var(--sklearn-color-fitted-level-1) 1pt solid;\n",
              "  color: var(--sklearn-color-fitted-level-1);\n",
              "}\n",
              "\n",
              "/* On hover */\n",
              "#sk-container-id-1 a.estimator_doc_link:hover {\n",
              "  /* unfitted */\n",
              "  background-color: var(--sklearn-color-unfitted-level-3);\n",
              "  color: var(--sklearn-color-background);\n",
              "  text-decoration: none;\n",
              "}\n",
              "\n",
              "#sk-container-id-1 a.estimator_doc_link.fitted:hover {\n",
              "  /* fitted */\n",
              "  background-color: var(--sklearn-color-fitted-level-3);\n",
              "}\n",
              "</style><div id=\"sk-container-id-1\" class=\"sk-top-container\"><div class=\"sk-text-repr-fallback\"><pre>KNeighborsClassifier()</pre><b>In a Jupyter environment, please rerun this cell to show the HTML representation or trust the notebook. <br />On GitHub, the HTML representation is unable to render, please try loading this page with nbviewer.org.</b></div><div class=\"sk-container\" hidden><div class=\"sk-item\"><div class=\"sk-estimator fitted sk-toggleable\"><input class=\"sk-toggleable__control sk-hidden--visually\" id=\"sk-estimator-id-1\" type=\"checkbox\" checked><label for=\"sk-estimator-id-1\" class=\"sk-toggleable__label fitted sk-toggleable__label-arrow\"><div><div>KNeighborsClassifier</div></div><div><a class=\"sk-estimator-doc-link fitted\" rel=\"noreferrer\" target=\"_blank\" href=\"https://scikit-learn.org/1.6/modules/generated/sklearn.neighbors.KNeighborsClassifier.html\">?<span>Documentation for KNeighborsClassifier</span></a><span class=\"sk-estimator-doc-link fitted\">i<span>Fitted</span></span></div></label><div class=\"sk-toggleable__content fitted\"><pre>KNeighborsClassifier()</pre></div> </div></div></div></div>"
            ]
          },
          "metadata": {},
          "execution_count": 22
        }
      ],
      "execution_count": 22
    },
    {
      "metadata": {
        "ExecuteTime": {
          "end_time": "2025-05-05T03:01:26.099834Z",
          "start_time": "2025-05-05T03:01:24.765619Z"
        },
        "colab": {
          "base_uri": "https://localhost:8080/"
        },
        "id": "2669e6854b92338e",
        "outputId": "cf001caf-9d28-45a9-8ec2-3466bfd5791d"
      },
      "cell_type": "code",
      "source": [
        "y_pred_val = knn_os.predict(X_val_scaled)\n",
        "\n",
        "# Métricas de evaluación\n",
        "acc = accuracy_score(y_val, y_pred_val)\n",
        "print(f\"\\nAccuracy (KNN + oversample): {acc:.3f}\\n\")\n",
        "print(\"Classification report:\")\n",
        "print(classification_report(\n",
        "    y_val, y_pred_val, digits=3,\n",
        "    target_names=['~','N','O','A']\n",
        "))"
      ],
      "id": "2669e6854b92338e",
      "outputs": [
        {
          "output_type": "stream",
          "name": "stdout",
          "text": [
            "\n",
            "Accuracy (KNN + oversample): 0.143\n",
            "\n",
            "Classification report:\n",
            "              precision    recall  f1-score   support\n",
            "\n",
            "           ~      0.060     0.083     0.069       121\n",
            "           N      0.647     0.163     0.260       812\n",
            "           O      0.364     0.093     0.148       387\n",
            "           A      0.019     0.378     0.036        45\n",
            "\n",
            "    accuracy                          0.143      1365\n",
            "   macro avg      0.272     0.179     0.128      1365\n",
            "weighted avg      0.494     0.143     0.204      1365\n",
            "\n"
          ]
        }
      ],
      "execution_count": 23
    },
    {
      "metadata": {
        "id": "33b679adae63ed2a"
      },
      "cell_type": "markdown",
      "source": [
        "Pues no predijo nada bien.\n",
        "\n",
        "El KNN con oversampling en el espacio original (9 000 D) ha dado un resultado muy pobre. Veamos cada métrica y lo que nos dice:\n",
        "\n",
        "* **Precision 6 %**: de todas las veces que el modelo predijo “\\~”, solo el 6 % eran realmente señales ruidosas.\n",
        "* **Recall 8.3 %**: detectó apenas el 8 % de las señales ruidosas reales.\n",
        "* Conclusión: casi no reconoce la clase ruidosa, y cuando lo hace, falla el 94 % de las veces. |\n",
        "  \\| **N** (normal) | 0.647 | 0.163 | 0.260 | 812 |\n",
        "* **Precision 64.7 %**: cuando predice “N”, acierta un 65 % de las veces.\n",
        "* **Recall 16.3 %**: de todas las señales normales reales, sólo detecta el 16 %.\n",
        "* Conclusión: tiende a predecir “N” con algo de acierto cuando lo hace, pero rara vez decide la clase mayoritaria. |\n",
        "  \\| **O** (other) | 0.364 | 0.093 | 0.148 | 387 |\n",
        "* El 36 % de sus predicciones “O” son correctas, pero solo captura el 9 % de las “O” reales. |\n",
        "  \\| **A** (AF) | 0.019 | 0.378 | 0.036 |  45 |\n",
        "* **Precision 1.9 %**: casi todas las veces que predice “A” se equivoca.\n",
        "* **Recall 37.8 %**: detecta mejor las fibrilaciones que el resto de clases minoritarias (casi el 38 % de los casos), pero con muchísimas falsas alarmas. |\n",
        "  \\| **Global** | — | — | — | — |\n",
        "* **Accuracy 14.3 %**: solo 1 de cada 7 señales clasifica bien en conjunto.\n",
        "* **Macro-avg recall 17.9 %**: de media solo detectamos el 18 % de cada clase.\n",
        "* **Weighted-avg F1 20.4 %**: rendimiento global muy bajo, arrastrado por las clases minoritarias. |\n",
        "\n",
        "---\n",
        "\n",
        "### ¿Por qué tan mal?\n",
        "\n",
        "1. **“Dimensionalidad”**\n",
        "\n",
        "   * En 9 000 dimensiones, la distancia Euclídea pierde discriminación: los puntos quedan todos muy “lejanos” unos de otros y KNN se vuelve errático.\n",
        "\n",
        "2. **Oversampling sin distorsión del espacio**\n",
        "\n",
        "   * Duplicar ejemplos en 9 000 D crea “grumos” de puntos casi idénticos que no ayudan a definir mejor los vecindarios, sino que introducen mucho ruido.\n",
        "\n",
        "3. **KNN no es adecuado**\n",
        "\n",
        "   * Sin una buena reducción de dimensiones o extracción de características, KNN en el espacio bruto de series de tiempo raramente funciona.\n",
        "\n",
        "---\n",
        "\n"
      ],
      "id": "33b679adae63ed2a"
    },
    {
      "metadata": {
        "id": "22ca3854b1b3569d"
      },
      "cell_type": "markdown",
      "source": [
        "### Random Forest\n",
        "\n",
        "+ El modelo Random Forest creo que será un modelo que se ajuste de manera correcta a este problema. Está basado en árboles de decisión, pero manejan muy bien los datos de alta dimensión y ruidosos. Además, podemos incorporar `class_weight='balanced'`que va a penalizar más los errores en las clases minoritarias, lo cual nos va a ayudar en el tema de las clases desbalanceadas.\n",
        "\n",
        "+ Vamos a hacer un experimento inicial con el modelo Random Forest, lo haremos con 100 árboles de decisión y veremos que tan bien se ajusta.\n"
      ],
      "id": "22ca3854b1b3569d"
    },
    {
      "metadata": {
        "ExecuteTime": {
          "end_time": "2025-05-05T01:36:46.703946Z",
          "start_time": "2025-05-05T01:36:42.526787Z"
        },
        "colab": {
          "base_uri": "https://localhost:8080/"
        },
        "id": "88127b533628caee",
        "outputId": "79927c99-2919-4f94-f535-bf289afa38d3"
      },
      "cell_type": "code",
      "source": [
        "from sklearn.ensemble import RandomForestClassifier\n",
        "from sklearn.metrics import accuracy_score, classification_report\n",
        "\n",
        "rf = RandomForestClassifier(\n",
        "    n_estimators=100,\n",
        "    class_weight='balanced',\n",
        "    random_state=42,\n",
        "    n_jobs=-1,\n",
        ")\n",
        "\n",
        "# Ajustamos el modelo\n",
        "rf.fit(X_train_scaled, y_train2)\n",
        "\n",
        "# Predecimos en el conjunto de validación\n",
        "y_pred_val_rf = rf.predict(X_val_scaled)\n",
        "\n",
        "# Calculamos accuracy\n",
        "acc_val_rf = accuracy_score(y_val, y_pred_val_rf)\n",
        "print(\"Accuracy RF:\", acc_val_rf)\n",
        "\n",
        "# Classification Report\n",
        "print(\"Classification Report\")\n",
        "print(classification_report(y_val, y_pred_val_rf, digits=3, target_names=['A', 'N', 'O', '~']))"
      ],
      "id": "88127b533628caee",
      "outputs": [
        {
          "output_type": "stream",
          "name": "stdout",
          "text": [
            "Accuracy RF: 0.5970695970695971\n",
            "Classification Report\n",
            "              precision    recall  f1-score   support\n",
            "\n",
            "           A      0.750     0.025     0.048       121\n",
            "           N      0.598     0.998     0.748       812\n",
            "           O      0.333     0.005     0.010       387\n",
            "           ~      0.000     0.000     0.000        45\n",
            "\n",
            "    accuracy                          0.597      1365\n",
            "   macro avg      0.420     0.257     0.201      1365\n",
            "weighted avg      0.517     0.597     0.452      1365\n",
            "\n"
          ]
        },
        {
          "output_type": "stream",
          "name": "stderr",
          "text": [
            "/usr/local/lib/python3.11/dist-packages/sklearn/metrics/_classification.py:1565: UndefinedMetricWarning: Precision is ill-defined and being set to 0.0 in labels with no predicted samples. Use `zero_division` parameter to control this behavior.\n",
            "  _warn_prf(average, modifier, f\"{metric.capitalize()} is\", len(result))\n",
            "/usr/local/lib/python3.11/dist-packages/sklearn/metrics/_classification.py:1565: UndefinedMetricWarning: Precision is ill-defined and being set to 0.0 in labels with no predicted samples. Use `zero_division` parameter to control this behavior.\n",
            "  _warn_prf(average, modifier, f\"{metric.capitalize()} is\", len(result))\n",
            "/usr/local/lib/python3.11/dist-packages/sklearn/metrics/_classification.py:1565: UndefinedMetricWarning: Precision is ill-defined and being set to 0.0 in labels with no predicted samples. Use `zero_division` parameter to control this behavior.\n",
            "  _warn_prf(average, modifier, f\"{metric.capitalize()} is\", len(result))\n"
          ]
        }
      ],
      "execution_count": 24
    },
    {
      "metadata": {
        "id": "c5d431935c7ad397"
      },
      "cell_type": "markdown",
      "source": [
        "Okay, lo hace mucho mejor que nuestro primer modelo de KNN, vamos a hacerlo ahora con el enfoque del oversampling a ver qué tal actúa."
      ],
      "id": "c5d431935c7ad397"
    },
    {
      "metadata": {
        "ExecuteTime": {
          "end_time": "2025-05-05T03:17:38.276504Z",
          "start_time": "2025-05-05T03:17:31.311757Z"
        },
        "colab": {
          "base_uri": "https://localhost:8080/",
          "height": 80
        },
        "id": "de909329570b7c00",
        "outputId": "5de6336e-0083-4412-d3da-c7c188c69432"
      },
      "cell_type": "code",
      "source": [
        "rf_os = RandomForestClassifier(n_estimators=100, class_weight=\"balanced\",random_state=42, n_jobs=-1)\n",
        "rf_os.fit(X_train_os, y_train_os)"
      ],
      "id": "de909329570b7c00",
      "outputs": [
        {
          "output_type": "execute_result",
          "data": {
            "text/plain": [
              "RandomForestClassifier(class_weight='balanced', n_jobs=-1, random_state=42)"
            ],
            "text/html": [
              "<style>#sk-container-id-2 {\n",
              "  /* Definition of color scheme common for light and dark mode */\n",
              "  --sklearn-color-text: #000;\n",
              "  --sklearn-color-text-muted: #666;\n",
              "  --sklearn-color-line: gray;\n",
              "  /* Definition of color scheme for unfitted estimators */\n",
              "  --sklearn-color-unfitted-level-0: #fff5e6;\n",
              "  --sklearn-color-unfitted-level-1: #f6e4d2;\n",
              "  --sklearn-color-unfitted-level-2: #ffe0b3;\n",
              "  --sklearn-color-unfitted-level-3: chocolate;\n",
              "  /* Definition of color scheme for fitted estimators */\n",
              "  --sklearn-color-fitted-level-0: #f0f8ff;\n",
              "  --sklearn-color-fitted-level-1: #d4ebff;\n",
              "  --sklearn-color-fitted-level-2: #b3dbfd;\n",
              "  --sklearn-color-fitted-level-3: cornflowerblue;\n",
              "\n",
              "  /* Specific color for light theme */\n",
              "  --sklearn-color-text-on-default-background: var(--sg-text-color, var(--theme-code-foreground, var(--jp-content-font-color1, black)));\n",
              "  --sklearn-color-background: var(--sg-background-color, var(--theme-background, var(--jp-layout-color0, white)));\n",
              "  --sklearn-color-border-box: var(--sg-text-color, var(--theme-code-foreground, var(--jp-content-font-color1, black)));\n",
              "  --sklearn-color-icon: #696969;\n",
              "\n",
              "  @media (prefers-color-scheme: dark) {\n",
              "    /* Redefinition of color scheme for dark theme */\n",
              "    --sklearn-color-text-on-default-background: var(--sg-text-color, var(--theme-code-foreground, var(--jp-content-font-color1, white)));\n",
              "    --sklearn-color-background: var(--sg-background-color, var(--theme-background, var(--jp-layout-color0, #111)));\n",
              "    --sklearn-color-border-box: var(--sg-text-color, var(--theme-code-foreground, var(--jp-content-font-color1, white)));\n",
              "    --sklearn-color-icon: #878787;\n",
              "  }\n",
              "}\n",
              "\n",
              "#sk-container-id-2 {\n",
              "  color: var(--sklearn-color-text);\n",
              "}\n",
              "\n",
              "#sk-container-id-2 pre {\n",
              "  padding: 0;\n",
              "}\n",
              "\n",
              "#sk-container-id-2 input.sk-hidden--visually {\n",
              "  border: 0;\n",
              "  clip: rect(1px 1px 1px 1px);\n",
              "  clip: rect(1px, 1px, 1px, 1px);\n",
              "  height: 1px;\n",
              "  margin: -1px;\n",
              "  overflow: hidden;\n",
              "  padding: 0;\n",
              "  position: absolute;\n",
              "  width: 1px;\n",
              "}\n",
              "\n",
              "#sk-container-id-2 div.sk-dashed-wrapped {\n",
              "  border: 1px dashed var(--sklearn-color-line);\n",
              "  margin: 0 0.4em 0.5em 0.4em;\n",
              "  box-sizing: border-box;\n",
              "  padding-bottom: 0.4em;\n",
              "  background-color: var(--sklearn-color-background);\n",
              "}\n",
              "\n",
              "#sk-container-id-2 div.sk-container {\n",
              "  /* jupyter's `normalize.less` sets `[hidden] { display: none; }`\n",
              "     but bootstrap.min.css set `[hidden] { display: none !important; }`\n",
              "     so we also need the `!important` here to be able to override the\n",
              "     default hidden behavior on the sphinx rendered scikit-learn.org.\n",
              "     See: https://github.com/scikit-learn/scikit-learn/issues/21755 */\n",
              "  display: inline-block !important;\n",
              "  position: relative;\n",
              "}\n",
              "\n",
              "#sk-container-id-2 div.sk-text-repr-fallback {\n",
              "  display: none;\n",
              "}\n",
              "\n",
              "div.sk-parallel-item,\n",
              "div.sk-serial,\n",
              "div.sk-item {\n",
              "  /* draw centered vertical line to link estimators */\n",
              "  background-image: linear-gradient(var(--sklearn-color-text-on-default-background), var(--sklearn-color-text-on-default-background));\n",
              "  background-size: 2px 100%;\n",
              "  background-repeat: no-repeat;\n",
              "  background-position: center center;\n",
              "}\n",
              "\n",
              "/* Parallel-specific style estimator block */\n",
              "\n",
              "#sk-container-id-2 div.sk-parallel-item::after {\n",
              "  content: \"\";\n",
              "  width: 100%;\n",
              "  border-bottom: 2px solid var(--sklearn-color-text-on-default-background);\n",
              "  flex-grow: 1;\n",
              "}\n",
              "\n",
              "#sk-container-id-2 div.sk-parallel {\n",
              "  display: flex;\n",
              "  align-items: stretch;\n",
              "  justify-content: center;\n",
              "  background-color: var(--sklearn-color-background);\n",
              "  position: relative;\n",
              "}\n",
              "\n",
              "#sk-container-id-2 div.sk-parallel-item {\n",
              "  display: flex;\n",
              "  flex-direction: column;\n",
              "}\n",
              "\n",
              "#sk-container-id-2 div.sk-parallel-item:first-child::after {\n",
              "  align-self: flex-end;\n",
              "  width: 50%;\n",
              "}\n",
              "\n",
              "#sk-container-id-2 div.sk-parallel-item:last-child::after {\n",
              "  align-self: flex-start;\n",
              "  width: 50%;\n",
              "}\n",
              "\n",
              "#sk-container-id-2 div.sk-parallel-item:only-child::after {\n",
              "  width: 0;\n",
              "}\n",
              "\n",
              "/* Serial-specific style estimator block */\n",
              "\n",
              "#sk-container-id-2 div.sk-serial {\n",
              "  display: flex;\n",
              "  flex-direction: column;\n",
              "  align-items: center;\n",
              "  background-color: var(--sklearn-color-background);\n",
              "  padding-right: 1em;\n",
              "  padding-left: 1em;\n",
              "}\n",
              "\n",
              "\n",
              "/* Toggleable style: style used for estimator/Pipeline/ColumnTransformer box that is\n",
              "clickable and can be expanded/collapsed.\n",
              "- Pipeline and ColumnTransformer use this feature and define the default style\n",
              "- Estimators will overwrite some part of the style using the `sk-estimator` class\n",
              "*/\n",
              "\n",
              "/* Pipeline and ColumnTransformer style (default) */\n",
              "\n",
              "#sk-container-id-2 div.sk-toggleable {\n",
              "  /* Default theme specific background. It is overwritten whether we have a\n",
              "  specific estimator or a Pipeline/ColumnTransformer */\n",
              "  background-color: var(--sklearn-color-background);\n",
              "}\n",
              "\n",
              "/* Toggleable label */\n",
              "#sk-container-id-2 label.sk-toggleable__label {\n",
              "  cursor: pointer;\n",
              "  display: flex;\n",
              "  width: 100%;\n",
              "  margin-bottom: 0;\n",
              "  padding: 0.5em;\n",
              "  box-sizing: border-box;\n",
              "  text-align: center;\n",
              "  align-items: start;\n",
              "  justify-content: space-between;\n",
              "  gap: 0.5em;\n",
              "}\n",
              "\n",
              "#sk-container-id-2 label.sk-toggleable__label .caption {\n",
              "  font-size: 0.6rem;\n",
              "  font-weight: lighter;\n",
              "  color: var(--sklearn-color-text-muted);\n",
              "}\n",
              "\n",
              "#sk-container-id-2 label.sk-toggleable__label-arrow:before {\n",
              "  /* Arrow on the left of the label */\n",
              "  content: \"▸\";\n",
              "  float: left;\n",
              "  margin-right: 0.25em;\n",
              "  color: var(--sklearn-color-icon);\n",
              "}\n",
              "\n",
              "#sk-container-id-2 label.sk-toggleable__label-arrow:hover:before {\n",
              "  color: var(--sklearn-color-text);\n",
              "}\n",
              "\n",
              "/* Toggleable content - dropdown */\n",
              "\n",
              "#sk-container-id-2 div.sk-toggleable__content {\n",
              "  max-height: 0;\n",
              "  max-width: 0;\n",
              "  overflow: hidden;\n",
              "  text-align: left;\n",
              "  /* unfitted */\n",
              "  background-color: var(--sklearn-color-unfitted-level-0);\n",
              "}\n",
              "\n",
              "#sk-container-id-2 div.sk-toggleable__content.fitted {\n",
              "  /* fitted */\n",
              "  background-color: var(--sklearn-color-fitted-level-0);\n",
              "}\n",
              "\n",
              "#sk-container-id-2 div.sk-toggleable__content pre {\n",
              "  margin: 0.2em;\n",
              "  border-radius: 0.25em;\n",
              "  color: var(--sklearn-color-text);\n",
              "  /* unfitted */\n",
              "  background-color: var(--sklearn-color-unfitted-level-0);\n",
              "}\n",
              "\n",
              "#sk-container-id-2 div.sk-toggleable__content.fitted pre {\n",
              "  /* unfitted */\n",
              "  background-color: var(--sklearn-color-fitted-level-0);\n",
              "}\n",
              "\n",
              "#sk-container-id-2 input.sk-toggleable__control:checked~div.sk-toggleable__content {\n",
              "  /* Expand drop-down */\n",
              "  max-height: 200px;\n",
              "  max-width: 100%;\n",
              "  overflow: auto;\n",
              "}\n",
              "\n",
              "#sk-container-id-2 input.sk-toggleable__control:checked~label.sk-toggleable__label-arrow:before {\n",
              "  content: \"▾\";\n",
              "}\n",
              "\n",
              "/* Pipeline/ColumnTransformer-specific style */\n",
              "\n",
              "#sk-container-id-2 div.sk-label input.sk-toggleable__control:checked~label.sk-toggleable__label {\n",
              "  color: var(--sklearn-color-text);\n",
              "  background-color: var(--sklearn-color-unfitted-level-2);\n",
              "}\n",
              "\n",
              "#sk-container-id-2 div.sk-label.fitted input.sk-toggleable__control:checked~label.sk-toggleable__label {\n",
              "  background-color: var(--sklearn-color-fitted-level-2);\n",
              "}\n",
              "\n",
              "/* Estimator-specific style */\n",
              "\n",
              "/* Colorize estimator box */\n",
              "#sk-container-id-2 div.sk-estimator input.sk-toggleable__control:checked~label.sk-toggleable__label {\n",
              "  /* unfitted */\n",
              "  background-color: var(--sklearn-color-unfitted-level-2);\n",
              "}\n",
              "\n",
              "#sk-container-id-2 div.sk-estimator.fitted input.sk-toggleable__control:checked~label.sk-toggleable__label {\n",
              "  /* fitted */\n",
              "  background-color: var(--sklearn-color-fitted-level-2);\n",
              "}\n",
              "\n",
              "#sk-container-id-2 div.sk-label label.sk-toggleable__label,\n",
              "#sk-container-id-2 div.sk-label label {\n",
              "  /* The background is the default theme color */\n",
              "  color: var(--sklearn-color-text-on-default-background);\n",
              "}\n",
              "\n",
              "/* On hover, darken the color of the background */\n",
              "#sk-container-id-2 div.sk-label:hover label.sk-toggleable__label {\n",
              "  color: var(--sklearn-color-text);\n",
              "  background-color: var(--sklearn-color-unfitted-level-2);\n",
              "}\n",
              "\n",
              "/* Label box, darken color on hover, fitted */\n",
              "#sk-container-id-2 div.sk-label.fitted:hover label.sk-toggleable__label.fitted {\n",
              "  color: var(--sklearn-color-text);\n",
              "  background-color: var(--sklearn-color-fitted-level-2);\n",
              "}\n",
              "\n",
              "/* Estimator label */\n",
              "\n",
              "#sk-container-id-2 div.sk-label label {\n",
              "  font-family: monospace;\n",
              "  font-weight: bold;\n",
              "  display: inline-block;\n",
              "  line-height: 1.2em;\n",
              "}\n",
              "\n",
              "#sk-container-id-2 div.sk-label-container {\n",
              "  text-align: center;\n",
              "}\n",
              "\n",
              "/* Estimator-specific */\n",
              "#sk-container-id-2 div.sk-estimator {\n",
              "  font-family: monospace;\n",
              "  border: 1px dotted var(--sklearn-color-border-box);\n",
              "  border-radius: 0.25em;\n",
              "  box-sizing: border-box;\n",
              "  margin-bottom: 0.5em;\n",
              "  /* unfitted */\n",
              "  background-color: var(--sklearn-color-unfitted-level-0);\n",
              "}\n",
              "\n",
              "#sk-container-id-2 div.sk-estimator.fitted {\n",
              "  /* fitted */\n",
              "  background-color: var(--sklearn-color-fitted-level-0);\n",
              "}\n",
              "\n",
              "/* on hover */\n",
              "#sk-container-id-2 div.sk-estimator:hover {\n",
              "  /* unfitted */\n",
              "  background-color: var(--sklearn-color-unfitted-level-2);\n",
              "}\n",
              "\n",
              "#sk-container-id-2 div.sk-estimator.fitted:hover {\n",
              "  /* fitted */\n",
              "  background-color: var(--sklearn-color-fitted-level-2);\n",
              "}\n",
              "\n",
              "/* Specification for estimator info (e.g. \"i\" and \"?\") */\n",
              "\n",
              "/* Common style for \"i\" and \"?\" */\n",
              "\n",
              ".sk-estimator-doc-link,\n",
              "a:link.sk-estimator-doc-link,\n",
              "a:visited.sk-estimator-doc-link {\n",
              "  float: right;\n",
              "  font-size: smaller;\n",
              "  line-height: 1em;\n",
              "  font-family: monospace;\n",
              "  background-color: var(--sklearn-color-background);\n",
              "  border-radius: 1em;\n",
              "  height: 1em;\n",
              "  width: 1em;\n",
              "  text-decoration: none !important;\n",
              "  margin-left: 0.5em;\n",
              "  text-align: center;\n",
              "  /* unfitted */\n",
              "  border: var(--sklearn-color-unfitted-level-1) 1pt solid;\n",
              "  color: var(--sklearn-color-unfitted-level-1);\n",
              "}\n",
              "\n",
              ".sk-estimator-doc-link.fitted,\n",
              "a:link.sk-estimator-doc-link.fitted,\n",
              "a:visited.sk-estimator-doc-link.fitted {\n",
              "  /* fitted */\n",
              "  border: var(--sklearn-color-fitted-level-1) 1pt solid;\n",
              "  color: var(--sklearn-color-fitted-level-1);\n",
              "}\n",
              "\n",
              "/* On hover */\n",
              "div.sk-estimator:hover .sk-estimator-doc-link:hover,\n",
              ".sk-estimator-doc-link:hover,\n",
              "div.sk-label-container:hover .sk-estimator-doc-link:hover,\n",
              ".sk-estimator-doc-link:hover {\n",
              "  /* unfitted */\n",
              "  background-color: var(--sklearn-color-unfitted-level-3);\n",
              "  color: var(--sklearn-color-background);\n",
              "  text-decoration: none;\n",
              "}\n",
              "\n",
              "div.sk-estimator.fitted:hover .sk-estimator-doc-link.fitted:hover,\n",
              ".sk-estimator-doc-link.fitted:hover,\n",
              "div.sk-label-container:hover .sk-estimator-doc-link.fitted:hover,\n",
              ".sk-estimator-doc-link.fitted:hover {\n",
              "  /* fitted */\n",
              "  background-color: var(--sklearn-color-fitted-level-3);\n",
              "  color: var(--sklearn-color-background);\n",
              "  text-decoration: none;\n",
              "}\n",
              "\n",
              "/* Span, style for the box shown on hovering the info icon */\n",
              ".sk-estimator-doc-link span {\n",
              "  display: none;\n",
              "  z-index: 9999;\n",
              "  position: relative;\n",
              "  font-weight: normal;\n",
              "  right: .2ex;\n",
              "  padding: .5ex;\n",
              "  margin: .5ex;\n",
              "  width: min-content;\n",
              "  min-width: 20ex;\n",
              "  max-width: 50ex;\n",
              "  color: var(--sklearn-color-text);\n",
              "  box-shadow: 2pt 2pt 4pt #999;\n",
              "  /* unfitted */\n",
              "  background: var(--sklearn-color-unfitted-level-0);\n",
              "  border: .5pt solid var(--sklearn-color-unfitted-level-3);\n",
              "}\n",
              "\n",
              ".sk-estimator-doc-link.fitted span {\n",
              "  /* fitted */\n",
              "  background: var(--sklearn-color-fitted-level-0);\n",
              "  border: var(--sklearn-color-fitted-level-3);\n",
              "}\n",
              "\n",
              ".sk-estimator-doc-link:hover span {\n",
              "  display: block;\n",
              "}\n",
              "\n",
              "/* \"?\"-specific style due to the `<a>` HTML tag */\n",
              "\n",
              "#sk-container-id-2 a.estimator_doc_link {\n",
              "  float: right;\n",
              "  font-size: 1rem;\n",
              "  line-height: 1em;\n",
              "  font-family: monospace;\n",
              "  background-color: var(--sklearn-color-background);\n",
              "  border-radius: 1rem;\n",
              "  height: 1rem;\n",
              "  width: 1rem;\n",
              "  text-decoration: none;\n",
              "  /* unfitted */\n",
              "  color: var(--sklearn-color-unfitted-level-1);\n",
              "  border: var(--sklearn-color-unfitted-level-1) 1pt solid;\n",
              "}\n",
              "\n",
              "#sk-container-id-2 a.estimator_doc_link.fitted {\n",
              "  /* fitted */\n",
              "  border: var(--sklearn-color-fitted-level-1) 1pt solid;\n",
              "  color: var(--sklearn-color-fitted-level-1);\n",
              "}\n",
              "\n",
              "/* On hover */\n",
              "#sk-container-id-2 a.estimator_doc_link:hover {\n",
              "  /* unfitted */\n",
              "  background-color: var(--sklearn-color-unfitted-level-3);\n",
              "  color: var(--sklearn-color-background);\n",
              "  text-decoration: none;\n",
              "}\n",
              "\n",
              "#sk-container-id-2 a.estimator_doc_link.fitted:hover {\n",
              "  /* fitted */\n",
              "  background-color: var(--sklearn-color-fitted-level-3);\n",
              "}\n",
              "</style><div id=\"sk-container-id-2\" class=\"sk-top-container\"><div class=\"sk-text-repr-fallback\"><pre>RandomForestClassifier(class_weight=&#x27;balanced&#x27;, n_jobs=-1, random_state=42)</pre><b>In a Jupyter environment, please rerun this cell to show the HTML representation or trust the notebook. <br />On GitHub, the HTML representation is unable to render, please try loading this page with nbviewer.org.</b></div><div class=\"sk-container\" hidden><div class=\"sk-item\"><div class=\"sk-estimator fitted sk-toggleable\"><input class=\"sk-toggleable__control sk-hidden--visually\" id=\"sk-estimator-id-2\" type=\"checkbox\" checked><label for=\"sk-estimator-id-2\" class=\"sk-toggleable__label fitted sk-toggleable__label-arrow\"><div><div>RandomForestClassifier</div></div><div><a class=\"sk-estimator-doc-link fitted\" rel=\"noreferrer\" target=\"_blank\" href=\"https://scikit-learn.org/1.6/modules/generated/sklearn.ensemble.RandomForestClassifier.html\">?<span>Documentation for RandomForestClassifier</span></a><span class=\"sk-estimator-doc-link fitted\">i<span>Fitted</span></span></div></label><div class=\"sk-toggleable__content fitted\"><pre>RandomForestClassifier(class_weight=&#x27;balanced&#x27;, n_jobs=-1, random_state=42)</pre></div> </div></div></div></div>"
            ]
          },
          "metadata": {},
          "execution_count": 25
        }
      ],
      "execution_count": 25
    },
    {
      "metadata": {
        "ExecuteTime": {
          "end_time": "2025-05-05T03:17:39.205331Z",
          "start_time": "2025-05-05T03:17:39.089384Z"
        },
        "colab": {
          "base_uri": "https://localhost:8080/"
        },
        "id": "241c68a548011f4d",
        "outputId": "7dab2fdc-58b2-487d-8bbd-00720439e1ce"
      },
      "cell_type": "code",
      "source": [
        "y_pred_val_rf2 = rf_os.predict(X_val_scaled)\n",
        "\n",
        "acc_val_rf2 = accuracy_score(y_val, y_pred_val_rf2)\n",
        "print(\"Accuracy RF + oversample:\", acc_val_rf2)\n",
        "\n",
        "print(\"Classification report:\")\n",
        "print(classification_report(\n",
        "    y_val, y_pred_val_rf2, digits=3,\n",
        "    target_names=['~','N','O','A']\n",
        "))"
      ],
      "id": "241c68a548011f4d",
      "outputs": [
        {
          "output_type": "stream",
          "name": "stdout",
          "text": [
            "Accuracy RF + oversample: 0.5934065934065934\n",
            "Classification report:\n",
            "              precision    recall  f1-score   support\n",
            "\n",
            "           ~      0.500     0.033     0.062       121\n",
            "           N      0.600     0.979     0.744       812\n",
            "           O      0.370     0.026     0.048       387\n",
            "           A      0.167     0.022     0.039        45\n",
            "\n",
            "    accuracy                          0.593      1365\n",
            "   macro avg      0.409     0.265     0.223      1365\n",
            "weighted avg      0.512     0.593     0.463      1365\n",
            "\n"
          ]
        }
      ],
      "execution_count": 26
    },
    {
      "metadata": {
        "id": "13120faef7e9d92d"
      },
      "cell_type": "markdown",
      "source": [
        "EL accuracy global es de 59%, pero como lo habíamos dicho antes, no es la métrica que nos importa. Veamos las métricas de cada clase:\n",
        "* **Precision 57.1 %**: de todas las veces que el modelo predijo “\\~”, acertó el 57 %.\n",
        "* **Recall 3.3 %**: solo identificó 4 de las 121 señales ruidosas reales.\n",
        "* Conclusión: cuando predice ruido lo hace relativamente bien, pero casi nunca decide esa clase.\n",
        "* **Precision 60.0 %**: de todas las predicciones “N”, el 60 % eran realmente normales.\n",
        "* **Recall 97.8 %**: detectó correctamente casi todas las señales normales (≈795/812).\n",
        "* Esto explica la alta accuracy global.\n",
        "* **Precision 35.7 %**, pero **Recall 2.6 %**: casi no identifica señales “Other”.\n",
        "* **Precision 16.7 %**: de las pocas veces que predijo “A”, solo 1 de cada 6 era realmente AF.\n",
        "* **Recall 2.2 %**: identificó solo 1 de las 45 fibrilaciones reales.\n",
        "* Conclusión: prácticamente no detecta fibrilación, pese a oversampling.\n",
        "\n",
        "Podemos resumir que aunque el recall de N es excelente, el modelo sigue fallando en las clases minoritarias, pero sobre todo en la AF, que es la que nos importa. Vamos a hacer un Balanced Random Forest para ver si mejora el recall de AF."
      ],
      "id": "13120faef7e9d92d"
    },
    {
      "metadata": {
        "id": "e6c4ffcec9fa24ee"
      },
      "cell_type": "markdown",
      "source": [
        "### Balanced Random Forest\n",
        "\n",
        "El Balanced Random Forest es una variante del Random Forest, su diferencia es que en cada árbol, realiza un undersampling aleatorio de la clase mayoritaria antes de construir el árbol. En este enfoque no necesitamos hacer un oversampling manual, sino que cada árbol aprende los patrones de todas las clases, incluidas las minoritarias."
      ],
      "id": "e6c4ffcec9fa24ee"
    },
    {
      "metadata": {
        "ExecuteTime": {
          "end_time": "2025-05-05T04:27:52.463450Z",
          "start_time": "2025-05-05T04:27:51.692726Z"
        },
        "colab": {
          "base_uri": "https://localhost:8080/"
        },
        "id": "6cadb601c2f72735",
        "outputId": "ceb7ff38-fd86-471a-d0b4-fb7e3427a2d1"
      },
      "cell_type": "code",
      "source": [
        "from imblearn.ensemble import BalancedRandomForestClassifier\n",
        "\n",
        "# Instanciamos el modelo\n",
        "brf = BalancedRandomForestClassifier(\n",
        "    n_estimators=100,\n",
        "    sampling_strategy='all',\n",
        "    random_state=42,\n",
        "    n_jobs=-1,\n",
        ")\n",
        "\n",
        "# Ajustamos el modelo\n",
        "brf.fit(X_train_scaled, y_train2)\n",
        "\n",
        "# Predecimos\n",
        "y_pred_val_brf = brf.predict(X_val_scaled)\n",
        "\n",
        "# Evaluamos\n",
        "acc_brf = accuracy_score(y_val, y_pred_val_brf)\n",
        "print(\"Accuracy Balanced RF:\", acc_brf)\n",
        "\n",
        "print(\"Classification Report\")\n",
        "print(classification_report(\n",
        "    y_val, y_pred_val_brf, digits=3,\n",
        "    target_names=['~','N','O','A']\n",
        "))"
      ],
      "id": "6cadb601c2f72735",
      "outputs": [
        {
          "output_type": "stream",
          "name": "stdout",
          "text": [
            "Accuracy Balanced RF: 0.39853479853479856\n",
            "Classification Report\n",
            "              precision    recall  f1-score   support\n",
            "\n",
            "           ~      0.123     0.207     0.154       121\n",
            "           N      0.608     0.451     0.518       812\n",
            "           O      0.274     0.328     0.298       387\n",
            "           A      0.274     0.578     0.371        45\n",
            "\n",
            "    accuracy                          0.399      1365\n",
            "   macro avg      0.319     0.391     0.335      1365\n",
            "weighted avg      0.459     0.399     0.418      1365\n",
            "\n"
          ]
        }
      ],
      "execution_count": 27
    },
    {
      "metadata": {
        "id": "603ea2a7a9cb1bc5"
      },
      "cell_type": "markdown",
      "source": [
        "Okay, hicimos un avance importante, el balanceo interno cumple su función de no dejar de lado \"A\" y \"~\", pero reduce significativamente la detección de \"N\". Si priorizamos la fibrilación, un recall de casi 70% está muy bien. Vamos a hacer un último experimento de Random Forest, pero con algo distinto, utilizaremos un parámetro llamado `class_weight` que ya lo habíamos usado antes, pero ahora definiremos manualmente el peso de cada clase. Así castigaremos más los casos de la clase minoritaria para que el modelo los pueda identificar mejor y no se pierdan."
      ],
      "id": "603ea2a7a9cb1bc5"
    },
    {
      "metadata": {
        "ExecuteTime": {
          "end_time": "2025-05-05T04:41:56.210566Z",
          "start_time": "2025-05-05T04:41:52.491076Z"
        },
        "colab": {
          "base_uri": "https://localhost:8080/"
        },
        "id": "e3dc95efd0c868ed",
        "outputId": "2a0ef200-3940-4922-9fbb-fc8e3aac5b99"
      },
      "cell_type": "code",
      "source": [
        "clf = RandomForestClassifier(\n",
        "    n_estimators=100,\n",
        "    random_state=42,\n",
        "    class_weight={'N': 1, 'O': 3, 'A': 10, '~': 5},\n",
        "    n_jobs=-1\n",
        ")\n",
        "\n",
        "clf.fit(X_train_scaled, y_train2)\n",
        "\n",
        "y_pred_val_clf = clf.predict(X_val_scaled)\n",
        "\n",
        "print(\"Accuracy RF:\", accuracy_score(y_val, y_pred_val_clf))\n",
        "\n",
        "print(\"Classification Report\")\n",
        "print(classification_report(\n",
        "    y_val, y_pred_val_clf, digits=3,\n",
        "    target_names=['~','N','O','A']\n",
        "))\n"
      ],
      "id": "e3dc95efd0c868ed",
      "outputs": [
        {
          "output_type": "stream",
          "name": "stdout",
          "text": [
            "Accuracy RF: 0.5963369963369963\n",
            "Classification Report\n",
            "              precision    recall  f1-score   support\n",
            "\n",
            "           ~      0.556     0.041     0.077       121\n",
            "           N      0.599     0.986     0.745       812\n",
            "           O      0.421     0.021     0.039       387\n",
            "           A      0.000     0.000     0.000        45\n",
            "\n",
            "    accuracy                          0.596      1365\n",
            "   macro avg      0.394     0.262     0.215      1365\n",
            "weighted avg      0.525     0.596     0.461      1365\n",
            "\n"
          ]
        },
        {
          "output_type": "stream",
          "name": "stderr",
          "text": [
            "/usr/local/lib/python3.11/dist-packages/sklearn/metrics/_classification.py:1565: UndefinedMetricWarning: Precision is ill-defined and being set to 0.0 in labels with no predicted samples. Use `zero_division` parameter to control this behavior.\n",
            "  _warn_prf(average, modifier, f\"{metric.capitalize()} is\", len(result))\n",
            "/usr/local/lib/python3.11/dist-packages/sklearn/metrics/_classification.py:1565: UndefinedMetricWarning: Precision is ill-defined and being set to 0.0 in labels with no predicted samples. Use `zero_division` parameter to control this behavior.\n",
            "  _warn_prf(average, modifier, f\"{metric.capitalize()} is\", len(result))\n",
            "/usr/local/lib/python3.11/dist-packages/sklearn/metrics/_classification.py:1565: UndefinedMetricWarning: Precision is ill-defined and being set to 0.0 in labels with no predicted samples. Use `zero_division` parameter to control this behavior.\n",
            "  _warn_prf(average, modifier, f\"{metric.capitalize()} is\", len(result))\n"
          ]
        }
      ],
      "execution_count": 28
    },
    {
      "metadata": {
        "id": "e62f3851e986b69c"
      },
      "cell_type": "markdown",
      "source": [
        "Pues es casi idéntico al Random Forest sin aplicarle nada. Pero vemos que no predice nunca A, aunque ya le subimos el peso, sigue sin verlos. Vimos que con Balanced Random Forest hubo buenos resultados. Vamos a pasar ahora a otro modelo, el XGBoost."
      ],
      "id": "e62f3851e986b69c"
    },
    {
      "metadata": {
        "id": "dfdda21c8f5c446"
      },
      "cell_type": "markdown",
      "source": [
        "### XGBoost\n",
        "\n",
        "+ XGBoost es un modelo muy interesante, podríamos verlo como árboles de decisión que aprenden de sus errores. El primer árbol hace su mejor predicción con los datos que tiene y comete ciertos errores, después el siguiente árbol aprende de esos errores y trata de corregirlos. Así, árbol trás árbol, cada uno se enfoca en los puntos que los anteriores fallaron. Al final sumamos las predicciones de todos para obtener un resultado mucho más preciso que un solo árbol.\n",
        "\n",
        "+ Ahora bien, el XGBoost usa algo parecido al gradiente descendente para minimizar el error de forma rápida. De forma muy resumida, básicamente mide el error actual, construye un árbol para aproximar cómo cambiar la predicción y reducir ese error, ajusta un poco la predicción global en esa dirección y repite."
      ],
      "id": "dfdda21c8f5c446"
    },
    {
      "metadata": {
        "ExecuteTime": {
          "end_time": "2025-05-05T05:28:06.745891Z",
          "start_time": "2025-05-05T05:28:06.742080Z"
        },
        "id": "386af12fb9edfbf7"
      },
      "cell_type": "code",
      "source": [
        "mapping = {'~':0, 'A':1, 'N':2, 'O':3}\n",
        "y_train_enc = np.array([mapping[c] for c in y_train2])\n",
        "y_val_enc   = np.array([mapping[c] for c in y_val])"
      ],
      "id": "386af12fb9edfbf7",
      "outputs": [],
      "execution_count": 29
    },
    {
      "metadata": {
        "ExecuteTime": {
          "end_time": "2025-05-05T05:28:19.845477Z",
          "start_time": "2025-05-05T05:28:19.842885Z"
        },
        "id": "aa9bec00cdf703ab"
      },
      "cell_type": "code",
      "source": [
        "from xgboost import XGBClassifier\n",
        "\n",
        "model_xgb = XGBClassifier(\n",
        "    objective='multi:softprob',\n",
        "    num_class=4,\n",
        "    eval_metric='mlogloss',\n",
        "    use_label_encoder=False,\n",
        "    n_estimators=100,\n",
        "    learning_rate=0.1,\n",
        "    random_state=42,\n",
        "    n_jobs=-1\n",
        ")"
      ],
      "id": "aa9bec00cdf703ab",
      "outputs": [],
      "execution_count": 30
    },
    {
      "metadata": {
        "ExecuteTime": {
          "end_time": "2025-05-05T05:30:20.702083Z",
          "start_time": "2025-05-05T05:28:58.738994Z"
        },
        "colab": {
          "base_uri": "https://localhost:8080/",
          "height": 338
        },
        "id": "2d3cde8e7c186987",
        "outputId": "5bd8bb2a-b113-424c-8b98-42d84149adc8"
      },
      "cell_type": "code",
      "source": [
        "model_xgb.fit(\n",
        "    X_train_scaled, y_train_enc,\n",
        "    eval_set=[(X_val_scaled, y_val_enc)],\n",
        "    verbose=False\n",
        ")"
      ],
      "id": "2d3cde8e7c186987",
      "outputs": [
        {
          "output_type": "stream",
          "name": "stderr",
          "text": [
            "/usr/local/lib/python3.11/dist-packages/xgboost/core.py:158: UserWarning: [01:04:38] WARNING: /workspace/src/learner.cc:740: \n",
            "Parameters: { \"use_label_encoder\" } are not used.\n",
            "\n",
            "  warnings.warn(smsg, UserWarning)\n"
          ]
        },
        {
          "output_type": "execute_result",
          "data": {
            "text/plain": [
              "XGBClassifier(base_score=None, booster=None, callbacks=None,\n",
              "              colsample_bylevel=None, colsample_bynode=None,\n",
              "              colsample_bytree=None, device=None, early_stopping_rounds=None,\n",
              "              enable_categorical=False, eval_metric='mlogloss',\n",
              "              feature_types=None, gamma=None, grow_policy=None,\n",
              "              importance_type=None, interaction_constraints=None,\n",
              "              learning_rate=0.1, max_bin=None, max_cat_threshold=None,\n",
              "              max_cat_to_onehot=None, max_delta_step=None, max_depth=None,\n",
              "              max_leaves=None, min_child_weight=None, missing=nan,\n",
              "              monotone_constraints=None, multi_strategy=None, n_estimators=100,\n",
              "              n_jobs=-1, num_class=4, num_parallel_tree=None, ...)"
            ],
            "text/html": [
              "<style>#sk-container-id-3 {\n",
              "  /* Definition of color scheme common for light and dark mode */\n",
              "  --sklearn-color-text: #000;\n",
              "  --sklearn-color-text-muted: #666;\n",
              "  --sklearn-color-line: gray;\n",
              "  /* Definition of color scheme for unfitted estimators */\n",
              "  --sklearn-color-unfitted-level-0: #fff5e6;\n",
              "  --sklearn-color-unfitted-level-1: #f6e4d2;\n",
              "  --sklearn-color-unfitted-level-2: #ffe0b3;\n",
              "  --sklearn-color-unfitted-level-3: chocolate;\n",
              "  /* Definition of color scheme for fitted estimators */\n",
              "  --sklearn-color-fitted-level-0: #f0f8ff;\n",
              "  --sklearn-color-fitted-level-1: #d4ebff;\n",
              "  --sklearn-color-fitted-level-2: #b3dbfd;\n",
              "  --sklearn-color-fitted-level-3: cornflowerblue;\n",
              "\n",
              "  /* Specific color for light theme */\n",
              "  --sklearn-color-text-on-default-background: var(--sg-text-color, var(--theme-code-foreground, var(--jp-content-font-color1, black)));\n",
              "  --sklearn-color-background: var(--sg-background-color, var(--theme-background, var(--jp-layout-color0, white)));\n",
              "  --sklearn-color-border-box: var(--sg-text-color, var(--theme-code-foreground, var(--jp-content-font-color1, black)));\n",
              "  --sklearn-color-icon: #696969;\n",
              "\n",
              "  @media (prefers-color-scheme: dark) {\n",
              "    /* Redefinition of color scheme for dark theme */\n",
              "    --sklearn-color-text-on-default-background: var(--sg-text-color, var(--theme-code-foreground, var(--jp-content-font-color1, white)));\n",
              "    --sklearn-color-background: var(--sg-background-color, var(--theme-background, var(--jp-layout-color0, #111)));\n",
              "    --sklearn-color-border-box: var(--sg-text-color, var(--theme-code-foreground, var(--jp-content-font-color1, white)));\n",
              "    --sklearn-color-icon: #878787;\n",
              "  }\n",
              "}\n",
              "\n",
              "#sk-container-id-3 {\n",
              "  color: var(--sklearn-color-text);\n",
              "}\n",
              "\n",
              "#sk-container-id-3 pre {\n",
              "  padding: 0;\n",
              "}\n",
              "\n",
              "#sk-container-id-3 input.sk-hidden--visually {\n",
              "  border: 0;\n",
              "  clip: rect(1px 1px 1px 1px);\n",
              "  clip: rect(1px, 1px, 1px, 1px);\n",
              "  height: 1px;\n",
              "  margin: -1px;\n",
              "  overflow: hidden;\n",
              "  padding: 0;\n",
              "  position: absolute;\n",
              "  width: 1px;\n",
              "}\n",
              "\n",
              "#sk-container-id-3 div.sk-dashed-wrapped {\n",
              "  border: 1px dashed var(--sklearn-color-line);\n",
              "  margin: 0 0.4em 0.5em 0.4em;\n",
              "  box-sizing: border-box;\n",
              "  padding-bottom: 0.4em;\n",
              "  background-color: var(--sklearn-color-background);\n",
              "}\n",
              "\n",
              "#sk-container-id-3 div.sk-container {\n",
              "  /* jupyter's `normalize.less` sets `[hidden] { display: none; }`\n",
              "     but bootstrap.min.css set `[hidden] { display: none !important; }`\n",
              "     so we also need the `!important` here to be able to override the\n",
              "     default hidden behavior on the sphinx rendered scikit-learn.org.\n",
              "     See: https://github.com/scikit-learn/scikit-learn/issues/21755 */\n",
              "  display: inline-block !important;\n",
              "  position: relative;\n",
              "}\n",
              "\n",
              "#sk-container-id-3 div.sk-text-repr-fallback {\n",
              "  display: none;\n",
              "}\n",
              "\n",
              "div.sk-parallel-item,\n",
              "div.sk-serial,\n",
              "div.sk-item {\n",
              "  /* draw centered vertical line to link estimators */\n",
              "  background-image: linear-gradient(var(--sklearn-color-text-on-default-background), var(--sklearn-color-text-on-default-background));\n",
              "  background-size: 2px 100%;\n",
              "  background-repeat: no-repeat;\n",
              "  background-position: center center;\n",
              "}\n",
              "\n",
              "/* Parallel-specific style estimator block */\n",
              "\n",
              "#sk-container-id-3 div.sk-parallel-item::after {\n",
              "  content: \"\";\n",
              "  width: 100%;\n",
              "  border-bottom: 2px solid var(--sklearn-color-text-on-default-background);\n",
              "  flex-grow: 1;\n",
              "}\n",
              "\n",
              "#sk-container-id-3 div.sk-parallel {\n",
              "  display: flex;\n",
              "  align-items: stretch;\n",
              "  justify-content: center;\n",
              "  background-color: var(--sklearn-color-background);\n",
              "  position: relative;\n",
              "}\n",
              "\n",
              "#sk-container-id-3 div.sk-parallel-item {\n",
              "  display: flex;\n",
              "  flex-direction: column;\n",
              "}\n",
              "\n",
              "#sk-container-id-3 div.sk-parallel-item:first-child::after {\n",
              "  align-self: flex-end;\n",
              "  width: 50%;\n",
              "}\n",
              "\n",
              "#sk-container-id-3 div.sk-parallel-item:last-child::after {\n",
              "  align-self: flex-start;\n",
              "  width: 50%;\n",
              "}\n",
              "\n",
              "#sk-container-id-3 div.sk-parallel-item:only-child::after {\n",
              "  width: 0;\n",
              "}\n",
              "\n",
              "/* Serial-specific style estimator block */\n",
              "\n",
              "#sk-container-id-3 div.sk-serial {\n",
              "  display: flex;\n",
              "  flex-direction: column;\n",
              "  align-items: center;\n",
              "  background-color: var(--sklearn-color-background);\n",
              "  padding-right: 1em;\n",
              "  padding-left: 1em;\n",
              "}\n",
              "\n",
              "\n",
              "/* Toggleable style: style used for estimator/Pipeline/ColumnTransformer box that is\n",
              "clickable and can be expanded/collapsed.\n",
              "- Pipeline and ColumnTransformer use this feature and define the default style\n",
              "- Estimators will overwrite some part of the style using the `sk-estimator` class\n",
              "*/\n",
              "\n",
              "/* Pipeline and ColumnTransformer style (default) */\n",
              "\n",
              "#sk-container-id-3 div.sk-toggleable {\n",
              "  /* Default theme specific background. It is overwritten whether we have a\n",
              "  specific estimator or a Pipeline/ColumnTransformer */\n",
              "  background-color: var(--sklearn-color-background);\n",
              "}\n",
              "\n",
              "/* Toggleable label */\n",
              "#sk-container-id-3 label.sk-toggleable__label {\n",
              "  cursor: pointer;\n",
              "  display: flex;\n",
              "  width: 100%;\n",
              "  margin-bottom: 0;\n",
              "  padding: 0.5em;\n",
              "  box-sizing: border-box;\n",
              "  text-align: center;\n",
              "  align-items: start;\n",
              "  justify-content: space-between;\n",
              "  gap: 0.5em;\n",
              "}\n",
              "\n",
              "#sk-container-id-3 label.sk-toggleable__label .caption {\n",
              "  font-size: 0.6rem;\n",
              "  font-weight: lighter;\n",
              "  color: var(--sklearn-color-text-muted);\n",
              "}\n",
              "\n",
              "#sk-container-id-3 label.sk-toggleable__label-arrow:before {\n",
              "  /* Arrow on the left of the label */\n",
              "  content: \"▸\";\n",
              "  float: left;\n",
              "  margin-right: 0.25em;\n",
              "  color: var(--sklearn-color-icon);\n",
              "}\n",
              "\n",
              "#sk-container-id-3 label.sk-toggleable__label-arrow:hover:before {\n",
              "  color: var(--sklearn-color-text);\n",
              "}\n",
              "\n",
              "/* Toggleable content - dropdown */\n",
              "\n",
              "#sk-container-id-3 div.sk-toggleable__content {\n",
              "  max-height: 0;\n",
              "  max-width: 0;\n",
              "  overflow: hidden;\n",
              "  text-align: left;\n",
              "  /* unfitted */\n",
              "  background-color: var(--sklearn-color-unfitted-level-0);\n",
              "}\n",
              "\n",
              "#sk-container-id-3 div.sk-toggleable__content.fitted {\n",
              "  /* fitted */\n",
              "  background-color: var(--sklearn-color-fitted-level-0);\n",
              "}\n",
              "\n",
              "#sk-container-id-3 div.sk-toggleable__content pre {\n",
              "  margin: 0.2em;\n",
              "  border-radius: 0.25em;\n",
              "  color: var(--sklearn-color-text);\n",
              "  /* unfitted */\n",
              "  background-color: var(--sklearn-color-unfitted-level-0);\n",
              "}\n",
              "\n",
              "#sk-container-id-3 div.sk-toggleable__content.fitted pre {\n",
              "  /* unfitted */\n",
              "  background-color: var(--sklearn-color-fitted-level-0);\n",
              "}\n",
              "\n",
              "#sk-container-id-3 input.sk-toggleable__control:checked~div.sk-toggleable__content {\n",
              "  /* Expand drop-down */\n",
              "  max-height: 200px;\n",
              "  max-width: 100%;\n",
              "  overflow: auto;\n",
              "}\n",
              "\n",
              "#sk-container-id-3 input.sk-toggleable__control:checked~label.sk-toggleable__label-arrow:before {\n",
              "  content: \"▾\";\n",
              "}\n",
              "\n",
              "/* Pipeline/ColumnTransformer-specific style */\n",
              "\n",
              "#sk-container-id-3 div.sk-label input.sk-toggleable__control:checked~label.sk-toggleable__label {\n",
              "  color: var(--sklearn-color-text);\n",
              "  background-color: var(--sklearn-color-unfitted-level-2);\n",
              "}\n",
              "\n",
              "#sk-container-id-3 div.sk-label.fitted input.sk-toggleable__control:checked~label.sk-toggleable__label {\n",
              "  background-color: var(--sklearn-color-fitted-level-2);\n",
              "}\n",
              "\n",
              "/* Estimator-specific style */\n",
              "\n",
              "/* Colorize estimator box */\n",
              "#sk-container-id-3 div.sk-estimator input.sk-toggleable__control:checked~label.sk-toggleable__label {\n",
              "  /* unfitted */\n",
              "  background-color: var(--sklearn-color-unfitted-level-2);\n",
              "}\n",
              "\n",
              "#sk-container-id-3 div.sk-estimator.fitted input.sk-toggleable__control:checked~label.sk-toggleable__label {\n",
              "  /* fitted */\n",
              "  background-color: var(--sklearn-color-fitted-level-2);\n",
              "}\n",
              "\n",
              "#sk-container-id-3 div.sk-label label.sk-toggleable__label,\n",
              "#sk-container-id-3 div.sk-label label {\n",
              "  /* The background is the default theme color */\n",
              "  color: var(--sklearn-color-text-on-default-background);\n",
              "}\n",
              "\n",
              "/* On hover, darken the color of the background */\n",
              "#sk-container-id-3 div.sk-label:hover label.sk-toggleable__label {\n",
              "  color: var(--sklearn-color-text);\n",
              "  background-color: var(--sklearn-color-unfitted-level-2);\n",
              "}\n",
              "\n",
              "/* Label box, darken color on hover, fitted */\n",
              "#sk-container-id-3 div.sk-label.fitted:hover label.sk-toggleable__label.fitted {\n",
              "  color: var(--sklearn-color-text);\n",
              "  background-color: var(--sklearn-color-fitted-level-2);\n",
              "}\n",
              "\n",
              "/* Estimator label */\n",
              "\n",
              "#sk-container-id-3 div.sk-label label {\n",
              "  font-family: monospace;\n",
              "  font-weight: bold;\n",
              "  display: inline-block;\n",
              "  line-height: 1.2em;\n",
              "}\n",
              "\n",
              "#sk-container-id-3 div.sk-label-container {\n",
              "  text-align: center;\n",
              "}\n",
              "\n",
              "/* Estimator-specific */\n",
              "#sk-container-id-3 div.sk-estimator {\n",
              "  font-family: monospace;\n",
              "  border: 1px dotted var(--sklearn-color-border-box);\n",
              "  border-radius: 0.25em;\n",
              "  box-sizing: border-box;\n",
              "  margin-bottom: 0.5em;\n",
              "  /* unfitted */\n",
              "  background-color: var(--sklearn-color-unfitted-level-0);\n",
              "}\n",
              "\n",
              "#sk-container-id-3 div.sk-estimator.fitted {\n",
              "  /* fitted */\n",
              "  background-color: var(--sklearn-color-fitted-level-0);\n",
              "}\n",
              "\n",
              "/* on hover */\n",
              "#sk-container-id-3 div.sk-estimator:hover {\n",
              "  /* unfitted */\n",
              "  background-color: var(--sklearn-color-unfitted-level-2);\n",
              "}\n",
              "\n",
              "#sk-container-id-3 div.sk-estimator.fitted:hover {\n",
              "  /* fitted */\n",
              "  background-color: var(--sklearn-color-fitted-level-2);\n",
              "}\n",
              "\n",
              "/* Specification for estimator info (e.g. \"i\" and \"?\") */\n",
              "\n",
              "/* Common style for \"i\" and \"?\" */\n",
              "\n",
              ".sk-estimator-doc-link,\n",
              "a:link.sk-estimator-doc-link,\n",
              "a:visited.sk-estimator-doc-link {\n",
              "  float: right;\n",
              "  font-size: smaller;\n",
              "  line-height: 1em;\n",
              "  font-family: monospace;\n",
              "  background-color: var(--sklearn-color-background);\n",
              "  border-radius: 1em;\n",
              "  height: 1em;\n",
              "  width: 1em;\n",
              "  text-decoration: none !important;\n",
              "  margin-left: 0.5em;\n",
              "  text-align: center;\n",
              "  /* unfitted */\n",
              "  border: var(--sklearn-color-unfitted-level-1) 1pt solid;\n",
              "  color: var(--sklearn-color-unfitted-level-1);\n",
              "}\n",
              "\n",
              ".sk-estimator-doc-link.fitted,\n",
              "a:link.sk-estimator-doc-link.fitted,\n",
              "a:visited.sk-estimator-doc-link.fitted {\n",
              "  /* fitted */\n",
              "  border: var(--sklearn-color-fitted-level-1) 1pt solid;\n",
              "  color: var(--sklearn-color-fitted-level-1);\n",
              "}\n",
              "\n",
              "/* On hover */\n",
              "div.sk-estimator:hover .sk-estimator-doc-link:hover,\n",
              ".sk-estimator-doc-link:hover,\n",
              "div.sk-label-container:hover .sk-estimator-doc-link:hover,\n",
              ".sk-estimator-doc-link:hover {\n",
              "  /* unfitted */\n",
              "  background-color: var(--sklearn-color-unfitted-level-3);\n",
              "  color: var(--sklearn-color-background);\n",
              "  text-decoration: none;\n",
              "}\n",
              "\n",
              "div.sk-estimator.fitted:hover .sk-estimator-doc-link.fitted:hover,\n",
              ".sk-estimator-doc-link.fitted:hover,\n",
              "div.sk-label-container:hover .sk-estimator-doc-link.fitted:hover,\n",
              ".sk-estimator-doc-link.fitted:hover {\n",
              "  /* fitted */\n",
              "  background-color: var(--sklearn-color-fitted-level-3);\n",
              "  color: var(--sklearn-color-background);\n",
              "  text-decoration: none;\n",
              "}\n",
              "\n",
              "/* Span, style for the box shown on hovering the info icon */\n",
              ".sk-estimator-doc-link span {\n",
              "  display: none;\n",
              "  z-index: 9999;\n",
              "  position: relative;\n",
              "  font-weight: normal;\n",
              "  right: .2ex;\n",
              "  padding: .5ex;\n",
              "  margin: .5ex;\n",
              "  width: min-content;\n",
              "  min-width: 20ex;\n",
              "  max-width: 50ex;\n",
              "  color: var(--sklearn-color-text);\n",
              "  box-shadow: 2pt 2pt 4pt #999;\n",
              "  /* unfitted */\n",
              "  background: var(--sklearn-color-unfitted-level-0);\n",
              "  border: .5pt solid var(--sklearn-color-unfitted-level-3);\n",
              "}\n",
              "\n",
              ".sk-estimator-doc-link.fitted span {\n",
              "  /* fitted */\n",
              "  background: var(--sklearn-color-fitted-level-0);\n",
              "  border: var(--sklearn-color-fitted-level-3);\n",
              "}\n",
              "\n",
              ".sk-estimator-doc-link:hover span {\n",
              "  display: block;\n",
              "}\n",
              "\n",
              "/* \"?\"-specific style due to the `<a>` HTML tag */\n",
              "\n",
              "#sk-container-id-3 a.estimator_doc_link {\n",
              "  float: right;\n",
              "  font-size: 1rem;\n",
              "  line-height: 1em;\n",
              "  font-family: monospace;\n",
              "  background-color: var(--sklearn-color-background);\n",
              "  border-radius: 1rem;\n",
              "  height: 1rem;\n",
              "  width: 1rem;\n",
              "  text-decoration: none;\n",
              "  /* unfitted */\n",
              "  color: var(--sklearn-color-unfitted-level-1);\n",
              "  border: var(--sklearn-color-unfitted-level-1) 1pt solid;\n",
              "}\n",
              "\n",
              "#sk-container-id-3 a.estimator_doc_link.fitted {\n",
              "  /* fitted */\n",
              "  border: var(--sklearn-color-fitted-level-1) 1pt solid;\n",
              "  color: var(--sklearn-color-fitted-level-1);\n",
              "}\n",
              "\n",
              "/* On hover */\n",
              "#sk-container-id-3 a.estimator_doc_link:hover {\n",
              "  /* unfitted */\n",
              "  background-color: var(--sklearn-color-unfitted-level-3);\n",
              "  color: var(--sklearn-color-background);\n",
              "  text-decoration: none;\n",
              "}\n",
              "\n",
              "#sk-container-id-3 a.estimator_doc_link.fitted:hover {\n",
              "  /* fitted */\n",
              "  background-color: var(--sklearn-color-fitted-level-3);\n",
              "}\n",
              "</style><div id=\"sk-container-id-3\" class=\"sk-top-container\"><div class=\"sk-text-repr-fallback\"><pre>XGBClassifier(base_score=None, booster=None, callbacks=None,\n",
              "              colsample_bylevel=None, colsample_bynode=None,\n",
              "              colsample_bytree=None, device=None, early_stopping_rounds=None,\n",
              "              enable_categorical=False, eval_metric=&#x27;mlogloss&#x27;,\n",
              "              feature_types=None, gamma=None, grow_policy=None,\n",
              "              importance_type=None, interaction_constraints=None,\n",
              "              learning_rate=0.1, max_bin=None, max_cat_threshold=None,\n",
              "              max_cat_to_onehot=None, max_delta_step=None, max_depth=None,\n",
              "              max_leaves=None, min_child_weight=None, missing=nan,\n",
              "              monotone_constraints=None, multi_strategy=None, n_estimators=100,\n",
              "              n_jobs=-1, num_class=4, num_parallel_tree=None, ...)</pre><b>In a Jupyter environment, please rerun this cell to show the HTML representation or trust the notebook. <br />On GitHub, the HTML representation is unable to render, please try loading this page with nbviewer.org.</b></div><div class=\"sk-container\" hidden><div class=\"sk-item\"><div class=\"sk-estimator fitted sk-toggleable\"><input class=\"sk-toggleable__control sk-hidden--visually\" id=\"sk-estimator-id-3\" type=\"checkbox\" checked><label for=\"sk-estimator-id-3\" class=\"sk-toggleable__label fitted sk-toggleable__label-arrow\"><div><div>XGBClassifier</div></div><div><span class=\"sk-estimator-doc-link fitted\">i<span>Fitted</span></span></div></label><div class=\"sk-toggleable__content fitted\"><pre>XGBClassifier(base_score=None, booster=None, callbacks=None,\n",
              "              colsample_bylevel=None, colsample_bynode=None,\n",
              "              colsample_bytree=None, device=None, early_stopping_rounds=None,\n",
              "              enable_categorical=False, eval_metric=&#x27;mlogloss&#x27;,\n",
              "              feature_types=None, gamma=None, grow_policy=None,\n",
              "              importance_type=None, interaction_constraints=None,\n",
              "              learning_rate=0.1, max_bin=None, max_cat_threshold=None,\n",
              "              max_cat_to_onehot=None, max_delta_step=None, max_depth=None,\n",
              "              max_leaves=None, min_child_weight=None, missing=nan,\n",
              "              monotone_constraints=None, multi_strategy=None, n_estimators=100,\n",
              "              n_jobs=-1, num_class=4, num_parallel_tree=None, ...)</pre></div> </div></div></div></div>"
            ]
          },
          "metadata": {},
          "execution_count": 31
        }
      ],
      "execution_count": 31
    },
    {
      "metadata": {
        "ExecuteTime": {
          "end_time": "2025-05-05T05:31:50.240664Z",
          "start_time": "2025-05-05T05:31:50.196487Z"
        },
        "id": "fc434853196710fe"
      },
      "cell_type": "code",
      "source": [
        "y_pred_enc = model_xgb.predict(X_val_scaled)\n",
        "\n",
        "inv_map = {v:k for k,v in mapping.items()}\n",
        "y_pred = np.array([inv_map[i] for i in y_pred_enc])\n"
      ],
      "id": "fc434853196710fe",
      "outputs": [],
      "execution_count": 33
    },
    {
      "metadata": {
        "ExecuteTime": {
          "end_time": "2025-05-05T05:32:29.744751Z",
          "start_time": "2025-05-05T05:32:29.731199Z"
        },
        "colab": {
          "base_uri": "https://localhost:8080/"
        },
        "id": "b7c6163b53f1a977",
        "outputId": "5fb91081-5eff-47d9-8737-a27975ce56b7"
      },
      "cell_type": "code",
      "source": [
        "print(\"Accuracy XGBoost:\", accuracy_score(y_val, y_pred))\n",
        "print(\"Classification Report\")\n",
        "print(classification_report(\n",
        "    y_val, y_pred, digits=3,\n",
        "    target_names=['~','N','O','A']\n",
        "))"
      ],
      "id": "b7c6163b53f1a977",
      "outputs": [
        {
          "output_type": "stream",
          "name": "stdout",
          "text": [
            "Accuracy XGBoost: 0.5875457875457876\n",
            "Classification Report\n",
            "              precision    recall  f1-score   support\n",
            "\n",
            "           ~      0.750     0.025     0.048       121\n",
            "           N      0.599     0.966     0.740       812\n",
            "           O      0.269     0.036     0.064       387\n",
            "           A      1.000     0.022     0.043        45\n",
            "\n",
            "    accuracy                          0.588      1365\n",
            "   macro avg      0.655     0.262     0.224      1365\n",
            "weighted avg      0.532     0.588     0.464      1365\n",
            "\n"
          ]
        }
      ],
      "execution_count": 34
    },
    {
      "metadata": {
        "id": "dd4a8ea6797aff32"
      },
      "cell_type": "markdown",
      "source": [
        "+ Okay, seguimos teniendo problemas similares a los modelos anteriores, el modelo está muy sesgado a la clase N.\n",
        "+ Aunque tenemos un Accuracy decente, podemos observar ciertas cosas, primero hay mucha precisión en \"A\" y \"~\", lo que significa que cuando el modelo las elige, suele acertar, pero casi nunca las elige, ya que podemos ver el recall muy bajo.\n",
        "+ Hay un Recall altísimo en \"N\" (96%), lo que indica que apenas deja escapar ningún normal, pero al clasificar \"N\" mete muchas señales de otras clases.\n",
        "+ Para \"O\" y \"~\" tenemos tanto la precisión como recall muy bajos, o sea que el modelo prácticamente las ignora.\n",
        "\n",
        "Quiero hacer lo siguiente a ver si cambia un poco, voy a balancear las clases, de tal manera que se penalicen más los errores de \"A\" y \"~\", a ver si cambia algo."
      ],
      "id": "dd4a8ea6797aff32"
    },
    {
      "metadata": {
        "id": "a93ad74be2b7b232"
      },
      "cell_type": "markdown",
      "source": [
        "Para ajustar los pesos de clase, utilizaremos `sample_weight`. Primero vamos a calcular un peso por clave, que sea inversamente proporcional a su frecuencia. Después le asignaremos a cada muestra el peso de su clase. Por último le pasaremos ese vector `sample_weight` al método fit."
      ],
      "id": "a93ad74be2b7b232"
    },
    {
      "metadata": {
        "ExecuteTime": {
          "end_time": "2025-05-05T06:06:20.833986Z",
          "start_time": "2025-05-05T06:06:20.828993Z"
        },
        "colab": {
          "base_uri": "https://localhost:8080/"
        },
        "id": "f051358039d9af44",
        "outputId": "95d41e31-3353-428a-bc9e-0d6e2800dbe0"
      },
      "cell_type": "code",
      "source": [
        "from sklearn.utils.class_weight import compute_class_weight\n",
        "\n",
        "# Calculamos pesos por clase\n",
        "classes = np.unique(y_train_enc)\n",
        "\n",
        "weights = compute_class_weight(\n",
        "    class_weight='balanced',\n",
        "    classes=classes,\n",
        "    y=y_train_enc\n",
        ")\n",
        "\n",
        "# Creamos un dict con los pesos\n",
        "class_weights = dict(zip(classes, weights))\n",
        "print(\"Pesos por clase:\", class_weights)\n",
        "\n"
      ],
      "id": "f051358039d9af44",
      "outputs": [
        {
          "output_type": "stream",
          "name": "stdout",
          "text": [
            "Pesos por clase: {np.int64(0): np.float64(7.66432584269663), np.int64(1): np.float64(2.8128865979381446), np.int64(2): np.float64(0.4198984302862419), np.int64(3): np.float64(0.8830097087378641)}\n"
          ]
        }
      ],
      "execution_count": 35
    },
    {
      "metadata": {
        "ExecuteTime": {
          "end_time": "2025-05-05T06:06:36.274691Z",
          "start_time": "2025-05-05T06:06:36.272482Z"
        },
        "id": "ee52719bcb728474"
      },
      "cell_type": "code",
      "source": [
        "# Construímos el vector de pesos de longitud n_samples\n",
        "sample_weight = np.array([class_weights[lab] for lab in y_train_enc])"
      ],
      "id": "ee52719bcb728474",
      "outputs": [],
      "execution_count": 36
    },
    {
      "metadata": {
        "ExecuteTime": {
          "end_time": "2025-05-05T06:21:18.265154Z",
          "start_time": "2025-05-05T06:20:04.276935Z"
        },
        "colab": {
          "base_uri": "https://localhost:8080/"
        },
        "id": "138b6b429415fa1",
        "outputId": "ba1a873d-b1c7-4ff2-90df-d3f1a88d1375"
      },
      "cell_type": "code",
      "source": [
        "# Entrenamos el modelo con los pesos\n",
        "model_xgb2 = XGBClassifier(\n",
        "    objective='multi:softprob',\n",
        "    num_class=len(classes),\n",
        "    eval_metric='mlogloss',\n",
        "    use_label_encoder=False,\n",
        "    random_state=42\n",
        ")\n",
        "model_xgb2.fit(\n",
        "    X_train_scaled, y_train_enc,\n",
        "    sample_weight=sample_weight,\n",
        "    eval_set=[(X_val_scaled, y_val_enc)],\n",
        "    verbose=False\n",
        ")\n",
        "\n",
        "# Evaluamos el modelo\n",
        "y_pred_enc = model_xgb2.predict(X_val_scaled)\n",
        "\n",
        "inv_map = {v:k for k,v in mapping.items()}\n",
        "\n",
        "y_pred_str = np.array([inv_map[i] for i in y_pred_enc])\n",
        "\n",
        "print(\"Accuracy XGBoost con pesos:\", accuracy_score(y_val, y_pred_str))\n",
        "print(\"\\nClassification Report:\")\n",
        "print(classification_report(\n",
        "    y_val, y_pred_str, digits=3,\n",
        "    target_names=['~','A','N','O']\n",
        "))"
      ],
      "id": "138b6b429415fa1",
      "outputs": [
        {
          "output_type": "stream",
          "name": "stderr",
          "text": [
            "/usr/local/lib/python3.11/dist-packages/xgboost/core.py:158: UserWarning: [01:09:23] WARNING: /workspace/src/learner.cc:740: \n",
            "Parameters: { \"use_label_encoder\" } are not used.\n",
            "\n",
            "  warnings.warn(smsg, UserWarning)\n"
          ]
        },
        {
          "output_type": "stream",
          "name": "stdout",
          "text": [
            "Accuracy XGBoost con pesos: 0.5802197802197803\n",
            "\n",
            "Classification Report:\n",
            "              precision    recall  f1-score   support\n",
            "\n",
            "           ~      0.500     0.033     0.062       121\n",
            "           A      0.609     0.908     0.729       812\n",
            "           N      0.341     0.121     0.179       387\n",
            "           O      0.500     0.089     0.151        45\n",
            "\n",
            "    accuracy                          0.580      1365\n",
            "   macro avg      0.487     0.288     0.280      1365\n",
            "weighted avg      0.519     0.580     0.495      1365\n",
            "\n"
          ]
        }
      ],
      "execution_count": 37
    },
    {
      "metadata": {
        "id": "d7a8ee074afe27d0"
      },
      "cell_type": "markdown",
      "source": [
        "Podemos decir que gracias a los pesos, ahora podemos detectar un 90.8% de las fibrilaciones reales, antes era prácticamente 0%, y el F1 de A sube a 0.73 que está muy bien.\n",
        "Pero ahora hay un desempeño muy pobre en las otras, en todos cayeron drásticamente, por ejemplo \"N\" de estar casi en 1.0 bajó a 0.12, sacrificando la detección de \"N\" para elevar \"A\".\n",
        "Ahora pasemos al modelo SVC."
      ],
      "id": "d7a8ee074afe27d0"
    },
    {
      "metadata": {
        "id": "3ba998e59291e860"
      },
      "cell_type": "markdown",
      "source": [
        "### SVC\n",
        "Support Vector Classifier es la implementación para clasificación de SVM, a grandes rasgos lo que hace es encontrar un hiperplano que maximice el margen, o sea, la distancia mínima entre el hiperplano y cualquiera de los puntos de entrenamiento.\n",
        "Los SVC son muy buenos en problemas de espacios de alta dimensión, que es nuestro caso así que vamos a probarlo."
      ],
      "id": "3ba998e59291e860"
    },
    {
      "metadata": {
        "ExecuteTime": {
          "end_time": "2025-05-05T06:40:40.826334Z",
          "start_time": "2025-05-05T06:38:47.498902Z"
        },
        "colab": {
          "base_uri": "https://localhost:8080/"
        },
        "id": "7e6073530f6f1769",
        "outputId": "6e24bd53-6c0a-438d-e3f3-82797bb1c60f"
      },
      "cell_type": "code",
      "source": [
        "from sklearn.svm import SVC\n",
        "\n",
        "# Instanciamos el modelo con pesos balanceados\n",
        "svc = SVC(kernel='rbf',\n",
        "          C=1.0,\n",
        "          gamma='scale',\n",
        "          class_weight='balanced',\n",
        "          probability=False,\n",
        "          random_state=42)\n",
        "\n",
        "# Entrenamos sobre train ajustado\n",
        "svc.fit(X_train_scaled, y_train2)\n",
        "\n",
        "# Predecimos en validación\n",
        "y_pred_val = svc.predict(X_val_scaled)\n",
        "\n",
        "# Métricas\n",
        "print(\"Accuracy SVC:\", accuracy_score(y_val, y_pred_val))\n",
        "print(\"\\nClassification Report:\")\n",
        "print(classification_report(y_val, y_pred_val, digits=3,\n",
        "                            target_names=['~','N','O','A']))"
      ],
      "id": "7e6073530f6f1769",
      "outputs": [
        {
          "output_type": "stream",
          "name": "stdout",
          "text": [
            "Accuracy SVC: 0.42417582417582417\n",
            "\n",
            "Classification Report:\n",
            "              precision    recall  f1-score   support\n",
            "\n",
            "           ~      0.120     0.215     0.154       121\n",
            "           N      0.615     0.494     0.548       812\n",
            "           O      0.308     0.393     0.345       387\n",
            "           A      0.000     0.000     0.000        45\n",
            "\n",
            "    accuracy                          0.424      1365\n",
            "   macro avg      0.261     0.275     0.262      1365\n",
            "weighted avg      0.464     0.424     0.437      1365\n",
            "\n"
          ]
        }
      ],
      "execution_count": 38
    },
    {
      "metadata": {
        "id": "a35e9c5b702b4f37"
      },
      "cell_type": "markdown",
      "source": [
        "Vemos similar a todo lo anterior, no detecta A, y tuvo un accuracy malo dentro de lo que cabe, ya que está sesgado por la clase mayoritaria. Pero lo dejaremos hasta aquí. Pasemos al último modelo que se llama LightGBM."
      ],
      "id": "a35e9c5b702b4f37"
    },
    {
      "metadata": {
        "id": "682ed5ea2d1f65bc"
      },
      "cell_type": "markdown",
      "source": [
        "### LightGBM\n",
        "Es un algoritmo de gradient boosting que lo que hace es construir árboles de decisión \"leaf-wise\" o sea, expande primero la rama con mayor ganancia, después usa histogramas para agrupar valores continuos y acelera el entrenamiento y el uso de memoria."
      ],
      "id": "682ed5ea2d1f65bc"
    },
    {
      "metadata": {
        "ExecuteTime": {
          "end_time": "2025-05-05T07:13:44.346316Z",
          "start_time": "2025-05-05T07:13:44.343517Z"
        },
        "id": "a491cea40e3023a7"
      },
      "cell_type": "code",
      "source": [
        "import lightgbm as lgb\n",
        "\n",
        "model_lgbm = lgb.LGBMClassifier(\n",
        "    n_estimators=100,\n",
        "    learning_rate=0.05,\n",
        "    class_weight='balanced',\n",
        "    random_state=42,\n",
        "    n_jobs=-1,\n",
        ")"
      ],
      "id": "a491cea40e3023a7",
      "outputs": [],
      "execution_count": 39
    },
    {
      "metadata": {
        "ExecuteTime": {
          "end_time": "2025-05-05T07:14:28.602482Z",
          "start_time": "2025-05-05T07:13:45.252061Z"
        },
        "colab": {
          "base_uri": "https://localhost:8080/",
          "height": 287
        },
        "id": "2832dc1ae600d12f",
        "outputId": "d36830e1-c28d-44f5-d42d-1b10180199c4"
      },
      "cell_type": "code",
      "source": [
        "model_lgbm.fit(\n",
        "    X_train_scaled, y_train_enc,\n",
        "    eval_set=[(X_val_scaled, y_val_enc)],\n",
        "    eval_metric='multi_logloss'\n",
        ")\n"
      ],
      "id": "2832dc1ae600d12f",
      "outputs": [
        {
          "output_type": "stream",
          "name": "stderr",
          "text": [
            "/usr/local/lib/python3.11/dist-packages/sklearn/utils/deprecation.py:151: FutureWarning: 'force_all_finite' was renamed to 'ensure_all_finite' in 1.6 and will be removed in 1.8.\n",
            "  warnings.warn(\n"
          ]
        },
        {
          "output_type": "stream",
          "name": "stdout",
          "text": [
            "[LightGBM] [Info] Auto-choosing col-wise multi-threading, the overhead of testing was 0.490975 seconds.\n",
            "You can set `force_col_wise=true` to remove the overhead.\n",
            "[LightGBM] [Info] Total Bins 2295000\n",
            "[LightGBM] [Info] Number of data points in the train set: 5457, number of used features: 9000\n",
            "[LightGBM] [Info] Start training from score -1.386294\n",
            "[LightGBM] [Info] Start training from score -1.386294\n",
            "[LightGBM] [Info] Start training from score -1.386294\n",
            "[LightGBM] [Info] Start training from score -1.386294\n"
          ]
        },
        {
          "output_type": "execute_result",
          "data": {
            "text/plain": [
              "LGBMClassifier(class_weight='balanced', learning_rate=0.05, n_jobs=-1,\n",
              "               random_state=42)"
            ],
            "text/html": [
              "<style>#sk-container-id-4 {\n",
              "  /* Definition of color scheme common for light and dark mode */\n",
              "  --sklearn-color-text: #000;\n",
              "  --sklearn-color-text-muted: #666;\n",
              "  --sklearn-color-line: gray;\n",
              "  /* Definition of color scheme for unfitted estimators */\n",
              "  --sklearn-color-unfitted-level-0: #fff5e6;\n",
              "  --sklearn-color-unfitted-level-1: #f6e4d2;\n",
              "  --sklearn-color-unfitted-level-2: #ffe0b3;\n",
              "  --sklearn-color-unfitted-level-3: chocolate;\n",
              "  /* Definition of color scheme for fitted estimators */\n",
              "  --sklearn-color-fitted-level-0: #f0f8ff;\n",
              "  --sklearn-color-fitted-level-1: #d4ebff;\n",
              "  --sklearn-color-fitted-level-2: #b3dbfd;\n",
              "  --sklearn-color-fitted-level-3: cornflowerblue;\n",
              "\n",
              "  /* Specific color for light theme */\n",
              "  --sklearn-color-text-on-default-background: var(--sg-text-color, var(--theme-code-foreground, var(--jp-content-font-color1, black)));\n",
              "  --sklearn-color-background: var(--sg-background-color, var(--theme-background, var(--jp-layout-color0, white)));\n",
              "  --sklearn-color-border-box: var(--sg-text-color, var(--theme-code-foreground, var(--jp-content-font-color1, black)));\n",
              "  --sklearn-color-icon: #696969;\n",
              "\n",
              "  @media (prefers-color-scheme: dark) {\n",
              "    /* Redefinition of color scheme for dark theme */\n",
              "    --sklearn-color-text-on-default-background: var(--sg-text-color, var(--theme-code-foreground, var(--jp-content-font-color1, white)));\n",
              "    --sklearn-color-background: var(--sg-background-color, var(--theme-background, var(--jp-layout-color0, #111)));\n",
              "    --sklearn-color-border-box: var(--sg-text-color, var(--theme-code-foreground, var(--jp-content-font-color1, white)));\n",
              "    --sklearn-color-icon: #878787;\n",
              "  }\n",
              "}\n",
              "\n",
              "#sk-container-id-4 {\n",
              "  color: var(--sklearn-color-text);\n",
              "}\n",
              "\n",
              "#sk-container-id-4 pre {\n",
              "  padding: 0;\n",
              "}\n",
              "\n",
              "#sk-container-id-4 input.sk-hidden--visually {\n",
              "  border: 0;\n",
              "  clip: rect(1px 1px 1px 1px);\n",
              "  clip: rect(1px, 1px, 1px, 1px);\n",
              "  height: 1px;\n",
              "  margin: -1px;\n",
              "  overflow: hidden;\n",
              "  padding: 0;\n",
              "  position: absolute;\n",
              "  width: 1px;\n",
              "}\n",
              "\n",
              "#sk-container-id-4 div.sk-dashed-wrapped {\n",
              "  border: 1px dashed var(--sklearn-color-line);\n",
              "  margin: 0 0.4em 0.5em 0.4em;\n",
              "  box-sizing: border-box;\n",
              "  padding-bottom: 0.4em;\n",
              "  background-color: var(--sklearn-color-background);\n",
              "}\n",
              "\n",
              "#sk-container-id-4 div.sk-container {\n",
              "  /* jupyter's `normalize.less` sets `[hidden] { display: none; }`\n",
              "     but bootstrap.min.css set `[hidden] { display: none !important; }`\n",
              "     so we also need the `!important` here to be able to override the\n",
              "     default hidden behavior on the sphinx rendered scikit-learn.org.\n",
              "     See: https://github.com/scikit-learn/scikit-learn/issues/21755 */\n",
              "  display: inline-block !important;\n",
              "  position: relative;\n",
              "}\n",
              "\n",
              "#sk-container-id-4 div.sk-text-repr-fallback {\n",
              "  display: none;\n",
              "}\n",
              "\n",
              "div.sk-parallel-item,\n",
              "div.sk-serial,\n",
              "div.sk-item {\n",
              "  /* draw centered vertical line to link estimators */\n",
              "  background-image: linear-gradient(var(--sklearn-color-text-on-default-background), var(--sklearn-color-text-on-default-background));\n",
              "  background-size: 2px 100%;\n",
              "  background-repeat: no-repeat;\n",
              "  background-position: center center;\n",
              "}\n",
              "\n",
              "/* Parallel-specific style estimator block */\n",
              "\n",
              "#sk-container-id-4 div.sk-parallel-item::after {\n",
              "  content: \"\";\n",
              "  width: 100%;\n",
              "  border-bottom: 2px solid var(--sklearn-color-text-on-default-background);\n",
              "  flex-grow: 1;\n",
              "}\n",
              "\n",
              "#sk-container-id-4 div.sk-parallel {\n",
              "  display: flex;\n",
              "  align-items: stretch;\n",
              "  justify-content: center;\n",
              "  background-color: var(--sklearn-color-background);\n",
              "  position: relative;\n",
              "}\n",
              "\n",
              "#sk-container-id-4 div.sk-parallel-item {\n",
              "  display: flex;\n",
              "  flex-direction: column;\n",
              "}\n",
              "\n",
              "#sk-container-id-4 div.sk-parallel-item:first-child::after {\n",
              "  align-self: flex-end;\n",
              "  width: 50%;\n",
              "}\n",
              "\n",
              "#sk-container-id-4 div.sk-parallel-item:last-child::after {\n",
              "  align-self: flex-start;\n",
              "  width: 50%;\n",
              "}\n",
              "\n",
              "#sk-container-id-4 div.sk-parallel-item:only-child::after {\n",
              "  width: 0;\n",
              "}\n",
              "\n",
              "/* Serial-specific style estimator block */\n",
              "\n",
              "#sk-container-id-4 div.sk-serial {\n",
              "  display: flex;\n",
              "  flex-direction: column;\n",
              "  align-items: center;\n",
              "  background-color: var(--sklearn-color-background);\n",
              "  padding-right: 1em;\n",
              "  padding-left: 1em;\n",
              "}\n",
              "\n",
              "\n",
              "/* Toggleable style: style used for estimator/Pipeline/ColumnTransformer box that is\n",
              "clickable and can be expanded/collapsed.\n",
              "- Pipeline and ColumnTransformer use this feature and define the default style\n",
              "- Estimators will overwrite some part of the style using the `sk-estimator` class\n",
              "*/\n",
              "\n",
              "/* Pipeline and ColumnTransformer style (default) */\n",
              "\n",
              "#sk-container-id-4 div.sk-toggleable {\n",
              "  /* Default theme specific background. It is overwritten whether we have a\n",
              "  specific estimator or a Pipeline/ColumnTransformer */\n",
              "  background-color: var(--sklearn-color-background);\n",
              "}\n",
              "\n",
              "/* Toggleable label */\n",
              "#sk-container-id-4 label.sk-toggleable__label {\n",
              "  cursor: pointer;\n",
              "  display: flex;\n",
              "  width: 100%;\n",
              "  margin-bottom: 0;\n",
              "  padding: 0.5em;\n",
              "  box-sizing: border-box;\n",
              "  text-align: center;\n",
              "  align-items: start;\n",
              "  justify-content: space-between;\n",
              "  gap: 0.5em;\n",
              "}\n",
              "\n",
              "#sk-container-id-4 label.sk-toggleable__label .caption {\n",
              "  font-size: 0.6rem;\n",
              "  font-weight: lighter;\n",
              "  color: var(--sklearn-color-text-muted);\n",
              "}\n",
              "\n",
              "#sk-container-id-4 label.sk-toggleable__label-arrow:before {\n",
              "  /* Arrow on the left of the label */\n",
              "  content: \"▸\";\n",
              "  float: left;\n",
              "  margin-right: 0.25em;\n",
              "  color: var(--sklearn-color-icon);\n",
              "}\n",
              "\n",
              "#sk-container-id-4 label.sk-toggleable__label-arrow:hover:before {\n",
              "  color: var(--sklearn-color-text);\n",
              "}\n",
              "\n",
              "/* Toggleable content - dropdown */\n",
              "\n",
              "#sk-container-id-4 div.sk-toggleable__content {\n",
              "  max-height: 0;\n",
              "  max-width: 0;\n",
              "  overflow: hidden;\n",
              "  text-align: left;\n",
              "  /* unfitted */\n",
              "  background-color: var(--sklearn-color-unfitted-level-0);\n",
              "}\n",
              "\n",
              "#sk-container-id-4 div.sk-toggleable__content.fitted {\n",
              "  /* fitted */\n",
              "  background-color: var(--sklearn-color-fitted-level-0);\n",
              "}\n",
              "\n",
              "#sk-container-id-4 div.sk-toggleable__content pre {\n",
              "  margin: 0.2em;\n",
              "  border-radius: 0.25em;\n",
              "  color: var(--sklearn-color-text);\n",
              "  /* unfitted */\n",
              "  background-color: var(--sklearn-color-unfitted-level-0);\n",
              "}\n",
              "\n",
              "#sk-container-id-4 div.sk-toggleable__content.fitted pre {\n",
              "  /* unfitted */\n",
              "  background-color: var(--sklearn-color-fitted-level-0);\n",
              "}\n",
              "\n",
              "#sk-container-id-4 input.sk-toggleable__control:checked~div.sk-toggleable__content {\n",
              "  /* Expand drop-down */\n",
              "  max-height: 200px;\n",
              "  max-width: 100%;\n",
              "  overflow: auto;\n",
              "}\n",
              "\n",
              "#sk-container-id-4 input.sk-toggleable__control:checked~label.sk-toggleable__label-arrow:before {\n",
              "  content: \"▾\";\n",
              "}\n",
              "\n",
              "/* Pipeline/ColumnTransformer-specific style */\n",
              "\n",
              "#sk-container-id-4 div.sk-label input.sk-toggleable__control:checked~label.sk-toggleable__label {\n",
              "  color: var(--sklearn-color-text);\n",
              "  background-color: var(--sklearn-color-unfitted-level-2);\n",
              "}\n",
              "\n",
              "#sk-container-id-4 div.sk-label.fitted input.sk-toggleable__control:checked~label.sk-toggleable__label {\n",
              "  background-color: var(--sklearn-color-fitted-level-2);\n",
              "}\n",
              "\n",
              "/* Estimator-specific style */\n",
              "\n",
              "/* Colorize estimator box */\n",
              "#sk-container-id-4 div.sk-estimator input.sk-toggleable__control:checked~label.sk-toggleable__label {\n",
              "  /* unfitted */\n",
              "  background-color: var(--sklearn-color-unfitted-level-2);\n",
              "}\n",
              "\n",
              "#sk-container-id-4 div.sk-estimator.fitted input.sk-toggleable__control:checked~label.sk-toggleable__label {\n",
              "  /* fitted */\n",
              "  background-color: var(--sklearn-color-fitted-level-2);\n",
              "}\n",
              "\n",
              "#sk-container-id-4 div.sk-label label.sk-toggleable__label,\n",
              "#sk-container-id-4 div.sk-label label {\n",
              "  /* The background is the default theme color */\n",
              "  color: var(--sklearn-color-text-on-default-background);\n",
              "}\n",
              "\n",
              "/* On hover, darken the color of the background */\n",
              "#sk-container-id-4 div.sk-label:hover label.sk-toggleable__label {\n",
              "  color: var(--sklearn-color-text);\n",
              "  background-color: var(--sklearn-color-unfitted-level-2);\n",
              "}\n",
              "\n",
              "/* Label box, darken color on hover, fitted */\n",
              "#sk-container-id-4 div.sk-label.fitted:hover label.sk-toggleable__label.fitted {\n",
              "  color: var(--sklearn-color-text);\n",
              "  background-color: var(--sklearn-color-fitted-level-2);\n",
              "}\n",
              "\n",
              "/* Estimator label */\n",
              "\n",
              "#sk-container-id-4 div.sk-label label {\n",
              "  font-family: monospace;\n",
              "  font-weight: bold;\n",
              "  display: inline-block;\n",
              "  line-height: 1.2em;\n",
              "}\n",
              "\n",
              "#sk-container-id-4 div.sk-label-container {\n",
              "  text-align: center;\n",
              "}\n",
              "\n",
              "/* Estimator-specific */\n",
              "#sk-container-id-4 div.sk-estimator {\n",
              "  font-family: monospace;\n",
              "  border: 1px dotted var(--sklearn-color-border-box);\n",
              "  border-radius: 0.25em;\n",
              "  box-sizing: border-box;\n",
              "  margin-bottom: 0.5em;\n",
              "  /* unfitted */\n",
              "  background-color: var(--sklearn-color-unfitted-level-0);\n",
              "}\n",
              "\n",
              "#sk-container-id-4 div.sk-estimator.fitted {\n",
              "  /* fitted */\n",
              "  background-color: var(--sklearn-color-fitted-level-0);\n",
              "}\n",
              "\n",
              "/* on hover */\n",
              "#sk-container-id-4 div.sk-estimator:hover {\n",
              "  /* unfitted */\n",
              "  background-color: var(--sklearn-color-unfitted-level-2);\n",
              "}\n",
              "\n",
              "#sk-container-id-4 div.sk-estimator.fitted:hover {\n",
              "  /* fitted */\n",
              "  background-color: var(--sklearn-color-fitted-level-2);\n",
              "}\n",
              "\n",
              "/* Specification for estimator info (e.g. \"i\" and \"?\") */\n",
              "\n",
              "/* Common style for \"i\" and \"?\" */\n",
              "\n",
              ".sk-estimator-doc-link,\n",
              "a:link.sk-estimator-doc-link,\n",
              "a:visited.sk-estimator-doc-link {\n",
              "  float: right;\n",
              "  font-size: smaller;\n",
              "  line-height: 1em;\n",
              "  font-family: monospace;\n",
              "  background-color: var(--sklearn-color-background);\n",
              "  border-radius: 1em;\n",
              "  height: 1em;\n",
              "  width: 1em;\n",
              "  text-decoration: none !important;\n",
              "  margin-left: 0.5em;\n",
              "  text-align: center;\n",
              "  /* unfitted */\n",
              "  border: var(--sklearn-color-unfitted-level-1) 1pt solid;\n",
              "  color: var(--sklearn-color-unfitted-level-1);\n",
              "}\n",
              "\n",
              ".sk-estimator-doc-link.fitted,\n",
              "a:link.sk-estimator-doc-link.fitted,\n",
              "a:visited.sk-estimator-doc-link.fitted {\n",
              "  /* fitted */\n",
              "  border: var(--sklearn-color-fitted-level-1) 1pt solid;\n",
              "  color: var(--sklearn-color-fitted-level-1);\n",
              "}\n",
              "\n",
              "/* On hover */\n",
              "div.sk-estimator:hover .sk-estimator-doc-link:hover,\n",
              ".sk-estimator-doc-link:hover,\n",
              "div.sk-label-container:hover .sk-estimator-doc-link:hover,\n",
              ".sk-estimator-doc-link:hover {\n",
              "  /* unfitted */\n",
              "  background-color: var(--sklearn-color-unfitted-level-3);\n",
              "  color: var(--sklearn-color-background);\n",
              "  text-decoration: none;\n",
              "}\n",
              "\n",
              "div.sk-estimator.fitted:hover .sk-estimator-doc-link.fitted:hover,\n",
              ".sk-estimator-doc-link.fitted:hover,\n",
              "div.sk-label-container:hover .sk-estimator-doc-link.fitted:hover,\n",
              ".sk-estimator-doc-link.fitted:hover {\n",
              "  /* fitted */\n",
              "  background-color: var(--sklearn-color-fitted-level-3);\n",
              "  color: var(--sklearn-color-background);\n",
              "  text-decoration: none;\n",
              "}\n",
              "\n",
              "/* Span, style for the box shown on hovering the info icon */\n",
              ".sk-estimator-doc-link span {\n",
              "  display: none;\n",
              "  z-index: 9999;\n",
              "  position: relative;\n",
              "  font-weight: normal;\n",
              "  right: .2ex;\n",
              "  padding: .5ex;\n",
              "  margin: .5ex;\n",
              "  width: min-content;\n",
              "  min-width: 20ex;\n",
              "  max-width: 50ex;\n",
              "  color: var(--sklearn-color-text);\n",
              "  box-shadow: 2pt 2pt 4pt #999;\n",
              "  /* unfitted */\n",
              "  background: var(--sklearn-color-unfitted-level-0);\n",
              "  border: .5pt solid var(--sklearn-color-unfitted-level-3);\n",
              "}\n",
              "\n",
              ".sk-estimator-doc-link.fitted span {\n",
              "  /* fitted */\n",
              "  background: var(--sklearn-color-fitted-level-0);\n",
              "  border: var(--sklearn-color-fitted-level-3);\n",
              "}\n",
              "\n",
              ".sk-estimator-doc-link:hover span {\n",
              "  display: block;\n",
              "}\n",
              "\n",
              "/* \"?\"-specific style due to the `<a>` HTML tag */\n",
              "\n",
              "#sk-container-id-4 a.estimator_doc_link {\n",
              "  float: right;\n",
              "  font-size: 1rem;\n",
              "  line-height: 1em;\n",
              "  font-family: monospace;\n",
              "  background-color: var(--sklearn-color-background);\n",
              "  border-radius: 1rem;\n",
              "  height: 1rem;\n",
              "  width: 1rem;\n",
              "  text-decoration: none;\n",
              "  /* unfitted */\n",
              "  color: var(--sklearn-color-unfitted-level-1);\n",
              "  border: var(--sklearn-color-unfitted-level-1) 1pt solid;\n",
              "}\n",
              "\n",
              "#sk-container-id-4 a.estimator_doc_link.fitted {\n",
              "  /* fitted */\n",
              "  border: var(--sklearn-color-fitted-level-1) 1pt solid;\n",
              "  color: var(--sklearn-color-fitted-level-1);\n",
              "}\n",
              "\n",
              "/* On hover */\n",
              "#sk-container-id-4 a.estimator_doc_link:hover {\n",
              "  /* unfitted */\n",
              "  background-color: var(--sklearn-color-unfitted-level-3);\n",
              "  color: var(--sklearn-color-background);\n",
              "  text-decoration: none;\n",
              "}\n",
              "\n",
              "#sk-container-id-4 a.estimator_doc_link.fitted:hover {\n",
              "  /* fitted */\n",
              "  background-color: var(--sklearn-color-fitted-level-3);\n",
              "}\n",
              "</style><div id=\"sk-container-id-4\" class=\"sk-top-container\"><div class=\"sk-text-repr-fallback\"><pre>LGBMClassifier(class_weight=&#x27;balanced&#x27;, learning_rate=0.05, n_jobs=-1,\n",
              "               random_state=42)</pre><b>In a Jupyter environment, please rerun this cell to show the HTML representation or trust the notebook. <br />On GitHub, the HTML representation is unable to render, please try loading this page with nbviewer.org.</b></div><div class=\"sk-container\" hidden><div class=\"sk-item\"><div class=\"sk-estimator fitted sk-toggleable\"><input class=\"sk-toggleable__control sk-hidden--visually\" id=\"sk-estimator-id-4\" type=\"checkbox\" checked><label for=\"sk-estimator-id-4\" class=\"sk-toggleable__label fitted sk-toggleable__label-arrow\"><div><div>LGBMClassifier</div></div><div><span class=\"sk-estimator-doc-link fitted\">i<span>Fitted</span></span></div></label><div class=\"sk-toggleable__content fitted\"><pre>LGBMClassifier(class_weight=&#x27;balanced&#x27;, learning_rate=0.05, n_jobs=-1,\n",
              "               random_state=42)</pre></div> </div></div></div></div>"
            ]
          },
          "metadata": {},
          "execution_count": 40
        }
      ],
      "execution_count": 40
    },
    {
      "metadata": {
        "ExecuteTime": {
          "end_time": "2025-05-05T07:14:59.575217Z",
          "start_time": "2025-05-05T07:14:59.550035Z"
        },
        "colab": {
          "base_uri": "https://localhost:8080/"
        },
        "id": "b49b4df6d8946e8f",
        "outputId": "119e0b4e-9866-4379-9ab7-3c0edd536482"
      },
      "cell_type": "code",
      "source": [
        "y_pred = model_lgbm.predict(X_val_scaled)\n",
        "print(\"Accuracy LGBM:\", accuracy_score(y_val_enc, y_pred))\n",
        "print(classification_report(y_val_enc, y_pred, digits=3,\n",
        "                            target_names=['~','A','N','O']))\n"
      ],
      "id": "b49b4df6d8946e8f",
      "outputs": [
        {
          "output_type": "stream",
          "name": "stdout",
          "text": [
            "Accuracy LGBM: 0.5633699633699634\n",
            "              precision    recall  f1-score   support\n",
            "\n",
            "           ~      0.500     0.178     0.262        45\n",
            "           A      0.279     0.099     0.146       121\n",
            "           N      0.626     0.807     0.705       812\n",
            "           O      0.363     0.243     0.291       387\n",
            "\n",
            "    accuracy                          0.563      1365\n",
            "   macro avg      0.442     0.332     0.351      1365\n",
            "weighted avg      0.516     0.563     0.523      1365\n",
            "\n"
          ]
        },
        {
          "output_type": "stream",
          "name": "stderr",
          "text": [
            "/usr/local/lib/python3.11/dist-packages/sklearn/utils/deprecation.py:151: FutureWarning: 'force_all_finite' was renamed to 'ensure_all_finite' in 1.6 and will be removed in 1.8.\n",
            "  warnings.warn(\n"
          ]
        }
      ],
      "execution_count": 41
    },
    {
      "metadata": {
        "id": "48e69fa5e6343d2a"
      },
      "cell_type": "markdown",
      "source": [
        "LightGBM no mejora el trade-off general frente a Random Forest clásico o XGBoost. Sigue siendo muy fuerte para la clase normal, pero captura mal las arritmias y señales ruidosas."
      ],
      "id": "48e69fa5e6343d2a"
    },
    {
      "metadata": {
        "id": "92e5cbe683f07ec9"
      },
      "cell_type": "markdown",
      "source": [
        "## Ejercicio 3: (10 puntos)\n",
        "\n",
        "Diseña un modelo de clasificación de señales ECG utilizando un algoritmo de clustering, como K-Means. Explica los pasos que seguirías para entrenar y validar el modelo y discute cómo podrías evaluar la calidad de la agrupación.\n"
      ],
      "id": "92e5cbe683f07ec9"
    },
    {
      "metadata": {
        "id": "6ff039ecdd66d7d8"
      },
      "cell_type": "markdown",
      "source": [
        "+ Lo interesante de este enfoque es que podemos ver si este enfoque de clustering agrupa naturalmente las señales con patrones semejantes.\n",
        "+ Si los grupos coinciden de cierta forma con nuestras categorías, entonces confirmamos que nuestras categorías si están bien separadas en el espacio de señales."
      ],
      "id": "6ff039ecdd66d7d8"
    },
    {
      "metadata": {
        "id": "b7462e0e65d5287"
      },
      "cell_type": "markdown",
      "source": [
        "+ Para evitar trabajar en un espacio de 9000 dimensiones, vamos a aplicar un PCA y mantendremos por ahora solo 50 componentes principales, más adelante probaremos con más a ver si tiene algún efecto.\n",
        "+ Usaremos un modelo de KMeans con 4 clusters, para nuestras 4 categorías.\n",
        "+ La manera en la que veremos qué tan bien están separados nuestros grupos será con Silhouette Score. Lo que hace es medir que tan bien están agrupados los datos, considerando tanto la cohesión dentro del clúster como la separación entre clústers. La cohesión es qué tan cerca están los puntos dentro del mismo clúster entre sí, y la separación es qué tan lejos están los puntos de un clúster respecto a otros clústers.\n",
        "+ Un valor cercano a 1 indica que nuestros clústers están bien separados."
      ],
      "id": "b7462e0e65d5287"
    },
    {
      "metadata": {
        "ExecuteTime": {
          "end_time": "2025-05-05T07:54:38.128369Z",
          "start_time": "2025-05-05T07:54:36.824085Z"
        },
        "colab": {
          "base_uri": "https://localhost:8080/"
        },
        "id": "db6dfdff343588ce",
        "outputId": "2c028973-20c0-4b54-98e9-86a524f7df8e"
      },
      "cell_type": "code",
      "source": [
        "from sklearn.cluster import KMeans\n",
        "from sklearn.metrics import silhouette_score, adjusted_rand_score\n",
        "\n",
        "pca = PCA(n_components=50, random_state=42)\n",
        "X_red = pca.fit_transform(X_train_scaled)\n",
        "\n",
        "kmeans = KMeans(n_clusters=4, random_state=42)\n",
        "clusters_train = kmeans.fit_predict(X_red)\n",
        "\n",
        "sil_score = silhouette_score(X_red, clusters_train)\n",
        "print(f\"Silhouette score: {sil_score}\")"
      ],
      "id": "db6dfdff343588ce",
      "outputs": [
        {
          "output_type": "stream",
          "name": "stdout",
          "text": [
            "Silhouette score: 0.6554123671931322\n"
          ]
        }
      ],
      "execution_count": 42
    },
    {
      "metadata": {
        "id": "cbabdc654da1086a"
      },
      "cell_type": "markdown",
      "source": [
        "0.65 es razonablemente buen puntaje, sugiere que los grupos internos son cosistentes."
      ],
      "id": "cbabdc654da1086a"
    },
    {
      "metadata": {
        "id": "118804ceaa714053"
      },
      "cell_type": "markdown",
      "source": [
        "+ Ahora vamos a mapear los clusters a clases reales.\n",
        "+ Para poder evaluar K-Means frente a nuestras cuatro etiquetas, tenemos que hacer lo siguiente:\n",
        "  1. En el train, para cada cluster identificamos qué clase real (A, N, O o ~) es la más frecuente en ese cluster.\n",
        "  2. Creamos un diccionario cluster → clase basado en ese reparto mayoritario.\n",
        "  3. Predecimos clusters para el conjunto de validación y los traducimos a etiquetas usando ese diccionario."
      ],
      "id": "118804ceaa714053"
    },
    {
      "metadata": {
        "ExecuteTime": {
          "end_time": "2025-05-05T07:55:22.258946Z",
          "start_time": "2025-05-05T07:55:22.254802Z"
        },
        "id": "53fe2a13fa421b68"
      },
      "cell_type": "code",
      "source": [
        "from collections import Counter, defaultdict\n",
        "\n",
        "cluster_to_label = {}\n",
        "for c in range(4):\n",
        "    idx = np.where(clusters_train == c)[0]\n",
        "    majority = Counter(y_train2[idx]).most_common(1)[0][0]\n",
        "    cluster_to_label[c] = majority\n",
        "\n",
        "# Aplicar mapping\n",
        "y_pred_from_cluster = np.array([ cluster_to_label[c] for c in clusters_train ])"
      ],
      "id": "53fe2a13fa421b68",
      "outputs": [],
      "execution_count": 43
    },
    {
      "metadata": {
        "ExecuteTime": {
          "end_time": "2025-05-05T07:55:28.554668Z",
          "start_time": "2025-05-05T07:55:28.511669Z"
        },
        "colab": {
          "base_uri": "https://localhost:8080/"
        },
        "id": "59574411ae348ac7",
        "outputId": "625702c4-f1cb-407e-ba89-d1fcbcf58619"
      },
      "cell_type": "code",
      "source": [
        "# Transformamos val con PCA y predecimos el clúster\n",
        "X_val_red = pca.transform(X_val_scaled)\n",
        "clusters_val = kmeans.predict(X_val_red)\n",
        "\n",
        "# Traducimos clúster→etiqueta\n",
        "y_val_pred = np.array([ cluster_to_label[c] for c in clusters_val ])\n",
        "\n",
        "# Evaluamos\n",
        "print(classification_report(y_val, y_val_pred))\n",
        "ari = adjusted_rand_score(y_val, clusters_val)\n",
        "print(f\"Adjusted Rand Index: {ari:.3f}\")\n"
      ],
      "id": "59574411ae348ac7",
      "outputs": [
        {
          "output_type": "stream",
          "name": "stdout",
          "text": [
            "              precision    recall  f1-score   support\n",
            "\n",
            "           A       0.00      0.00      0.00       121\n",
            "           N       0.59      1.00      0.75       812\n",
            "           O       0.00      0.00      0.00       387\n",
            "           ~       0.00      0.00      0.00        45\n",
            "\n",
            "    accuracy                           0.59      1365\n",
            "   macro avg       0.15      0.25      0.19      1365\n",
            "weighted avg       0.35      0.59      0.44      1365\n",
            "\n",
            "Adjusted Rand Index: -0.001\n"
          ]
        },
        {
          "output_type": "stream",
          "name": "stderr",
          "text": [
            "/usr/local/lib/python3.11/dist-packages/sklearn/metrics/_classification.py:1565: UndefinedMetricWarning: Precision is ill-defined and being set to 0.0 in labels with no predicted samples. Use `zero_division` parameter to control this behavior.\n",
            "  _warn_prf(average, modifier, f\"{metric.capitalize()} is\", len(result))\n",
            "/usr/local/lib/python3.11/dist-packages/sklearn/metrics/_classification.py:1565: UndefinedMetricWarning: Precision is ill-defined and being set to 0.0 in labels with no predicted samples. Use `zero_division` parameter to control this behavior.\n",
            "  _warn_prf(average, modifier, f\"{metric.capitalize()} is\", len(result))\n",
            "/usr/local/lib/python3.11/dist-packages/sklearn/metrics/_classification.py:1565: UndefinedMetricWarning: Precision is ill-defined and being set to 0.0 in labels with no predicted samples. Use `zero_division` parameter to control this behavior.\n",
            "  _warn_prf(average, modifier, f\"{metric.capitalize()} is\", len(result))\n"
          ]
        }
      ],
      "execution_count": 44
    },
    {
      "metadata": {
        "id": "c541a878ac4446d5"
      },
      "cell_type": "markdown",
      "source": [
        "+ Todos los puntos acaban asignándose al cluster \"N\". Las demás clases no se forman clusters, quedan en 0.\n",
        "+ Aunque nos dio un silhouette score relativamente bueno (0.65), esa medida solo evalúa la separación interna de clusters, sin saber cuántos clusters reales queremos.\n"
      ],
      "id": "c541a878ac4446d5"
    },
    {
      "metadata": {
        "id": "273cb147ed998a92"
      },
      "cell_type": "markdown",
      "source": [
        "## Ejercicio 4: (15 puntos)\n",
        "\n",
        "Utilizando las mismas señales preprocesadas, diseña un modelo de clasificación utilizando una red neuronal convolucional (CNN). Diseña al menos 3 estructuras distintas y selecciona aquella que arroje mejores resultados. Recuerda las diversas estructuras estudiadas en clase. Explica los pasos que seguirías para entrenar y validar el modelo y discute cómo podrías mejorar la precisión del modelo."
      ],
      "id": "273cb147ed998a92"
    },
    {
      "metadata": {
        "id": "2f8e6d0402cfc17c"
      },
      "cell_type": "markdown",
      "source": [
        "### CNN Básica\n",
        "Para las CNNs tenemos que preparar un poco la manera en la que entran los datos al modelo. Las capas `Conv1d` requieren tensores 3-D (n_samples, timesteps, channels).\n",
        "En nuestro caso `timesteps = 9000`y `channels = 1`."
      ],
      "id": "2f8e6d0402cfc17c"
    },
    {
      "metadata": {
        "ExecuteTime": {
          "end_time": "2025-05-05T18:00:29.830886Z",
          "start_time": "2025-05-05T18:00:27.425614Z"
        },
        "colab": {
          "base_uri": "https://localhost:8080/"
        },
        "id": "4506f0d865d4e229",
        "outputId": "46ad73a2-dbfb-483d-bdf4-eea44488b0fd"
      },
      "cell_type": "code",
      "source": [
        "import tensorflow as tf\n",
        "from tensorflow.keras.models import Sequential\n",
        "from tensorflow.keras.layers import Conv1D, MaxPooling1D, Flatten, Dense, Dropout\n",
        "from tensorflow.keras.callbacks import EarlyStopping, ReduceLROnPlateau\n",
        "\n",
        "# 1.2 – Reshape de los datos\n",
        "X_train_cnn = X_train_scaled.reshape(-1, 9000, 1)\n",
        "X_val_cnn   = X_val_scaled.reshape  (-1, 9000, 1)\n",
        "\n",
        "\n",
        "print(\"Train shape:\", X_train_cnn.shape, \"  Labels:\", y_train_enc.shape)\n",
        "print(\" Val  shape:\", X_val_cnn.shape,   \"  Labels:\", y_val_enc.shape)"
      ],
      "id": "4506f0d865d4e229",
      "outputs": [
        {
          "output_type": "stream",
          "name": "stdout",
          "text": [
            "Train shape: (5457, 9000, 1)   Labels: (5457,)\n",
            " Val  shape: (1365, 9000, 1)   Labels: (1365,)\n"
          ]
        }
      ],
      "execution_count": 45
    },
    {
      "metadata": {
        "ExecuteTime": {
          "end_time": "2025-05-05T18:01:39.576671Z",
          "start_time": "2025-05-05T18:01:39.501886Z"
        },
        "colab": {
          "base_uri": "https://localhost:8080/",
          "height": 439
        },
        "id": "c00f885b5018667d",
        "outputId": "2f1066a9-cc1d-4e16-ac28-51fccd35a91d"
      },
      "cell_type": "code",
      "source": [
        "def build_cnn_basic(input_shape, n_classes):\n",
        "    model = Sequential([\n",
        "        Conv1D(32, kernel_size=5, activation='relu', input_shape=input_shape),\n",
        "        MaxPooling1D(pool_size=2),\n",
        "        Conv1D(64, kernel_size=5, activation='relu'),\n",
        "        MaxPooling1D(pool_size=2),\n",
        "        Flatten(),\n",
        "        Dense(100, activation='relu'),\n",
        "        Dropout(0.5),\n",
        "        Dense(n_classes, activation='softmax')\n",
        "    ])\n",
        "    model.compile(\n",
        "        loss='sparse_categorical_crossentropy',\n",
        "        optimizer='adam',\n",
        "        metrics=['accuracy']\n",
        "    )\n",
        "    return model\n",
        "\n",
        "# Instanciar\n",
        "input_shape = (9000, 1)\n",
        "n_classes   = len(np.unique(y_train_enc))  # =4\n",
        "model_cnn   = build_cnn_basic(input_shape, n_classes)\n",
        "model_cnn.summary()\n"
      ],
      "id": "c00f885b5018667d",
      "outputs": [
        {
          "output_type": "stream",
          "name": "stderr",
          "text": [
            "/usr/local/lib/python3.11/dist-packages/keras/src/layers/convolutional/base_conv.py:107: UserWarning: Do not pass an `input_shape`/`input_dim` argument to a layer. When using Sequential models, prefer using an `Input(shape)` object as the first layer in the model instead.\n",
            "  super().__init__(activity_regularizer=activity_regularizer, **kwargs)\n"
          ]
        },
        {
          "output_type": "display_data",
          "data": {
            "text/plain": [
              "\u001b[1mModel: \"sequential\"\u001b[0m\n"
            ],
            "text/html": [
              "<pre style=\"white-space:pre;overflow-x:auto;line-height:normal;font-family:Menlo,'DejaVu Sans Mono',consolas,'Courier New',monospace\"><span style=\"font-weight: bold\">Model: \"sequential\"</span>\n",
              "</pre>\n"
            ]
          },
          "metadata": {}
        },
        {
          "output_type": "display_data",
          "data": {
            "text/plain": [
              "┏━━━━━━━━━━━━━━━━━━━━━━━━━━━━━━━━━┳━━━━━━━━━━━━━━━━━━━━━━━━┳━━━━━━━━━━━━━━━┓\n",
              "┃\u001b[1m \u001b[0m\u001b[1mLayer (type)                   \u001b[0m\u001b[1m \u001b[0m┃\u001b[1m \u001b[0m\u001b[1mOutput Shape          \u001b[0m\u001b[1m \u001b[0m┃\u001b[1m \u001b[0m\u001b[1m      Param #\u001b[0m\u001b[1m \u001b[0m┃\n",
              "┡━━━━━━━━━━━━━━━━━━━━━━━━━━━━━━━━━╇━━━━━━━━━━━━━━━━━━━━━━━━╇━━━━━━━━━━━━━━━┩\n",
              "│ conv1d (\u001b[38;5;33mConv1D\u001b[0m)                 │ (\u001b[38;5;45mNone\u001b[0m, \u001b[38;5;34m8996\u001b[0m, \u001b[38;5;34m32\u001b[0m)       │           \u001b[38;5;34m192\u001b[0m │\n",
              "├─────────────────────────────────┼────────────────────────┼───────────────┤\n",
              "│ max_pooling1d (\u001b[38;5;33mMaxPooling1D\u001b[0m)    │ (\u001b[38;5;45mNone\u001b[0m, \u001b[38;5;34m4498\u001b[0m, \u001b[38;5;34m32\u001b[0m)       │             \u001b[38;5;34m0\u001b[0m │\n",
              "├─────────────────────────────────┼────────────────────────┼───────────────┤\n",
              "│ conv1d_1 (\u001b[38;5;33mConv1D\u001b[0m)               │ (\u001b[38;5;45mNone\u001b[0m, \u001b[38;5;34m4494\u001b[0m, \u001b[38;5;34m64\u001b[0m)       │        \u001b[38;5;34m10,304\u001b[0m │\n",
              "├─────────────────────────────────┼────────────────────────┼───────────────┤\n",
              "│ max_pooling1d_1 (\u001b[38;5;33mMaxPooling1D\u001b[0m)  │ (\u001b[38;5;45mNone\u001b[0m, \u001b[38;5;34m2247\u001b[0m, \u001b[38;5;34m64\u001b[0m)       │             \u001b[38;5;34m0\u001b[0m │\n",
              "├─────────────────────────────────┼────────────────────────┼───────────────┤\n",
              "│ flatten (\u001b[38;5;33mFlatten\u001b[0m)               │ (\u001b[38;5;45mNone\u001b[0m, \u001b[38;5;34m143808\u001b[0m)         │             \u001b[38;5;34m0\u001b[0m │\n",
              "├─────────────────────────────────┼────────────────────────┼───────────────┤\n",
              "│ dense (\u001b[38;5;33mDense\u001b[0m)                   │ (\u001b[38;5;45mNone\u001b[0m, \u001b[38;5;34m100\u001b[0m)            │    \u001b[38;5;34m14,380,900\u001b[0m │\n",
              "├─────────────────────────────────┼────────────────────────┼───────────────┤\n",
              "│ dropout (\u001b[38;5;33mDropout\u001b[0m)               │ (\u001b[38;5;45mNone\u001b[0m, \u001b[38;5;34m100\u001b[0m)            │             \u001b[38;5;34m0\u001b[0m │\n",
              "├─────────────────────────────────┼────────────────────────┼───────────────┤\n",
              "│ dense_1 (\u001b[38;5;33mDense\u001b[0m)                 │ (\u001b[38;5;45mNone\u001b[0m, \u001b[38;5;34m4\u001b[0m)              │           \u001b[38;5;34m404\u001b[0m │\n",
              "└─────────────────────────────────┴────────────────────────┴───────────────┘\n"
            ],
            "text/html": [
              "<pre style=\"white-space:pre;overflow-x:auto;line-height:normal;font-family:Menlo,'DejaVu Sans Mono',consolas,'Courier New',monospace\">┏━━━━━━━━━━━━━━━━━━━━━━━━━━━━━━━━━┳━━━━━━━━━━━━━━━━━━━━━━━━┳━━━━━━━━━━━━━━━┓\n",
              "┃<span style=\"font-weight: bold\"> Layer (type)                    </span>┃<span style=\"font-weight: bold\"> Output Shape           </span>┃<span style=\"font-weight: bold\">       Param # </span>┃\n",
              "┡━━━━━━━━━━━━━━━━━━━━━━━━━━━━━━━━━╇━━━━━━━━━━━━━━━━━━━━━━━━╇━━━━━━━━━━━━━━━┩\n",
              "│ conv1d (<span style=\"color: #0087ff; text-decoration-color: #0087ff\">Conv1D</span>)                 │ (<span style=\"color: #00d7ff; text-decoration-color: #00d7ff\">None</span>, <span style=\"color: #00af00; text-decoration-color: #00af00\">8996</span>, <span style=\"color: #00af00; text-decoration-color: #00af00\">32</span>)       │           <span style=\"color: #00af00; text-decoration-color: #00af00\">192</span> │\n",
              "├─────────────────────────────────┼────────────────────────┼───────────────┤\n",
              "│ max_pooling1d (<span style=\"color: #0087ff; text-decoration-color: #0087ff\">MaxPooling1D</span>)    │ (<span style=\"color: #00d7ff; text-decoration-color: #00d7ff\">None</span>, <span style=\"color: #00af00; text-decoration-color: #00af00\">4498</span>, <span style=\"color: #00af00; text-decoration-color: #00af00\">32</span>)       │             <span style=\"color: #00af00; text-decoration-color: #00af00\">0</span> │\n",
              "├─────────────────────────────────┼────────────────────────┼───────────────┤\n",
              "│ conv1d_1 (<span style=\"color: #0087ff; text-decoration-color: #0087ff\">Conv1D</span>)               │ (<span style=\"color: #00d7ff; text-decoration-color: #00d7ff\">None</span>, <span style=\"color: #00af00; text-decoration-color: #00af00\">4494</span>, <span style=\"color: #00af00; text-decoration-color: #00af00\">64</span>)       │        <span style=\"color: #00af00; text-decoration-color: #00af00\">10,304</span> │\n",
              "├─────────────────────────────────┼────────────────────────┼───────────────┤\n",
              "│ max_pooling1d_1 (<span style=\"color: #0087ff; text-decoration-color: #0087ff\">MaxPooling1D</span>)  │ (<span style=\"color: #00d7ff; text-decoration-color: #00d7ff\">None</span>, <span style=\"color: #00af00; text-decoration-color: #00af00\">2247</span>, <span style=\"color: #00af00; text-decoration-color: #00af00\">64</span>)       │             <span style=\"color: #00af00; text-decoration-color: #00af00\">0</span> │\n",
              "├─────────────────────────────────┼────────────────────────┼───────────────┤\n",
              "│ flatten (<span style=\"color: #0087ff; text-decoration-color: #0087ff\">Flatten</span>)               │ (<span style=\"color: #00d7ff; text-decoration-color: #00d7ff\">None</span>, <span style=\"color: #00af00; text-decoration-color: #00af00\">143808</span>)         │             <span style=\"color: #00af00; text-decoration-color: #00af00\">0</span> │\n",
              "├─────────────────────────────────┼────────────────────────┼───────────────┤\n",
              "│ dense (<span style=\"color: #0087ff; text-decoration-color: #0087ff\">Dense</span>)                   │ (<span style=\"color: #00d7ff; text-decoration-color: #00d7ff\">None</span>, <span style=\"color: #00af00; text-decoration-color: #00af00\">100</span>)            │    <span style=\"color: #00af00; text-decoration-color: #00af00\">14,380,900</span> │\n",
              "├─────────────────────────────────┼────────────────────────┼───────────────┤\n",
              "│ dropout (<span style=\"color: #0087ff; text-decoration-color: #0087ff\">Dropout</span>)               │ (<span style=\"color: #00d7ff; text-decoration-color: #00d7ff\">None</span>, <span style=\"color: #00af00; text-decoration-color: #00af00\">100</span>)            │             <span style=\"color: #00af00; text-decoration-color: #00af00\">0</span> │\n",
              "├─────────────────────────────────┼────────────────────────┼───────────────┤\n",
              "│ dense_1 (<span style=\"color: #0087ff; text-decoration-color: #0087ff\">Dense</span>)                 │ (<span style=\"color: #00d7ff; text-decoration-color: #00d7ff\">None</span>, <span style=\"color: #00af00; text-decoration-color: #00af00\">4</span>)              │           <span style=\"color: #00af00; text-decoration-color: #00af00\">404</span> │\n",
              "└─────────────────────────────────┴────────────────────────┴───────────────┘\n",
              "</pre>\n"
            ]
          },
          "metadata": {}
        },
        {
          "output_type": "display_data",
          "data": {
            "text/plain": [
              "\u001b[1m Total params: \u001b[0m\u001b[38;5;34m14,391,800\u001b[0m (54.90 MB)\n"
            ],
            "text/html": [
              "<pre style=\"white-space:pre;overflow-x:auto;line-height:normal;font-family:Menlo,'DejaVu Sans Mono',consolas,'Courier New',monospace\"><span style=\"font-weight: bold\"> Total params: </span><span style=\"color: #00af00; text-decoration-color: #00af00\">14,391,800</span> (54.90 MB)\n",
              "</pre>\n"
            ]
          },
          "metadata": {}
        },
        {
          "output_type": "display_data",
          "data": {
            "text/plain": [
              "\u001b[1m Trainable params: \u001b[0m\u001b[38;5;34m14,391,800\u001b[0m (54.90 MB)\n"
            ],
            "text/html": [
              "<pre style=\"white-space:pre;overflow-x:auto;line-height:normal;font-family:Menlo,'DejaVu Sans Mono',consolas,'Courier New',monospace\"><span style=\"font-weight: bold\"> Trainable params: </span><span style=\"color: #00af00; text-decoration-color: #00af00\">14,391,800</span> (54.90 MB)\n",
              "</pre>\n"
            ]
          },
          "metadata": {}
        },
        {
          "output_type": "display_data",
          "data": {
            "text/plain": [
              "\u001b[1m Non-trainable params: \u001b[0m\u001b[38;5;34m0\u001b[0m (0.00 B)\n"
            ],
            "text/html": [
              "<pre style=\"white-space:pre;overflow-x:auto;line-height:normal;font-family:Menlo,'DejaVu Sans Mono',consolas,'Courier New',monospace\"><span style=\"font-weight: bold\"> Non-trainable params: </span><span style=\"color: #00af00; text-decoration-color: #00af00\">0</span> (0.00 B)\n",
              "</pre>\n"
            ]
          },
          "metadata": {}
        }
      ],
      "execution_count": 46
    },
    {
      "metadata": {
        "ExecuteTime": {
          "end_time": "2025-05-05T18:20:08.750631Z",
          "start_time": "2025-05-05T18:17:59.741363Z"
        },
        "colab": {
          "base_uri": "https://localhost:8080/"
        },
        "id": "6c03f62fb1d41b34",
        "outputId": "76266ca1-870c-4ad0-f5d5-98ca39d53ad1"
      },
      "cell_type": "code",
      "source": [
        "# 3.1 – Callbacks\n",
        "rlrop   = ReduceLROnPlateau(monitor='val_loss', factor=0.5, patience=3, min_lr=1e-5)\n",
        "\n",
        "# 3.2 – Entrenamiento corto de prueba\n",
        "history = model_cnn.fit(\n",
        "    X_train_cnn, y_train_enc,\n",
        "    validation_data=(X_val_cnn, y_val_enc),\n",
        "    epochs=10, batch_size=32,\n",
        "    callbacks=[rlrop],\n",
        "    verbose=1\n",
        ")\n"
      ],
      "id": "6c03f62fb1d41b34",
      "outputs": [
        {
          "output_type": "stream",
          "name": "stdout",
          "text": [
            "Epoch 1/10\n",
            "\u001b[1m171/171\u001b[0m \u001b[32m━━━━━━━━━━━━━━━━━━━━\u001b[0m\u001b[37m\u001b[0m \u001b[1m11s\u001b[0m 33ms/step - accuracy: 0.5592 - loss: 1.6539 - val_accuracy: 0.5949 - val_loss: 0.9622 - learning_rate: 0.0010\n",
            "Epoch 2/10\n",
            "\u001b[1m171/171\u001b[0m \u001b[32m━━━━━━━━━━━━━━━━━━━━\u001b[0m\u001b[37m\u001b[0m \u001b[1m2s\u001b[0m 11ms/step - accuracy: 0.5956 - loss: 0.9674 - val_accuracy: 0.5949 - val_loss: 0.9799 - learning_rate: 0.0010\n",
            "Epoch 3/10\n",
            "\u001b[1m171/171\u001b[0m \u001b[32m━━━━━━━━━━━━━━━━━━━━\u001b[0m\u001b[37m\u001b[0m \u001b[1m2s\u001b[0m 11ms/step - accuracy: 0.6172 - loss: 0.8770 - val_accuracy: 0.5883 - val_loss: 0.9762 - learning_rate: 0.0010\n",
            "Epoch 4/10\n",
            "\u001b[1m171/171\u001b[0m \u001b[32m━━━━━━━━━━━━━━━━━━━━\u001b[0m\u001b[37m\u001b[0m \u001b[1m2s\u001b[0m 11ms/step - accuracy: 0.6866 - loss: 0.7271 - val_accuracy: 0.5582 - val_loss: 1.0398 - learning_rate: 0.0010\n",
            "Epoch 5/10\n",
            "\u001b[1m171/171\u001b[0m \u001b[32m━━━━━━━━━━━━━━━━━━━━\u001b[0m\u001b[37m\u001b[0m \u001b[1m2s\u001b[0m 11ms/step - accuracy: 0.7515 - loss: 0.5841 - val_accuracy: 0.5626 - val_loss: 1.1777 - learning_rate: 5.0000e-04\n",
            "Epoch 6/10\n",
            "\u001b[1m171/171\u001b[0m \u001b[32m━━━━━━━━━━━━━━━━━━━━\u001b[0m\u001b[37m\u001b[0m \u001b[1m2s\u001b[0m 11ms/step - accuracy: 0.8119 - loss: 0.4623 - val_accuracy: 0.5194 - val_loss: 1.3192 - learning_rate: 5.0000e-04\n",
            "Epoch 7/10\n",
            "\u001b[1m171/171\u001b[0m \u001b[32m━━━━━━━━━━━━━━━━━━━━\u001b[0m\u001b[37m\u001b[0m \u001b[1m2s\u001b[0m 11ms/step - accuracy: 0.8562 - loss: 0.3640 - val_accuracy: 0.5348 - val_loss: 1.5387 - learning_rate: 5.0000e-04\n",
            "Epoch 8/10\n",
            "\u001b[1m171/171\u001b[0m \u001b[32m━━━━━━━━━━━━━━━━━━━━\u001b[0m\u001b[37m\u001b[0m \u001b[1m2s\u001b[0m 11ms/step - accuracy: 0.8929 - loss: 0.2999 - val_accuracy: 0.5333 - val_loss: 1.6957 - learning_rate: 2.5000e-04\n",
            "Epoch 9/10\n",
            "\u001b[1m171/171\u001b[0m \u001b[32m━━━━━━━━━━━━━━━━━━━━\u001b[0m\u001b[37m\u001b[0m \u001b[1m2s\u001b[0m 11ms/step - accuracy: 0.9020 - loss: 0.2601 - val_accuracy: 0.5245 - val_loss: 1.7606 - learning_rate: 2.5000e-04\n",
            "Epoch 10/10\n",
            "\u001b[1m171/171\u001b[0m \u001b[32m━━━━━━━━━━━━━━━━━━━━\u001b[0m\u001b[37m\u001b[0m \u001b[1m2s\u001b[0m 11ms/step - accuracy: 0.9215 - loss: 0.2121 - val_accuracy: 0.5223 - val_loss: 1.9829 - learning_rate: 2.5000e-04\n"
          ]
        }
      ],
      "execution_count": 47
    },
    {
      "metadata": {
        "ExecuteTime": {
          "end_time": "2025-05-05T18:25:53.708524Z",
          "start_time": "2025-05-05T18:25:53.050870Z"
        },
        "colab": {
          "base_uri": "https://localhost:8080/"
        },
        "id": "65a214940aa2c468",
        "outputId": "d17ce813-d4d5-4719-c450-974b38a1c979"
      },
      "cell_type": "code",
      "source": [
        "train_acc = history.history['accuracy'][-1]\n",
        "train_loss = history.history['loss'][-1]\n",
        "val_acc = history.history['val_accuracy'][-1]\n",
        "val_loss = history.history['val_loss'][-1]\n",
        "\n",
        "print(\"Train accuracy:\", train_acc)\n",
        "y_prob = model_cnn.predict(X_val_cnn)\n",
        "y_pred_enc = np.argmax(y_prob, axis=1)\n",
        "\n",
        "print(\"Classification Report:\")\n",
        "print(classification_report(y_val_enc, y_pred_enc, digits=4,target_names=['~','A','N','O']))"
      ],
      "id": "65a214940aa2c468",
      "outputs": [
        {
          "output_type": "stream",
          "name": "stdout",
          "text": [
            "Train accuracy: 0.9206523895263672\n",
            "\u001b[1m43/43\u001b[0m \u001b[32m━━━━━━━━━━━━━━━━━━━━\u001b[0m\u001b[37m\u001b[0m \u001b[1m1s\u001b[0m 11ms/step\n",
            "Classification Report:\n",
            "              precision    recall  f1-score   support\n",
            "\n",
            "           ~     0.2000    0.0222    0.0400        45\n",
            "           A     0.2424    0.0661    0.1039       121\n",
            "           N     0.6131    0.7278    0.6655       812\n",
            "           O     0.3113    0.2920    0.3013       387\n",
            "\n",
            "    accuracy                         0.5223      1365\n",
            "   macro avg     0.3417    0.2770    0.2777      1365\n",
            "weighted avg     0.4810    0.5223    0.4919      1365\n",
            "\n"
          ]
        }
      ],
      "execution_count": 48
    },
    {
      "metadata": {
        "id": "1e92b5ba7244a60a"
      },
      "cell_type": "markdown",
      "source": [
        "Vemos una clara señal de sobreajuste, en el train obtuvimos 98% y en Val obtuvimos 54%. No estamos generalizando. Para nuestro segundo modelo vamos a aumentar el dropout para que se regularice más fuerte la red y le meteremos `Batch Normalization` que normaliza la salida de cada capa para que tenga media de 0 y varianza 1 durante el entrenamiento."
      ],
      "id": "1e92b5ba7244a60a"
    },
    {
      "metadata": {
        "ExecuteTime": {
          "end_time": "2025-05-05T18:51:23.577091Z",
          "start_time": "2025-05-05T18:51:23.570731Z"
        },
        "id": "59a6ab76864de0e2"
      },
      "cell_type": "code",
      "source": [
        "from tensorflow.keras.layers import (\n",
        "    Conv1D, BatchNormalization, MaxPooling1D,\n",
        "    Flatten, Dense, Dropout\n",
        ")\n",
        "from tensorflow.keras.callbacks import ReduceLROnPlateau\n",
        "\n",
        "def build_cnn_bn_dropout(input_shape, n_classes):\n",
        "    model = Sequential([\n",
        "        # Capa convolucional inicial\n",
        "        Conv1D(32, kernel_size=5, activation='relu', input_shape=input_shape),\n",
        "        BatchNormalization(),\n",
        "        MaxPooling1D(pool_size=2),\n",
        "\n",
        "        # Segunda capa convolucional\n",
        "        Conv1D(64, kernel_size=5, activation='relu'),\n",
        "        BatchNormalization(),\n",
        "        MaxPooling1D(pool_size=2),\n",
        "\n",
        "        # Tercera capa para extraer más características\n",
        "        Conv1D(128, kernel_size=3, activation='relu'),\n",
        "        BatchNormalization(),\n",
        "        MaxPooling1D(pool_size=2),\n",
        "\n",
        "        # Aplanamos y pasamos a capas densas\n",
        "        Flatten(),\n",
        "        Dense(128, activation='relu'),\n",
        "        Dropout(0.6),\n",
        "\n",
        "        # Capa de salida\n",
        "        Dense(n_classes, activation='softmax')\n",
        "    ])\n",
        "    model.compile(\n",
        "        loss='sparse_categorical_crossentropy',\n",
        "        optimizer='adam',\n",
        "        metrics=['accuracy']\n",
        "    )\n",
        "    return model"
      ],
      "id": "59a6ab76864de0e2",
      "outputs": [],
      "execution_count": 49
    },
    {
      "metadata": {
        "ExecuteTime": {
          "end_time": "2025-05-05T18:52:13.352449Z",
          "start_time": "2025-05-05T18:52:13.280029Z"
        },
        "colab": {
          "base_uri": "https://localhost:8080/",
          "height": 647
        },
        "id": "8398bbe2bd66a943",
        "outputId": "51264729-1694-4daf-9240-f4129ee0c591"
      },
      "cell_type": "code",
      "source": [
        "# Instanciamos y mostramos resumen\n",
        "input_shape = (9000, 1)\n",
        "n_classes   = len(np.unique(y_train_enc))  # 4 clases\n",
        "\n",
        "model_cnn2 = build_cnn_bn_dropout(input_shape, n_classes)\n",
        "model_cnn2.summary()\n"
      ],
      "id": "8398bbe2bd66a943",
      "outputs": [
        {
          "output_type": "stream",
          "name": "stderr",
          "text": [
            "/usr/local/lib/python3.11/dist-packages/keras/src/layers/convolutional/base_conv.py:107: UserWarning: Do not pass an `input_shape`/`input_dim` argument to a layer. When using Sequential models, prefer using an `Input(shape)` object as the first layer in the model instead.\n",
            "  super().__init__(activity_regularizer=activity_regularizer, **kwargs)\n"
          ]
        },
        {
          "output_type": "display_data",
          "data": {
            "text/plain": [
              "\u001b[1mModel: \"sequential_1\"\u001b[0m\n"
            ],
            "text/html": [
              "<pre style=\"white-space:pre;overflow-x:auto;line-height:normal;font-family:Menlo,'DejaVu Sans Mono',consolas,'Courier New',monospace\"><span style=\"font-weight: bold\">Model: \"sequential_1\"</span>\n",
              "</pre>\n"
            ]
          },
          "metadata": {}
        },
        {
          "output_type": "display_data",
          "data": {
            "text/plain": [
              "┏━━━━━━━━━━━━━━━━━━━━━━━━━━━━━━━━━┳━━━━━━━━━━━━━━━━━━━━━━━━┳━━━━━━━━━━━━━━━┓\n",
              "┃\u001b[1m \u001b[0m\u001b[1mLayer (type)                   \u001b[0m\u001b[1m \u001b[0m┃\u001b[1m \u001b[0m\u001b[1mOutput Shape          \u001b[0m\u001b[1m \u001b[0m┃\u001b[1m \u001b[0m\u001b[1m      Param #\u001b[0m\u001b[1m \u001b[0m┃\n",
              "┡━━━━━━━━━━━━━━━━━━━━━━━━━━━━━━━━━╇━━━━━━━━━━━━━━━━━━━━━━━━╇━━━━━━━━━━━━━━━┩\n",
              "│ conv1d_2 (\u001b[38;5;33mConv1D\u001b[0m)               │ (\u001b[38;5;45mNone\u001b[0m, \u001b[38;5;34m8996\u001b[0m, \u001b[38;5;34m32\u001b[0m)       │           \u001b[38;5;34m192\u001b[0m │\n",
              "├─────────────────────────────────┼────────────────────────┼───────────────┤\n",
              "│ batch_normalization             │ (\u001b[38;5;45mNone\u001b[0m, \u001b[38;5;34m8996\u001b[0m, \u001b[38;5;34m32\u001b[0m)       │           \u001b[38;5;34m128\u001b[0m │\n",
              "│ (\u001b[38;5;33mBatchNormalization\u001b[0m)            │                        │               │\n",
              "├─────────────────────────────────┼────────────────────────┼───────────────┤\n",
              "│ max_pooling1d_2 (\u001b[38;5;33mMaxPooling1D\u001b[0m)  │ (\u001b[38;5;45mNone\u001b[0m, \u001b[38;5;34m4498\u001b[0m, \u001b[38;5;34m32\u001b[0m)       │             \u001b[38;5;34m0\u001b[0m │\n",
              "├─────────────────────────────────┼────────────────────────┼───────────────┤\n",
              "│ conv1d_3 (\u001b[38;5;33mConv1D\u001b[0m)               │ (\u001b[38;5;45mNone\u001b[0m, \u001b[38;5;34m4494\u001b[0m, \u001b[38;5;34m64\u001b[0m)       │        \u001b[38;5;34m10,304\u001b[0m │\n",
              "├─────────────────────────────────┼────────────────────────┼───────────────┤\n",
              "│ batch_normalization_1           │ (\u001b[38;5;45mNone\u001b[0m, \u001b[38;5;34m4494\u001b[0m, \u001b[38;5;34m64\u001b[0m)       │           \u001b[38;5;34m256\u001b[0m │\n",
              "│ (\u001b[38;5;33mBatchNormalization\u001b[0m)            │                        │               │\n",
              "├─────────────────────────────────┼────────────────────────┼───────────────┤\n",
              "│ max_pooling1d_3 (\u001b[38;5;33mMaxPooling1D\u001b[0m)  │ (\u001b[38;5;45mNone\u001b[0m, \u001b[38;5;34m2247\u001b[0m, \u001b[38;5;34m64\u001b[0m)       │             \u001b[38;5;34m0\u001b[0m │\n",
              "├─────────────────────────────────┼────────────────────────┼───────────────┤\n",
              "│ conv1d_4 (\u001b[38;5;33mConv1D\u001b[0m)               │ (\u001b[38;5;45mNone\u001b[0m, \u001b[38;5;34m2245\u001b[0m, \u001b[38;5;34m128\u001b[0m)      │        \u001b[38;5;34m24,704\u001b[0m │\n",
              "├─────────────────────────────────┼────────────────────────┼───────────────┤\n",
              "│ batch_normalization_2           │ (\u001b[38;5;45mNone\u001b[0m, \u001b[38;5;34m2245\u001b[0m, \u001b[38;5;34m128\u001b[0m)      │           \u001b[38;5;34m512\u001b[0m │\n",
              "│ (\u001b[38;5;33mBatchNormalization\u001b[0m)            │                        │               │\n",
              "├─────────────────────────────────┼────────────────────────┼───────────────┤\n",
              "│ max_pooling1d_4 (\u001b[38;5;33mMaxPooling1D\u001b[0m)  │ (\u001b[38;5;45mNone\u001b[0m, \u001b[38;5;34m1122\u001b[0m, \u001b[38;5;34m128\u001b[0m)      │             \u001b[38;5;34m0\u001b[0m │\n",
              "├─────────────────────────────────┼────────────────────────┼───────────────┤\n",
              "│ flatten_1 (\u001b[38;5;33mFlatten\u001b[0m)             │ (\u001b[38;5;45mNone\u001b[0m, \u001b[38;5;34m143616\u001b[0m)         │             \u001b[38;5;34m0\u001b[0m │\n",
              "├─────────────────────────────────┼────────────────────────┼───────────────┤\n",
              "│ dense_2 (\u001b[38;5;33mDense\u001b[0m)                 │ (\u001b[38;5;45mNone\u001b[0m, \u001b[38;5;34m128\u001b[0m)            │    \u001b[38;5;34m18,382,976\u001b[0m │\n",
              "├─────────────────────────────────┼────────────────────────┼───────────────┤\n",
              "│ dropout_1 (\u001b[38;5;33mDropout\u001b[0m)             │ (\u001b[38;5;45mNone\u001b[0m, \u001b[38;5;34m128\u001b[0m)            │             \u001b[38;5;34m0\u001b[0m │\n",
              "├─────────────────────────────────┼────────────────────────┼───────────────┤\n",
              "│ dense_3 (\u001b[38;5;33mDense\u001b[0m)                 │ (\u001b[38;5;45mNone\u001b[0m, \u001b[38;5;34m4\u001b[0m)              │           \u001b[38;5;34m516\u001b[0m │\n",
              "└─────────────────────────────────┴────────────────────────┴───────────────┘\n"
            ],
            "text/html": [
              "<pre style=\"white-space:pre;overflow-x:auto;line-height:normal;font-family:Menlo,'DejaVu Sans Mono',consolas,'Courier New',monospace\">┏━━━━━━━━━━━━━━━━━━━━━━━━━━━━━━━━━┳━━━━━━━━━━━━━━━━━━━━━━━━┳━━━━━━━━━━━━━━━┓\n",
              "┃<span style=\"font-weight: bold\"> Layer (type)                    </span>┃<span style=\"font-weight: bold\"> Output Shape           </span>┃<span style=\"font-weight: bold\">       Param # </span>┃\n",
              "┡━━━━━━━━━━━━━━━━━━━━━━━━━━━━━━━━━╇━━━━━━━━━━━━━━━━━━━━━━━━╇━━━━━━━━━━━━━━━┩\n",
              "│ conv1d_2 (<span style=\"color: #0087ff; text-decoration-color: #0087ff\">Conv1D</span>)               │ (<span style=\"color: #00d7ff; text-decoration-color: #00d7ff\">None</span>, <span style=\"color: #00af00; text-decoration-color: #00af00\">8996</span>, <span style=\"color: #00af00; text-decoration-color: #00af00\">32</span>)       │           <span style=\"color: #00af00; text-decoration-color: #00af00\">192</span> │\n",
              "├─────────────────────────────────┼────────────────────────┼───────────────┤\n",
              "│ batch_normalization             │ (<span style=\"color: #00d7ff; text-decoration-color: #00d7ff\">None</span>, <span style=\"color: #00af00; text-decoration-color: #00af00\">8996</span>, <span style=\"color: #00af00; text-decoration-color: #00af00\">32</span>)       │           <span style=\"color: #00af00; text-decoration-color: #00af00\">128</span> │\n",
              "│ (<span style=\"color: #0087ff; text-decoration-color: #0087ff\">BatchNormalization</span>)            │                        │               │\n",
              "├─────────────────────────────────┼────────────────────────┼───────────────┤\n",
              "│ max_pooling1d_2 (<span style=\"color: #0087ff; text-decoration-color: #0087ff\">MaxPooling1D</span>)  │ (<span style=\"color: #00d7ff; text-decoration-color: #00d7ff\">None</span>, <span style=\"color: #00af00; text-decoration-color: #00af00\">4498</span>, <span style=\"color: #00af00; text-decoration-color: #00af00\">32</span>)       │             <span style=\"color: #00af00; text-decoration-color: #00af00\">0</span> │\n",
              "├─────────────────────────────────┼────────────────────────┼───────────────┤\n",
              "│ conv1d_3 (<span style=\"color: #0087ff; text-decoration-color: #0087ff\">Conv1D</span>)               │ (<span style=\"color: #00d7ff; text-decoration-color: #00d7ff\">None</span>, <span style=\"color: #00af00; text-decoration-color: #00af00\">4494</span>, <span style=\"color: #00af00; text-decoration-color: #00af00\">64</span>)       │        <span style=\"color: #00af00; text-decoration-color: #00af00\">10,304</span> │\n",
              "├─────────────────────────────────┼────────────────────────┼───────────────┤\n",
              "│ batch_normalization_1           │ (<span style=\"color: #00d7ff; text-decoration-color: #00d7ff\">None</span>, <span style=\"color: #00af00; text-decoration-color: #00af00\">4494</span>, <span style=\"color: #00af00; text-decoration-color: #00af00\">64</span>)       │           <span style=\"color: #00af00; text-decoration-color: #00af00\">256</span> │\n",
              "│ (<span style=\"color: #0087ff; text-decoration-color: #0087ff\">BatchNormalization</span>)            │                        │               │\n",
              "├─────────────────────────────────┼────────────────────────┼───────────────┤\n",
              "│ max_pooling1d_3 (<span style=\"color: #0087ff; text-decoration-color: #0087ff\">MaxPooling1D</span>)  │ (<span style=\"color: #00d7ff; text-decoration-color: #00d7ff\">None</span>, <span style=\"color: #00af00; text-decoration-color: #00af00\">2247</span>, <span style=\"color: #00af00; text-decoration-color: #00af00\">64</span>)       │             <span style=\"color: #00af00; text-decoration-color: #00af00\">0</span> │\n",
              "├─────────────────────────────────┼────────────────────────┼───────────────┤\n",
              "│ conv1d_4 (<span style=\"color: #0087ff; text-decoration-color: #0087ff\">Conv1D</span>)               │ (<span style=\"color: #00d7ff; text-decoration-color: #00d7ff\">None</span>, <span style=\"color: #00af00; text-decoration-color: #00af00\">2245</span>, <span style=\"color: #00af00; text-decoration-color: #00af00\">128</span>)      │        <span style=\"color: #00af00; text-decoration-color: #00af00\">24,704</span> │\n",
              "├─────────────────────────────────┼────────────────────────┼───────────────┤\n",
              "│ batch_normalization_2           │ (<span style=\"color: #00d7ff; text-decoration-color: #00d7ff\">None</span>, <span style=\"color: #00af00; text-decoration-color: #00af00\">2245</span>, <span style=\"color: #00af00; text-decoration-color: #00af00\">128</span>)      │           <span style=\"color: #00af00; text-decoration-color: #00af00\">512</span> │\n",
              "│ (<span style=\"color: #0087ff; text-decoration-color: #0087ff\">BatchNormalization</span>)            │                        │               │\n",
              "├─────────────────────────────────┼────────────────────────┼───────────────┤\n",
              "│ max_pooling1d_4 (<span style=\"color: #0087ff; text-decoration-color: #0087ff\">MaxPooling1D</span>)  │ (<span style=\"color: #00d7ff; text-decoration-color: #00d7ff\">None</span>, <span style=\"color: #00af00; text-decoration-color: #00af00\">1122</span>, <span style=\"color: #00af00; text-decoration-color: #00af00\">128</span>)      │             <span style=\"color: #00af00; text-decoration-color: #00af00\">0</span> │\n",
              "├─────────────────────────────────┼────────────────────────┼───────────────┤\n",
              "│ flatten_1 (<span style=\"color: #0087ff; text-decoration-color: #0087ff\">Flatten</span>)             │ (<span style=\"color: #00d7ff; text-decoration-color: #00d7ff\">None</span>, <span style=\"color: #00af00; text-decoration-color: #00af00\">143616</span>)         │             <span style=\"color: #00af00; text-decoration-color: #00af00\">0</span> │\n",
              "├─────────────────────────────────┼────────────────────────┼───────────────┤\n",
              "│ dense_2 (<span style=\"color: #0087ff; text-decoration-color: #0087ff\">Dense</span>)                 │ (<span style=\"color: #00d7ff; text-decoration-color: #00d7ff\">None</span>, <span style=\"color: #00af00; text-decoration-color: #00af00\">128</span>)            │    <span style=\"color: #00af00; text-decoration-color: #00af00\">18,382,976</span> │\n",
              "├─────────────────────────────────┼────────────────────────┼───────────────┤\n",
              "│ dropout_1 (<span style=\"color: #0087ff; text-decoration-color: #0087ff\">Dropout</span>)             │ (<span style=\"color: #00d7ff; text-decoration-color: #00d7ff\">None</span>, <span style=\"color: #00af00; text-decoration-color: #00af00\">128</span>)            │             <span style=\"color: #00af00; text-decoration-color: #00af00\">0</span> │\n",
              "├─────────────────────────────────┼────────────────────────┼───────────────┤\n",
              "│ dense_3 (<span style=\"color: #0087ff; text-decoration-color: #0087ff\">Dense</span>)                 │ (<span style=\"color: #00d7ff; text-decoration-color: #00d7ff\">None</span>, <span style=\"color: #00af00; text-decoration-color: #00af00\">4</span>)              │           <span style=\"color: #00af00; text-decoration-color: #00af00\">516</span> │\n",
              "└─────────────────────────────────┴────────────────────────┴───────────────┘\n",
              "</pre>\n"
            ]
          },
          "metadata": {}
        },
        {
          "output_type": "display_data",
          "data": {
            "text/plain": [
              "\u001b[1m Total params: \u001b[0m\u001b[38;5;34m18,419,588\u001b[0m (70.27 MB)\n"
            ],
            "text/html": [
              "<pre style=\"white-space:pre;overflow-x:auto;line-height:normal;font-family:Menlo,'DejaVu Sans Mono',consolas,'Courier New',monospace\"><span style=\"font-weight: bold\"> Total params: </span><span style=\"color: #00af00; text-decoration-color: #00af00\">18,419,588</span> (70.27 MB)\n",
              "</pre>\n"
            ]
          },
          "metadata": {}
        },
        {
          "output_type": "display_data",
          "data": {
            "text/plain": [
              "\u001b[1m Trainable params: \u001b[0m\u001b[38;5;34m18,419,140\u001b[0m (70.26 MB)\n"
            ],
            "text/html": [
              "<pre style=\"white-space:pre;overflow-x:auto;line-height:normal;font-family:Menlo,'DejaVu Sans Mono',consolas,'Courier New',monospace\"><span style=\"font-weight: bold\"> Trainable params: </span><span style=\"color: #00af00; text-decoration-color: #00af00\">18,419,140</span> (70.26 MB)\n",
              "</pre>\n"
            ]
          },
          "metadata": {}
        },
        {
          "output_type": "display_data",
          "data": {
            "text/plain": [
              "\u001b[1m Non-trainable params: \u001b[0m\u001b[38;5;34m448\u001b[0m (1.75 KB)\n"
            ],
            "text/html": [
              "<pre style=\"white-space:pre;overflow-x:auto;line-height:normal;font-family:Menlo,'DejaVu Sans Mono',consolas,'Courier New',monospace\"><span style=\"font-weight: bold\"> Non-trainable params: </span><span style=\"color: #00af00; text-decoration-color: #00af00\">448</span> (1.75 KB)\n",
              "</pre>\n"
            ]
          },
          "metadata": {}
        }
      ],
      "execution_count": 50
    },
    {
      "metadata": {
        "ExecuteTime": {
          "end_time": "2025-05-05T18:52:36.959500Z",
          "start_time": "2025-05-05T18:52:36.956512Z"
        },
        "id": "e4e3934a4b1d0b88"
      },
      "cell_type": "code",
      "source": [
        "# Callbacks para ajustar tasa de aprendizaje\n",
        "rlrop = ReduceLROnPlateau(\n",
        "    monitor='val_loss', factor=0.5,\n",
        "    patience=5, min_lr=1e-5, verbose=1\n",
        ")\n"
      ],
      "id": "e4e3934a4b1d0b88",
      "outputs": [],
      "execution_count": 51
    },
    {
      "metadata": {
        "ExecuteTime": {
          "end_time": "2025-05-05T18:57:37.857161Z",
          "start_time": "2025-05-05T18:52:46.343278Z"
        },
        "colab": {
          "base_uri": "https://localhost:8080/"
        },
        "id": "4d72a99efbf889da",
        "outputId": "d9461288-fd9e-4b28-f908-0744863482eb"
      },
      "cell_type": "code",
      "source": [
        "# Entrenamiento de prueba\n",
        "history2 = model_cnn2.fit(\n",
        "    X_train_cnn, y_train_enc,\n",
        "    validation_data=(X_val_cnn, y_val_enc),\n",
        "    epochs=10, batch_size=32,\n",
        "    callbacks=[rlrop],\n",
        "    verbose=1\n",
        ")"
      ],
      "id": "4d72a99efbf889da",
      "outputs": [
        {
          "output_type": "stream",
          "name": "stdout",
          "text": [
            "Epoch 1/10\n",
            "\u001b[1m171/171\u001b[0m \u001b[32m━━━━━━━━━━━━━━━━━━━━\u001b[0m\u001b[37m\u001b[0m \u001b[1m13s\u001b[0m 41ms/step - accuracy: 0.4665 - loss: 6.1507 - val_accuracy: 0.5941 - val_loss: 9.4669 - learning_rate: 0.0010\n",
            "Epoch 2/10\n",
            "\u001b[1m171/171\u001b[0m \u001b[32m━━━━━━━━━━━━━━━━━━━━\u001b[0m\u001b[37m\u001b[0m \u001b[1m2s\u001b[0m 14ms/step - accuracy: 0.5825 - loss: 1.2050 - val_accuracy: 0.5934 - val_loss: 7.9881 - learning_rate: 0.0010\n",
            "Epoch 3/10\n",
            "\u001b[1m171/171\u001b[0m \u001b[32m━━━━━━━━━━━━━━━━━━━━\u001b[0m\u001b[37m\u001b[0m \u001b[1m2s\u001b[0m 13ms/step - accuracy: 0.6041 - loss: 1.0748 - val_accuracy: 0.5839 - val_loss: 2.0766 - learning_rate: 0.0010\n",
            "Epoch 4/10\n",
            "\u001b[1m171/171\u001b[0m \u001b[32m━━━━━━━━━━━━━━━━━━━━\u001b[0m\u001b[37m\u001b[0m \u001b[1m2s\u001b[0m 13ms/step - accuracy: 0.5987 - loss: 1.0548 - val_accuracy: 0.5802 - val_loss: 1.0285 - learning_rate: 0.0010\n",
            "Epoch 5/10\n",
            "\u001b[1m171/171\u001b[0m \u001b[32m━━━━━━━━━━━━━━━━━━━━\u001b[0m\u001b[37m\u001b[0m \u001b[1m2s\u001b[0m 13ms/step - accuracy: 0.6207 - loss: 1.0169 - val_accuracy: 0.5956 - val_loss: 0.9813 - learning_rate: 0.0010\n",
            "Epoch 6/10\n",
            "\u001b[1m171/171\u001b[0m \u001b[32m━━━━━━━━━━━━━━━━━━━━\u001b[0m\u001b[37m\u001b[0m \u001b[1m2s\u001b[0m 13ms/step - accuracy: 0.6046 - loss: 0.9785 - val_accuracy: 0.5934 - val_loss: 1.0194 - learning_rate: 0.0010\n",
            "Epoch 7/10\n",
            "\u001b[1m171/171\u001b[0m \u001b[32m━━━━━━━━━━━━━━━━━━━━\u001b[0m\u001b[37m\u001b[0m \u001b[1m2s\u001b[0m 13ms/step - accuracy: 0.6093 - loss: 0.9662 - val_accuracy: 0.5956 - val_loss: 1.0171 - learning_rate: 0.0010\n",
            "Epoch 8/10\n",
            "\u001b[1m171/171\u001b[0m \u001b[32m━━━━━━━━━━━━━━━━━━━━\u001b[0m\u001b[37m\u001b[0m \u001b[1m2s\u001b[0m 13ms/step - accuracy: 0.6057 - loss: 0.9882 - val_accuracy: 0.5919 - val_loss: 1.0535 - learning_rate: 0.0010\n",
            "Epoch 9/10\n",
            "\u001b[1m171/171\u001b[0m \u001b[32m━━━━━━━━━━━━━━━━━━━━\u001b[0m\u001b[37m\u001b[0m \u001b[1m2s\u001b[0m 13ms/step - accuracy: 0.6058 - loss: 0.9353 - val_accuracy: 0.5941 - val_loss: 0.9946 - learning_rate: 0.0010\n",
            "Epoch 10/10\n",
            "\u001b[1m168/171\u001b[0m \u001b[32m━━━━━━━━━━━━━━━━━━━\u001b[0m\u001b[37m━\u001b[0m \u001b[1m0s\u001b[0m 12ms/step - accuracy: 0.6132 - loss: 0.8995\n",
            "Epoch 10: ReduceLROnPlateau reducing learning rate to 0.0005000000237487257.\n",
            "\u001b[1m171/171\u001b[0m \u001b[32m━━━━━━━━━━━━━━━━━━━━\u001b[0m\u001b[37m\u001b[0m \u001b[1m2s\u001b[0m 13ms/step - accuracy: 0.6131 - loss: 0.8995 - val_accuracy: 0.5934 - val_loss: 1.0270 - learning_rate: 0.0010\n"
          ]
        }
      ],
      "execution_count": 52
    },
    {
      "metadata": {
        "ExecuteTime": {
          "end_time": "2025-05-05T18:58:22.273461Z",
          "start_time": "2025-05-05T18:58:20.909987Z"
        },
        "colab": {
          "base_uri": "https://localhost:8080/"
        },
        "id": "32a77b0f1fa73008",
        "outputId": "9fbe7ae3-36f7-420e-9d34-ff381a3e9362"
      },
      "cell_type": "code",
      "source": [
        "# Evaluación\n",
        "train_acc2 = history2.history['accuracy'][-1]\n",
        "val_acc2   = history2.history['val_accuracy'][-1]\n",
        "print(f\"▶ Train acc: {train_acc2:.3f} — Val acc: {val_acc2:.3f}\")\n",
        "\n",
        "# Informe de clasificación en validación\n",
        "y_prob2    = model_cnn2.predict(X_val_cnn)\n",
        "y_pred_enc = np.argmax(y_prob2, axis=1)\n",
        "print(classification_report(\n",
        "    y_val_enc, y_pred_enc, digits=4,\n",
        "    target_names=['~','A','N','O']\n",
        "))"
      ],
      "id": "32a77b0f1fa73008",
      "outputs": [
        {
          "output_type": "stream",
          "name": "stdout",
          "text": [
            "▶ Train acc: 0.609 — Val acc: 0.593\n",
            "\u001b[1m43/43\u001b[0m \u001b[32m━━━━━━━━━━━━━━━━━━━━\u001b[0m\u001b[37m\u001b[0m \u001b[1m1s\u001b[0m 14ms/step\n",
            "              precision    recall  f1-score   support\n",
            "\n",
            "           ~     0.0000    0.0000    0.0000        45\n",
            "           A     0.0000    0.0000    0.0000       121\n",
            "           N     0.5963    0.9914    0.7447       812\n",
            "           O     0.3333    0.0129    0.0249       387\n",
            "\n",
            "    accuracy                         0.5934      1365\n",
            "   macro avg     0.2324    0.2511    0.1924      1365\n",
            "weighted avg     0.4492    0.5934    0.4500      1365\n",
            "\n"
          ]
        },
        {
          "output_type": "stream",
          "name": "stderr",
          "text": [
            "/usr/local/lib/python3.11/dist-packages/sklearn/metrics/_classification.py:1565: UndefinedMetricWarning: Precision is ill-defined and being set to 0.0 in labels with no predicted samples. Use `zero_division` parameter to control this behavior.\n",
            "  _warn_prf(average, modifier, f\"{metric.capitalize()} is\", len(result))\n",
            "/usr/local/lib/python3.11/dist-packages/sklearn/metrics/_classification.py:1565: UndefinedMetricWarning: Precision is ill-defined and being set to 0.0 in labels with no predicted samples. Use `zero_division` parameter to control this behavior.\n",
            "  _warn_prf(average, modifier, f\"{metric.capitalize()} is\", len(result))\n",
            "/usr/local/lib/python3.11/dist-packages/sklearn/metrics/_classification.py:1565: UndefinedMetricWarning: Precision is ill-defined and being set to 0.0 in labels with no predicted samples. Use `zero_division` parameter to control this behavior.\n",
            "  _warn_prf(average, modifier, f\"{metric.capitalize()} is\", len(result))\n"
          ]
        }
      ],
      "execution_count": 53
    },
    {
      "metadata": {
        "id": "fbbfec6182f816c0"
      },
      "cell_type": "markdown",
      "source": [
        "+ Pues tenemos aquí algo, hay un poco de sobreajuste, pero es verdad que esta versión de CNN no está prediciendo ninguna muestra de las clases minoritarias. De hecho por eso nos está saliendo el warning de Undefined Metric.\n",
        "+ Las clases minoritarias apenas aparecen en las predicciones porque su contribución a la pérdida es muy baja a comparación de N. Vamos a utilizar `class_weight`para penalizar más los errores en esas clases, forzando a la red a que les preste más atención."
      ],
      "id": "fbbfec6182f816c0"
    },
    {
      "metadata": {
        "ExecuteTime": {
          "end_time": "2025-05-05T19:16:25.669562Z",
          "start_time": "2025-05-05T19:16:25.657760Z"
        },
        "colab": {
          "base_uri": "https://localhost:8080/"
        },
        "id": "d361efdf4df681ec",
        "outputId": "3e7d8958-fa90-490c-b283-62e5d5c0458c"
      },
      "cell_type": "code",
      "source": [
        "from sklearn.utils.class_weight import compute_class_weight\n",
        "\n",
        "clases = np.unique(y_train_enc)\n",
        "\n",
        "# compute_class_weight devuelve un array de pesos en el mismo orden que 'clases'\n",
        "pesos = compute_class_weight(\n",
        "    class_weight='balanced',\n",
        "    classes=clases,\n",
        "    y=y_train_enc\n",
        ")\n",
        "\n",
        "# Creamos un diccionario { etiqueta: peso }\n",
        "class_weight = dict(zip(clases, pesos))\n",
        "print(\"Pesos por clase:\", class_weight)\n"
      ],
      "id": "d361efdf4df681ec",
      "outputs": [
        {
          "output_type": "stream",
          "name": "stdout",
          "text": [
            "Pesos por clase: {np.int64(0): np.float64(7.66432584269663), np.int64(1): np.float64(2.8128865979381446), np.int64(2): np.float64(0.4198984302862419), np.int64(3): np.float64(0.8830097087378641)}\n"
          ]
        }
      ],
      "execution_count": 54
    },
    {
      "metadata": {
        "ExecuteTime": {
          "end_time": "2025-05-05T19:22:17.277035Z",
          "start_time": "2025-05-05T19:17:16.548754Z"
        },
        "colab": {
          "base_uri": "https://localhost:8080/"
        },
        "id": "2ff960899ce5576",
        "outputId": "d267542e-d2e2-4a1f-e00a-9f1ccf73d286"
      },
      "cell_type": "code",
      "source": [
        "# Reutilizamos `model_cnn2` definido previamente\n",
        "history_w = model_cnn2.fit(\n",
        "    X_train_cnn, y_train_enc,\n",
        "    validation_data=(X_val_cnn, y_val_enc),\n",
        "    epochs=10,\n",
        "    batch_size=32,\n",
        "    class_weight=class_weight,\n",
        "    callbacks=[rlrop],\n",
        "    verbose=1\n",
        ")"
      ],
      "id": "2ff960899ce5576",
      "outputs": [
        {
          "output_type": "stream",
          "name": "stdout",
          "text": [
            "Epoch 1/10\n",
            "\u001b[1m171/171\u001b[0m \u001b[32m━━━━━━━━━━━━━━━━━━━━\u001b[0m\u001b[37m\u001b[0m \u001b[1m9s\u001b[0m 30ms/step - accuracy: 0.6155 - loss: 1.5484 - val_accuracy: 0.5949 - val_loss: 1.0368 - learning_rate: 5.0000e-04\n",
            "Epoch 2/10\n",
            "\u001b[1m171/171\u001b[0m \u001b[32m━━━━━━━━━━━━━━━━━━━━\u001b[0m\u001b[37m\u001b[0m \u001b[1m2s\u001b[0m 13ms/step - accuracy: 0.6094 - loss: 1.5931 - val_accuracy: 0.5927 - val_loss: 1.0460 - learning_rate: 5.0000e-04\n",
            "Epoch 3/10\n",
            "\u001b[1m171/171\u001b[0m \u001b[32m━━━━━━━━━━━━━━━━━━━━\u001b[0m\u001b[37m\u001b[0m \u001b[1m2s\u001b[0m 13ms/step - accuracy: 0.6227 - loss: 1.4041 - val_accuracy: 0.5875 - val_loss: 1.0479 - learning_rate: 5.0000e-04\n",
            "Epoch 4/10\n",
            "\u001b[1m171/171\u001b[0m \u001b[32m━━━━━━━━━━━━━━━━━━━━\u001b[0m\u001b[37m\u001b[0m \u001b[1m2s\u001b[0m 13ms/step - accuracy: 0.5992 - loss: 1.4175 - val_accuracy: 0.5934 - val_loss: 1.0471 - learning_rate: 5.0000e-04\n",
            "Epoch 5/10\n",
            "\u001b[1m171/171\u001b[0m \u001b[32m━━━━━━━━━━━━━━━━━━━━\u001b[0m\u001b[37m\u001b[0m \u001b[1m2s\u001b[0m 13ms/step - accuracy: 0.6016 - loss: 1.3199 - val_accuracy: 0.5934 - val_loss: 1.0344 - learning_rate: 5.0000e-04\n",
            "Epoch 6/10\n",
            "\u001b[1m171/171\u001b[0m \u001b[32m━━━━━━━━━━━━━━━━━━━━\u001b[0m\u001b[37m\u001b[0m \u001b[1m2s\u001b[0m 13ms/step - accuracy: 0.6130 - loss: 1.2898 - val_accuracy: 0.5949 - val_loss: 1.0691 - learning_rate: 5.0000e-04\n",
            "Epoch 7/10\n",
            "\u001b[1m171/171\u001b[0m \u001b[32m━━━━━━━━━━━━━━━━━━━━\u001b[0m\u001b[37m\u001b[0m \u001b[1m2s\u001b[0m 13ms/step - accuracy: 0.6081 - loss: 1.3345 - val_accuracy: 0.5949 - val_loss: 1.0489 - learning_rate: 5.0000e-04\n",
            "Epoch 8/10\n",
            "\u001b[1m171/171\u001b[0m \u001b[32m━━━━━━━━━━━━━━━━━━━━\u001b[0m\u001b[37m\u001b[0m \u001b[1m2s\u001b[0m 13ms/step - accuracy: 0.5877 - loss: 1.3150 - val_accuracy: 0.5216 - val_loss: 1.0636 - learning_rate: 5.0000e-04\n",
            "Epoch 9/10\n",
            "\u001b[1m171/171\u001b[0m \u001b[32m━━━━━━━━━━━━━━━━━━━━\u001b[0m\u001b[37m\u001b[0m \u001b[1m2s\u001b[0m 13ms/step - accuracy: 0.5952 - loss: 1.2892 - val_accuracy: 0.5875 - val_loss: 1.0645 - learning_rate: 5.0000e-04\n",
            "Epoch 10/10\n",
            "\u001b[1m168/171\u001b[0m \u001b[32m━━━━━━━━━━━━━━━━━━━\u001b[0m\u001b[37m━\u001b[0m \u001b[1m0s\u001b[0m 12ms/step - accuracy: 0.5908 - loss: 1.3569\n",
            "Epoch 10: ReduceLROnPlateau reducing learning rate to 0.0002500000118743628.\n",
            "\u001b[1m171/171\u001b[0m \u001b[32m━━━━━━━━━━━━━━━━━━━━\u001b[0m\u001b[37m\u001b[0m \u001b[1m2s\u001b[0m 13ms/step - accuracy: 0.5910 - loss: 1.3555 - val_accuracy: 0.5919 - val_loss: 1.1047 - learning_rate: 5.0000e-04\n"
          ]
        }
      ],
      "execution_count": 55
    },
    {
      "metadata": {
        "ExecuteTime": {
          "end_time": "2025-05-05T19:22:37.590292Z",
          "start_time": "2025-05-05T19:22:36.182163Z"
        },
        "colab": {
          "base_uri": "https://localhost:8080/"
        },
        "id": "769c19392dd3e507",
        "outputId": "7dd7291b-aef1-4088-a36b-a0a3106f7270"
      },
      "cell_type": "code",
      "source": [
        "# Métricas finales\n",
        "train_acc_w = history_w.history['accuracy'][-1]\n",
        "val_acc_w   = history_w.history['val_accuracy'][-1]\n",
        "print(f\"▶ Train acc: {train_acc_w:.3f} — Val acc: {val_acc_w:.3f}\")\n",
        "\n",
        "# Informe de clasificación\n",
        "y_prob_w  = model_cnn2.predict(X_val_cnn)\n",
        "y_pred_w  = np.argmax(y_prob_w, axis=1)\n"
      ],
      "id": "769c19392dd3e507",
      "outputs": [
        {
          "output_type": "stream",
          "name": "stdout",
          "text": [
            "▶ Train acc: 0.598 — Val acc: 0.592\n",
            "\u001b[1m43/43\u001b[0m \u001b[32m━━━━━━━━━━━━━━━━━━━━\u001b[0m\u001b[37m\u001b[0m \u001b[1m0s\u001b[0m 2ms/step\n"
          ]
        }
      ],
      "execution_count": 56
    },
    {
      "metadata": {
        "ExecuteTime": {
          "end_time": "2025-05-05T19:22:54.517900Z",
          "start_time": "2025-05-05T19:22:54.509761Z"
        },
        "colab": {
          "base_uri": "https://localhost:8080/"
        },
        "id": "5e8e126ff2eeab93",
        "outputId": "cf757ce3-bd43-4e16-c64e-352677a24cfd"
      },
      "cell_type": "code",
      "source": [
        "print(classification_report(\n",
        "    y_val_enc, y_pred_w, digits=4,\n",
        "    target_names=['~','A','N','O']\n",
        "))"
      ],
      "id": "5e8e126ff2eeab93",
      "outputs": [
        {
          "output_type": "stream",
          "name": "stdout",
          "text": [
            "              precision    recall  f1-score   support\n",
            "\n",
            "           ~     0.0000    0.0000    0.0000        45\n",
            "           A     0.0000    0.0000    0.0000       121\n",
            "           N     0.5951    0.9901    0.7434       812\n",
            "           O     0.3077    0.0103    0.0200       387\n",
            "\n",
            "    accuracy                         0.5919      1365\n",
            "   macro avg     0.2257    0.2501    0.1909      1365\n",
            "weighted avg     0.4413    0.5919    0.4479      1365\n",
            "\n"
          ]
        },
        {
          "output_type": "stream",
          "name": "stderr",
          "text": [
            "/usr/local/lib/python3.11/dist-packages/sklearn/metrics/_classification.py:1565: UndefinedMetricWarning: Precision is ill-defined and being set to 0.0 in labels with no predicted samples. Use `zero_division` parameter to control this behavior.\n",
            "  _warn_prf(average, modifier, f\"{metric.capitalize()} is\", len(result))\n",
            "/usr/local/lib/python3.11/dist-packages/sklearn/metrics/_classification.py:1565: UndefinedMetricWarning: Precision is ill-defined and being set to 0.0 in labels with no predicted samples. Use `zero_division` parameter to control this behavior.\n",
            "  _warn_prf(average, modifier, f\"{metric.capitalize()} is\", len(result))\n",
            "/usr/local/lib/python3.11/dist-packages/sklearn/metrics/_classification.py:1565: UndefinedMetricWarning: Precision is ill-defined and being set to 0.0 in labels with no predicted samples. Use `zero_division` parameter to control this behavior.\n",
            "  _warn_prf(average, modifier, f\"{metric.capitalize()} is\", len(result))\n"
          ]
        }
      ],
      "execution_count": 57
    },
    {
      "metadata": {
        "id": "3963dcb85242e2c9"
      },
      "cell_type": "markdown",
      "source": [
        "Ahora la red si detecta la Clase A, que sube el recall hasta 26.5%, que antes era 0%, lo cual es un avance. Pero las demás métricas no dan buenos resultados. El ruído sigue siendo ignorado y N mantuvo un recall aceptable y precisión moderada, pero sacrificamos algunos puntos para que le fueran mejor a las otras clases.\n",
        "Estuve investigando y vi que hay una variante de cross entropy que se llama `Focal Loss`.\n",
        "\n",
        "La **Focal Loss** es una variante de la entropía cruzada que añade dos componentes:\n",
        " 1. Un factor $(1 - p_t)^\\gamma)$ que reduce el peso de los ejemplos fáciles (con $p_t$ alto) y concentra la penalización en los ejemplos difíciles.\n",
        " 2. Un coeficiente $\\\\alpha\\$ para ajustar la importancia base de cada clase, de modo que las clases minoritarias aporten más a la pérdida.\n"
      ],
      "id": "3963dcb85242e2c9"
    },
    {
      "metadata": {
        "ExecuteTime": {
          "end_time": "2025-05-05T19:45:42.046326Z",
          "start_time": "2025-05-05T19:45:42.037961Z"
        },
        "id": "282c0f450e91983f"
      },
      "cell_type": "code",
      "source": [
        "def focal_loss(alpha=0.25, gamma=2.0):\n",
        "    \"\"\"\n",
        "    Devuelve una función de pérdida focal para usar en Keras.\n",
        "    alpha: peso de la clase correcta.\n",
        "    gamma: factor de modulación de la pérdida.\n",
        "    \"\"\"\n",
        "    def loss_fn(y_true, y_pred):\n",
        "        # y_true: one-hot o índices, convertimos a one-hot\n",
        "        y_true_ohe = tf.one_hot(tf.cast(y_true, tf.int32), depth=y_pred.shape[-1])\n",
        "        # clip para evitar log(0)\n",
        "        y_pred = tf.clip_by_value(y_pred, 1e-7, 1.0 - 1e-7)\n",
        "        # probabilidad asignada a la clase correcta\n",
        "        p_t = tf.reduce_sum(y_true_ohe * y_pred, axis=-1)\n",
        "        # factor focal\n",
        "        modulating_factor = tf.pow(1.0 - p_t, gamma)\n",
        "        # factor alpha\n",
        "        alpha_factor = tf.reduce_sum(y_true_ohe * alpha, axis=-1)\n",
        "        # pérdida focal\n",
        "        loss = -alpha_factor * modulating_factor * tf.math.log(p_t)\n",
        "        return tf.reduce_mean(loss)\n",
        "    return loss_fn"
      ],
      "id": "282c0f450e91983f",
      "outputs": [],
      "execution_count": 58
    },
    {
      "metadata": {
        "ExecuteTime": {
          "end_time": "2025-05-05T19:52:53.772002Z",
          "start_time": "2025-05-05T19:46:59.510160Z"
        },
        "colab": {
          "base_uri": "https://localhost:8080/"
        },
        "id": "28fd002de85e1174",
        "outputId": "bb266435-7423-4309-e518-aee30d5b173f"
      },
      "cell_type": "code",
      "source": [
        "from tensorflow.keras.callbacks import ReduceLROnPlateau\n",
        "\n",
        "# Creamos una nueva instancia para no mezclar pesos\n",
        "model_focal = build_cnn_bn_dropout(input_shape, n_classes)\n",
        "\n",
        "# Compilamos con focal loss\n",
        "model_focal.compile(\n",
        "    optimizer='adam',\n",
        "    loss=focal_loss(alpha=0.25, gamma=2.0),\n",
        "    metrics=['accuracy']\n",
        ")\n",
        "\n",
        "# Callback para reducir lr si no mejora\n",
        "rlr = ReduceLROnPlateau(\n",
        "    monitor='val_loss', factor=0.5,\n",
        "    patience=3, min_lr=1e-5, verbose=1\n",
        ")\n",
        "\n",
        "# Entrenamiento de prueba (10–15 épocas)\n",
        "history_f = model_focal.fit(\n",
        "    X_train_cnn, y_train_enc,\n",
        "    validation_data=(X_val_cnn, y_val_enc),\n",
        "    epochs=12,\n",
        "    batch_size=32,\n",
        "    callbacks=[rlr],\n",
        "    verbose=1\n",
        ")\n"
      ],
      "id": "28fd002de85e1174",
      "outputs": [
        {
          "output_type": "stream",
          "name": "stderr",
          "text": [
            "/usr/local/lib/python3.11/dist-packages/keras/src/layers/convolutional/base_conv.py:107: UserWarning: Do not pass an `input_shape`/`input_dim` argument to a layer. When using Sequential models, prefer using an `Input(shape)` object as the first layer in the model instead.\n",
            "  super().__init__(activity_regularizer=activity_regularizer, **kwargs)\n"
          ]
        },
        {
          "output_type": "stream",
          "name": "stdout",
          "text": [
            "Epoch 1/12\n",
            "\u001b[1m171/171\u001b[0m \u001b[32m━━━━━━━━━━━━━━━━━━━━\u001b[0m\u001b[37m\u001b[0m \u001b[1m12s\u001b[0m 36ms/step - accuracy: 0.4620 - loss: 1.9767 - val_accuracy: 0.5780 - val_loss: 1.6828 - learning_rate: 0.0010\n",
            "Epoch 2/12\n",
            "\u001b[1m171/171\u001b[0m \u001b[32m━━━━━━━━━━━━━━━━━━━━\u001b[0m\u001b[37m\u001b[0m \u001b[1m2s\u001b[0m 14ms/step - accuracy: 0.5033 - loss: 1.9738 - val_accuracy: 0.5956 - val_loss: 1.6295 - learning_rate: 0.0010\n",
            "Epoch 3/12\n",
            "\u001b[1m171/171\u001b[0m \u001b[32m━━━━━━━━━━━━━━━━━━━━\u001b[0m\u001b[37m\u001b[0m \u001b[1m2s\u001b[0m 13ms/step - accuracy: 0.5633 - loss: 1.7489 - val_accuracy: 0.5707 - val_loss: 1.7132 - learning_rate: 0.0010\n",
            "Epoch 4/12\n",
            "\u001b[1m171/171\u001b[0m \u001b[32m━━━━━━━━━━━━━━━━━━━━\u001b[0m\u001b[37m\u001b[0m \u001b[1m2s\u001b[0m 13ms/step - accuracy: 0.5854 - loss: 1.6638 - val_accuracy: 0.5963 - val_loss: 1.6266 - learning_rate: 0.0010\n",
            "Epoch 5/12\n",
            "\u001b[1m171/171\u001b[0m \u001b[32m━━━━━━━━━━━━━━━━━━━━\u001b[0m\u001b[37m\u001b[0m \u001b[1m2s\u001b[0m 13ms/step - accuracy: 0.5968 - loss: 1.6215 - val_accuracy: 0.5978 - val_loss: 1.6198 - learning_rate: 0.0010\n",
            "Epoch 6/12\n",
            "\u001b[1m171/171\u001b[0m \u001b[32m━━━━━━━━━━━━━━━━━━━━\u001b[0m\u001b[37m\u001b[0m \u001b[1m2s\u001b[0m 13ms/step - accuracy: 0.5860 - loss: 1.6612 - val_accuracy: 0.5956 - val_loss: 1.6295 - learning_rate: 0.0010\n",
            "Epoch 7/12\n",
            "\u001b[1m171/171\u001b[0m \u001b[32m━━━━━━━━━━━━━━━━━━━━\u001b[0m\u001b[37m\u001b[0m \u001b[1m2s\u001b[0m 14ms/step - accuracy: 0.5907 - loss: 1.6492 - val_accuracy: 0.5956 - val_loss: 1.6295 - learning_rate: 0.0010\n",
            "Epoch 8/12\n",
            "\u001b[1m171/171\u001b[0m \u001b[32m━━━━━━━━━━━━━━━━━━━━\u001b[0m\u001b[37m\u001b[0m \u001b[1m0s\u001b[0m 12ms/step - accuracy: 0.5975 - loss: 1.6217\n",
            "Epoch 8: ReduceLROnPlateau reducing learning rate to 0.0005000000237487257.\n",
            "\u001b[1m171/171\u001b[0m \u001b[32m━━━━━━━━━━━━━━━━━━━━\u001b[0m\u001b[37m\u001b[0m \u001b[1m2s\u001b[0m 13ms/step - accuracy: 0.5975 - loss: 1.6218 - val_accuracy: 0.5949 - val_loss: 1.6325 - learning_rate: 0.0010\n",
            "Epoch 9/12\n",
            "\u001b[1m171/171\u001b[0m \u001b[32m━━━━━━━━━━━━━━━━━━━━\u001b[0m\u001b[37m\u001b[0m \u001b[1m2s\u001b[0m 13ms/step - accuracy: 0.5955 - loss: 1.6298 - val_accuracy: 0.5949 - val_loss: 1.6325 - learning_rate: 5.0000e-04\n",
            "Epoch 10/12\n",
            "\u001b[1m171/171\u001b[0m \u001b[32m━━━━━━━━━━━━━━━━━━━━\u001b[0m\u001b[37m\u001b[0m \u001b[1m2s\u001b[0m 14ms/step - accuracy: 0.5862 - loss: 1.6673 - val_accuracy: 0.5949 - val_loss: 1.6325 - learning_rate: 5.0000e-04\n",
            "Epoch 11/12\n",
            "\u001b[1m170/171\u001b[0m \u001b[32m━━━━━━━━━━━━━━━━━━━\u001b[0m\u001b[37m━\u001b[0m \u001b[1m0s\u001b[0m 12ms/step - accuracy: 0.6012 - loss: 1.6070\n",
            "Epoch 11: ReduceLROnPlateau reducing learning rate to 0.0002500000118743628.\n",
            "\u001b[1m171/171\u001b[0m \u001b[32m━━━━━━━━━━━━━━━━━━━━\u001b[0m\u001b[37m\u001b[0m \u001b[1m2s\u001b[0m 13ms/step - accuracy: 0.6011 - loss: 1.6072 - val_accuracy: 0.5949 - val_loss: 1.6325 - learning_rate: 5.0000e-04\n",
            "Epoch 12/12\n",
            "\u001b[1m171/171\u001b[0m \u001b[32m━━━━━━━━━━━━━━━━━━━━\u001b[0m\u001b[37m\u001b[0m \u001b[1m2s\u001b[0m 13ms/step - accuracy: 0.5880 - loss: 1.6603 - val_accuracy: 0.5949 - val_loss: 1.6325 - learning_rate: 2.5000e-04\n"
          ]
        }
      ],
      "execution_count": 59
    },
    {
      "metadata": {
        "ExecuteTime": {
          "end_time": "2025-05-05T19:54:22.627050Z",
          "start_time": "2025-05-05T19:54:21.316536Z"
        },
        "colab": {
          "base_uri": "https://localhost:8080/"
        },
        "id": "eb02a679769ff999",
        "outputId": "7cb8fdd1-4018-4071-e865-200debc3adcc"
      },
      "cell_type": "code",
      "source": [
        "# Exactitud final\n",
        "train_acc_f = history_f.history['accuracy'][-1]\n",
        "val_acc_f   = history_f.history['val_accuracy'][-1]\n",
        "print(f\"▶ Train acc: {train_acc_f:.3f} — Val acc: {val_acc_f:.3f}\")\n",
        "\n",
        "# Predicción y reporte\n",
        "y_prob_f = model_focal.predict(X_val_cnn)\n",
        "y_pred_f = tf.argmax(y_prob_f, axis=1).numpy()\n",
        "\n",
        "from sklearn.metrics import classification_report\n",
        "print(classification_report(\n",
        "    y_val_enc, y_pred_f, digits=4,\n",
        "    target_names=['~','A','N','O']\n",
        "))\n"
      ],
      "id": "eb02a679769ff999",
      "outputs": [
        {
          "output_type": "stream",
          "name": "stdout",
          "text": [
            "▶ Train acc: 0.596 — Val acc: 0.595\n",
            "\u001b[1m43/43\u001b[0m \u001b[32m━━━━━━━━━━━━━━━━━━━━\u001b[0m\u001b[37m\u001b[0m \u001b[1m1s\u001b[0m 13ms/step\n",
            "              precision    recall  f1-score   support\n",
            "\n",
            "           ~     0.0000    0.0000    0.0000        45\n",
            "           A     0.0000    0.0000    0.0000       121\n",
            "           N     0.5949    1.0000    0.7460       812\n",
            "           O     0.0000    0.0000    0.0000       387\n",
            "\n",
            "    accuracy                         0.5949      1365\n",
            "   macro avg     0.1487    0.2500    0.1865      1365\n",
            "weighted avg     0.3539    0.5949    0.4438      1365\n",
            "\n"
          ]
        },
        {
          "output_type": "stream",
          "name": "stderr",
          "text": [
            "/usr/local/lib/python3.11/dist-packages/sklearn/metrics/_classification.py:1565: UndefinedMetricWarning: Precision is ill-defined and being set to 0.0 in labels with no predicted samples. Use `zero_division` parameter to control this behavior.\n",
            "  _warn_prf(average, modifier, f\"{metric.capitalize()} is\", len(result))\n",
            "/usr/local/lib/python3.11/dist-packages/sklearn/metrics/_classification.py:1565: UndefinedMetricWarning: Precision is ill-defined and being set to 0.0 in labels with no predicted samples. Use `zero_division` parameter to control this behavior.\n",
            "  _warn_prf(average, modifier, f\"{metric.capitalize()} is\", len(result))\n",
            "/usr/local/lib/python3.11/dist-packages/sklearn/metrics/_classification.py:1565: UndefinedMetricWarning: Precision is ill-defined and being set to 0.0 in labels with no predicted samples. Use `zero_division` parameter to control this behavior.\n",
            "  _warn_prf(average, modifier, f\"{metric.capitalize()} is\", len(result))\n"
          ]
        }
      ],
      "execution_count": 60
    },
    {
      "metadata": {
        "id": "4efc42d5880387ca"
      },
      "cell_type": "markdown",
      "source": [
        "Dieron peores resultados, por ahora vamos a dejar esto así y pasaremos con el siguiente ejercicio."
      ],
      "id": "4efc42d5880387ca"
    },
    {
      "metadata": {
        "ExecuteTime": {
          "end_time": "2025-05-05T20:14:42.079620Z",
          "start_time": "2025-05-05T20:01:12.264210Z"
        },
        "colab": {
          "base_uri": "https://localhost:8080/"
        },
        "id": "51809495ca89922d",
        "outputId": "30fc2b0e-173e-44a1-ac6a-0d987619116c"
      },
      "cell_type": "code",
      "source": [
        "### Definimos funciones de augmentación\n",
        "\n",
        "import numpy as np\n",
        "\n",
        "\n",
        "def jitter(x, sigma=0.01):\n",
        "    \"\"\"\n",
        "    Añade ruido gaussiano de desviación `sigma` a cada muestra de la señal.\n",
        "    x: array de forma (timesteps, 1) o (timesteps,)\n",
        "    \"\"\"\n",
        "    noise = np.random.normal(loc=0.0, scale=sigma, size=x.shape)\n",
        "    return x + noise\n",
        "\n",
        "\n",
        "def scaling(x, scale_range=(0.9, 1.1)):\n",
        "    \"\"\"\n",
        "    Escala la señal por un factor aleatorio en `scale_range`.\n",
        "    \"\"\"\n",
        "    factor = np.random.uniform(scale_range[0], scale_range[1])\n",
        "    return x * factor\n",
        "\n",
        "\n",
        "### 4.2 – Función para aumentar cada clase a la cuenta del mayoritario\n",
        "\n",
        "def augment_minority(X, y, target_count, sigma=0.01):\n",
        "    \"\"\"\n",
        "    X: array (n_samples, timesteps, 1)\n",
        "    y: array (n_samples,)\n",
        "    target_count: cuántos ejemplos queremos en total para cada clase\n",
        "    Devuelve X_aug, y_aug con las nuevas muestras para clases con menos de target_count.\n",
        "    \"\"\"\n",
        "    X_list, y_list = [], []\n",
        "    classes = np.unique(y)\n",
        "    for cls in classes:\n",
        "        idx = np.where(y == cls)[0]\n",
        "        X_cls = X[idx]\n",
        "        n_have = len(idx)\n",
        "        n_need = target_count - n_have\n",
        "        if n_need <= 0:\n",
        "            continue  # ya tenemos suficiente o de sobra\n",
        "        # muestreamos con reemplazo\n",
        "        sampled_idx = np.random.choice(n_have, size=n_need, replace=True)\n",
        "        X_sampled = X_cls[sampled_idx]\n",
        "        # aplicamos augmentation aleatoria a cada copia\n",
        "        X_aug = []\n",
        "        for x in X_sampled:\n",
        "            # elegimos jitter o scaling al azar\n",
        "            if np.random.rand() < 0.5:\n",
        "                x_new = jitter(x, sigma=sigma)\n",
        "            else:\n",
        "                x_new = scaling(x, scale_range=(0.9, 1.1))\n",
        "            X_aug.append(x_new)\n",
        "        X_list.append(np.stack(X_aug))\n",
        "        y_list.append(np.full(n_need, cls))\n",
        "    if not X_list:\n",
        "        return np.empty((0,) + X.shape[1:]), np.empty((0,), dtype=y.dtype)\n",
        "    X_aug_all = np.vstack(X_list)\n",
        "    y_aug_all = np.hstack(y_list)\n",
        "    return X_aug_all, y_aug_all\n",
        "\n",
        "\n",
        "### 4.3 – Aplicamos augmentation y preparamos nuevo set de entrenamiento\n",
        "\n",
        "# 1. Definimos cuántos queremos por clase (usamos la clase 'N' como referencia)\n",
        "from collections import Counter\n",
        "\n",
        "count_train = Counter(y_train_enc)\n",
        "target = count_train[2]  # la clase 'N' codificada como 2\n",
        "\n",
        "# 2. Generamos augmentación\n",
        "X_extra, y_extra = augment_minority(\n",
        "    X_train_cnn, y_train_enc,\n",
        "    target_count=target,\n",
        "    sigma=0.01\n",
        ")\n",
        "\n",
        "print(\"Nuevas muestras generadas:\", Counter(y_extra))\n",
        "\n",
        "# 3. Concatenamos y barajamos\n",
        "X_train_aug = np.concatenate([X_train_cnn, X_extra], axis=0)\n",
        "y_train_aug = np.concatenate([y_train_enc, y_extra], axis=0)\n",
        "\n",
        "# Barajamos\n",
        "perm = np.random.permutation(len(y_train_aug))\n",
        "X_train_aug = X_train_aug[perm]\n",
        "y_train_aug = y_train_aug[perm]\n",
        "\n",
        "print(\"Nuevo tamaño de train:\", X_train_aug.shape, y_train_aug.shape)\n",
        "\n",
        "### 4.4 – Reentrenamiento de la CNN con datos aumentados\n",
        "\n",
        "# Reutilizamos la arquitectura con BatchNorm+Dropout\n",
        "model_aug = build_cnn_bn_dropout(input_shape, n_classes)\n",
        "model_aug.compile(\n",
        "    optimizer='adam',\n",
        "    loss='sparse_categorical_crossentropy',\n",
        "    metrics=['accuracy']\n",
        ")\n",
        "\n",
        "# Entrenamos (10–12 épocas)\n",
        "history_aug = model_aug.fit(\n",
        "    X_train_aug, y_train_aug,\n",
        "    validation_data=(X_val_cnn, y_val_enc),\n",
        "    epochs=12,\n",
        "    batch_size=32,\n",
        "    callbacks=[rlr],\n",
        "    verbose=1\n",
        ")\n",
        "\n",
        "### 4.5 – Evaluación tras augmentation\n",
        "\n",
        "# Métricas finales\n",
        "train_acc_aug = history_aug.history['accuracy'][-1]\n",
        "val_acc_aug = history_aug.history['val_accuracy'][-1]\n",
        "print(f\"▶ Train acc: {train_acc_aug:.3f} — Val acc: {val_acc_aug:.3f}\")\n",
        "\n",
        "# Reporte de clasificación\n",
        "y_prob_aug = model_aug.predict(X_val_cnn)\n",
        "y_pred_aug = np.argmax(y_prob_aug, axis=1)\n",
        "\n",
        "from sklearn.metrics import classification_report\n",
        "\n",
        "print(classification_report(\n",
        "    y_val_enc, y_pred_aug, digits=4,\n",
        "    target_names=['~', 'A', 'N', 'O']\n",
        "))\n"
      ],
      "id": "51809495ca89922d",
      "outputs": [
        {
          "output_type": "stream",
          "name": "stdout",
          "text": [
            "Nuevas muestras generadas: Counter({np.int64(0): 3071, np.int64(1): 2764, np.int64(3): 1704})\n",
            "Nuevo tamaño de train: (12996, 9000, 1) (12996,)\n"
          ]
        },
        {
          "output_type": "stream",
          "name": "stderr",
          "text": [
            "/usr/local/lib/python3.11/dist-packages/keras/src/layers/convolutional/base_conv.py:107: UserWarning: Do not pass an `input_shape`/`input_dim` argument to a layer. When using Sequential models, prefer using an `Input(shape)` object as the first layer in the model instead.\n",
            "  super().__init__(activity_regularizer=activity_regularizer, **kwargs)\n"
          ]
        },
        {
          "output_type": "stream",
          "name": "stdout",
          "text": [
            "Epoch 1/12\n",
            "\u001b[1m407/407\u001b[0m \u001b[32m━━━━━━━━━━━━━━━━━━━━\u001b[0m\u001b[37m\u001b[0m \u001b[1m14s\u001b[0m 23ms/step - accuracy: 0.4123 - loss: 6.4528 - val_accuracy: 0.3267 - val_loss: 1.2747 - learning_rate: 0.0010\n",
            "Epoch 2/12\n",
            "\u001b[1m407/407\u001b[0m \u001b[32m━━━━━━━━━━━━━━━━━━━━\u001b[0m\u001b[37m\u001b[0m \u001b[1m5s\u001b[0m 13ms/step - accuracy: 0.5131 - loss: 1.0123 - val_accuracy: 0.3172 - val_loss: 1.1546 - learning_rate: 0.0010\n",
            "Epoch 3/12\n",
            "\u001b[1m407/407\u001b[0m \u001b[32m━━━━━━━━━━━━━━━━━━━━\u001b[0m\u001b[37m\u001b[0m \u001b[1m5s\u001b[0m 13ms/step - accuracy: 0.5596 - loss: 0.9155 - val_accuracy: 0.4374 - val_loss: 1.1773 - learning_rate: 0.0010\n",
            "Epoch 4/12\n",
            "\u001b[1m407/407\u001b[0m \u001b[32m━━━━━━━━━━━━━━━━━━━━\u001b[0m\u001b[37m\u001b[0m \u001b[1m5s\u001b[0m 13ms/step - accuracy: 0.5918 - loss: 0.8518 - val_accuracy: 0.4755 - val_loss: 1.1536 - learning_rate: 0.0010\n",
            "Epoch 5/12\n",
            "\u001b[1m407/407\u001b[0m \u001b[32m━━━━━━━━━━━━━━━━━━━━\u001b[0m\u001b[37m\u001b[0m \u001b[1m5s\u001b[0m 13ms/step - accuracy: 0.6137 - loss: 0.8457 - val_accuracy: 0.3802 - val_loss: 1.1445 - learning_rate: 0.0010\n",
            "Epoch 6/12\n",
            "\u001b[1m407/407\u001b[0m \u001b[32m━━━━━━━━━━━━━━━━━━━━\u001b[0m\u001b[37m\u001b[0m \u001b[1m5s\u001b[0m 13ms/step - accuracy: 0.6247 - loss: 0.7832 - val_accuracy: 0.3963 - val_loss: 1.1598 - learning_rate: 0.0010\n",
            "Epoch 7/12\n",
            "\u001b[1m407/407\u001b[0m \u001b[32m━━━━━━━━━━━━━━━━━━━━\u001b[0m\u001b[37m\u001b[0m \u001b[1m5s\u001b[0m 13ms/step - accuracy: 0.6330 - loss: 0.7931 - val_accuracy: 0.5744 - val_loss: 1.1690 - learning_rate: 0.0010\n",
            "Epoch 8/12\n",
            "\u001b[1m403/407\u001b[0m \u001b[32m━━━━━━━━━━━━━━━━━━━\u001b[0m\u001b[37m━\u001b[0m \u001b[1m0s\u001b[0m 12ms/step - accuracy: 0.6305 - loss: 0.7556\n",
            "Epoch 8: ReduceLROnPlateau reducing learning rate to 0.0005000000237487257.\n",
            "\u001b[1m407/407\u001b[0m \u001b[32m━━━━━━━━━━━━━━━━━━━━\u001b[0m\u001b[37m\u001b[0m \u001b[1m5s\u001b[0m 13ms/step - accuracy: 0.6307 - loss: 0.7555 - val_accuracy: 0.3919 - val_loss: 1.3151 - learning_rate: 0.0010\n",
            "Epoch 9/12\n",
            "\u001b[1m407/407\u001b[0m \u001b[32m━━━━━━━━━━━━━━━━━━━━\u001b[0m\u001b[37m\u001b[0m \u001b[1m5s\u001b[0m 13ms/step - accuracy: 0.6480 - loss: 0.7212 - val_accuracy: 0.5275 - val_loss: 1.2107 - learning_rate: 5.0000e-04\n",
            "Epoch 10/12\n",
            "\u001b[1m407/407\u001b[0m \u001b[32m━━━━━━━━━━━━━━━━━━━━\u001b[0m\u001b[37m\u001b[0m \u001b[1m5s\u001b[0m 13ms/step - accuracy: 0.6836 - loss: 0.6674 - val_accuracy: 0.5407 - val_loss: 1.5058 - learning_rate: 5.0000e-04\n",
            "Epoch 11/12\n",
            "\u001b[1m404/407\u001b[0m \u001b[32m━━━━━━━━━━━━━━━━━━━\u001b[0m\u001b[37m━\u001b[0m \u001b[1m0s\u001b[0m 12ms/step - accuracy: 0.6796 - loss: 0.6511\n",
            "Epoch 11: ReduceLROnPlateau reducing learning rate to 0.0002500000118743628.\n",
            "\u001b[1m407/407\u001b[0m \u001b[32m━━━━━━━━━━━━━━━━━━━━\u001b[0m\u001b[37m\u001b[0m \u001b[1m5s\u001b[0m 13ms/step - accuracy: 0.6796 - loss: 0.6510 - val_accuracy: 0.4535 - val_loss: 1.3550 - learning_rate: 5.0000e-04\n",
            "Epoch 12/12\n",
            "\u001b[1m407/407\u001b[0m \u001b[32m━━━━━━━━━━━━━━━━━━━━\u001b[0m\u001b[37m\u001b[0m \u001b[1m5s\u001b[0m 13ms/step - accuracy: 0.6942 - loss: 0.6245 - val_accuracy: 0.5143 - val_loss: 1.4708 - learning_rate: 2.5000e-04\n",
            "▶ Train acc: 0.695 — Val acc: 0.514\n",
            "\u001b[1m43/43\u001b[0m \u001b[32m━━━━━━━━━━━━━━━━━━━━\u001b[0m\u001b[37m\u001b[0m \u001b[1m1s\u001b[0m 13ms/step\n",
            "              precision    recall  f1-score   support\n",
            "\n",
            "           ~     0.7500    0.1333    0.2264        45\n",
            "           A     0.1368    0.1074    0.1204       121\n",
            "           N     0.6034    0.7759    0.6789       812\n",
            "           O     0.2431    0.1370    0.1752       387\n",
            "\n",
            "    accuracy                         0.5143      1365\n",
            "   macro avg     0.4334    0.2884    0.3002      1365\n",
            "weighted avg     0.4648    0.5143    0.4717      1365\n",
            "\n"
          ]
        }
      ],
      "execution_count": 61
    },
    {
      "metadata": {
        "id": "10a8426518169914"
      },
      "cell_type": "markdown",
      "source": [
        "## Ejercicio 5:\n",
        "\n",
        "Diseña un modelo de clasificación utilizando una red neuronal LSTM. Explica los pasos que seguirías para entrenar y validar el modelo y discute cómo podrías mejorar la precisión del modelo.\n"
      ],
      "id": "10a8426518169914"
    },
    {
      "metadata": {
        "id": "5431d99624992bf0"
      },
      "cell_type": "markdown",
      "source": [
        "Las redes LSTM (Long Short-Term Memory) están diseñadas para **capturar dependencias a largo plazo** en secuencias, evitando el problema de “desvanecimiento del gradiente” de las RNN tradicionales. En nuestro caso, queremos que la red aprenda patrones temporales en la señal ECG completa (9 000 timesteps) y decida a cuál de las 4 clases pertenece."
      ],
      "id": "5431d99624992bf0"
    },
    {
      "metadata": {
        "ExecuteTime": {
          "end_time": "2025-05-05T20:39:06.818480Z",
          "start_time": "2025-05-05T20:39:06.809864Z"
        },
        "colab": {
          "base_uri": "https://localhost:8080/"
        },
        "id": "5778885bf04da26",
        "outputId": "ef29be0c-2dfc-4add-b8d3-ee76df6f0709"
      },
      "cell_type": "code",
      "source": [
        "# Preparamos los datos\n",
        "X_train_lstm = X_train_scaled.reshape(-1, 9000, 1)\n",
        "X_val_lstm   = X_val_scaled.reshape  (-1, 9000, 1)\n",
        "\n",
        "print(\"Train LSTM shape:\", X_train_lstm.shape)\n",
        "print(\"Val   LSTM shape:\", X_val_lstm.shape)"
      ],
      "id": "5778885bf04da26",
      "outputs": [
        {
          "output_type": "stream",
          "name": "stdout",
          "text": [
            "Train LSTM shape: (5457, 9000, 1)\n",
            "Val   LSTM shape: (1365, 9000, 1)\n"
          ]
        }
      ],
      "execution_count": 62
    },
    {
      "metadata": {
        "ExecuteTime": {
          "end_time": "2025-05-05T20:40:59.581639Z",
          "start_time": "2025-05-05T20:40:59.512327Z"
        },
        "colab": {
          "base_uri": "https://localhost:8080/",
          "height": 391
        },
        "id": "309fb40cfbf3531c",
        "outputId": "cbb042ab-7d9e-4fb9-94f0-bc96398e1d53"
      },
      "cell_type": "code",
      "source": [
        "from tensorflow.keras.models import Sequential\n",
        "from tensorflow.keras.layers import LSTM, Dense, Dropout, BatchNormalization\n",
        "\n",
        "def build_lstm_model(input_shape, n_classes):\n",
        "    model = Sequential([\n",
        "        # LSTM con 64 unidades, devuelve solo salida final\n",
        "        LSTM(64, input_shape=input_shape, return_sequences=False),\n",
        "        BatchNormalization(),\n",
        "        Dropout(0.5),\n",
        "\n",
        "        # Capa densa final para clasificación\n",
        "        Dense(64, activation='relu'),\n",
        "        Dropout(0.5),\n",
        "        Dense(n_classes, activation='softmax')\n",
        "    ])\n",
        "    model.compile(\n",
        "        loss='sparse_categorical_crossentropy',\n",
        "        optimizer='adam',\n",
        "        metrics=['accuracy']\n",
        "    )\n",
        "    return model\n",
        "\n",
        "input_shape = (9000, 1)\n",
        "n_classes   = len(np.unique(y_train_enc))  # =4\n",
        "\n",
        "model_lstm = build_lstm_model(input_shape, n_classes)\n",
        "model_lstm.summary()"
      ],
      "id": "309fb40cfbf3531c",
      "outputs": [
        {
          "output_type": "stream",
          "name": "stderr",
          "text": [
            "/usr/local/lib/python3.11/dist-packages/keras/src/layers/rnn/rnn.py:200: UserWarning: Do not pass an `input_shape`/`input_dim` argument to a layer. When using Sequential models, prefer using an `Input(shape)` object as the first layer in the model instead.\n",
            "  super().__init__(**kwargs)\n"
          ]
        },
        {
          "output_type": "display_data",
          "data": {
            "text/plain": [
              "\u001b[1mModel: \"sequential_4\"\u001b[0m\n"
            ],
            "text/html": [
              "<pre style=\"white-space:pre;overflow-x:auto;line-height:normal;font-family:Menlo,'DejaVu Sans Mono',consolas,'Courier New',monospace\"><span style=\"font-weight: bold\">Model: \"sequential_4\"</span>\n",
              "</pre>\n"
            ]
          },
          "metadata": {}
        },
        {
          "output_type": "display_data",
          "data": {
            "text/plain": [
              "┏━━━━━━━━━━━━━━━━━━━━━━━━━━━━━━━━━┳━━━━━━━━━━━━━━━━━━━━━━━━┳━━━━━━━━━━━━━━━┓\n",
              "┃\u001b[1m \u001b[0m\u001b[1mLayer (type)                   \u001b[0m\u001b[1m \u001b[0m┃\u001b[1m \u001b[0m\u001b[1mOutput Shape          \u001b[0m\u001b[1m \u001b[0m┃\u001b[1m \u001b[0m\u001b[1m      Param #\u001b[0m\u001b[1m \u001b[0m┃\n",
              "┡━━━━━━━━━━━━━━━━━━━━━━━━━━━━━━━━━╇━━━━━━━━━━━━━━━━━━━━━━━━╇━━━━━━━━━━━━━━━┩\n",
              "│ lstm (\u001b[38;5;33mLSTM\u001b[0m)                     │ (\u001b[38;5;45mNone\u001b[0m, \u001b[38;5;34m64\u001b[0m)             │        \u001b[38;5;34m16,896\u001b[0m │\n",
              "├─────────────────────────────────┼────────────────────────┼───────────────┤\n",
              "│ batch_normalization_9           │ (\u001b[38;5;45mNone\u001b[0m, \u001b[38;5;34m64\u001b[0m)             │           \u001b[38;5;34m256\u001b[0m │\n",
              "│ (\u001b[38;5;33mBatchNormalization\u001b[0m)            │                        │               │\n",
              "├─────────────────────────────────┼────────────────────────┼───────────────┤\n",
              "│ dropout_4 (\u001b[38;5;33mDropout\u001b[0m)             │ (\u001b[38;5;45mNone\u001b[0m, \u001b[38;5;34m64\u001b[0m)             │             \u001b[38;5;34m0\u001b[0m │\n",
              "├─────────────────────────────────┼────────────────────────┼───────────────┤\n",
              "│ dense_8 (\u001b[38;5;33mDense\u001b[0m)                 │ (\u001b[38;5;45mNone\u001b[0m, \u001b[38;5;34m64\u001b[0m)             │         \u001b[38;5;34m4,160\u001b[0m │\n",
              "├─────────────────────────────────┼────────────────────────┼───────────────┤\n",
              "│ dropout_5 (\u001b[38;5;33mDropout\u001b[0m)             │ (\u001b[38;5;45mNone\u001b[0m, \u001b[38;5;34m64\u001b[0m)             │             \u001b[38;5;34m0\u001b[0m │\n",
              "├─────────────────────────────────┼────────────────────────┼───────────────┤\n",
              "│ dense_9 (\u001b[38;5;33mDense\u001b[0m)                 │ (\u001b[38;5;45mNone\u001b[0m, \u001b[38;5;34m4\u001b[0m)              │           \u001b[38;5;34m260\u001b[0m │\n",
              "└─────────────────────────────────┴────────────────────────┴───────────────┘\n"
            ],
            "text/html": [
              "<pre style=\"white-space:pre;overflow-x:auto;line-height:normal;font-family:Menlo,'DejaVu Sans Mono',consolas,'Courier New',monospace\">┏━━━━━━━━━━━━━━━━━━━━━━━━━━━━━━━━━┳━━━━━━━━━━━━━━━━━━━━━━━━┳━━━━━━━━━━━━━━━┓\n",
              "┃<span style=\"font-weight: bold\"> Layer (type)                    </span>┃<span style=\"font-weight: bold\"> Output Shape           </span>┃<span style=\"font-weight: bold\">       Param # </span>┃\n",
              "┡━━━━━━━━━━━━━━━━━━━━━━━━━━━━━━━━━╇━━━━━━━━━━━━━━━━━━━━━━━━╇━━━━━━━━━━━━━━━┩\n",
              "│ lstm (<span style=\"color: #0087ff; text-decoration-color: #0087ff\">LSTM</span>)                     │ (<span style=\"color: #00d7ff; text-decoration-color: #00d7ff\">None</span>, <span style=\"color: #00af00; text-decoration-color: #00af00\">64</span>)             │        <span style=\"color: #00af00; text-decoration-color: #00af00\">16,896</span> │\n",
              "├─────────────────────────────────┼────────────────────────┼───────────────┤\n",
              "│ batch_normalization_9           │ (<span style=\"color: #00d7ff; text-decoration-color: #00d7ff\">None</span>, <span style=\"color: #00af00; text-decoration-color: #00af00\">64</span>)             │           <span style=\"color: #00af00; text-decoration-color: #00af00\">256</span> │\n",
              "│ (<span style=\"color: #0087ff; text-decoration-color: #0087ff\">BatchNormalization</span>)            │                        │               │\n",
              "├─────────────────────────────────┼────────────────────────┼───────────────┤\n",
              "│ dropout_4 (<span style=\"color: #0087ff; text-decoration-color: #0087ff\">Dropout</span>)             │ (<span style=\"color: #00d7ff; text-decoration-color: #00d7ff\">None</span>, <span style=\"color: #00af00; text-decoration-color: #00af00\">64</span>)             │             <span style=\"color: #00af00; text-decoration-color: #00af00\">0</span> │\n",
              "├─────────────────────────────────┼────────────────────────┼───────────────┤\n",
              "│ dense_8 (<span style=\"color: #0087ff; text-decoration-color: #0087ff\">Dense</span>)                 │ (<span style=\"color: #00d7ff; text-decoration-color: #00d7ff\">None</span>, <span style=\"color: #00af00; text-decoration-color: #00af00\">64</span>)             │         <span style=\"color: #00af00; text-decoration-color: #00af00\">4,160</span> │\n",
              "├─────────────────────────────────┼────────────────────────┼───────────────┤\n",
              "│ dropout_5 (<span style=\"color: #0087ff; text-decoration-color: #0087ff\">Dropout</span>)             │ (<span style=\"color: #00d7ff; text-decoration-color: #00d7ff\">None</span>, <span style=\"color: #00af00; text-decoration-color: #00af00\">64</span>)             │             <span style=\"color: #00af00; text-decoration-color: #00af00\">0</span> │\n",
              "├─────────────────────────────────┼────────────────────────┼───────────────┤\n",
              "│ dense_9 (<span style=\"color: #0087ff; text-decoration-color: #0087ff\">Dense</span>)                 │ (<span style=\"color: #00d7ff; text-decoration-color: #00d7ff\">None</span>, <span style=\"color: #00af00; text-decoration-color: #00af00\">4</span>)              │           <span style=\"color: #00af00; text-decoration-color: #00af00\">260</span> │\n",
              "└─────────────────────────────────┴────────────────────────┴───────────────┘\n",
              "</pre>\n"
            ]
          },
          "metadata": {}
        },
        {
          "output_type": "display_data",
          "data": {
            "text/plain": [
              "\u001b[1m Total params: \u001b[0m\u001b[38;5;34m21,572\u001b[0m (84.27 KB)\n"
            ],
            "text/html": [
              "<pre style=\"white-space:pre;overflow-x:auto;line-height:normal;font-family:Menlo,'DejaVu Sans Mono',consolas,'Courier New',monospace\"><span style=\"font-weight: bold\"> Total params: </span><span style=\"color: #00af00; text-decoration-color: #00af00\">21,572</span> (84.27 KB)\n",
              "</pre>\n"
            ]
          },
          "metadata": {}
        },
        {
          "output_type": "display_data",
          "data": {
            "text/plain": [
              "\u001b[1m Trainable params: \u001b[0m\u001b[38;5;34m21,444\u001b[0m (83.77 KB)\n"
            ],
            "text/html": [
              "<pre style=\"white-space:pre;overflow-x:auto;line-height:normal;font-family:Menlo,'DejaVu Sans Mono',consolas,'Courier New',monospace\"><span style=\"font-weight: bold\"> Trainable params: </span><span style=\"color: #00af00; text-decoration-color: #00af00\">21,444</span> (83.77 KB)\n",
              "</pre>\n"
            ]
          },
          "metadata": {}
        },
        {
          "output_type": "display_data",
          "data": {
            "text/plain": [
              "\u001b[1m Non-trainable params: \u001b[0m\u001b[38;5;34m128\u001b[0m (512.00 B)\n"
            ],
            "text/html": [
              "<pre style=\"white-space:pre;overflow-x:auto;line-height:normal;font-family:Menlo,'DejaVu Sans Mono',consolas,'Courier New',monospace\"><span style=\"font-weight: bold\"> Non-trainable params: </span><span style=\"color: #00af00; text-decoration-color: #00af00\">128</span> (512.00 B)\n",
              "</pre>\n"
            ]
          },
          "metadata": {}
        }
      ],
      "execution_count": 63
    },
    {
      "metadata": {
        "ExecuteTime": {
          "end_time": "2025-05-05T23:16:26.871596Z",
          "start_time": "2025-05-05T23:13:59.590224Z"
        },
        "colab": {
          "base_uri": "https://localhost:8080/"
        },
        "id": "14668073fadd59dd",
        "outputId": "88a90a5f-39b1-4357-d1e9-4f69d1409370"
      },
      "cell_type": "code",
      "source": [
        "es = EarlyStopping(monitor='val_loss', patience=5, restore_best_weights=True, verbose=1)\n",
        "\n",
        "# Reducir lr si la validación se estanca\n",
        "rlr = ReduceLROnPlateau(monitor='val_loss', factor=0.5, patience=3, min_lr=1e-5, verbose=1)\n",
        "\n",
        "# Entrenamos 15 épocas de prueba\n",
        "history_lstm = model_lstm.fit(\n",
        "    X_train_lstm, y_train_enc,\n",
        "    validation_data=(X_val_lstm, y_val_enc),\n",
        "    epochs=20, batch_size=32,\n",
        "    callbacks=[es, rlr],\n",
        "    verbose=1\n",
        ")\n"
      ],
      "id": "14668073fadd59dd",
      "outputs": [
        {
          "output_type": "stream",
          "name": "stdout",
          "text": [
            "Epoch 1/20\n",
            "\u001b[1m171/171\u001b[0m \u001b[32m━━━━━━━━━━━━━━━━━━━━\u001b[0m\u001b[37m\u001b[0m \u001b[1m52s\u001b[0m 283ms/step - accuracy: 0.4038 - loss: 1.4944 - val_accuracy: 0.5949 - val_loss: 1.0616 - learning_rate: 0.0010\n",
            "Epoch 2/20\n",
            "\u001b[1m171/171\u001b[0m \u001b[32m━━━━━━━━━━━━━━━━━━━━\u001b[0m\u001b[37m\u001b[0m \u001b[1m48s\u001b[0m 281ms/step - accuracy: 0.5639 - loss: 1.1426 - val_accuracy: 0.5949 - val_loss: 1.0051 - learning_rate: 0.0010\n",
            "Epoch 3/20\n",
            "\u001b[1m171/171\u001b[0m \u001b[32m━━━━━━━━━━━━━━━━━━━━\u001b[0m\u001b[37m\u001b[0m \u001b[1m48s\u001b[0m 281ms/step - accuracy: 0.5674 - loss: 1.0622 - val_accuracy: 0.5934 - val_loss: 1.0004 - learning_rate: 0.0010\n",
            "Epoch 4/20\n",
            "\u001b[1m171/171\u001b[0m \u001b[32m━━━━━━━━━━━━━━━━━━━━\u001b[0m\u001b[37m\u001b[0m \u001b[1m48s\u001b[0m 281ms/step - accuracy: 0.5831 - loss: 1.0566 - val_accuracy: 0.5912 - val_loss: 1.0025 - learning_rate: 0.0010\n",
            "Epoch 5/20\n",
            "\u001b[1m171/171\u001b[0m \u001b[32m━━━━━━━━━━━━━━━━━━━━\u001b[0m\u001b[37m\u001b[0m \u001b[1m48s\u001b[0m 281ms/step - accuracy: 0.5906 - loss: 1.0293 - val_accuracy: 0.5927 - val_loss: 0.9983 - learning_rate: 0.0010\n",
            "Epoch 6/20\n",
            "\u001b[1m171/171\u001b[0m \u001b[32m━━━━━━━━━━━━━━━━━━━━\u001b[0m\u001b[37m\u001b[0m \u001b[1m48s\u001b[0m 281ms/step - accuracy: 0.5967 - loss: 1.0047 - val_accuracy: 0.5941 - val_loss: 0.9946 - learning_rate: 0.0010\n",
            "Epoch 7/20\n",
            "\u001b[1m171/171\u001b[0m \u001b[32m━━━━━━━━━━━━━━━━━━━━\u001b[0m\u001b[37m\u001b[0m \u001b[1m48s\u001b[0m 281ms/step - accuracy: 0.5809 - loss: 1.0223 - val_accuracy: 0.5941 - val_loss: 0.9950 - learning_rate: 0.0010\n",
            "Epoch 8/20\n",
            "\u001b[1m171/171\u001b[0m \u001b[32m━━━━━━━━━━━━━━━━━━━━\u001b[0m\u001b[37m\u001b[0m \u001b[1m48s\u001b[0m 281ms/step - accuracy: 0.5922 - loss: 1.0103 - val_accuracy: 0.5949 - val_loss: 0.9938 - learning_rate: 0.0010\n",
            "Epoch 9/20\n",
            "\u001b[1m171/171\u001b[0m \u001b[32m━━━━━━━━━━━━━━━━━━━━\u001b[0m\u001b[37m\u001b[0m \u001b[1m48s\u001b[0m 280ms/step - accuracy: 0.5977 - loss: 1.0031 - val_accuracy: 0.5941 - val_loss: 0.9975 - learning_rate: 0.0010\n",
            "Epoch 10/20\n",
            "\u001b[1m171/171\u001b[0m \u001b[32m━━━━━━━━━━━━━━━━━━━━\u001b[0m\u001b[37m\u001b[0m \u001b[1m48s\u001b[0m 281ms/step - accuracy: 0.5890 - loss: 1.0046 - val_accuracy: 0.5949 - val_loss: 0.9950 - learning_rate: 0.0010\n",
            "Epoch 11/20\n",
            "\u001b[1m171/171\u001b[0m \u001b[32m━━━━━━━━━━━━━━━━━━━━\u001b[0m\u001b[37m\u001b[0m \u001b[1m0s\u001b[0m 251ms/step - accuracy: 0.6034 - loss: 0.9926\n",
            "Epoch 11: ReduceLROnPlateau reducing learning rate to 0.0005000000237487257.\n",
            "\u001b[1m171/171\u001b[0m \u001b[32m━━━━━━━━━━━━━━━━━━━━\u001b[0m\u001b[37m\u001b[0m \u001b[1m48s\u001b[0m 281ms/step - accuracy: 0.6033 - loss: 0.9927 - val_accuracy: 0.5956 - val_loss: 0.9984 - learning_rate: 0.0010\n",
            "Epoch 12/20\n",
            "\u001b[1m171/171\u001b[0m \u001b[32m━━━━━━━━━━━━━━━━━━━━\u001b[0m\u001b[37m\u001b[0m \u001b[1m48s\u001b[0m 280ms/step - accuracy: 0.6030 - loss: 0.9946 - val_accuracy: 0.5949 - val_loss: 0.9951 - learning_rate: 5.0000e-04\n",
            "Epoch 13/20\n",
            "\u001b[1m171/171\u001b[0m \u001b[32m━━━━━━━━━━━━━━━━━━━━\u001b[0m\u001b[37m\u001b[0m \u001b[1m48s\u001b[0m 282ms/step - accuracy: 0.5955 - loss: 0.9978 - val_accuracy: 0.5949 - val_loss: 0.9914 - learning_rate: 5.0000e-04\n",
            "Epoch 14/20\n",
            "\u001b[1m171/171\u001b[0m \u001b[32m━━━━━━━━━━━━━━━━━━━━\u001b[0m\u001b[37m\u001b[0m \u001b[1m48s\u001b[0m 281ms/step - accuracy: 0.6012 - loss: 0.9895 - val_accuracy: 0.5949 - val_loss: 0.9911 - learning_rate: 5.0000e-04\n",
            "Epoch 15/20\n",
            "\u001b[1m171/171\u001b[0m \u001b[32m━━━━━━━━━━━━━━━━━━━━\u001b[0m\u001b[37m\u001b[0m \u001b[1m48s\u001b[0m 281ms/step - accuracy: 0.5830 - loss: 1.0103 - val_accuracy: 0.5934 - val_loss: 0.9926 - learning_rate: 5.0000e-04\n",
            "Epoch 16/20\n",
            "\u001b[1m171/171\u001b[0m \u001b[32m━━━━━━━━━━━━━━━━━━━━\u001b[0m\u001b[37m\u001b[0m \u001b[1m48s\u001b[0m 281ms/step - accuracy: 0.5984 - loss: 0.9829 - val_accuracy: 0.5949 - val_loss: 0.9907 - learning_rate: 5.0000e-04\n",
            "Epoch 17/20\n",
            "\u001b[1m171/171\u001b[0m \u001b[32m━━━━━━━━━━━━━━━━━━━━\u001b[0m\u001b[37m\u001b[0m \u001b[1m48s\u001b[0m 281ms/step - accuracy: 0.5960 - loss: 0.9910 - val_accuracy: 0.5949 - val_loss: 0.9938 - learning_rate: 5.0000e-04\n",
            "Epoch 18/20\n",
            "\u001b[1m171/171\u001b[0m \u001b[32m━━━━━━━━━━━━━━━━━━━━\u001b[0m\u001b[37m\u001b[0m \u001b[1m48s\u001b[0m 281ms/step - accuracy: 0.6025 - loss: 0.9885 - val_accuracy: 0.5949 - val_loss: 0.9911 - learning_rate: 5.0000e-04\n",
            "Epoch 19/20\n",
            "\u001b[1m171/171\u001b[0m \u001b[32m━━━━━━━━━━━━━━━━━━━━\u001b[0m\u001b[37m\u001b[0m \u001b[1m0s\u001b[0m 251ms/step - accuracy: 0.6020 - loss: 0.9864\n",
            "Epoch 19: ReduceLROnPlateau reducing learning rate to 0.0002500000118743628.\n",
            "\u001b[1m171/171\u001b[0m \u001b[32m━━━━━━━━━━━━━━━━━━━━\u001b[0m\u001b[37m\u001b[0m \u001b[1m48s\u001b[0m 281ms/step - accuracy: 0.6020 - loss: 0.9865 - val_accuracy: 0.5949 - val_loss: 0.9917 - learning_rate: 5.0000e-04\n",
            "Epoch 20/20\n",
            "\u001b[1m171/171\u001b[0m \u001b[32m━━━━━━━━━━━━━━━━━━━━\u001b[0m\u001b[37m\u001b[0m \u001b[1m48s\u001b[0m 281ms/step - accuracy: 0.6025 - loss: 1.0033 - val_accuracy: 0.5941 - val_loss: 0.9914 - learning_rate: 2.5000e-04\n",
            "Restoring model weights from the end of the best epoch: 16.\n"
          ]
        }
      ],
      "execution_count": 64
    },
    {
      "metadata": {
        "colab": {
          "base_uri": "https://localhost:8080/"
        },
        "id": "b3d1bd8d6d2cd9d6",
        "outputId": "e043bad7-6c5b-421b-faca-7f863fdcd197"
      },
      "cell_type": "code",
      "outputs": [
        {
          "output_type": "stream",
          "name": "stdout",
          "text": [
            "▶ Train acc: 0.595 — Val acc: 0.594\n",
            "\u001b[1m43/43\u001b[0m \u001b[32m━━━━━━━━━━━━━━━━━━━━\u001b[0m\u001b[37m\u001b[0m \u001b[1m5s\u001b[0m 119ms/step\n",
            "              precision    recall  f1-score   support\n",
            "\n",
            "           ~     0.0000    0.0000    0.0000        45\n",
            "           A     0.0000    0.0000    0.0000       121\n",
            "           N     0.5949    1.0000    0.7460       812\n",
            "           O     0.0000    0.0000    0.0000       387\n",
            "\n",
            "    accuracy                         0.5949      1365\n",
            "   macro avg     0.1487    0.2500    0.1865      1365\n",
            "weighted avg     0.3539    0.5949    0.4438      1365\n",
            "\n"
          ]
        },
        {
          "output_type": "stream",
          "name": "stderr",
          "text": [
            "/usr/local/lib/python3.11/dist-packages/sklearn/metrics/_classification.py:1565: UndefinedMetricWarning: Precision is ill-defined and being set to 0.0 in labels with no predicted samples. Use `zero_division` parameter to control this behavior.\n",
            "  _warn_prf(average, modifier, f\"{metric.capitalize()} is\", len(result))\n",
            "/usr/local/lib/python3.11/dist-packages/sklearn/metrics/_classification.py:1565: UndefinedMetricWarning: Precision is ill-defined and being set to 0.0 in labels with no predicted samples. Use `zero_division` parameter to control this behavior.\n",
            "  _warn_prf(average, modifier, f\"{metric.capitalize()} is\", len(result))\n",
            "/usr/local/lib/python3.11/dist-packages/sklearn/metrics/_classification.py:1565: UndefinedMetricWarning: Precision is ill-defined and being set to 0.0 in labels with no predicted samples. Use `zero_division` parameter to control this behavior.\n",
            "  _warn_prf(average, modifier, f\"{metric.capitalize()} is\", len(result))\n"
          ]
        }
      ],
      "execution_count": 65,
      "source": [
        "# Precisión final\n",
        "train_acc = history_lstm.history['accuracy'][-1]\n",
        "val_acc   = history_lstm.history['val_accuracy'][-1]\n",
        "print(f\"▶ Train acc: {train_acc:.3f} — Val acc: {val_acc:.3f}\")\n",
        "\n",
        "# Métricas por clase\n",
        "y_prob = model_lstm.predict(X_val_lstm)\n",
        "y_pred = np.argmax(y_prob, axis=1)\n",
        "\n",
        "from sklearn.metrics import classification_report\n",
        "print(classification_report(\n",
        "    y_val_enc, y_pred, digits=4,\n",
        "    target_names=['~','A','N','O']\n",
        "))\n"
      ],
      "id": "b3d1bd8d6d2cd9d6"
    },
    {
      "metadata": {
        "id": "e7abba41d37b8c8a"
      },
      "cell_type": "markdown",
      "source": [],
      "id": "e7abba41d37b8c8a"
    },
    {
      "metadata": {
        "id": "d42a646fb817d9e"
      },
      "cell_type": "markdown",
      "source": [
        "Hagamos un Bidirectional LSTM, lo que hace esto es que duplicas la capa LSTM para que lea la secuencia hacia adelante y hacia atrás, sumando sus salidas antes de pasar a la siguiente capa. Esto nos ayuda a que cada paso conoce tanto el pasado como el futuro de la secuencia."
      ],
      "id": "d42a646fb817d9e"
    },
    {
      "metadata": {
        "ExecuteTime": {
          "end_time": "2025-05-05T23:26:57.061962Z",
          "start_time": "2025-05-05T23:26:57.055585Z"
        },
        "colab": {
          "base_uri": "https://localhost:8080/"
        },
        "id": "b879b2d07039ceef",
        "outputId": "e8b58253-b0c9-49a6-8053-cc4fa8204d9e"
      },
      "cell_type": "code",
      "source": [
        "\n",
        "X_train_bi = X_train_scaled.reshape(-1, 9000, 1)\n",
        "X_val_bi   = X_val_scaled.reshape  (-1, 9000, 1)\n",
        "\n",
        "print(\"Shape para Bidirectional LSTM:\")\n",
        "print(\"  Train:\", X_train_bi.shape)\n",
        "print(\"  Val  :\", X_val_bi.shape)"
      ],
      "id": "b879b2d07039ceef",
      "outputs": [
        {
          "output_type": "stream",
          "name": "stdout",
          "text": [
            "Shape para Bidirectional LSTM:\n",
            "  Train: (5457, 9000, 1)\n",
            "  Val  : (1365, 9000, 1)\n"
          ]
        }
      ],
      "execution_count": 66
    },
    {
      "metadata": {
        "colab": {
          "base_uri": "https://localhost:8080/",
          "height": 391
        },
        "id": "4c52e4b884944baf",
        "outputId": "3a266f9a-5530-41df-a351-6d9696290530"
      },
      "cell_type": "code",
      "outputs": [
        {
          "output_type": "stream",
          "name": "stderr",
          "text": [
            "/usr/local/lib/python3.11/dist-packages/keras/src/layers/rnn/bidirectional.py:107: UserWarning: Do not pass an `input_shape`/`input_dim` argument to a layer. When using Sequential models, prefer using an `Input(shape)` object as the first layer in the model instead.\n",
            "  super().__init__(**kwargs)\n"
          ]
        },
        {
          "output_type": "display_data",
          "data": {
            "text/plain": [
              "\u001b[1mModel: \"sequential_5\"\u001b[0m\n"
            ],
            "text/html": [
              "<pre style=\"white-space:pre;overflow-x:auto;line-height:normal;font-family:Menlo,'DejaVu Sans Mono',consolas,'Courier New',monospace\"><span style=\"font-weight: bold\">Model: \"sequential_5\"</span>\n",
              "</pre>\n"
            ]
          },
          "metadata": {}
        },
        {
          "output_type": "display_data",
          "data": {
            "text/plain": [
              "┏━━━━━━━━━━━━━━━━━━━━━━━━━━━━━━━━━┳━━━━━━━━━━━━━━━━━━━━━━━━┳━━━━━━━━━━━━━━━┓\n",
              "┃\u001b[1m \u001b[0m\u001b[1mLayer (type)                   \u001b[0m\u001b[1m \u001b[0m┃\u001b[1m \u001b[0m\u001b[1mOutput Shape          \u001b[0m\u001b[1m \u001b[0m┃\u001b[1m \u001b[0m\u001b[1m      Param #\u001b[0m\u001b[1m \u001b[0m┃\n",
              "┡━━━━━━━━━━━━━━━━━━━━━━━━━━━━━━━━━╇━━━━━━━━━━━━━━━━━━━━━━━━╇━━━━━━━━━━━━━━━┩\n",
              "│ bidirectional (\u001b[38;5;33mBidirectional\u001b[0m)   │ (\u001b[38;5;45mNone\u001b[0m, \u001b[38;5;34m128\u001b[0m)            │        \u001b[38;5;34m33,792\u001b[0m │\n",
              "├─────────────────────────────────┼────────────────────────┼───────────────┤\n",
              "│ batch_normalization_10          │ (\u001b[38;5;45mNone\u001b[0m, \u001b[38;5;34m128\u001b[0m)            │           \u001b[38;5;34m512\u001b[0m │\n",
              "│ (\u001b[38;5;33mBatchNormalization\u001b[0m)            │                        │               │\n",
              "├─────────────────────────────────┼────────────────────────┼───────────────┤\n",
              "│ dropout_6 (\u001b[38;5;33mDropout\u001b[0m)             │ (\u001b[38;5;45mNone\u001b[0m, \u001b[38;5;34m128\u001b[0m)            │             \u001b[38;5;34m0\u001b[0m │\n",
              "├─────────────────────────────────┼────────────────────────┼───────────────┤\n",
              "│ dense_10 (\u001b[38;5;33mDense\u001b[0m)                │ (\u001b[38;5;45mNone\u001b[0m, \u001b[38;5;34m64\u001b[0m)             │         \u001b[38;5;34m8,256\u001b[0m │\n",
              "├─────────────────────────────────┼────────────────────────┼───────────────┤\n",
              "│ dropout_7 (\u001b[38;5;33mDropout\u001b[0m)             │ (\u001b[38;5;45mNone\u001b[0m, \u001b[38;5;34m64\u001b[0m)             │             \u001b[38;5;34m0\u001b[0m │\n",
              "├─────────────────────────────────┼────────────────────────┼───────────────┤\n",
              "│ dense_11 (\u001b[38;5;33mDense\u001b[0m)                │ (\u001b[38;5;45mNone\u001b[0m, \u001b[38;5;34m4\u001b[0m)              │           \u001b[38;5;34m260\u001b[0m │\n",
              "└─────────────────────────────────┴────────────────────────┴───────────────┘\n"
            ],
            "text/html": [
              "<pre style=\"white-space:pre;overflow-x:auto;line-height:normal;font-family:Menlo,'DejaVu Sans Mono',consolas,'Courier New',monospace\">┏━━━━━━━━━━━━━━━━━━━━━━━━━━━━━━━━━┳━━━━━━━━━━━━━━━━━━━━━━━━┳━━━━━━━━━━━━━━━┓\n",
              "┃<span style=\"font-weight: bold\"> Layer (type)                    </span>┃<span style=\"font-weight: bold\"> Output Shape           </span>┃<span style=\"font-weight: bold\">       Param # </span>┃\n",
              "┡━━━━━━━━━━━━━━━━━━━━━━━━━━━━━━━━━╇━━━━━━━━━━━━━━━━━━━━━━━━╇━━━━━━━━━━━━━━━┩\n",
              "│ bidirectional (<span style=\"color: #0087ff; text-decoration-color: #0087ff\">Bidirectional</span>)   │ (<span style=\"color: #00d7ff; text-decoration-color: #00d7ff\">None</span>, <span style=\"color: #00af00; text-decoration-color: #00af00\">128</span>)            │        <span style=\"color: #00af00; text-decoration-color: #00af00\">33,792</span> │\n",
              "├─────────────────────────────────┼────────────────────────┼───────────────┤\n",
              "│ batch_normalization_10          │ (<span style=\"color: #00d7ff; text-decoration-color: #00d7ff\">None</span>, <span style=\"color: #00af00; text-decoration-color: #00af00\">128</span>)            │           <span style=\"color: #00af00; text-decoration-color: #00af00\">512</span> │\n",
              "│ (<span style=\"color: #0087ff; text-decoration-color: #0087ff\">BatchNormalization</span>)            │                        │               │\n",
              "├─────────────────────────────────┼────────────────────────┼───────────────┤\n",
              "│ dropout_6 (<span style=\"color: #0087ff; text-decoration-color: #0087ff\">Dropout</span>)             │ (<span style=\"color: #00d7ff; text-decoration-color: #00d7ff\">None</span>, <span style=\"color: #00af00; text-decoration-color: #00af00\">128</span>)            │             <span style=\"color: #00af00; text-decoration-color: #00af00\">0</span> │\n",
              "├─────────────────────────────────┼────────────────────────┼───────────────┤\n",
              "│ dense_10 (<span style=\"color: #0087ff; text-decoration-color: #0087ff\">Dense</span>)                │ (<span style=\"color: #00d7ff; text-decoration-color: #00d7ff\">None</span>, <span style=\"color: #00af00; text-decoration-color: #00af00\">64</span>)             │         <span style=\"color: #00af00; text-decoration-color: #00af00\">8,256</span> │\n",
              "├─────────────────────────────────┼────────────────────────┼───────────────┤\n",
              "│ dropout_7 (<span style=\"color: #0087ff; text-decoration-color: #0087ff\">Dropout</span>)             │ (<span style=\"color: #00d7ff; text-decoration-color: #00d7ff\">None</span>, <span style=\"color: #00af00; text-decoration-color: #00af00\">64</span>)             │             <span style=\"color: #00af00; text-decoration-color: #00af00\">0</span> │\n",
              "├─────────────────────────────────┼────────────────────────┼───────────────┤\n",
              "│ dense_11 (<span style=\"color: #0087ff; text-decoration-color: #0087ff\">Dense</span>)                │ (<span style=\"color: #00d7ff; text-decoration-color: #00d7ff\">None</span>, <span style=\"color: #00af00; text-decoration-color: #00af00\">4</span>)              │           <span style=\"color: #00af00; text-decoration-color: #00af00\">260</span> │\n",
              "└─────────────────────────────────┴────────────────────────┴───────────────┘\n",
              "</pre>\n"
            ]
          },
          "metadata": {}
        },
        {
          "output_type": "display_data",
          "data": {
            "text/plain": [
              "\u001b[1m Total params: \u001b[0m\u001b[38;5;34m42,820\u001b[0m (167.27 KB)\n"
            ],
            "text/html": [
              "<pre style=\"white-space:pre;overflow-x:auto;line-height:normal;font-family:Menlo,'DejaVu Sans Mono',consolas,'Courier New',monospace\"><span style=\"font-weight: bold\"> Total params: </span><span style=\"color: #00af00; text-decoration-color: #00af00\">42,820</span> (167.27 KB)\n",
              "</pre>\n"
            ]
          },
          "metadata": {}
        },
        {
          "output_type": "display_data",
          "data": {
            "text/plain": [
              "\u001b[1m Trainable params: \u001b[0m\u001b[38;5;34m42,564\u001b[0m (166.27 KB)\n"
            ],
            "text/html": [
              "<pre style=\"white-space:pre;overflow-x:auto;line-height:normal;font-family:Menlo,'DejaVu Sans Mono',consolas,'Courier New',monospace\"><span style=\"font-weight: bold\"> Trainable params: </span><span style=\"color: #00af00; text-decoration-color: #00af00\">42,564</span> (166.27 KB)\n",
              "</pre>\n"
            ]
          },
          "metadata": {}
        },
        {
          "output_type": "display_data",
          "data": {
            "text/plain": [
              "\u001b[1m Non-trainable params: \u001b[0m\u001b[38;5;34m256\u001b[0m (1.00 KB)\n"
            ],
            "text/html": [
              "<pre style=\"white-space:pre;overflow-x:auto;line-height:normal;font-family:Menlo,'DejaVu Sans Mono',consolas,'Courier New',monospace\"><span style=\"font-weight: bold\"> Non-trainable params: </span><span style=\"color: #00af00; text-decoration-color: #00af00\">256</span> (1.00 KB)\n",
              "</pre>\n"
            ]
          },
          "metadata": {}
        }
      ],
      "execution_count": 67,
      "source": [
        "from tensorflow.keras.models import Sequential\n",
        "from tensorflow.keras.layers import (\n",
        "    Bidirectional, LSTM, BatchNormalization,\n",
        "    Dropout, Dense\n",
        ")\n",
        "\n",
        "def build_bidirectional_lstm(input_shape, n_classes):\n",
        "    \"\"\"\n",
        "    input_shape: (timesteps, channels)\n",
        "    n_classes: número de clases (4 en nuestro caso)\n",
        "    \"\"\"\n",
        "    model = Sequential([\n",
        "        # Capa bidireccional: 64 unidades hacia adelante y 64 hacia atrás\n",
        "        Bidirectional(\n",
        "            LSTM(64, return_sequences=False),\n",
        "            input_shape=input_shape\n",
        "        ),\n",
        "        BatchNormalization(),\n",
        "        Dropout(0.5),\n",
        "\n",
        "        # Capas densas para clasificar\n",
        "        Dense(64, activation='relu'),\n",
        "        Dropout(0.5),\n",
        "        Dense(n_classes, activation='softmax')\n",
        "    ])\n",
        "\n",
        "    # Compilamos con Cross Entropy y Adam\n",
        "    model.compile(\n",
        "        loss='sparse_categorical_crossentropy',\n",
        "        optimizer='adam',\n",
        "        metrics=['accuracy']\n",
        "    )\n",
        "    return model\n",
        "\n",
        "# Instanciamos la red\n",
        "input_shape = (9000, 1)\n",
        "n_classes   = len(np.unique(y_train_enc))\n",
        "\n",
        "model_bi = build_bidirectional_lstm(input_shape, n_classes)\n",
        "model_bi.summary()"
      ],
      "id": "4c52e4b884944baf"
    },
    {
      "metadata": {
        "colab": {
          "base_uri": "https://localhost:8080/"
        },
        "id": "5c7233779b5fbe5e",
        "outputId": "d8c2e60b-7121-40ad-ced2-520279688154"
      },
      "cell_type": "code",
      "outputs": [
        {
          "output_type": "stream",
          "name": "stdout",
          "text": [
            "Epoch 1/20\n",
            "\u001b[1m171/171\u001b[0m \u001b[32m━━━━━━━━━━━━━━━━━━━━\u001b[0m\u001b[37m\u001b[0m \u001b[1m97s\u001b[0m 553ms/step - accuracy: 0.4133 - loss: 1.6274 - val_accuracy: 0.5949 - val_loss: 1.1047 - learning_rate: 0.0010\n",
            "Epoch 2/20\n",
            "\u001b[1m171/171\u001b[0m \u001b[32m━━━━━━━━━━━━━━━━━━━━\u001b[0m\u001b[37m\u001b[0m \u001b[1m94s\u001b[0m 551ms/step - accuracy: 0.5443 - loss: 1.1759 - val_accuracy: 0.5949 - val_loss: 1.0311 - learning_rate: 0.0010\n",
            "Epoch 3/20\n",
            "\u001b[1m171/171\u001b[0m \u001b[32m━━━━━━━━━━━━━━━━━━━━\u001b[0m\u001b[37m\u001b[0m \u001b[1m94s\u001b[0m 550ms/step - accuracy: 0.5725 - loss: 1.0852 - val_accuracy: 0.5949 - val_loss: 0.9986 - learning_rate: 0.0010\n",
            "Epoch 4/20\n",
            "\u001b[1m171/171\u001b[0m \u001b[32m━━━━━━━━━━━━━━━━━━━━\u001b[0m\u001b[37m\u001b[0m \u001b[1m94s\u001b[0m 551ms/step - accuracy: 0.5704 - loss: 1.0762 - val_accuracy: 0.5949 - val_loss: 0.9966 - learning_rate: 0.0010\n",
            "Epoch 5/20\n",
            "\u001b[1m171/171\u001b[0m \u001b[32m━━━━━━━━━━━━━━━━━━━━\u001b[0m\u001b[37m\u001b[0m \u001b[1m94s\u001b[0m 551ms/step - accuracy: 0.5900 - loss: 1.0396 - val_accuracy: 0.5912 - val_loss: 1.0039 - learning_rate: 0.0010\n",
            "Epoch 6/20\n",
            "\u001b[1m171/171\u001b[0m \u001b[32m━━━━━━━━━━━━━━━━━━━━\u001b[0m\u001b[37m\u001b[0m \u001b[1m94s\u001b[0m 551ms/step - accuracy: 0.6078 - loss: 1.0115 - val_accuracy: 0.5949 - val_loss: 1.0023 - learning_rate: 0.0010\n",
            "Epoch 7/20\n",
            "\u001b[1m171/171\u001b[0m \u001b[32m━━━━━━━━━━━━━━━━━━━━\u001b[0m\u001b[37m\u001b[0m \u001b[1m0s\u001b[0m 492ms/step - accuracy: 0.5859 - loss: 1.0374\n",
            "Epoch 7: ReduceLROnPlateau reducing learning rate to 0.0005000000237487257.\n",
            "\u001b[1m171/171\u001b[0m \u001b[32m━━━━━━━━━━━━━━━━━━━━\u001b[0m\u001b[37m\u001b[0m \u001b[1m94s\u001b[0m 551ms/step - accuracy: 0.5859 - loss: 1.0373 - val_accuracy: 0.5949 - val_loss: 0.9967 - learning_rate: 0.0010\n",
            "Epoch 8/20\n",
            "\u001b[1m171/171\u001b[0m \u001b[32m━━━━━━━━━━━━━━━━━━━━\u001b[0m\u001b[37m\u001b[0m \u001b[1m94s\u001b[0m 551ms/step - accuracy: 0.5995 - loss: 1.0143 - val_accuracy: 0.5927 - val_loss: 1.0007 - learning_rate: 5.0000e-04\n",
            "Epoch 9/20\n",
            "\u001b[1m171/171\u001b[0m \u001b[32m━━━━━━━━━━━━━━━━━━━━\u001b[0m\u001b[37m\u001b[0m \u001b[1m94s\u001b[0m 553ms/step - accuracy: 0.5907 - loss: 1.0064 - val_accuracy: 0.5927 - val_loss: 0.9993 - learning_rate: 5.0000e-04\n",
            "Epoch 9: early stopping\n",
            "Restoring model weights from the end of the best epoch: 4.\n"
          ]
        }
      ],
      "execution_count": 68,
      "source": [
        "es = EarlyStopping(\n",
        "    monitor='val_loss', patience=5,\n",
        "    restore_best_weights=True, verbose=1\n",
        ")\n",
        "\n",
        "# Reduce lr si val_loss se estanca\n",
        "rlr = ReduceLROnPlateau(\n",
        "    monitor='val_loss', factor=0.5,\n",
        "    patience=3, min_lr=1e-5, verbose=1\n",
        ")\n",
        "\n",
        "\n",
        "history_bi = model_bi.fit(\n",
        "    X_train_bi, y_train_enc,\n",
        "    validation_data=(X_val_bi, y_val_enc),\n",
        "    epochs=20,\n",
        "    batch_size=32,\n",
        "    callbacks=[es, rlr],\n",
        "    verbose=1\n",
        ")\n"
      ],
      "id": "5c7233779b5fbe5e"
    },
    {
      "metadata": {
        "colab": {
          "base_uri": "https://localhost:8080/"
        },
        "id": "eae779ca8287f0d8",
        "outputId": "27820202-1346-4342-ba1f-9af93f9ed081"
      },
      "cell_type": "code",
      "outputs": [
        {
          "output_type": "stream",
          "name": "stdout",
          "text": [
            "▶ Train acc: 0.594 — Val acc: 0.593\n",
            "\u001b[1m43/43\u001b[0m \u001b[32m━━━━━━━━━━━━━━━━━━━━\u001b[0m\u001b[37m\u001b[0m \u001b[1m10s\u001b[0m 236ms/step\n",
            "              precision    recall  f1-score   support\n",
            "\n",
            "           ~     0.0000    0.0000    0.0000        45\n",
            "           A     0.0000    0.0000    0.0000       121\n",
            "           N     0.5949    1.0000    0.7460       812\n",
            "           O     0.0000    0.0000    0.0000       387\n",
            "\n",
            "    accuracy                         0.5949      1365\n",
            "   macro avg     0.1487    0.2500    0.1865      1365\n",
            "weighted avg     0.3539    0.5949    0.4438      1365\n",
            "\n"
          ]
        },
        {
          "output_type": "stream",
          "name": "stderr",
          "text": [
            "/usr/local/lib/python3.11/dist-packages/sklearn/metrics/_classification.py:1565: UndefinedMetricWarning: Precision is ill-defined and being set to 0.0 in labels with no predicted samples. Use `zero_division` parameter to control this behavior.\n",
            "  _warn_prf(average, modifier, f\"{metric.capitalize()} is\", len(result))\n",
            "/usr/local/lib/python3.11/dist-packages/sklearn/metrics/_classification.py:1565: UndefinedMetricWarning: Precision is ill-defined and being set to 0.0 in labels with no predicted samples. Use `zero_division` parameter to control this behavior.\n",
            "  _warn_prf(average, modifier, f\"{metric.capitalize()} is\", len(result))\n",
            "/usr/local/lib/python3.11/dist-packages/sklearn/metrics/_classification.py:1565: UndefinedMetricWarning: Precision is ill-defined and being set to 0.0 in labels with no predicted samples. Use `zero_division` parameter to control this behavior.\n",
            "  _warn_prf(average, modifier, f\"{metric.capitalize()} is\", len(result))\n"
          ]
        }
      ],
      "execution_count": 69,
      "source": [
        "# Exactitud final\n",
        "train_acc_bi = history_bi.history['accuracy'][-1]\n",
        "val_acc_bi   = history_bi.history['val_accuracy'][-1]\n",
        "print(f\"▶ Train acc: {train_acc_bi:.3f} — Val acc: {val_acc_bi:.3f}\")\n",
        "\n",
        "# Generamos las predicciones sobre validación\n",
        "y_prob_bi = model_bi.predict(X_val_bi)\n",
        "y_pred_bi = np.argmax(y_prob_bi, axis=1)\n",
        "\n",
        "from sklearn.metrics import classification_report\n",
        "print(classification_report(\n",
        "    y_val_enc, y_pred_bi, digits=4,\n",
        "    target_names=['~','A','N','O']\n",
        "))"
      ],
      "id": "eae779ca8287f0d8"
    },
    {
      "metadata": {
        "id": "91d5c9decef94327"
      },
      "cell_type": "markdown",
      "source": [
        "## Ejercicio 6:\n",
        "\n",
        "Diseña un modelo de clasificación utilizando una red neuronal CNN-LSTM y ConvLSTM. Explica los pasos que seguirías para entrenar y validar el modelo y discute cómo podrías mejorar la precisión del modelo.\n"
      ],
      "id": "91d5c9decef94327"
    },
    {
      "metadata": {
        "id": "c0ad375108da38e0"
      },
      "cell_type": "markdown",
      "source": [
        "1. **CNN-LSTM**: extrae características locales con convoluciones y luego las procesa con un LSTM.\n",
        "2. **ConvLSTM**: utiliza capas ConvLSTM2D para capturar simultáneamente patrones espaciales y temporales."
      ],
      "id": "c0ad375108da38e0"
    },
    {
      "metadata": {
        "ExecuteTime": {
          "end_time": "2025-05-05T23:51:20.819605Z",
          "start_time": "2025-05-05T23:51:20.810067Z"
        },
        "colab": {
          "base_uri": "https://localhost:8080/"
        },
        "id": "af42c4f7b3a86757",
        "outputId": "732fc07b-b5bc-4bb2-bc4b-7c0a014135b9"
      },
      "cell_type": "code",
      "source": [
        "n_seq      = 10\n",
        "subseq_len = 900\n",
        "\n",
        "# Preparar tensores para CNN-LSTM\n",
        "# reshape a (samples, n_seq, subseq_len, 1)\n",
        "X_train_cnn_lstm = X_train_scaled.reshape(-1, n_seq, subseq_len, 1)\n",
        "X_val_cnn_lstm   = X_val_scaled.reshape  (-1, n_seq, subseq_len, 1)\n",
        "X_test_cnn_lstm  = X_test_scaled.reshape (-1, n_seq, subseq_len, 1)\n",
        "\n",
        "# Preparamos tensores para ConvLSTM2D\n",
        "# reshape a (samples, timesteps=n_seq, rows=1, cols=subseq_len, channels=1)\n",
        "X_train_conv_lstm = X_train_scaled.reshape(-1, n_seq, 1, subseq_len, 1)\n",
        "X_val_conv_lstm   = X_val_scaled.reshape  (-1, n_seq, 1, subseq_len, 1)\n",
        "X_test_conv_lstm  = X_test_scaled.reshape (-1, n_seq, 1, subseq_len, 1)\n",
        "\n",
        "print(\"Shapes CNN-LSTM:\", X_train_cnn_lstm.shape, X_val_cnn_lstm.shape, X_test_cnn_lstm.shape)\n",
        "print(\"Shapes ConvLSTM:\", X_train_conv_lstm.shape, X_val_conv_lstm.shape, X_test_conv_lstm.shape)\n"
      ],
      "id": "af42c4f7b3a86757",
      "outputs": [
        {
          "output_type": "stream",
          "name": "stdout",
          "text": [
            "Shapes CNN-LSTM: (5457, 10, 900, 1) (1365, 10, 900, 1) (1706, 10, 900, 1)\n",
            "Shapes ConvLSTM: (5457, 10, 1, 900, 1) (1365, 10, 1, 900, 1) (1706, 10, 1, 900, 1)\n"
          ]
        }
      ],
      "execution_count": 70
    },
    {
      "metadata": {
        "id": "4a5eb5d48f5fb0ce"
      },
      "cell_type": "markdown",
      "source": [
        "### Arquitectura CNN-LSTM\n",
        "\n",
        "- **TimeDistributed Conv1D** sobre cada ventana para extraer características locales.\n",
        "- **LSTM** sobre la secuencia de vectores de características.\n",
        "- Capa densa final con softmax."
      ],
      "id": "4a5eb5d48f5fb0ce"
    },
    {
      "metadata": {
        "colab": {
          "base_uri": "https://localhost:8080/",
          "height": 631
        },
        "id": "b15d9ae7bda95443",
        "outputId": "b6f54df2-1205-4bc9-b14b-38081e7a7152"
      },
      "cell_type": "code",
      "outputs": [
        {
          "output_type": "stream",
          "name": "stderr",
          "text": [
            "/usr/local/lib/python3.11/dist-packages/keras/src/layers/core/wrapper.py:27: UserWarning: Do not pass an `input_shape`/`input_dim` argument to a layer. When using Sequential models, prefer using an `Input(shape)` object as the first layer in the model instead.\n",
            "  super().__init__(**kwargs)\n"
          ]
        },
        {
          "output_type": "display_data",
          "data": {
            "text/plain": [
              "\u001b[1mModel: \"sequential_6\"\u001b[0m\n"
            ],
            "text/html": [
              "<pre style=\"white-space:pre;overflow-x:auto;line-height:normal;font-family:Menlo,'DejaVu Sans Mono',consolas,'Courier New',monospace\"><span style=\"font-weight: bold\">Model: \"sequential_6\"</span>\n",
              "</pre>\n"
            ]
          },
          "metadata": {}
        },
        {
          "output_type": "display_data",
          "data": {
            "text/plain": [
              "┏━━━━━━━━━━━━━━━━━━━━━━━━━━━━━━━━━┳━━━━━━━━━━━━━━━━━━━━━━━━┳━━━━━━━━━━━━━━━┓\n",
              "┃\u001b[1m \u001b[0m\u001b[1mLayer (type)                   \u001b[0m\u001b[1m \u001b[0m┃\u001b[1m \u001b[0m\u001b[1mOutput Shape          \u001b[0m\u001b[1m \u001b[0m┃\u001b[1m \u001b[0m\u001b[1m      Param #\u001b[0m\u001b[1m \u001b[0m┃\n",
              "┡━━━━━━━━━━━━━━━━━━━━━━━━━━━━━━━━━╇━━━━━━━━━━━━━━━━━━━━━━━━╇━━━━━━━━━━━━━━━┩\n",
              "│ time_distributed                │ (\u001b[38;5;45mNone\u001b[0m, \u001b[38;5;34m10\u001b[0m, \u001b[38;5;34m896\u001b[0m, \u001b[38;5;34m32\u001b[0m)    │           \u001b[38;5;34m192\u001b[0m │\n",
              "│ (\u001b[38;5;33mTimeDistributed\u001b[0m)               │                        │               │\n",
              "├─────────────────────────────────┼────────────────────────┼───────────────┤\n",
              "│ time_distributed_1              │ (\u001b[38;5;45mNone\u001b[0m, \u001b[38;5;34m10\u001b[0m, \u001b[38;5;34m448\u001b[0m, \u001b[38;5;34m32\u001b[0m)    │             \u001b[38;5;34m0\u001b[0m │\n",
              "│ (\u001b[38;5;33mTimeDistributed\u001b[0m)               │                        │               │\n",
              "├─────────────────────────────────┼────────────────────────┼───────────────┤\n",
              "│ time_distributed_2              │ (\u001b[38;5;45mNone\u001b[0m, \u001b[38;5;34m10\u001b[0m, \u001b[38;5;34m444\u001b[0m, \u001b[38;5;34m64\u001b[0m)    │        \u001b[38;5;34m10,304\u001b[0m │\n",
              "│ (\u001b[38;5;33mTimeDistributed\u001b[0m)               │                        │               │\n",
              "├─────────────────────────────────┼────────────────────────┼───────────────┤\n",
              "│ time_distributed_3              │ (\u001b[38;5;45mNone\u001b[0m, \u001b[38;5;34m10\u001b[0m, \u001b[38;5;34m222\u001b[0m, \u001b[38;5;34m64\u001b[0m)    │             \u001b[38;5;34m0\u001b[0m │\n",
              "│ (\u001b[38;5;33mTimeDistributed\u001b[0m)               │                        │               │\n",
              "├─────────────────────────────────┼────────────────────────┼───────────────┤\n",
              "│ time_distributed_4              │ (\u001b[38;5;45mNone\u001b[0m, \u001b[38;5;34m10\u001b[0m, \u001b[38;5;34m14208\u001b[0m)      │             \u001b[38;5;34m0\u001b[0m │\n",
              "│ (\u001b[38;5;33mTimeDistributed\u001b[0m)               │                        │               │\n",
              "├─────────────────────────────────┼────────────────────────┼───────────────┤\n",
              "│ lstm_2 (\u001b[38;5;33mLSTM\u001b[0m)                   │ (\u001b[38;5;45mNone\u001b[0m, \u001b[38;5;34m64\u001b[0m)             │     \u001b[38;5;34m3,653,888\u001b[0m │\n",
              "├─────────────────────────────────┼────────────────────────┼───────────────┤\n",
              "│ batch_normalization_11          │ (\u001b[38;5;45mNone\u001b[0m, \u001b[38;5;34m64\u001b[0m)             │           \u001b[38;5;34m256\u001b[0m │\n",
              "│ (\u001b[38;5;33mBatchNormalization\u001b[0m)            │                        │               │\n",
              "├─────────────────────────────────┼────────────────────────┼───────────────┤\n",
              "│ dropout_8 (\u001b[38;5;33mDropout\u001b[0m)             │ (\u001b[38;5;45mNone\u001b[0m, \u001b[38;5;34m64\u001b[0m)             │             \u001b[38;5;34m0\u001b[0m │\n",
              "├─────────────────────────────────┼────────────────────────┼───────────────┤\n",
              "│ dense_12 (\u001b[38;5;33mDense\u001b[0m)                │ (\u001b[38;5;45mNone\u001b[0m, \u001b[38;5;34m64\u001b[0m)             │         \u001b[38;5;34m4,160\u001b[0m │\n",
              "├─────────────────────────────────┼────────────────────────┼───────────────┤\n",
              "│ dropout_9 (\u001b[38;5;33mDropout\u001b[0m)             │ (\u001b[38;5;45mNone\u001b[0m, \u001b[38;5;34m64\u001b[0m)             │             \u001b[38;5;34m0\u001b[0m │\n",
              "├─────────────────────────────────┼────────────────────────┼───────────────┤\n",
              "│ dense_13 (\u001b[38;5;33mDense\u001b[0m)                │ (\u001b[38;5;45mNone\u001b[0m, \u001b[38;5;34m4\u001b[0m)              │           \u001b[38;5;34m260\u001b[0m │\n",
              "└─────────────────────────────────┴────────────────────────┴───────────────┘\n"
            ],
            "text/html": [
              "<pre style=\"white-space:pre;overflow-x:auto;line-height:normal;font-family:Menlo,'DejaVu Sans Mono',consolas,'Courier New',monospace\">┏━━━━━━━━━━━━━━━━━━━━━━━━━━━━━━━━━┳━━━━━━━━━━━━━━━━━━━━━━━━┳━━━━━━━━━━━━━━━┓\n",
              "┃<span style=\"font-weight: bold\"> Layer (type)                    </span>┃<span style=\"font-weight: bold\"> Output Shape           </span>┃<span style=\"font-weight: bold\">       Param # </span>┃\n",
              "┡━━━━━━━━━━━━━━━━━━━━━━━━━━━━━━━━━╇━━━━━━━━━━━━━━━━━━━━━━━━╇━━━━━━━━━━━━━━━┩\n",
              "│ time_distributed                │ (<span style=\"color: #00d7ff; text-decoration-color: #00d7ff\">None</span>, <span style=\"color: #00af00; text-decoration-color: #00af00\">10</span>, <span style=\"color: #00af00; text-decoration-color: #00af00\">896</span>, <span style=\"color: #00af00; text-decoration-color: #00af00\">32</span>)    │           <span style=\"color: #00af00; text-decoration-color: #00af00\">192</span> │\n",
              "│ (<span style=\"color: #0087ff; text-decoration-color: #0087ff\">TimeDistributed</span>)               │                        │               │\n",
              "├─────────────────────────────────┼────────────────────────┼───────────────┤\n",
              "│ time_distributed_1              │ (<span style=\"color: #00d7ff; text-decoration-color: #00d7ff\">None</span>, <span style=\"color: #00af00; text-decoration-color: #00af00\">10</span>, <span style=\"color: #00af00; text-decoration-color: #00af00\">448</span>, <span style=\"color: #00af00; text-decoration-color: #00af00\">32</span>)    │             <span style=\"color: #00af00; text-decoration-color: #00af00\">0</span> │\n",
              "│ (<span style=\"color: #0087ff; text-decoration-color: #0087ff\">TimeDistributed</span>)               │                        │               │\n",
              "├─────────────────────────────────┼────────────────────────┼───────────────┤\n",
              "│ time_distributed_2              │ (<span style=\"color: #00d7ff; text-decoration-color: #00d7ff\">None</span>, <span style=\"color: #00af00; text-decoration-color: #00af00\">10</span>, <span style=\"color: #00af00; text-decoration-color: #00af00\">444</span>, <span style=\"color: #00af00; text-decoration-color: #00af00\">64</span>)    │        <span style=\"color: #00af00; text-decoration-color: #00af00\">10,304</span> │\n",
              "│ (<span style=\"color: #0087ff; text-decoration-color: #0087ff\">TimeDistributed</span>)               │                        │               │\n",
              "├─────────────────────────────────┼────────────────────────┼───────────────┤\n",
              "│ time_distributed_3              │ (<span style=\"color: #00d7ff; text-decoration-color: #00d7ff\">None</span>, <span style=\"color: #00af00; text-decoration-color: #00af00\">10</span>, <span style=\"color: #00af00; text-decoration-color: #00af00\">222</span>, <span style=\"color: #00af00; text-decoration-color: #00af00\">64</span>)    │             <span style=\"color: #00af00; text-decoration-color: #00af00\">0</span> │\n",
              "│ (<span style=\"color: #0087ff; text-decoration-color: #0087ff\">TimeDistributed</span>)               │                        │               │\n",
              "├─────────────────────────────────┼────────────────────────┼───────────────┤\n",
              "│ time_distributed_4              │ (<span style=\"color: #00d7ff; text-decoration-color: #00d7ff\">None</span>, <span style=\"color: #00af00; text-decoration-color: #00af00\">10</span>, <span style=\"color: #00af00; text-decoration-color: #00af00\">14208</span>)      │             <span style=\"color: #00af00; text-decoration-color: #00af00\">0</span> │\n",
              "│ (<span style=\"color: #0087ff; text-decoration-color: #0087ff\">TimeDistributed</span>)               │                        │               │\n",
              "├─────────────────────────────────┼────────────────────────┼───────────────┤\n",
              "│ lstm_2 (<span style=\"color: #0087ff; text-decoration-color: #0087ff\">LSTM</span>)                   │ (<span style=\"color: #00d7ff; text-decoration-color: #00d7ff\">None</span>, <span style=\"color: #00af00; text-decoration-color: #00af00\">64</span>)             │     <span style=\"color: #00af00; text-decoration-color: #00af00\">3,653,888</span> │\n",
              "├─────────────────────────────────┼────────────────────────┼───────────────┤\n",
              "│ batch_normalization_11          │ (<span style=\"color: #00d7ff; text-decoration-color: #00d7ff\">None</span>, <span style=\"color: #00af00; text-decoration-color: #00af00\">64</span>)             │           <span style=\"color: #00af00; text-decoration-color: #00af00\">256</span> │\n",
              "│ (<span style=\"color: #0087ff; text-decoration-color: #0087ff\">BatchNormalization</span>)            │                        │               │\n",
              "├─────────────────────────────────┼────────────────────────┼───────────────┤\n",
              "│ dropout_8 (<span style=\"color: #0087ff; text-decoration-color: #0087ff\">Dropout</span>)             │ (<span style=\"color: #00d7ff; text-decoration-color: #00d7ff\">None</span>, <span style=\"color: #00af00; text-decoration-color: #00af00\">64</span>)             │             <span style=\"color: #00af00; text-decoration-color: #00af00\">0</span> │\n",
              "├─────────────────────────────────┼────────────────────────┼───────────────┤\n",
              "│ dense_12 (<span style=\"color: #0087ff; text-decoration-color: #0087ff\">Dense</span>)                │ (<span style=\"color: #00d7ff; text-decoration-color: #00d7ff\">None</span>, <span style=\"color: #00af00; text-decoration-color: #00af00\">64</span>)             │         <span style=\"color: #00af00; text-decoration-color: #00af00\">4,160</span> │\n",
              "├─────────────────────────────────┼────────────────────────┼───────────────┤\n",
              "│ dropout_9 (<span style=\"color: #0087ff; text-decoration-color: #0087ff\">Dropout</span>)             │ (<span style=\"color: #00d7ff; text-decoration-color: #00d7ff\">None</span>, <span style=\"color: #00af00; text-decoration-color: #00af00\">64</span>)             │             <span style=\"color: #00af00; text-decoration-color: #00af00\">0</span> │\n",
              "├─────────────────────────────────┼────────────────────────┼───────────────┤\n",
              "│ dense_13 (<span style=\"color: #0087ff; text-decoration-color: #0087ff\">Dense</span>)                │ (<span style=\"color: #00d7ff; text-decoration-color: #00d7ff\">None</span>, <span style=\"color: #00af00; text-decoration-color: #00af00\">4</span>)              │           <span style=\"color: #00af00; text-decoration-color: #00af00\">260</span> │\n",
              "└─────────────────────────────────┴────────────────────────┴───────────────┘\n",
              "</pre>\n"
            ]
          },
          "metadata": {}
        },
        {
          "output_type": "display_data",
          "data": {
            "text/plain": [
              "\u001b[1m Total params: \u001b[0m\u001b[38;5;34m3,669,060\u001b[0m (14.00 MB)\n"
            ],
            "text/html": [
              "<pre style=\"white-space:pre;overflow-x:auto;line-height:normal;font-family:Menlo,'DejaVu Sans Mono',consolas,'Courier New',monospace\"><span style=\"font-weight: bold\"> Total params: </span><span style=\"color: #00af00; text-decoration-color: #00af00\">3,669,060</span> (14.00 MB)\n",
              "</pre>\n"
            ]
          },
          "metadata": {}
        },
        {
          "output_type": "display_data",
          "data": {
            "text/plain": [
              "\u001b[1m Trainable params: \u001b[0m\u001b[38;5;34m3,668,932\u001b[0m (14.00 MB)\n"
            ],
            "text/html": [
              "<pre style=\"white-space:pre;overflow-x:auto;line-height:normal;font-family:Menlo,'DejaVu Sans Mono',consolas,'Courier New',monospace\"><span style=\"font-weight: bold\"> Trainable params: </span><span style=\"color: #00af00; text-decoration-color: #00af00\">3,668,932</span> (14.00 MB)\n",
              "</pre>\n"
            ]
          },
          "metadata": {}
        },
        {
          "output_type": "display_data",
          "data": {
            "text/plain": [
              "\u001b[1m Non-trainable params: \u001b[0m\u001b[38;5;34m128\u001b[0m (512.00 B)\n"
            ],
            "text/html": [
              "<pre style=\"white-space:pre;overflow-x:auto;line-height:normal;font-family:Menlo,'DejaVu Sans Mono',consolas,'Courier New',monospace\"><span style=\"font-weight: bold\"> Non-trainable params: </span><span style=\"color: #00af00; text-decoration-color: #00af00\">128</span> (512.00 B)\n",
              "</pre>\n"
            ]
          },
          "metadata": {}
        }
      ],
      "execution_count": 71,
      "source": [
        "from tensorflow.keras.models import Sequential\n",
        "from tensorflow.keras.layers import (\n",
        "    TimeDistributed, Conv1D, MaxPooling1D,\n",
        "    Flatten, LSTM, Dense, Dropout, BatchNormalization\n",
        ")\n",
        "\n",
        "model_cnn_lstm = Sequential([\n",
        "    # procesar cada ventana con Conv1D\n",
        "    TimeDistributed(Conv1D(32, 5, activation='relu'), input_shape=(n_seq, subseq_len, 1)),\n",
        "    TimeDistributed(MaxPooling1D(2)),\n",
        "    TimeDistributed(Conv1D(64, 5, activation='relu')),\n",
        "    TimeDistributed(MaxPooling1D(2)),\n",
        "    TimeDistributed(Flatten()),        # aplanar cada ventana\n",
        "\n",
        "    # LSTM sobre la secuencia de vectores\n",
        "    LSTM(64),\n",
        "    BatchNormalization(),\n",
        "    Dropout(0.5),\n",
        "\n",
        "    Dense(64, activation='relu'),\n",
        "    Dropout(0.5),\n",
        "    Dense(n_classes, activation='softmax')\n",
        "])\n",
        "\n",
        "model_cnn_lstm.compile(\n",
        "    loss='sparse_categorical_crossentropy',\n",
        "    optimizer='adam',\n",
        "    metrics=['accuracy']\n",
        ")\n",
        "model_cnn_lstm.summary()"
      ],
      "id": "b15d9ae7bda95443"
    },
    {
      "metadata": {
        "colab": {
          "base_uri": "https://localhost:8080/"
        },
        "id": "5a378231d5412cc7",
        "outputId": "b910ea3d-17bf-43f8-bfff-42fd50c2e24f"
      },
      "cell_type": "code",
      "outputs": [
        {
          "output_type": "stream",
          "name": "stdout",
          "text": [
            "Epoch 1/20\n",
            "\u001b[1m171/171\u001b[0m \u001b[32m━━━━━━━━━━━━━━━━━━━━\u001b[0m\u001b[37m\u001b[0m \u001b[1m9s\u001b[0m 23ms/step - accuracy: 0.4246 - loss: 1.5520 - val_accuracy: 0.5949 - val_loss: 1.0230 - learning_rate: 0.0010\n",
            "Epoch 2/20\n",
            "\u001b[1m171/171\u001b[0m \u001b[32m━━━━━━━━━━━━━━━━━━━━\u001b[0m\u001b[37m\u001b[0m \u001b[1m3s\u001b[0m 16ms/step - accuracy: 0.5440 - loss: 1.0823 - val_accuracy: 0.5949 - val_loss: 1.0754 - learning_rate: 0.0010\n",
            "Epoch 3/20\n",
            "\u001b[1m171/171\u001b[0m \u001b[32m━━━━━━━━━━━━━━━━━━━━\u001b[0m\u001b[37m\u001b[0m \u001b[1m3s\u001b[0m 16ms/step - accuracy: 0.5948 - loss: 1.0053 - val_accuracy: 0.5949 - val_loss: 1.0026 - learning_rate: 0.0010\n",
            "Epoch 4/20\n",
            "\u001b[1m171/171\u001b[0m \u001b[32m━━━━━━━━━━━━━━━━━━━━\u001b[0m\u001b[37m\u001b[0m \u001b[1m3s\u001b[0m 16ms/step - accuracy: 0.6058 - loss: 0.9852 - val_accuracy: 0.5949 - val_loss: 1.0050 - learning_rate: 0.0010\n",
            "Epoch 5/20\n",
            "\u001b[1m171/171\u001b[0m \u001b[32m━━━━━━━━━━━━━━━━━━━━\u001b[0m\u001b[37m\u001b[0m \u001b[1m3s\u001b[0m 16ms/step - accuracy: 0.6016 - loss: 0.9881 - val_accuracy: 0.5949 - val_loss: 1.1130 - learning_rate: 0.0010\n",
            "Epoch 6/20\n",
            "\u001b[1m171/171\u001b[0m \u001b[32m━━━━━━━━━━━━━━━━━━━━\u001b[0m\u001b[37m\u001b[0m \u001b[1m3s\u001b[0m 16ms/step - accuracy: 0.6013 - loss: 0.9934 - val_accuracy: 0.5949 - val_loss: 0.9887 - learning_rate: 0.0010\n",
            "Epoch 7/20\n",
            "\u001b[1m171/171\u001b[0m \u001b[32m━━━━━━━━━━━━━━━━━━━━\u001b[0m\u001b[37m\u001b[0m \u001b[1m3s\u001b[0m 16ms/step - accuracy: 0.5841 - loss: 1.0104 - val_accuracy: 0.5949 - val_loss: 0.9868 - learning_rate: 0.0010\n",
            "Epoch 8/20\n",
            "\u001b[1m171/171\u001b[0m \u001b[32m━━━━━━━━━━━━━━━━━━━━\u001b[0m\u001b[37m\u001b[0m \u001b[1m3s\u001b[0m 16ms/step - accuracy: 0.5889 - loss: 1.0071 - val_accuracy: 0.5949 - val_loss: 0.9798 - learning_rate: 0.0010\n",
            "Epoch 9/20\n",
            "\u001b[1m171/171\u001b[0m \u001b[32m━━━━━━━━━━━━━━━━━━━━\u001b[0m\u001b[37m\u001b[0m \u001b[1m3s\u001b[0m 16ms/step - accuracy: 0.5995 - loss: 0.9972 - val_accuracy: 0.5949 - val_loss: 0.9754 - learning_rate: 0.0010\n",
            "Epoch 10/20\n",
            "\u001b[1m171/171\u001b[0m \u001b[32m━━━━━━━━━━━━━━━━━━━━\u001b[0m\u001b[37m\u001b[0m \u001b[1m3s\u001b[0m 16ms/step - accuracy: 0.5977 - loss: 0.9764 - val_accuracy: 0.5949 - val_loss: 0.9787 - learning_rate: 0.0010\n",
            "Epoch 11/20\n",
            "\u001b[1m171/171\u001b[0m \u001b[32m━━━━━━━━━━━━━━━━━━━━\u001b[0m\u001b[37m\u001b[0m \u001b[1m3s\u001b[0m 16ms/step - accuracy: 0.5995 - loss: 0.9795 - val_accuracy: 0.5949 - val_loss: 0.9941 - learning_rate: 0.0010\n",
            "Epoch 12/20\n",
            "\u001b[1m169/171\u001b[0m \u001b[32m━━━━━━━━━━━━━━━━━━━\u001b[0m\u001b[37m━\u001b[0m \u001b[1m0s\u001b[0m 14ms/step - accuracy: 0.5868 - loss: 1.0049\n",
            "Epoch 12: ReduceLROnPlateau reducing learning rate to 0.0005000000237487257.\n",
            "\u001b[1m171/171\u001b[0m \u001b[32m━━━━━━━━━━━━━━━━━━━━\u001b[0m\u001b[37m\u001b[0m \u001b[1m3s\u001b[0m 16ms/step - accuracy: 0.5870 - loss: 1.0047 - val_accuracy: 0.5949 - val_loss: 0.9831 - learning_rate: 0.0010\n",
            "Epoch 13/20\n",
            "\u001b[1m171/171\u001b[0m \u001b[32m━━━━━━━━━━━━━━━━━━━━\u001b[0m\u001b[37m\u001b[0m \u001b[1m3s\u001b[0m 16ms/step - accuracy: 0.5948 - loss: 1.0042 - val_accuracy: 0.5949 - val_loss: 0.9756 - learning_rate: 5.0000e-04\n",
            "Epoch 14/20\n",
            "\u001b[1m171/171\u001b[0m \u001b[32m━━━━━━━━━━━━━━━━━━━━\u001b[0m\u001b[37m\u001b[0m \u001b[1m3s\u001b[0m 16ms/step - accuracy: 0.5872 - loss: 0.9989 - val_accuracy: 0.5949 - val_loss: 0.9752 - learning_rate: 5.0000e-04\n",
            "Epoch 15/20\n",
            "\u001b[1m171/171\u001b[0m \u001b[32m━━━━━━━━━━━━━━━━━━━━\u001b[0m\u001b[37m\u001b[0m \u001b[1m3s\u001b[0m 16ms/step - accuracy: 0.5879 - loss: 0.9973 - val_accuracy: 0.5949 - val_loss: 0.9808 - learning_rate: 5.0000e-04\n",
            "Epoch 16/20\n",
            "\u001b[1m171/171\u001b[0m \u001b[32m━━━━━━━━━━━━━━━━━━━━\u001b[0m\u001b[37m\u001b[0m \u001b[1m3s\u001b[0m 16ms/step - accuracy: 0.5839 - loss: 0.9884 - val_accuracy: 0.5949 - val_loss: 0.9761 - learning_rate: 5.0000e-04\n",
            "Epoch 17/20\n",
            "\u001b[1m169/171\u001b[0m \u001b[32m━━━━━━━━━━━━━━━━━━━\u001b[0m\u001b[37m━\u001b[0m \u001b[1m0s\u001b[0m 15ms/step - accuracy: 0.5947 - loss: 0.9872\n",
            "Epoch 17: ReduceLROnPlateau reducing learning rate to 0.0002500000118743628.\n",
            "\u001b[1m171/171\u001b[0m \u001b[32m━━━━━━━━━━━━━━━━━━━━\u001b[0m\u001b[37m\u001b[0m \u001b[1m3s\u001b[0m 16ms/step - accuracy: 0.5947 - loss: 0.9872 - val_accuracy: 0.5949 - val_loss: 1.0233 - learning_rate: 5.0000e-04\n",
            "Epoch 18/20\n",
            "\u001b[1m171/171\u001b[0m \u001b[32m━━━━━━━━━━━━━━━━━━━━\u001b[0m\u001b[37m\u001b[0m \u001b[1m3s\u001b[0m 16ms/step - accuracy: 0.5990 - loss: 0.9938 - val_accuracy: 0.5949 - val_loss: 1.0024 - learning_rate: 2.5000e-04\n",
            "Epoch 19/20\n",
            "\u001b[1m171/171\u001b[0m \u001b[32m━━━━━━━━━━━━━━━━━━━━\u001b[0m\u001b[37m\u001b[0m \u001b[1m3s\u001b[0m 16ms/step - accuracy: 0.5855 - loss: 1.0002 - val_accuracy: 0.5949 - val_loss: 0.9749 - learning_rate: 2.5000e-04\n",
            "Epoch 20/20\n",
            "\u001b[1m171/171\u001b[0m \u001b[32m━━━━━━━━━━━━━━━━━━━━\u001b[0m\u001b[37m\u001b[0m \u001b[1m3s\u001b[0m 16ms/step - accuracy: 0.5918 - loss: 0.9811 - val_accuracy: 0.5949 - val_loss: 0.9737 - learning_rate: 2.5000e-04\n",
            "Restoring model weights from the end of the best epoch: 20.\n"
          ]
        }
      ],
      "execution_count": 72,
      "source": [
        "# Callbacks\n",
        "from tensorflow.keras.callbacks import EarlyStopping, ReduceLROnPlateau\n",
        "es = EarlyStopping(monitor='val_loss', patience=5, restore_best_weights=True, verbose=1)\n",
        "rlr = ReduceLROnPlateau(monitor='val_loss', factor=0.5, patience=3, min_lr=1e-5, verbose=1)\n",
        "\n",
        "# Entrenamiento\n",
        "history_cnn_lstm = model_cnn_lstm.fit(\n",
        "    X_train_cnn_lstm, y_train_enc,\n",
        "    validation_data=(X_val_cnn_lstm, y_val_enc),\n",
        "    epochs=20, batch_size=32,\n",
        "    callbacks=[es, rlr],\n",
        "    verbose=1\n",
        ")"
      ],
      "id": "5a378231d5412cc7"
    },
    {
      "metadata": {
        "colab": {
          "base_uri": "https://localhost:8080/"
        },
        "id": "839bb866b49293e5",
        "outputId": "88dac179-de2f-48d9-9cba-c9c407630020"
      },
      "cell_type": "code",
      "outputs": [
        {
          "output_type": "stream",
          "name": "stdout",
          "text": [
            "▶ Val acc (CNN-LSTM): 0.595\n",
            "\u001b[1m43/43\u001b[0m \u001b[32m━━━━━━━━━━━━━━━━━━━━\u001b[0m\u001b[37m\u001b[0m \u001b[1m1s\u001b[0m 19ms/step\n",
            "**Validación CNN-LSTM**\n",
            "              precision    recall  f1-score   support\n",
            "\n",
            "           ~     0.0000    0.0000    0.0000        45\n",
            "           A     0.0000    0.0000    0.0000       121\n",
            "           N     0.5949    1.0000    0.7460       812\n",
            "           O     0.0000    0.0000    0.0000       387\n",
            "\n",
            "    accuracy                         0.5949      1365\n",
            "   macro avg     0.1487    0.2500    0.1865      1365\n",
            "weighted avg     0.3539    0.5949    0.4438      1365\n",
            "\n"
          ]
        },
        {
          "output_type": "stream",
          "name": "stderr",
          "text": [
            "/usr/local/lib/python3.11/dist-packages/sklearn/metrics/_classification.py:1565: UndefinedMetricWarning: Precision is ill-defined and being set to 0.0 in labels with no predicted samples. Use `zero_division` parameter to control this behavior.\n",
            "  _warn_prf(average, modifier, f\"{metric.capitalize()} is\", len(result))\n",
            "/usr/local/lib/python3.11/dist-packages/sklearn/metrics/_classification.py:1565: UndefinedMetricWarning: Precision is ill-defined and being set to 0.0 in labels with no predicted samples. Use `zero_division` parameter to control this behavior.\n",
            "  _warn_prf(average, modifier, f\"{metric.capitalize()} is\", len(result))\n",
            "/usr/local/lib/python3.11/dist-packages/sklearn/metrics/_classification.py:1565: UndefinedMetricWarning: Precision is ill-defined and being set to 0.0 in labels with no predicted samples. Use `zero_division` parameter to control this behavior.\n",
            "  _warn_prf(average, modifier, f\"{metric.capitalize()} is\", len(result))\n"
          ]
        }
      ],
      "execution_count": 74,
      "source": [
        "# Validación\n",
        "val_acc = history_cnn_lstm.history['val_accuracy'][-1]\n",
        "print(f\"▶ Val acc (CNN-LSTM): {val_acc:.3f}\")\n",
        "\n",
        "y_val_pred = model_cnn_lstm.predict(X_val_cnn_lstm).argmax(axis=1)\n",
        "from sklearn.metrics import classification_report\n",
        "print(\"**Validación CNN-LSTM**\")\n",
        "print(classification_report(y_val_enc, y_val_pred, digits=4,\n",
        "                            target_names=['~','A','N','O']))"
      ],
      "id": "839bb866b49293e5"
    },
    {
      "metadata": {
        "id": "5494e9d39d26bb5d"
      },
      "cell_type": "markdown",
      "source": [],
      "id": "5494e9d39d26bb5d"
    },
    {
      "metadata": {
        "id": "596e755d5df544f4"
      },
      "cell_type": "markdown",
      "source": [
        "### Arquitectura ConvLSTM2D\n",
        "\n",
        "- Convertimos cada serie en una secuencia de “mini-imágenes” (1×900) y aplicamos **ConvLSTM2D**.\n",
        "- Flatten + densas para la clasificación.\n"
      ],
      "id": "596e755d5df544f4"
    },
    {
      "metadata": {
        "colab": {
          "base_uri": "https://localhost:8080/",
          "height": 831
        },
        "id": "27048c3b8335ade0",
        "outputId": "ba2cb039-b6d4-43f5-fa19-56c471959290"
      },
      "cell_type": "code",
      "outputs": [
        {
          "output_type": "stream",
          "name": "stderr",
          "text": [
            "/usr/local/lib/python3.11/dist-packages/keras/src/layers/rnn/rnn.py:200: UserWarning: Do not pass an `input_shape`/`input_dim` argument to a layer. When using Sequential models, prefer using an `Input(shape)` object as the first layer in the model instead.\n",
            "  super().__init__(**kwargs)\n"
          ]
        },
        {
          "output_type": "display_data",
          "data": {
            "text/plain": [
              "\u001b[1mModel: \"sequential_7\"\u001b[0m\n"
            ],
            "text/html": [
              "<pre style=\"white-space:pre;overflow-x:auto;line-height:normal;font-family:Menlo,'DejaVu Sans Mono',consolas,'Courier New',monospace\"><span style=\"font-weight: bold\">Model: \"sequential_7\"</span>\n",
              "</pre>\n"
            ]
          },
          "metadata": {}
        },
        {
          "output_type": "display_data",
          "data": {
            "text/plain": [
              "┏━━━━━━━━━━━━━━━━━━━━━━━━━━━━━━━━━┳━━━━━━━━━━━━━━━━━━━━━━━━┳━━━━━━━━━━━━━━━┓\n",
              "┃\u001b[1m \u001b[0m\u001b[1mLayer (type)                   \u001b[0m\u001b[1m \u001b[0m┃\u001b[1m \u001b[0m\u001b[1mOutput Shape          \u001b[0m\u001b[1m \u001b[0m┃\u001b[1m \u001b[0m\u001b[1m      Param #\u001b[0m\u001b[1m \u001b[0m┃\n",
              "┡━━━━━━━━━━━━━━━━━━━━━━━━━━━━━━━━━╇━━━━━━━━━━━━━━━━━━━━━━━━╇━━━━━━━━━━━━━━━┩\n",
              "│ conv_lstm2d (\u001b[38;5;33mConvLSTM2D\u001b[0m)        │ (\u001b[38;5;45mNone\u001b[0m, \u001b[38;5;34m1\u001b[0m, \u001b[38;5;34m898\u001b[0m, \u001b[38;5;34m32\u001b[0m)     │        \u001b[38;5;34m12,800\u001b[0m │\n",
              "├─────────────────────────────────┼────────────────────────┼───────────────┤\n",
              "│ batch_normalization_12          │ (\u001b[38;5;45mNone\u001b[0m, \u001b[38;5;34m1\u001b[0m, \u001b[38;5;34m898\u001b[0m, \u001b[38;5;34m32\u001b[0m)     │           \u001b[38;5;34m128\u001b[0m │\n",
              "│ (\u001b[38;5;33mBatchNormalization\u001b[0m)            │                        │               │\n",
              "├─────────────────────────────────┼────────────────────────┼───────────────┤\n",
              "│ dropout_10 (\u001b[38;5;33mDropout\u001b[0m)            │ (\u001b[38;5;45mNone\u001b[0m, \u001b[38;5;34m1\u001b[0m, \u001b[38;5;34m898\u001b[0m, \u001b[38;5;34m32\u001b[0m)     │             \u001b[38;5;34m0\u001b[0m │\n",
              "├─────────────────────────────────┼────────────────────────┼───────────────┤\n",
              "│ flatten_5 (\u001b[38;5;33mFlatten\u001b[0m)             │ (\u001b[38;5;45mNone\u001b[0m, \u001b[38;5;34m28736\u001b[0m)          │             \u001b[38;5;34m0\u001b[0m │\n",
              "├─────────────────────────────────┼────────────────────────┼───────────────┤\n",
              "│ dense_14 (\u001b[38;5;33mDense\u001b[0m)                │ (\u001b[38;5;45mNone\u001b[0m, \u001b[38;5;34m64\u001b[0m)             │     \u001b[38;5;34m1,839,168\u001b[0m │\n",
              "├─────────────────────────────────┼────────────────────────┼───────────────┤\n",
              "│ dropout_11 (\u001b[38;5;33mDropout\u001b[0m)            │ (\u001b[38;5;45mNone\u001b[0m, \u001b[38;5;34m64\u001b[0m)             │             \u001b[38;5;34m0\u001b[0m │\n",
              "├─────────────────────────────────┼────────────────────────┼───────────────┤\n",
              "│ dense_15 (\u001b[38;5;33mDense\u001b[0m)                │ (\u001b[38;5;45mNone\u001b[0m, \u001b[38;5;34m4\u001b[0m)              │           \u001b[38;5;34m260\u001b[0m │\n",
              "└─────────────────────────────────┴────────────────────────┴───────────────┘\n"
            ],
            "text/html": [
              "<pre style=\"white-space:pre;overflow-x:auto;line-height:normal;font-family:Menlo,'DejaVu Sans Mono',consolas,'Courier New',monospace\">┏━━━━━━━━━━━━━━━━━━━━━━━━━━━━━━━━━┳━━━━━━━━━━━━━━━━━━━━━━━━┳━━━━━━━━━━━━━━━┓\n",
              "┃<span style=\"font-weight: bold\"> Layer (type)                    </span>┃<span style=\"font-weight: bold\"> Output Shape           </span>┃<span style=\"font-weight: bold\">       Param # </span>┃\n",
              "┡━━━━━━━━━━━━━━━━━━━━━━━━━━━━━━━━━╇━━━━━━━━━━━━━━━━━━━━━━━━╇━━━━━━━━━━━━━━━┩\n",
              "│ conv_lstm2d (<span style=\"color: #0087ff; text-decoration-color: #0087ff\">ConvLSTM2D</span>)        │ (<span style=\"color: #00d7ff; text-decoration-color: #00d7ff\">None</span>, <span style=\"color: #00af00; text-decoration-color: #00af00\">1</span>, <span style=\"color: #00af00; text-decoration-color: #00af00\">898</span>, <span style=\"color: #00af00; text-decoration-color: #00af00\">32</span>)     │        <span style=\"color: #00af00; text-decoration-color: #00af00\">12,800</span> │\n",
              "├─────────────────────────────────┼────────────────────────┼───────────────┤\n",
              "│ batch_normalization_12          │ (<span style=\"color: #00d7ff; text-decoration-color: #00d7ff\">None</span>, <span style=\"color: #00af00; text-decoration-color: #00af00\">1</span>, <span style=\"color: #00af00; text-decoration-color: #00af00\">898</span>, <span style=\"color: #00af00; text-decoration-color: #00af00\">32</span>)     │           <span style=\"color: #00af00; text-decoration-color: #00af00\">128</span> │\n",
              "│ (<span style=\"color: #0087ff; text-decoration-color: #0087ff\">BatchNormalization</span>)            │                        │               │\n",
              "├─────────────────────────────────┼────────────────────────┼───────────────┤\n",
              "│ dropout_10 (<span style=\"color: #0087ff; text-decoration-color: #0087ff\">Dropout</span>)            │ (<span style=\"color: #00d7ff; text-decoration-color: #00d7ff\">None</span>, <span style=\"color: #00af00; text-decoration-color: #00af00\">1</span>, <span style=\"color: #00af00; text-decoration-color: #00af00\">898</span>, <span style=\"color: #00af00; text-decoration-color: #00af00\">32</span>)     │             <span style=\"color: #00af00; text-decoration-color: #00af00\">0</span> │\n",
              "├─────────────────────────────────┼────────────────────────┼───────────────┤\n",
              "│ flatten_5 (<span style=\"color: #0087ff; text-decoration-color: #0087ff\">Flatten</span>)             │ (<span style=\"color: #00d7ff; text-decoration-color: #00d7ff\">None</span>, <span style=\"color: #00af00; text-decoration-color: #00af00\">28736</span>)          │             <span style=\"color: #00af00; text-decoration-color: #00af00\">0</span> │\n",
              "├─────────────────────────────────┼────────────────────────┼───────────────┤\n",
              "│ dense_14 (<span style=\"color: #0087ff; text-decoration-color: #0087ff\">Dense</span>)                │ (<span style=\"color: #00d7ff; text-decoration-color: #00d7ff\">None</span>, <span style=\"color: #00af00; text-decoration-color: #00af00\">64</span>)             │     <span style=\"color: #00af00; text-decoration-color: #00af00\">1,839,168</span> │\n",
              "├─────────────────────────────────┼────────────────────────┼───────────────┤\n",
              "│ dropout_11 (<span style=\"color: #0087ff; text-decoration-color: #0087ff\">Dropout</span>)            │ (<span style=\"color: #00d7ff; text-decoration-color: #00d7ff\">None</span>, <span style=\"color: #00af00; text-decoration-color: #00af00\">64</span>)             │             <span style=\"color: #00af00; text-decoration-color: #00af00\">0</span> │\n",
              "├─────────────────────────────────┼────────────────────────┼───────────────┤\n",
              "│ dense_15 (<span style=\"color: #0087ff; text-decoration-color: #0087ff\">Dense</span>)                │ (<span style=\"color: #00d7ff; text-decoration-color: #00d7ff\">None</span>, <span style=\"color: #00af00; text-decoration-color: #00af00\">4</span>)              │           <span style=\"color: #00af00; text-decoration-color: #00af00\">260</span> │\n",
              "└─────────────────────────────────┴────────────────────────┴───────────────┘\n",
              "</pre>\n"
            ]
          },
          "metadata": {}
        },
        {
          "output_type": "display_data",
          "data": {
            "text/plain": [
              "\u001b[1m Total params: \u001b[0m\u001b[38;5;34m1,852,356\u001b[0m (7.07 MB)\n"
            ],
            "text/html": [
              "<pre style=\"white-space:pre;overflow-x:auto;line-height:normal;font-family:Menlo,'DejaVu Sans Mono',consolas,'Courier New',monospace\"><span style=\"font-weight: bold\"> Total params: </span><span style=\"color: #00af00; text-decoration-color: #00af00\">1,852,356</span> (7.07 MB)\n",
              "</pre>\n"
            ]
          },
          "metadata": {}
        },
        {
          "output_type": "display_data",
          "data": {
            "text/plain": [
              "\u001b[1m Trainable params: \u001b[0m\u001b[38;5;34m1,852,292\u001b[0m (7.07 MB)\n"
            ],
            "text/html": [
              "<pre style=\"white-space:pre;overflow-x:auto;line-height:normal;font-family:Menlo,'DejaVu Sans Mono',consolas,'Courier New',monospace\"><span style=\"font-weight: bold\"> Trainable params: </span><span style=\"color: #00af00; text-decoration-color: #00af00\">1,852,292</span> (7.07 MB)\n",
              "</pre>\n"
            ]
          },
          "metadata": {}
        },
        {
          "output_type": "display_data",
          "data": {
            "text/plain": [
              "\u001b[1m Non-trainable params: \u001b[0m\u001b[38;5;34m64\u001b[0m (256.00 B)\n"
            ],
            "text/html": [
              "<pre style=\"white-space:pre;overflow-x:auto;line-height:normal;font-family:Menlo,'DejaVu Sans Mono',consolas,'Courier New',monospace\"><span style=\"font-weight: bold\"> Non-trainable params: </span><span style=\"color: #00af00; text-decoration-color: #00af00\">64</span> (256.00 B)\n",
              "</pre>\n"
            ]
          },
          "metadata": {}
        },
        {
          "output_type": "stream",
          "name": "stdout",
          "text": [
            "Epoch 1/20\n",
            "\u001b[1m342/342\u001b[0m \u001b[32m━━━━━━━━━━━━━━━━━━━━\u001b[0m\u001b[37m\u001b[0m \u001b[1m24s\u001b[0m 54ms/step - accuracy: 0.4950 - loss: 2.2168 - val_accuracy: 0.5949 - val_loss: 1.0026 - learning_rate: 0.0010\n",
            "Epoch 2/20\n",
            "\u001b[1m342/342\u001b[0m \u001b[32m━━━━━━━━━━━━━━━━━━━━\u001b[0m\u001b[37m\u001b[0m \u001b[1m14s\u001b[0m 41ms/step - accuracy: 0.5832 - loss: 1.0365 - val_accuracy: 0.5971 - val_loss: 0.9667 - learning_rate: 0.0010\n",
            "Epoch 3/20\n",
            "\u001b[1m342/342\u001b[0m \u001b[32m━━━━━━━━━━━━━━━━━━━━\u001b[0m\u001b[37m\u001b[0m \u001b[1m14s\u001b[0m 41ms/step - accuracy: 0.5921 - loss: 0.9978 - val_accuracy: 0.5978 - val_loss: 1.0022 - learning_rate: 0.0010\n",
            "Epoch 4/20\n",
            "\u001b[1m342/342\u001b[0m \u001b[32m━━━━━━━━━━━━━━━━━━━━\u001b[0m\u001b[37m\u001b[0m \u001b[1m14s\u001b[0m 41ms/step - accuracy: 0.6138 - loss: 0.9471 - val_accuracy: 0.5956 - val_loss: 0.9877 - learning_rate: 0.0010\n",
            "Epoch 5/20\n",
            "\u001b[1m342/342\u001b[0m \u001b[32m━━━━━━━━━━━━━━━━━━━━\u001b[0m\u001b[37m\u001b[0m \u001b[1m14s\u001b[0m 40ms/step - accuracy: 0.6116 - loss: 0.9338 - val_accuracy: 0.5963 - val_loss: 0.9573 - learning_rate: 0.0010\n",
            "Epoch 6/20\n",
            "\u001b[1m342/342\u001b[0m \u001b[32m━━━━━━━━━━━━━━━━━━━━\u001b[0m\u001b[37m\u001b[0m \u001b[1m14s\u001b[0m 41ms/step - accuracy: 0.6190 - loss: 0.9071 - val_accuracy: 0.5919 - val_loss: 0.9884 - learning_rate: 0.0010\n",
            "Epoch 7/20\n",
            "\u001b[1m342/342\u001b[0m \u001b[32m━━━━━━━━━━━━━━━━━━━━\u001b[0m\u001b[37m\u001b[0m \u001b[1m14s\u001b[0m 40ms/step - accuracy: 0.6220 - loss: 0.8789 - val_accuracy: 0.5897 - val_loss: 1.0704 - learning_rate: 0.0010\n",
            "Epoch 8/20\n",
            "\u001b[1m341/342\u001b[0m \u001b[32m━━━━━━━━━━━━━━━━━━━\u001b[0m\u001b[37m━\u001b[0m \u001b[1m0s\u001b[0m 40ms/step - accuracy: 0.6416 - loss: 0.8454\n",
            "Epoch 8: ReduceLROnPlateau reducing learning rate to 0.0005000000237487257.\n",
            "\u001b[1m342/342\u001b[0m \u001b[32m━━━━━━━━━━━━━━━━━━━━\u001b[0m\u001b[37m\u001b[0m \u001b[1m14s\u001b[0m 40ms/step - accuracy: 0.6415 - loss: 0.8456 - val_accuracy: 0.5824 - val_loss: 1.0281 - learning_rate: 0.0010\n",
            "Epoch 9/20\n",
            "\u001b[1m342/342\u001b[0m \u001b[32m━━━━━━━━━━━━━━━━━━━━\u001b[0m\u001b[37m\u001b[0m \u001b[1m14s\u001b[0m 40ms/step - accuracy: 0.6390 - loss: 0.8372 - val_accuracy: 0.5905 - val_loss: 1.0312 - learning_rate: 5.0000e-04\n",
            "Epoch 10/20\n",
            "\u001b[1m342/342\u001b[0m \u001b[32m━━━━━━━━━━━━━━━━━━━━\u001b[0m\u001b[37m\u001b[0m \u001b[1m14s\u001b[0m 41ms/step - accuracy: 0.6535 - loss: 0.7921 - val_accuracy: 0.5626 - val_loss: 1.0768 - learning_rate: 5.0000e-04\n",
            "Epoch 10: early stopping\n",
            "Restoring model weights from the end of the best epoch: 5.\n"
          ]
        }
      ],
      "execution_count": 75,
      "source": [
        "from tensorflow.keras.models import Sequential\n",
        "from tensorflow.keras.layers import ConvLSTM2D, Flatten\n",
        "\n",
        "model_conv_lstm = Sequential([\n",
        "    # timesteps=n_seq, filas=1, columnas=900, canales=1\n",
        "    ConvLSTM2D(32, kernel_size=(1,3), activation='relu',\n",
        "               input_shape=(n_seq,1,subseq_len,1),\n",
        "               return_sequences=False),\n",
        "    BatchNormalization(),\n",
        "    Dropout(0.5),\n",
        "\n",
        "    Flatten(),\n",
        "    Dense(64, activation='relu'),\n",
        "    Dropout(0.5),\n",
        "    Dense(n_classes, activation='softmax')\n",
        "])\n",
        "\n",
        "model_conv_lstm.compile(\n",
        "    loss='sparse_categorical_crossentropy',\n",
        "    optimizer='adam',\n",
        "    metrics=['accuracy']\n",
        ")\n",
        "model_conv_lstm.summary()\n",
        "\n",
        "# Entrenamiento\n",
        "history_conv_lstm = model_conv_lstm.fit(\n",
        "    X_train_conv_lstm, y_train_enc,\n",
        "    validation_data=(X_val_conv_lstm, y_val_enc),\n",
        "    epochs=20, batch_size=16,   # batch más pequeño por memoria\n",
        "    callbacks=[es, rlr],\n",
        "    verbose=1\n",
        ")"
      ],
      "id": "27048c3b8335ade0"
    },
    {
      "metadata": {
        "colab": {
          "base_uri": "https://localhost:8080/"
        },
        "id": "edcaf2625b1e1aff",
        "outputId": "f639b8fa-39c2-43fa-f250-76190dada2a9"
      },
      "cell_type": "code",
      "outputs": [
        {
          "output_type": "stream",
          "name": "stdout",
          "text": [
            "▶ Val acc (ConvLSTM): 0.563\n",
            "\u001b[1m43/43\u001b[0m \u001b[32m━━━━━━━━━━━━━━━━━━━━\u001b[0m\u001b[37m\u001b[0m \u001b[1m2s\u001b[0m 27ms/step\n",
            "**Validación ConvLSTM**\n",
            "              precision    recall  f1-score   support\n",
            "\n",
            "           ~     0.7500    0.1333    0.2264        45\n",
            "           A     0.0000    0.0000    0.0000       121\n",
            "           N     0.6014    0.9643    0.7408       812\n",
            "           O     0.4545    0.0646    0.1131       387\n",
            "\n",
            "    accuracy                         0.5963      1365\n",
            "   macro avg     0.4515    0.2906    0.2701      1365\n",
            "weighted avg     0.5113    0.5963    0.4802      1365\n",
            "\n"
          ]
        },
        {
          "output_type": "stream",
          "name": "stderr",
          "text": [
            "/usr/local/lib/python3.11/dist-packages/sklearn/metrics/_classification.py:1565: UndefinedMetricWarning: Precision is ill-defined and being set to 0.0 in labels with no predicted samples. Use `zero_division` parameter to control this behavior.\n",
            "  _warn_prf(average, modifier, f\"{metric.capitalize()} is\", len(result))\n",
            "/usr/local/lib/python3.11/dist-packages/sklearn/metrics/_classification.py:1565: UndefinedMetricWarning: Precision is ill-defined and being set to 0.0 in labels with no predicted samples. Use `zero_division` parameter to control this behavior.\n",
            "  _warn_prf(average, modifier, f\"{metric.capitalize()} is\", len(result))\n",
            "/usr/local/lib/python3.11/dist-packages/sklearn/metrics/_classification.py:1565: UndefinedMetricWarning: Precision is ill-defined and being set to 0.0 in labels with no predicted samples. Use `zero_division` parameter to control this behavior.\n",
            "  _warn_prf(average, modifier, f\"{metric.capitalize()} is\", len(result))\n"
          ]
        }
      ],
      "execution_count": 76,
      "source": [
        "# Validación\n",
        "val_acc2 = history_conv_lstm.history['val_accuracy'][-1]\n",
        "print(f\"▶ Val acc (ConvLSTM): {val_acc2:.3f}\")\n",
        "\n",
        "y_val_pred2 = model_conv_lstm.predict(X_val_conv_lstm).argmax(axis=1)\n",
        "print(\"**Validación ConvLSTM**\")\n",
        "print(classification_report(y_val_enc, y_val_pred2, digits=4,\n",
        "                            target_names=['~','A','N','O']))\n"
      ],
      "id": "edcaf2625b1e1aff"
    },
    {
      "metadata": {
        "id": "2d74f43deb73cddb"
      },
      "cell_type": "markdown",
      "source": [
        "## Ejercicio 7:\n",
        "\n",
        "Compara el rendimiento de los diferentes modelos de clasificación multiclase utilizando diferentes métricas de evaluación. Usa métricas como precisión, recall y F1-score. ¿Cuál de los modelos ofrece la mejor precisión? ¿Hay diferencias significativas en términos de rendimiento y complejidad computacional entre los modelos? Además, para cada algoritmo calcule el score mostrado en la parte inicial \\$F\\_1\\$."
      ],
      "id": "2d74f43deb73cddb"
    },
    {
      "metadata": {
        "id": "34ce6b10f89b9a59"
      },
      "cell_type": "code",
      "outputs": [],
      "execution_count": 82,
      "source": [
        "model_specs = {\n",
        "    # Clásicos ML (no reshape)\n",
        "    \"KNN\":                  (knn,          None),\n",
        "    \"Random Forest\":        (rf,           None),\n",
        "    \"Balanced RF\":          (brf,          None),\n",
        "    \"RF pesos manuales\":    (clf,          None),\n",
        "    \"XGBoost\":              (model_xgb,    None),\n",
        "    \"SVC\":                  (svc,          None),\n",
        "    \"LightGBM\":             (model_lgbm,   None),\n",
        "\n",
        "    # Redes neuronales\n",
        "    \"CNN básica\":           (model_cnn,        None),\n",
        "    \"CNN+BatchNorm\":        (model_cnn2,       None),\n",
        "    \"CNN + Focal Loss\":     (model_focal,      None),\n",
        "    \"CNN + Augmentation\":   (model_aug,        None),\n",
        "    \"LSTM\":                 (model_lstm,       lambda x: x.reshape(-1, 9000, 1)),\n",
        "    \"BiLSTM\":               (model_bi,         lambda x: x.reshape(-1, 9000, 1)),\n",
        "    \"CNN-LSTM\":             (model_cnn_lstm,   lambda x: x.reshape(-1, n_seq, subseq_len, 1)),\n",
        "    \"ConvLSTM2D\":           (model_conv_lstm,  lambda x: x.reshape(-1, n_seq, 1, subseq_len, 1)),\n",
        "}"
      ],
      "id": "34ce6b10f89b9a59"
    },
    {
      "source": [
        "model_specs = {\n",
        "    # Clásicos ML (no reshape)\n",
        "    \"KNN\":                  (knn,          None),\n",
        "    \"Random Forest\":        (rf,           None),\n",
        "    \"Balanced RF\":          (brf,          None),\n",
        "    \"RF pesos manuales\":    (clf,          None),\n",
        "    \"XGBoost\":              (model_xgb,    None),\n",
        "    \"SVC\":                  (svc,          None),\n",
        "    \"LightGBM\":             (model_lgbm,   None),\n",
        "\n",
        "    # Redes neuronales\n",
        "    \"CNN básica\":           (model_cnn,        None),\n",
        "    \"CNN+BatchNorm\":        (model_cnn2,       None),\n",
        "    \"CNN + Focal Loss\":     (model_focal,      None),\n",
        "    \"CNN + Augmentation\":   (model_aug,        None),\n",
        "    \"LSTM\":                 (model_lstm,       lambda x: x.reshape(-1, 9000, 1)),\n",
        "    \"BiLSTM\":               (model_bi,         lambda x: x.reshape(-1, 9000, 1)),\n",
        "    \"CNN-LSTM\":             (model_cnn_lstm,   lambda x: x.reshape(-1, n_seq, subseq_len, 1)),\n",
        "    \"ConvLSTM2D\":           (model_conv_lstm,  lambda x: x.reshape(-1, n_seq, 1, subseq_len, 1)),\n",
        "}"
      ],
      "cell_type": "code",
      "metadata": {
        "id": "TfSUp77JV8b2"
      },
      "id": "TfSUp77JV8b2",
      "execution_count": 80,
      "outputs": []
    },
    {
      "metadata": {
        "colab": {
          "base_uri": "https://localhost:8080/",
          "height": 755
        },
        "id": "312a153896b910d1",
        "outputId": "fe99e865-4afd-4869-82d0-8ef43fab3035"
      },
      "cell_type": "code",
      "outputs": [
        {
          "output_type": "stream",
          "name": "stderr",
          "text": [
            "/usr/local/lib/python3.11/dist-packages/sklearn/utils/deprecation.py:151: FutureWarning: 'force_all_finite' was renamed to 'ensure_all_finite' in 1.6 and will be removed in 1.8.\n",
            "  warnings.warn(\n"
          ]
        },
        {
          "output_type": "stream",
          "name": "stdout",
          "text": [
            "\u001b[1m43/43\u001b[0m \u001b[32m━━━━━━━━━━━━━━━━━━━━\u001b[0m\u001b[37m\u001b[0m \u001b[1m1s\u001b[0m 11ms/step\n",
            "\u001b[1m43/43\u001b[0m \u001b[32m━━━━━━━━━━━━━━━━━━━━\u001b[0m\u001b[37m\u001b[0m \u001b[1m1s\u001b[0m 15ms/step\n",
            "\u001b[1m43/43\u001b[0m \u001b[32m━━━━━━━━━━━━━━━━━━━━\u001b[0m\u001b[37m\u001b[0m \u001b[1m1s\u001b[0m 13ms/step\n",
            "\u001b[1m43/43\u001b[0m \u001b[32m━━━━━━━━━━━━━━━━━━━━\u001b[0m\u001b[37m\u001b[0m \u001b[1m1s\u001b[0m 13ms/step\n",
            "\u001b[1m43/43\u001b[0m \u001b[32m━━━━━━━━━━━━━━━━━━━━\u001b[0m\u001b[37m\u001b[0m \u001b[1m5s\u001b[0m 120ms/step\n",
            "\u001b[1m43/43\u001b[0m \u001b[32m━━━━━━━━━━━━━━━━━━━━\u001b[0m\u001b[37m\u001b[0m \u001b[1m10s\u001b[0m 237ms/step\n",
            "\u001b[1m43/43\u001b[0m \u001b[32m━━━━━━━━━━━━━━━━━━━━\u001b[0m\u001b[37m\u001b[0m \u001b[1m1s\u001b[0m 19ms/step\n",
            "\u001b[1m43/43\u001b[0m \u001b[32m━━━━━━━━━━━━━━━━━━━━\u001b[0m\u001b[37m\u001b[0m \u001b[1m2s\u001b[0m 22ms/step\n"
          ]
        },
        {
          "output_type": "execute_result",
          "data": {
            "text/plain": [
              "                      prec_~  recall_~      f1_~    prec_A  recall_A  \\\n",
              "CNN básica          0.105263  0.133333  0.117647  0.144928  0.082645   \n",
              "KNN                 0.025000  0.044444  0.032000  0.050000  0.008264   \n",
              "LSTM                0.023256  0.044444  0.030534  0.000000  0.000000   \n",
              "BiLSTM              0.050000  0.022222  0.030769  0.000000  0.000000   \n",
              "XGBoost             0.050343  0.488889  0.091286  0.102564  0.231405   \n",
              "Random Forest       0.000000  0.000000  0.000000  0.000000  0.000000   \n",
              "CNN+BatchNorm       0.500000  0.022222  0.042553  0.000000  0.000000   \n",
              "RF pesos manuales   0.250000  0.022222  0.040816  0.000000  0.000000   \n",
              "CNN-LSTM            0.000000  0.000000  0.000000  0.000000  0.000000   \n",
              "CNN + Focal Loss    0.000000  0.000000  0.000000  0.000000  0.000000   \n",
              "CNN + Augmentation  0.061185  0.711111  0.112676  0.116667  0.057851   \n",
              "Balanced RF         0.042857  0.800000  0.081356  0.000000  0.000000   \n",
              "LightGBM            0.048837  0.933333  0.092818  0.000000  0.000000   \n",
              "SVC                 0.000000  0.000000  0.000000  0.000000  0.000000   \n",
              "ConvLSTM2D          0.034948  0.977778  0.067485  0.000000  0.000000   \n",
              "\n",
              "                        f1_A    prec_N  recall_N      f1_N    prec_O  \\\n",
              "CNN básica          0.105263  0.595683  0.509852  0.549436  0.292279   \n",
              "KNN                 0.014184  0.608280  0.705665  0.653364  0.315789   \n",
              "LSTM                0.000000  0.586473  0.747537  0.657282  0.290984   \n",
              "BiLSTM              0.000000  0.589534  0.887931  0.708600  0.229508   \n",
              "XGBoost             0.142132  0.628099  0.187192  0.288425  0.314770   \n",
              "Random Forest       0.000000  0.600150  0.985222  0.745921  0.406250   \n",
              "CNN+BatchNorm       0.000000  0.596762  0.998768  0.747121  0.750000   \n",
              "RF pesos manuales   0.000000  0.596324  0.998768  0.746777  0.000000   \n",
              "CNN-LSTM            0.000000  0.594872  1.000000  0.745981  0.000000   \n",
              "CNN + Focal Loss    0.000000  0.594872  1.000000  0.745981  0.000000   \n",
              "CNN + Augmentation  0.077348  0.598039  0.075123  0.133479  0.286765   \n",
              "Balanced RF         0.000000  0.627451  0.236453  0.343470  0.286408   \n",
              "LightGBM            0.000000  0.659091  0.035714  0.067757  0.308026   \n",
              "SVC                 0.000000  0.000000  0.000000  0.000000  0.283516   \n",
              "ConvLSTM2D          0.000000  0.625000  0.024631  0.047393  0.333333   \n",
              "\n",
              "                    recall_O      f1_O  macro_F1  \n",
              "CNN básica          0.410853  0.341568  0.278479  \n",
              "KNN                 0.263566  0.287324  0.246718  \n",
              "LSTM                0.183463  0.225040  0.228214  \n",
              "BiLSTM              0.072351  0.110020  0.212347  \n",
              "XGBoost             0.335917  0.325000  0.211711  \n",
              "Random Forest       0.033592  0.062053  0.201993  \n",
              "CNN+BatchNorm       0.007752  0.015345  0.201255  \n",
              "RF pesos manuales   0.000000  0.000000  0.196898  \n",
              "CNN-LSTM            0.000000  0.000000  0.186495  \n",
              "CNN + Focal Loss    0.000000  0.000000  0.186495  \n",
              "CNN + Augmentation  0.503876  0.365511  0.172254  \n",
              "Balanced RF         0.152455  0.198988  0.155954  \n",
              "LightGBM            0.366925  0.334906  0.123870  \n",
              "SVC                 1.000000  0.441781  0.110445  \n",
              "ConvLSTM2D          0.056848  0.097130  0.053002  "
            ],
            "text/html": [
              "\n",
              "  <div id=\"df-8fbee579-ed8c-4285-98ab-7de172d20c47\" class=\"colab-df-container\">\n",
              "    <div>\n",
              "<style scoped>\n",
              "    .dataframe tbody tr th:only-of-type {\n",
              "        vertical-align: middle;\n",
              "    }\n",
              "\n",
              "    .dataframe tbody tr th {\n",
              "        vertical-align: top;\n",
              "    }\n",
              "\n",
              "    .dataframe thead th {\n",
              "        text-align: right;\n",
              "    }\n",
              "</style>\n",
              "<table border=\"1\" class=\"dataframe\">\n",
              "  <thead>\n",
              "    <tr style=\"text-align: right;\">\n",
              "      <th></th>\n",
              "      <th>prec_~</th>\n",
              "      <th>recall_~</th>\n",
              "      <th>f1_~</th>\n",
              "      <th>prec_A</th>\n",
              "      <th>recall_A</th>\n",
              "      <th>f1_A</th>\n",
              "      <th>prec_N</th>\n",
              "      <th>recall_N</th>\n",
              "      <th>f1_N</th>\n",
              "      <th>prec_O</th>\n",
              "      <th>recall_O</th>\n",
              "      <th>f1_O</th>\n",
              "      <th>macro_F1</th>\n",
              "    </tr>\n",
              "  </thead>\n",
              "  <tbody>\n",
              "    <tr>\n",
              "      <th>CNN básica</th>\n",
              "      <td>0.105263</td>\n",
              "      <td>0.133333</td>\n",
              "      <td>0.117647</td>\n",
              "      <td>0.144928</td>\n",
              "      <td>0.082645</td>\n",
              "      <td>0.105263</td>\n",
              "      <td>0.595683</td>\n",
              "      <td>0.509852</td>\n",
              "      <td>0.549436</td>\n",
              "      <td>0.292279</td>\n",
              "      <td>0.410853</td>\n",
              "      <td>0.341568</td>\n",
              "      <td>0.278479</td>\n",
              "    </tr>\n",
              "    <tr>\n",
              "      <th>KNN</th>\n",
              "      <td>0.025000</td>\n",
              "      <td>0.044444</td>\n",
              "      <td>0.032000</td>\n",
              "      <td>0.050000</td>\n",
              "      <td>0.008264</td>\n",
              "      <td>0.014184</td>\n",
              "      <td>0.608280</td>\n",
              "      <td>0.705665</td>\n",
              "      <td>0.653364</td>\n",
              "      <td>0.315789</td>\n",
              "      <td>0.263566</td>\n",
              "      <td>0.287324</td>\n",
              "      <td>0.246718</td>\n",
              "    </tr>\n",
              "    <tr>\n",
              "      <th>LSTM</th>\n",
              "      <td>0.023256</td>\n",
              "      <td>0.044444</td>\n",
              "      <td>0.030534</td>\n",
              "      <td>0.000000</td>\n",
              "      <td>0.000000</td>\n",
              "      <td>0.000000</td>\n",
              "      <td>0.586473</td>\n",
              "      <td>0.747537</td>\n",
              "      <td>0.657282</td>\n",
              "      <td>0.290984</td>\n",
              "      <td>0.183463</td>\n",
              "      <td>0.225040</td>\n",
              "      <td>0.228214</td>\n",
              "    </tr>\n",
              "    <tr>\n",
              "      <th>BiLSTM</th>\n",
              "      <td>0.050000</td>\n",
              "      <td>0.022222</td>\n",
              "      <td>0.030769</td>\n",
              "      <td>0.000000</td>\n",
              "      <td>0.000000</td>\n",
              "      <td>0.000000</td>\n",
              "      <td>0.589534</td>\n",
              "      <td>0.887931</td>\n",
              "      <td>0.708600</td>\n",
              "      <td>0.229508</td>\n",
              "      <td>0.072351</td>\n",
              "      <td>0.110020</td>\n",
              "      <td>0.212347</td>\n",
              "    </tr>\n",
              "    <tr>\n",
              "      <th>XGBoost</th>\n",
              "      <td>0.050343</td>\n",
              "      <td>0.488889</td>\n",
              "      <td>0.091286</td>\n",
              "      <td>0.102564</td>\n",
              "      <td>0.231405</td>\n",
              "      <td>0.142132</td>\n",
              "      <td>0.628099</td>\n",
              "      <td>0.187192</td>\n",
              "      <td>0.288425</td>\n",
              "      <td>0.314770</td>\n",
              "      <td>0.335917</td>\n",
              "      <td>0.325000</td>\n",
              "      <td>0.211711</td>\n",
              "    </tr>\n",
              "    <tr>\n",
              "      <th>Random Forest</th>\n",
              "      <td>0.000000</td>\n",
              "      <td>0.000000</td>\n",
              "      <td>0.000000</td>\n",
              "      <td>0.000000</td>\n",
              "      <td>0.000000</td>\n",
              "      <td>0.000000</td>\n",
              "      <td>0.600150</td>\n",
              "      <td>0.985222</td>\n",
              "      <td>0.745921</td>\n",
              "      <td>0.406250</td>\n",
              "      <td>0.033592</td>\n",
              "      <td>0.062053</td>\n",
              "      <td>0.201993</td>\n",
              "    </tr>\n",
              "    <tr>\n",
              "      <th>CNN+BatchNorm</th>\n",
              "      <td>0.500000</td>\n",
              "      <td>0.022222</td>\n",
              "      <td>0.042553</td>\n",
              "      <td>0.000000</td>\n",
              "      <td>0.000000</td>\n",
              "      <td>0.000000</td>\n",
              "      <td>0.596762</td>\n",
              "      <td>0.998768</td>\n",
              "      <td>0.747121</td>\n",
              "      <td>0.750000</td>\n",
              "      <td>0.007752</td>\n",
              "      <td>0.015345</td>\n",
              "      <td>0.201255</td>\n",
              "    </tr>\n",
              "    <tr>\n",
              "      <th>RF pesos manuales</th>\n",
              "      <td>0.250000</td>\n",
              "      <td>0.022222</td>\n",
              "      <td>0.040816</td>\n",
              "      <td>0.000000</td>\n",
              "      <td>0.000000</td>\n",
              "      <td>0.000000</td>\n",
              "      <td>0.596324</td>\n",
              "      <td>0.998768</td>\n",
              "      <td>0.746777</td>\n",
              "      <td>0.000000</td>\n",
              "      <td>0.000000</td>\n",
              "      <td>0.000000</td>\n",
              "      <td>0.196898</td>\n",
              "    </tr>\n",
              "    <tr>\n",
              "      <th>CNN-LSTM</th>\n",
              "      <td>0.000000</td>\n",
              "      <td>0.000000</td>\n",
              "      <td>0.000000</td>\n",
              "      <td>0.000000</td>\n",
              "      <td>0.000000</td>\n",
              "      <td>0.000000</td>\n",
              "      <td>0.594872</td>\n",
              "      <td>1.000000</td>\n",
              "      <td>0.745981</td>\n",
              "      <td>0.000000</td>\n",
              "      <td>0.000000</td>\n",
              "      <td>0.000000</td>\n",
              "      <td>0.186495</td>\n",
              "    </tr>\n",
              "    <tr>\n",
              "      <th>CNN + Focal Loss</th>\n",
              "      <td>0.000000</td>\n",
              "      <td>0.000000</td>\n",
              "      <td>0.000000</td>\n",
              "      <td>0.000000</td>\n",
              "      <td>0.000000</td>\n",
              "      <td>0.000000</td>\n",
              "      <td>0.594872</td>\n",
              "      <td>1.000000</td>\n",
              "      <td>0.745981</td>\n",
              "      <td>0.000000</td>\n",
              "      <td>0.000000</td>\n",
              "      <td>0.000000</td>\n",
              "      <td>0.186495</td>\n",
              "    </tr>\n",
              "    <tr>\n",
              "      <th>CNN + Augmentation</th>\n",
              "      <td>0.061185</td>\n",
              "      <td>0.711111</td>\n",
              "      <td>0.112676</td>\n",
              "      <td>0.116667</td>\n",
              "      <td>0.057851</td>\n",
              "      <td>0.077348</td>\n",
              "      <td>0.598039</td>\n",
              "      <td>0.075123</td>\n",
              "      <td>0.133479</td>\n",
              "      <td>0.286765</td>\n",
              "      <td>0.503876</td>\n",
              "      <td>0.365511</td>\n",
              "      <td>0.172254</td>\n",
              "    </tr>\n",
              "    <tr>\n",
              "      <th>Balanced RF</th>\n",
              "      <td>0.042857</td>\n",
              "      <td>0.800000</td>\n",
              "      <td>0.081356</td>\n",
              "      <td>0.000000</td>\n",
              "      <td>0.000000</td>\n",
              "      <td>0.000000</td>\n",
              "      <td>0.627451</td>\n",
              "      <td>0.236453</td>\n",
              "      <td>0.343470</td>\n",
              "      <td>0.286408</td>\n",
              "      <td>0.152455</td>\n",
              "      <td>0.198988</td>\n",
              "      <td>0.155954</td>\n",
              "    </tr>\n",
              "    <tr>\n",
              "      <th>LightGBM</th>\n",
              "      <td>0.048837</td>\n",
              "      <td>0.933333</td>\n",
              "      <td>0.092818</td>\n",
              "      <td>0.000000</td>\n",
              "      <td>0.000000</td>\n",
              "      <td>0.000000</td>\n",
              "      <td>0.659091</td>\n",
              "      <td>0.035714</td>\n",
              "      <td>0.067757</td>\n",
              "      <td>0.308026</td>\n",
              "      <td>0.366925</td>\n",
              "      <td>0.334906</td>\n",
              "      <td>0.123870</td>\n",
              "    </tr>\n",
              "    <tr>\n",
              "      <th>SVC</th>\n",
              "      <td>0.000000</td>\n",
              "      <td>0.000000</td>\n",
              "      <td>0.000000</td>\n",
              "      <td>0.000000</td>\n",
              "      <td>0.000000</td>\n",
              "      <td>0.000000</td>\n",
              "      <td>0.000000</td>\n",
              "      <td>0.000000</td>\n",
              "      <td>0.000000</td>\n",
              "      <td>0.283516</td>\n",
              "      <td>1.000000</td>\n",
              "      <td>0.441781</td>\n",
              "      <td>0.110445</td>\n",
              "    </tr>\n",
              "    <tr>\n",
              "      <th>ConvLSTM2D</th>\n",
              "      <td>0.034948</td>\n",
              "      <td>0.977778</td>\n",
              "      <td>0.067485</td>\n",
              "      <td>0.000000</td>\n",
              "      <td>0.000000</td>\n",
              "      <td>0.000000</td>\n",
              "      <td>0.625000</td>\n",
              "      <td>0.024631</td>\n",
              "      <td>0.047393</td>\n",
              "      <td>0.333333</td>\n",
              "      <td>0.056848</td>\n",
              "      <td>0.097130</td>\n",
              "      <td>0.053002</td>\n",
              "    </tr>\n",
              "  </tbody>\n",
              "</table>\n",
              "</div>\n",
              "    <div class=\"colab-df-buttons\">\n",
              "\n",
              "  <div class=\"colab-df-container\">\n",
              "    <button class=\"colab-df-convert\" onclick=\"convertToInteractive('df-8fbee579-ed8c-4285-98ab-7de172d20c47')\"\n",
              "            title=\"Convert this dataframe to an interactive table.\"\n",
              "            style=\"display:none;\">\n",
              "\n",
              "  <svg xmlns=\"http://www.w3.org/2000/svg\" height=\"24px\" viewBox=\"0 -960 960 960\">\n",
              "    <path d=\"M120-120v-720h720v720H120Zm60-500h600v-160H180v160Zm220 220h160v-160H400v160Zm0 220h160v-160H400v160ZM180-400h160v-160H180v160Zm440 0h160v-160H620v160ZM180-180h160v-160H180v160Zm440 0h160v-160H620v160Z\"/>\n",
              "  </svg>\n",
              "    </button>\n",
              "\n",
              "  <style>\n",
              "    .colab-df-container {\n",
              "      display:flex;\n",
              "      gap: 12px;\n",
              "    }\n",
              "\n",
              "    .colab-df-convert {\n",
              "      background-color: #E8F0FE;\n",
              "      border: none;\n",
              "      border-radius: 50%;\n",
              "      cursor: pointer;\n",
              "      display: none;\n",
              "      fill: #1967D2;\n",
              "      height: 32px;\n",
              "      padding: 0 0 0 0;\n",
              "      width: 32px;\n",
              "    }\n",
              "\n",
              "    .colab-df-convert:hover {\n",
              "      background-color: #E2EBFA;\n",
              "      box-shadow: 0px 1px 2px rgba(60, 64, 67, 0.3), 0px 1px 3px 1px rgba(60, 64, 67, 0.15);\n",
              "      fill: #174EA6;\n",
              "    }\n",
              "\n",
              "    .colab-df-buttons div {\n",
              "      margin-bottom: 4px;\n",
              "    }\n",
              "\n",
              "    [theme=dark] .colab-df-convert {\n",
              "      background-color: #3B4455;\n",
              "      fill: #D2E3FC;\n",
              "    }\n",
              "\n",
              "    [theme=dark] .colab-df-convert:hover {\n",
              "      background-color: #434B5C;\n",
              "      box-shadow: 0px 1px 3px 1px rgba(0, 0, 0, 0.15);\n",
              "      filter: drop-shadow(0px 1px 2px rgba(0, 0, 0, 0.3));\n",
              "      fill: #FFFFFF;\n",
              "    }\n",
              "  </style>\n",
              "\n",
              "    <script>\n",
              "      const buttonEl =\n",
              "        document.querySelector('#df-8fbee579-ed8c-4285-98ab-7de172d20c47 button.colab-df-convert');\n",
              "      buttonEl.style.display =\n",
              "        google.colab.kernel.accessAllowed ? 'block' : 'none';\n",
              "\n",
              "      async function convertToInteractive(key) {\n",
              "        const element = document.querySelector('#df-8fbee579-ed8c-4285-98ab-7de172d20c47');\n",
              "        const dataTable =\n",
              "          await google.colab.kernel.invokeFunction('convertToInteractive',\n",
              "                                                    [key], {});\n",
              "        if (!dataTable) return;\n",
              "\n",
              "        const docLinkHtml = 'Like what you see? Visit the ' +\n",
              "          '<a target=\"_blank\" href=https://colab.research.google.com/notebooks/data_table.ipynb>data table notebook</a>'\n",
              "          + ' to learn more about interactive tables.';\n",
              "        element.innerHTML = '';\n",
              "        dataTable['output_type'] = 'display_data';\n",
              "        await google.colab.output.renderOutput(dataTable, element);\n",
              "        const docLink = document.createElement('div');\n",
              "        docLink.innerHTML = docLinkHtml;\n",
              "        element.appendChild(docLink);\n",
              "      }\n",
              "    </script>\n",
              "  </div>\n",
              "\n",
              "\n",
              "    <div id=\"df-6d092696-93b1-4da2-a6f0-f2e7165e843c\">\n",
              "      <button class=\"colab-df-quickchart\" onclick=\"quickchart('df-6d092696-93b1-4da2-a6f0-f2e7165e843c')\"\n",
              "                title=\"Suggest charts\"\n",
              "                style=\"display:none;\">\n",
              "\n",
              "<svg xmlns=\"http://www.w3.org/2000/svg\" height=\"24px\"viewBox=\"0 0 24 24\"\n",
              "     width=\"24px\">\n",
              "    <g>\n",
              "        <path d=\"M19 3H5c-1.1 0-2 .9-2 2v14c0 1.1.9 2 2 2h14c1.1 0 2-.9 2-2V5c0-1.1-.9-2-2-2zM9 17H7v-7h2v7zm4 0h-2V7h2v10zm4 0h-2v-4h2v4z\"/>\n",
              "    </g>\n",
              "</svg>\n",
              "      </button>\n",
              "\n",
              "<style>\n",
              "  .colab-df-quickchart {\n",
              "      --bg-color: #E8F0FE;\n",
              "      --fill-color: #1967D2;\n",
              "      --hover-bg-color: #E2EBFA;\n",
              "      --hover-fill-color: #174EA6;\n",
              "      --disabled-fill-color: #AAA;\n",
              "      --disabled-bg-color: #DDD;\n",
              "  }\n",
              "\n",
              "  [theme=dark] .colab-df-quickchart {\n",
              "      --bg-color: #3B4455;\n",
              "      --fill-color: #D2E3FC;\n",
              "      --hover-bg-color: #434B5C;\n",
              "      --hover-fill-color: #FFFFFF;\n",
              "      --disabled-bg-color: #3B4455;\n",
              "      --disabled-fill-color: #666;\n",
              "  }\n",
              "\n",
              "  .colab-df-quickchart {\n",
              "    background-color: var(--bg-color);\n",
              "    border: none;\n",
              "    border-radius: 50%;\n",
              "    cursor: pointer;\n",
              "    display: none;\n",
              "    fill: var(--fill-color);\n",
              "    height: 32px;\n",
              "    padding: 0;\n",
              "    width: 32px;\n",
              "  }\n",
              "\n",
              "  .colab-df-quickchart:hover {\n",
              "    background-color: var(--hover-bg-color);\n",
              "    box-shadow: 0 1px 2px rgba(60, 64, 67, 0.3), 0 1px 3px 1px rgba(60, 64, 67, 0.15);\n",
              "    fill: var(--button-hover-fill-color);\n",
              "  }\n",
              "\n",
              "  .colab-df-quickchart-complete:disabled,\n",
              "  .colab-df-quickchart-complete:disabled:hover {\n",
              "    background-color: var(--disabled-bg-color);\n",
              "    fill: var(--disabled-fill-color);\n",
              "    box-shadow: none;\n",
              "  }\n",
              "\n",
              "  .colab-df-spinner {\n",
              "    border: 2px solid var(--fill-color);\n",
              "    border-color: transparent;\n",
              "    border-bottom-color: var(--fill-color);\n",
              "    animation:\n",
              "      spin 1s steps(1) infinite;\n",
              "  }\n",
              "\n",
              "  @keyframes spin {\n",
              "    0% {\n",
              "      border-color: transparent;\n",
              "      border-bottom-color: var(--fill-color);\n",
              "      border-left-color: var(--fill-color);\n",
              "    }\n",
              "    20% {\n",
              "      border-color: transparent;\n",
              "      border-left-color: var(--fill-color);\n",
              "      border-top-color: var(--fill-color);\n",
              "    }\n",
              "    30% {\n",
              "      border-color: transparent;\n",
              "      border-left-color: var(--fill-color);\n",
              "      border-top-color: var(--fill-color);\n",
              "      border-right-color: var(--fill-color);\n",
              "    }\n",
              "    40% {\n",
              "      border-color: transparent;\n",
              "      border-right-color: var(--fill-color);\n",
              "      border-top-color: var(--fill-color);\n",
              "    }\n",
              "    60% {\n",
              "      border-color: transparent;\n",
              "      border-right-color: var(--fill-color);\n",
              "    }\n",
              "    80% {\n",
              "      border-color: transparent;\n",
              "      border-right-color: var(--fill-color);\n",
              "      border-bottom-color: var(--fill-color);\n",
              "    }\n",
              "    90% {\n",
              "      border-color: transparent;\n",
              "      border-bottom-color: var(--fill-color);\n",
              "    }\n",
              "  }\n",
              "</style>\n",
              "\n",
              "      <script>\n",
              "        async function quickchart(key) {\n",
              "          const quickchartButtonEl =\n",
              "            document.querySelector('#' + key + ' button');\n",
              "          quickchartButtonEl.disabled = true;  // To prevent multiple clicks.\n",
              "          quickchartButtonEl.classList.add('colab-df-spinner');\n",
              "          try {\n",
              "            const charts = await google.colab.kernel.invokeFunction(\n",
              "                'suggestCharts', [key], {});\n",
              "          } catch (error) {\n",
              "            console.error('Error during call to suggestCharts:', error);\n",
              "          }\n",
              "          quickchartButtonEl.classList.remove('colab-df-spinner');\n",
              "          quickchartButtonEl.classList.add('colab-df-quickchart-complete');\n",
              "        }\n",
              "        (() => {\n",
              "          let quickchartButtonEl =\n",
              "            document.querySelector('#df-6d092696-93b1-4da2-a6f0-f2e7165e843c button');\n",
              "          quickchartButtonEl.style.display =\n",
              "            google.colab.kernel.accessAllowed ? 'block' : 'none';\n",
              "        })();\n",
              "      </script>\n",
              "    </div>\n",
              "\n",
              "  <div id=\"id_f1c0ddcf-caef-46c8-bb9f-a5cee63e3f0b\">\n",
              "    <style>\n",
              "      .colab-df-generate {\n",
              "        background-color: #E8F0FE;\n",
              "        border: none;\n",
              "        border-radius: 50%;\n",
              "        cursor: pointer;\n",
              "        display: none;\n",
              "        fill: #1967D2;\n",
              "        height: 32px;\n",
              "        padding: 0 0 0 0;\n",
              "        width: 32px;\n",
              "      }\n",
              "\n",
              "      .colab-df-generate:hover {\n",
              "        background-color: #E2EBFA;\n",
              "        box-shadow: 0px 1px 2px rgba(60, 64, 67, 0.3), 0px 1px 3px 1px rgba(60, 64, 67, 0.15);\n",
              "        fill: #174EA6;\n",
              "      }\n",
              "\n",
              "      [theme=dark] .colab-df-generate {\n",
              "        background-color: #3B4455;\n",
              "        fill: #D2E3FC;\n",
              "      }\n",
              "\n",
              "      [theme=dark] .colab-df-generate:hover {\n",
              "        background-color: #434B5C;\n",
              "        box-shadow: 0px 1px 3px 1px rgba(0, 0, 0, 0.15);\n",
              "        filter: drop-shadow(0px 1px 2px rgba(0, 0, 0, 0.3));\n",
              "        fill: #FFFFFF;\n",
              "      }\n",
              "    </style>\n",
              "    <button class=\"colab-df-generate\" onclick=\"generateWithVariable('df_metrics')\"\n",
              "            title=\"Generate code using this dataframe.\"\n",
              "            style=\"display:none;\">\n",
              "\n",
              "  <svg xmlns=\"http://www.w3.org/2000/svg\" height=\"24px\"viewBox=\"0 0 24 24\"\n",
              "       width=\"24px\">\n",
              "    <path d=\"M7,19H8.4L18.45,9,17,7.55,7,17.6ZM5,21V16.75L18.45,3.32a2,2,0,0,1,2.83,0l1.4,1.43a1.91,1.91,0,0,1,.58,1.4,1.91,1.91,0,0,1-.58,1.4L9.25,21ZM18.45,9,17,7.55Zm-12,3A5.31,5.31,0,0,0,4.9,8.1,5.31,5.31,0,0,0,1,6.5,5.31,5.31,0,0,0,4.9,4.9,5.31,5.31,0,0,0,6.5,1,5.31,5.31,0,0,0,8.1,4.9,5.31,5.31,0,0,0,12,6.5,5.46,5.46,0,0,0,6.5,12Z\"/>\n",
              "  </svg>\n",
              "    </button>\n",
              "    <script>\n",
              "      (() => {\n",
              "      const buttonEl =\n",
              "        document.querySelector('#id_f1c0ddcf-caef-46c8-bb9f-a5cee63e3f0b button.colab-df-generate');\n",
              "      buttonEl.style.display =\n",
              "        google.colab.kernel.accessAllowed ? 'block' : 'none';\n",
              "\n",
              "      buttonEl.onclick = () => {\n",
              "        google.colab.notebook.generateWithVariable('df_metrics');\n",
              "      }\n",
              "      })();\n",
              "    </script>\n",
              "  </div>\n",
              "\n",
              "    </div>\n",
              "  </div>\n"
            ],
            "application/vnd.google.colaboratory.intrinsic+json": {
              "type": "dataframe",
              "variable_name": "df_metrics",
              "summary": "{\n  \"name\": \"df_metrics\",\n  \"rows\": 15,\n  \"fields\": [\n    {\n      \"column\": \"prec_~\",\n      \"properties\": {\n        \"dtype\": \"number\",\n        \"std\": 0.13209639243971372,\n        \"min\": 0.0,\n        \"max\": 0.5,\n        \"num_unique_values\": 12,\n        \"samples\": [\n          0.04883720930232558,\n          0.04285714285714286,\n          0.10526315789473684\n        ],\n        \"semantic_type\": \"\",\n        \"description\": \"\"\n      }\n    },\n    {\n      \"column\": \"recall_~\",\n      \"properties\": {\n        \"dtype\": \"number\",\n        \"std\": 0.3835046776018572,\n        \"min\": 0.0,\n        \"max\": 0.9777777777777777,\n        \"num_unique_values\": 9,\n        \"samples\": [\n          0.9333333333333333,\n          0.044444444444444446,\n          0.7111111111111111\n        ],\n        \"semantic_type\": \"\",\n        \"description\": \"\"\n      }\n    },\n    {\n      \"column\": \"f1_~\",\n      \"properties\": {\n        \"dtype\": \"number\",\n        \"std\": 0.041864591496015666,\n        \"min\": 0.0,\n        \"max\": 0.11764705882352941,\n        \"num_unique_values\": 12,\n        \"samples\": [\n          0.09281767955801105,\n          0.08135593220338982,\n          0.11764705882352941\n        ],\n        \"semantic_type\": \"\",\n        \"description\": \"\"\n      }\n    },\n    {\n      \"column\": \"prec_A\",\n      \"properties\": {\n        \"dtype\": \"number\",\n        \"std\": 0.05084946752909055,\n        \"min\": 0.0,\n        \"max\": 0.14492753623188406,\n        \"num_unique_values\": 5,\n        \"samples\": [\n          0.05,\n          0.11666666666666667,\n          0.0\n        ],\n        \"semantic_type\": \"\",\n        \"description\": \"\"\n      }\n    },\n    {\n      \"column\": \"recall_A\",\n      \"properties\": {\n        \"dtype\": \"number\",\n        \"std\": 0.06219693009616099,\n        \"min\": 0.0,\n        \"max\": 0.23140495867768596,\n        \"num_unique_values\": 5,\n        \"samples\": [\n          0.008264462809917356,\n          0.05785123966942149,\n          0.0\n        ],\n        \"semantic_type\": \"\",\n        \"description\": \"\"\n      }\n    },\n    {\n      \"column\": \"f1_A\",\n      \"properties\": {\n        \"dtype\": \"number\",\n        \"std\": 0.04614234546341704,\n        \"min\": 0.0,\n        \"max\": 0.14213197969543148,\n        \"num_unique_values\": 5,\n        \"samples\": [\n          0.014184397163120567,\n          0.07734806629834254,\n          0.0\n        ],\n        \"semantic_type\": \"\",\n        \"description\": \"\"\n      }\n    },\n    {\n      \"column\": \"prec_N\",\n      \"properties\": {\n        \"dtype\": \"number\",\n        \"std\": 0.15799986045283118,\n        \"min\": 0.0,\n        \"max\": 0.6590909090909091,\n        \"num_unique_values\": 14,\n        \"samples\": [\n          0.5980392156862745,\n          0.6590909090909091,\n          0.5956834532374101\n        ],\n        \"semantic_type\": \"\",\n        \"description\": \"\"\n      }\n    },\n    {\n      \"column\": \"recall_N\",\n      \"properties\": {\n        \"dtype\": \"number\",\n        \"std\": 0.42031938173009853,\n        \"min\": 0.0,\n        \"max\": 1.0,\n        \"num_unique_values\": 13,\n        \"samples\": [\n          0.0,\n          0.23645320197044334,\n          0.5098522167487685\n        ],\n        \"semantic_type\": \"\",\n        \"description\": \"\"\n      }\n    },\n    {\n      \"column\": \"f1_N\",\n      \"properties\": {\n        \"dtype\": \"number\",\n        \"std\": 0.29715059900607355,\n        \"min\": 0.0,\n        \"max\": 0.7471211423307231,\n        \"num_unique_values\": 14,\n        \"samples\": [\n          0.13347921225382933,\n          0.06775700934579439,\n          0.5494359654943597\n        ],\n        \"semantic_type\": \"\",\n        \"description\": \"\"\n      }\n    },\n    {\n      \"column\": \"prec_O\",\n      \"properties\": {\n        \"dtype\": \"number\",\n        \"std\": 0.18523733427373038,\n        \"min\": 0.0,\n        \"max\": 0.75,\n        \"num_unique_values\": 13,\n        \"samples\": [\n          0.2835164835164835,\n          0.28640776699029125,\n          0.2922794117647059\n        ],\n        \"semantic_type\": \"\",\n        \"description\": \"\"\n      }\n    },\n    {\n      \"column\": \"recall_O\",\n      \"properties\": {\n        \"dtype\": \"number\",\n        \"std\": 0.2727026131477761,\n        \"min\": 0.0,\n        \"max\": 1.0,\n        \"num_unique_values\": 13,\n        \"samples\": [\n          1.0,\n          0.1524547803617571,\n          0.4108527131782946\n        ],\n        \"semantic_type\": \"\",\n        \"description\": \"\"\n      }\n    },\n    {\n      \"column\": \"f1_O\",\n      \"properties\": {\n        \"dtype\": \"number\",\n        \"std\": 0.1552033612177143,\n        \"min\": 0.0,\n        \"max\": 0.4417808219178082,\n        \"num_unique_values\": 13,\n        \"samples\": [\n          0.4417808219178082,\n          0.19898819561551434,\n          0.34156820622986034\n        ],\n        \"semantic_type\": \"\",\n        \"description\": \"\"\n      }\n    },\n    {\n      \"column\": \"macro_F1\",\n      \"properties\": {\n        \"dtype\": \"number\",\n        \"std\": 0.05624870646644493,\n        \"min\": 0.05300206758280103,\n        \"max\": 0.27847859711062156,\n        \"num_unique_values\": 14,\n        \"samples\": [\n          0.17225352819302797,\n          0.12387008732029098,\n          0.27847859711062156\n        ],\n        \"semantic_type\": \"\",\n        \"description\": \"\"\n      }\n    }\n  ]\n}"
            }
          },
          "metadata": {},
          "execution_count": 84
        }
      ],
      "execution_count": 84,
      "source": [
        "import pandas as pd\n",
        "from sklearn.metrics import precision_recall_fscore_support\n",
        "\n",
        "# ➋ Función auxiliar para obtener precision, recall y f1\n",
        "def get_metrics(model, X, y_true, reshape_fn=None):\n",
        "    if reshape_fn:\n",
        "        X_in = reshape_fn(X)\n",
        "    else:\n",
        "        X_in = X\n",
        "    # Predecir y convertir a etiquetas\n",
        "    y_pred = model.predict(X_in)\n",
        "    # Check if y_pred is one-dimensional (e.g., for KNN)\n",
        "    if y_pred.ndim == 1 and isinstance(y_pred[0], str):\n",
        "        # If y_pred contains strings and is one-dimensional, convert to numerical labels\n",
        "        y_pred = np.array([mapping[c] for c in y_pred])  # Use the 'mapping' dictionary to convert\n",
        "    else:\n",
        "        y_pred = y_pred.argmax(axis=1) if y_pred.ndim > 1 else y_pred\n",
        "    # Calcular métricas por clase\n",
        "    p, r, f1, _ = precision_recall_fscore_support(\n",
        "        y_true, y_pred, labels=[0, 1, 2, 3], zero_division=0\n",
        "    )\n",
        "    return p, r, f1\n",
        "\n",
        "# Assuming 'mapping' is defined as {'~': 0, 'A': 1, 'N': 2, 'O': 3}\n",
        "mapping = {'~': 0, 'A': 1, 'N': 2, 'O': 3}\n",
        "\n",
        "# ➌ Montar DataFrame vacío con las columnas deseadas\n",
        "cols = [\n",
        "    \"prec_~\",\"recall_~\",\"f1_~\",\n",
        "    \"prec_A\",\"recall_A\",\"f1_A\",\n",
        "    \"prec_N\",\"recall_N\",\"f1_N\",\n",
        "    \"prec_O\",\"recall_O\",\"f1_O\"\n",
        "]\n",
        "df_metrics = pd.DataFrame(index=model_specs.keys(), columns=cols)\n",
        "\n",
        "# ➍ Llenar el DataFrame recorriendo cada modelo\n",
        "for name, (mdl, reshape_fn) in model_specs.items():\n",
        "    p, r, f1 = get_metrics(mdl, X_val, y_val_enc, reshape_fn)\n",
        "    df_metrics.loc[name] = [\n",
        "        p[0], r[0], f1[0],\n",
        "        p[1], r[1], f1[1],\n",
        "        p[2], r[2], f1[2],\n",
        "        p[3], r[3], f1[3],\n",
        "    ]\n",
        "\n",
        "# ➎ Convertir a float y añadir la columna macro_F1\n",
        "df_metrics = df_metrics.astype(float)\n",
        "df_metrics[\"macro_F1\"] = df_metrics[[\"f1_~\",\"f1_A\",\"f1_N\",\"f1_O\"]].mean(axis=1)\n",
        "\n",
        "# ➏ Ordenar y mostrar\n",
        "df_metrics = df_metrics.sort_values(\"macro_F1\", ascending=False)\n",
        "df_metrics"
      ],
      "id": "312a153896b910d1"
    },
    {
      "metadata": {
        "id": "62a417b2f5aab974"
      },
      "cell_type": "markdown",
      "source": [
        "## Ejercicio 8:\n",
        "\n",
        "En base al modelo con mejores métricas encontrado en el ejercicio anterior, realiza un optimización de hiperparámetros con el paquete optuna. La métrica que se intentará maximizar es el score \\$F\\_1\\$ definido en el ejercicio anterior.\n"
      ],
      "id": "62a417b2f5aab974"
    },
    {
      "cell_type": "code",
      "source": [
        "!pip install optuna"
      ],
      "metadata": {
        "colab": {
          "base_uri": "https://localhost:8080/"
        },
        "id": "R7Us0UzIZD6Y",
        "outputId": "541181d6-6a01-4653-ab54-28e69b329627"
      },
      "id": "R7Us0UzIZD6Y",
      "execution_count": 89,
      "outputs": [
        {
          "output_type": "stream",
          "name": "stdout",
          "text": [
            "Collecting optuna\n",
            "  Downloading optuna-4.3.0-py3-none-any.whl.metadata (17 kB)\n",
            "Collecting alembic>=1.5.0 (from optuna)\n",
            "  Downloading alembic-1.15.2-py3-none-any.whl.metadata (7.3 kB)\n",
            "Collecting colorlog (from optuna)\n",
            "  Downloading colorlog-6.9.0-py3-none-any.whl.metadata (10 kB)\n",
            "Requirement already satisfied: numpy in /usr/local/lib/python3.11/dist-packages (from optuna) (2.0.2)\n",
            "Requirement already satisfied: packaging>=20.0 in /usr/local/lib/python3.11/dist-packages (from optuna) (24.2)\n",
            "Requirement already satisfied: sqlalchemy>=1.4.2 in /usr/local/lib/python3.11/dist-packages (from optuna) (2.0.40)\n",
            "Requirement already satisfied: tqdm in /usr/local/lib/python3.11/dist-packages (from optuna) (4.67.1)\n",
            "Requirement already satisfied: PyYAML in /usr/local/lib/python3.11/dist-packages (from optuna) (6.0.2)\n",
            "Requirement already satisfied: Mako in /usr/lib/python3/dist-packages (from alembic>=1.5.0->optuna) (1.1.3)\n",
            "Requirement already satisfied: typing-extensions>=4.12 in /usr/local/lib/python3.11/dist-packages (from alembic>=1.5.0->optuna) (4.13.2)\n",
            "Requirement already satisfied: greenlet>=1 in /usr/local/lib/python3.11/dist-packages (from sqlalchemy>=1.4.2->optuna) (3.2.1)\n",
            "Downloading optuna-4.3.0-py3-none-any.whl (386 kB)\n",
            "\u001b[2K   \u001b[90m━━━━━━━━━━━━━━━━━━━━━━━━━━━━━━━━━━━━━━━━\u001b[0m \u001b[32m386.6/386.6 kB\u001b[0m \u001b[31m8.4 MB/s\u001b[0m eta \u001b[36m0:00:00\u001b[0m\n",
            "\u001b[?25hDownloading alembic-1.15.2-py3-none-any.whl (231 kB)\n",
            "\u001b[2K   \u001b[90m━━━━━━━━━━━━━━━━━━━━━━━━━━━━━━━━━━━━━━━━\u001b[0m \u001b[32m231.9/231.9 kB\u001b[0m \u001b[31m19.2 MB/s\u001b[0m eta \u001b[36m0:00:00\u001b[0m\n",
            "\u001b[?25hDownloading colorlog-6.9.0-py3-none-any.whl (11 kB)\n",
            "Installing collected packages: colorlog, alembic, optuna\n",
            "Successfully installed alembic-1.15.2 colorlog-6.9.0 optuna-4.3.0\n"
          ]
        }
      ]
    },
    {
      "metadata": {
        "id": "115a2473858e0ea9"
      },
      "cell_type": "code",
      "outputs": [],
      "execution_count": 96,
      "source": [
        "import optuna\n",
        "import numpy as np\n",
        "import tensorflow as tf\n",
        "from tensorflow import keras\n",
        "from sklearn.metrics import f1_score\n",
        "\n",
        "# Función para construir la CNN básica según trial\n",
        "def build_cnn_basic_hp(trial, input_shape=(9000,1), n_classes=4):\n",
        "    # Parámetros a optimizar\n",
        "    n_filters1 = trial.suggest_int(\"n_filters1\", 16, 64, step=16)\n",
        "    n_filters2 = trial.suggest_int(\"n_filters2\", 32, 128, step=32)\n",
        "    kernel1    = trial.suggest_int(\"kernel1\",     3, 7, step=2)\n",
        "    kernel2    = trial.suggest_int(\"kernel2\",     3, 7, step=2)\n",
        "    dense_units= trial.suggest_int(\"dense_units\", 32, 128, step=32)\n",
        "    dropout    = trial.suggest_float(\"dropout\",    0.2, 0.6, step=0.1)\n",
        "    lr         = trial.suggest_loguniform(\"lr\",    1e-4, 1e-2)\n",
        "\n",
        "    model = keras.models.Sequential([\n",
        "        keras.layers.Conv1D(n_filters1, kernel_size=kernel1, activation='relu', input_shape=input_shape),\n",
        "        keras.layers.MaxPooling1D(2),\n",
        "        keras.layers.Conv1D(n_filters2, kernel_size=kernel2, activation='relu'),\n",
        "        keras.layers.MaxPooling1D(2),\n",
        "        keras.layers.Flatten(),\n",
        "        keras.layers.Dense(dense_units, activation='relu'),\n",
        "        keras.layers.Dropout(dropout),\n",
        "        keras.layers.Dense(n_classes, activation='softmax')\n",
        "    ])\n",
        "    model.compile(\n",
        "        optimizer=keras.optimizers.Adam(learning_rate=lr),\n",
        "        loss='sparse_categorical_crossentropy'\n",
        "    )\n",
        "    return model\n"
      ],
      "id": "115a2473858e0ea9"
    },
    {
      "metadata": {
        "id": "51568def602d06ca"
      },
      "cell_type": "code",
      "outputs": [],
      "execution_count": 97,
      "source": [
        "# Definimos la función objetivo\n",
        "def objective(trial):\n",
        "    # Construir modelo según trial\n",
        "    model = build_cnn_basic_hp(trial)\n",
        "    # Entrenamiento breve\n",
        "    history = model.fit(\n",
        "        X_train_cnn, y_train_enc,\n",
        "        validation_data=(X_val_cnn, y_val_enc),\n",
        "        epochs=5,                      # pocas épocas por trial\n",
        "        batch_size=trial.suggest_categorical(\"batch_size\",[16,32,64]),\n",
        "        verbose=0\n",
        "    )\n",
        "    # Predecir sobre validación\n",
        "    y_pred_prob = model.predict(X_val_cnn)\n",
        "    y_pred = np.argmax(y_pred_prob, axis=1)\n",
        "    # Calcular macro-F1\n",
        "    score = f1_score(y_val_enc, y_pred, average='macro')\n",
        "    # Clear memory\n",
        "    tf.keras.backend.clear_session()\n",
        "    return score\n"
      ],
      "id": "51568def602d06ca"
    },
    {
      "cell_type": "code",
      "source": [
        "# Ejecutar la optimización\n",
        "study = optuna.create_study(direction='maximize')\n",
        "study.optimize(objective, n_trials=20)\n",
        "\n",
        "print(\"🔍 Mejores hiperparámetros:\", study.best_params)\n",
        "print(\"🔍 Mejor macro-F1 en validación:\", study.best_value)\n"
      ],
      "metadata": {
        "colab": {
          "base_uri": "https://localhost:8080/"
        },
        "id": "o3L5SIn2Y6ag",
        "outputId": "bac557b5-816e-4858-abf5-fe5502848356"
      },
      "id": "o3L5SIn2Y6ag",
      "execution_count": 98,
      "outputs": [
        {
          "output_type": "stream",
          "name": "stderr",
          "text": [
            "[I 2025-05-06 02:21:20,362] A new study created in memory with name: no-name-370a3e5c-817e-4c78-9cac-8857e50ae161\n",
            "<ipython-input-96-378d2886378b>:16: FutureWarning: suggest_loguniform has been deprecated in v3.0.0. This feature will be removed in v6.0.0. See https://github.com/optuna/optuna/releases/tag/v3.0.0. Use suggest_float(..., log=True) instead.\n",
            "  lr         = trial.suggest_loguniform(\"lr\",    1e-4, 1e-2)\n"
          ]
        },
        {
          "output_type": "stream",
          "name": "stdout",
          "text": [
            "\u001b[1m43/43\u001b[0m \u001b[32m━━━━━━━━━━━━━━━━━━━━\u001b[0m\u001b[37m\u001b[0m \u001b[1m1s\u001b[0m 10ms/step\n"
          ]
        },
        {
          "output_type": "stream",
          "name": "stderr",
          "text": [
            "[I 2025-05-06 02:21:44,638] Trial 0 finished with value: 0.2574189116311856 and parameters: {'n_filters1': 32, 'n_filters2': 64, 'kernel1': 5, 'kernel2': 5, 'dense_units': 128, 'dropout': 0.30000000000000004, 'lr': 0.0014999010347476552, 'batch_size': 16}. Best is trial 0 with value: 0.2574189116311856.\n",
            "<ipython-input-96-378d2886378b>:16: FutureWarning: suggest_loguniform has been deprecated in v3.0.0. This feature will be removed in v6.0.0. See https://github.com/optuna/optuna/releases/tag/v3.0.0. Use suggest_float(..., log=True) instead.\n",
            "  lr         = trial.suggest_loguniform(\"lr\",    1e-4, 1e-2)\n",
            "/usr/local/lib/python3.11/dist-packages/keras/src/layers/convolutional/base_conv.py:107: UserWarning: Do not pass an `input_shape`/`input_dim` argument to a layer. When using Sequential models, prefer using an `Input(shape)` object as the first layer in the model instead.\n",
            "  super().__init__(activity_regularizer=activity_regularizer, **kwargs)\n"
          ]
        },
        {
          "output_type": "stream",
          "name": "stdout",
          "text": [
            "\u001b[1m43/43\u001b[0m \u001b[32m━━━━━━━━━━━━━━━━━━━━\u001b[0m\u001b[37m\u001b[0m \u001b[1m1s\u001b[0m 10ms/step\n"
          ]
        },
        {
          "output_type": "stream",
          "name": "stderr",
          "text": [
            "[I 2025-05-06 02:22:01,947] Trial 1 finished with value: 0.2515628691116914 and parameters: {'n_filters1': 48, 'n_filters2': 64, 'kernel1': 5, 'kernel2': 5, 'dense_units': 128, 'dropout': 0.4, 'lr': 0.0028107953900934433, 'batch_size': 32}. Best is trial 0 with value: 0.2574189116311856.\n",
            "<ipython-input-96-378d2886378b>:16: FutureWarning: suggest_loguniform has been deprecated in v3.0.0. This feature will be removed in v6.0.0. See https://github.com/optuna/optuna/releases/tag/v3.0.0. Use suggest_float(..., log=True) instead.\n",
            "  lr         = trial.suggest_loguniform(\"lr\",    1e-4, 1e-2)\n",
            "/usr/local/lib/python3.11/dist-packages/keras/src/layers/convolutional/base_conv.py:107: UserWarning: Do not pass an `input_shape`/`input_dim` argument to a layer. When using Sequential models, prefer using an `Input(shape)` object as the first layer in the model instead.\n",
            "  super().__init__(activity_regularizer=activity_regularizer, **kwargs)\n"
          ]
        },
        {
          "output_type": "stream",
          "name": "stdout",
          "text": [
            "\u001b[1m43/43\u001b[0m \u001b[32m━━━━━━━━━━━━━━━━━━━━\u001b[0m\u001b[37m\u001b[0m \u001b[1m1s\u001b[0m 10ms/step\n"
          ]
        },
        {
          "output_type": "stream",
          "name": "stderr",
          "text": [
            "[I 2025-05-06 02:22:16,341] Trial 2 finished with value: 0.23503540457138894 and parameters: {'n_filters1': 32, 'n_filters2': 64, 'kernel1': 5, 'kernel2': 7, 'dense_units': 64, 'dropout': 0.30000000000000004, 'lr': 0.004443022317717441, 'batch_size': 64}. Best is trial 0 with value: 0.2574189116311856.\n",
            "<ipython-input-96-378d2886378b>:16: FutureWarning: suggest_loguniform has been deprecated in v3.0.0. This feature will be removed in v6.0.0. See https://github.com/optuna/optuna/releases/tag/v3.0.0. Use suggest_float(..., log=True) instead.\n",
            "  lr         = trial.suggest_loguniform(\"lr\",    1e-4, 1e-2)\n",
            "/usr/local/lib/python3.11/dist-packages/keras/src/layers/convolutional/base_conv.py:107: UserWarning: Do not pass an `input_shape`/`input_dim` argument to a layer. When using Sequential models, prefer using an `Input(shape)` object as the first layer in the model instead.\n",
            "  super().__init__(activity_regularizer=activity_regularizer, **kwargs)\n"
          ]
        },
        {
          "output_type": "stream",
          "name": "stdout",
          "text": [
            "\u001b[1m43/43\u001b[0m \u001b[32m━━━━━━━━━━━━━━━━━━━━\u001b[0m\u001b[37m\u001b[0m \u001b[1m1s\u001b[0m 10ms/step\n"
          ]
        },
        {
          "output_type": "stream",
          "name": "stderr",
          "text": [
            "[I 2025-05-06 02:22:29,146] Trial 3 finished with value: 0.26316317698409797 and parameters: {'n_filters1': 32, 'n_filters2': 64, 'kernel1': 5, 'kernel2': 5, 'dense_units': 64, 'dropout': 0.2, 'lr': 0.001243508674405589, 'batch_size': 64}. Best is trial 3 with value: 0.26316317698409797.\n",
            "<ipython-input-96-378d2886378b>:16: FutureWarning: suggest_loguniform has been deprecated in v3.0.0. This feature will be removed in v6.0.0. See https://github.com/optuna/optuna/releases/tag/v3.0.0. Use suggest_float(..., log=True) instead.\n",
            "  lr         = trial.suggest_loguniform(\"lr\",    1e-4, 1e-2)\n",
            "/usr/local/lib/python3.11/dist-packages/keras/src/layers/convolutional/base_conv.py:107: UserWarning: Do not pass an `input_shape`/`input_dim` argument to a layer. When using Sequential models, prefer using an `Input(shape)` object as the first layer in the model instead.\n",
            "  super().__init__(activity_regularizer=activity_regularizer, **kwargs)\n"
          ]
        },
        {
          "output_type": "stream",
          "name": "stdout",
          "text": [
            "\u001b[1m43/43\u001b[0m \u001b[32m━━━━━━━━━━━━━━━━━━━━\u001b[0m\u001b[37m\u001b[0m \u001b[1m1s\u001b[0m 12ms/step\n"
          ]
        },
        {
          "output_type": "stream",
          "name": "stderr",
          "text": [
            "[I 2025-05-06 02:22:51,643] Trial 4 finished with value: 0.26677871054588154 and parameters: {'n_filters1': 48, 'n_filters2': 32, 'kernel1': 3, 'kernel2': 5, 'dense_units': 32, 'dropout': 0.30000000000000004, 'lr': 0.0005529579699888695, 'batch_size': 16}. Best is trial 4 with value: 0.26677871054588154.\n",
            "<ipython-input-96-378d2886378b>:16: FutureWarning: suggest_loguniform has been deprecated in v3.0.0. This feature will be removed in v6.0.0. See https://github.com/optuna/optuna/releases/tag/v3.0.0. Use suggest_float(..., log=True) instead.\n",
            "  lr         = trial.suggest_loguniform(\"lr\",    1e-4, 1e-2)\n",
            "/usr/local/lib/python3.11/dist-packages/keras/src/layers/convolutional/base_conv.py:107: UserWarning: Do not pass an `input_shape`/`input_dim` argument to a layer. When using Sequential models, prefer using an `Input(shape)` object as the first layer in the model instead.\n",
            "  super().__init__(activity_regularizer=activity_regularizer, **kwargs)\n"
          ]
        },
        {
          "output_type": "stream",
          "name": "stdout",
          "text": [
            "\u001b[1m43/43\u001b[0m \u001b[32m━━━━━━━━━━━━━━━━━━━━\u001b[0m\u001b[37m\u001b[0m \u001b[1m1s\u001b[0m 11ms/step\n"
          ]
        },
        {
          "output_type": "stream",
          "name": "stderr",
          "text": [
            "[I 2025-05-06 02:23:09,477] Trial 5 finished with value: 0.2624902725042257 and parameters: {'n_filters1': 64, 'n_filters2': 32, 'kernel1': 3, 'kernel2': 3, 'dense_units': 96, 'dropout': 0.2, 'lr': 0.005227296413318356, 'batch_size': 32}. Best is trial 4 with value: 0.26677871054588154.\n",
            "<ipython-input-96-378d2886378b>:16: FutureWarning: suggest_loguniform has been deprecated in v3.0.0. This feature will be removed in v6.0.0. See https://github.com/optuna/optuna/releases/tag/v3.0.0. Use suggest_float(..., log=True) instead.\n",
            "  lr         = trial.suggest_loguniform(\"lr\",    1e-4, 1e-2)\n",
            "/usr/local/lib/python3.11/dist-packages/keras/src/layers/convolutional/base_conv.py:107: UserWarning: Do not pass an `input_shape`/`input_dim` argument to a layer. When using Sequential models, prefer using an `Input(shape)` object as the first layer in the model instead.\n",
            "  super().__init__(activity_regularizer=activity_regularizer, **kwargs)\n"
          ]
        },
        {
          "output_type": "stream",
          "name": "stdout",
          "text": [
            "\u001b[1m43/43\u001b[0m \u001b[32m━━━━━━━━━━━━━━━━━━━━\u001b[0m\u001b[37m\u001b[0m \u001b[1m1s\u001b[0m 11ms/step\n"
          ]
        },
        {
          "output_type": "stream",
          "name": "stderr",
          "text": [
            "[I 2025-05-06 02:23:22,793] Trial 6 finished with value: 0.24293325961756146 and parameters: {'n_filters1': 32, 'n_filters2': 64, 'kernel1': 5, 'kernel2': 5, 'dense_units': 96, 'dropout': 0.5, 'lr': 0.00037772092533050065, 'batch_size': 64}. Best is trial 4 with value: 0.26677871054588154.\n",
            "<ipython-input-96-378d2886378b>:16: FutureWarning: suggest_loguniform has been deprecated in v3.0.0. This feature will be removed in v6.0.0. See https://github.com/optuna/optuna/releases/tag/v3.0.0. Use suggest_float(..., log=True) instead.\n",
            "  lr         = trial.suggest_loguniform(\"lr\",    1e-4, 1e-2)\n",
            "/usr/local/lib/python3.11/dist-packages/keras/src/layers/convolutional/base_conv.py:107: UserWarning: Do not pass an `input_shape`/`input_dim` argument to a layer. When using Sequential models, prefer using an `Input(shape)` object as the first layer in the model instead.\n",
            "  super().__init__(activity_regularizer=activity_regularizer, **kwargs)\n"
          ]
        },
        {
          "output_type": "stream",
          "name": "stdout",
          "text": [
            "\u001b[1m43/43\u001b[0m \u001b[32m━━━━━━━━━━━━━━━━━━━━\u001b[0m\u001b[37m\u001b[0m \u001b[1m1s\u001b[0m 9ms/step\n"
          ]
        },
        {
          "output_type": "stream",
          "name": "stderr",
          "text": [
            "[I 2025-05-06 02:23:40,137] Trial 7 finished with value: 0.2478175972467509 and parameters: {'n_filters1': 32, 'n_filters2': 128, 'kernel1': 3, 'kernel2': 5, 'dense_units': 32, 'dropout': 0.5, 'lr': 0.00015962187787448378, 'batch_size': 32}. Best is trial 4 with value: 0.26677871054588154.\n",
            "<ipython-input-96-378d2886378b>:16: FutureWarning: suggest_loguniform has been deprecated in v3.0.0. This feature will be removed in v6.0.0. See https://github.com/optuna/optuna/releases/tag/v3.0.0. Use suggest_float(..., log=True) instead.\n",
            "  lr         = trial.suggest_loguniform(\"lr\",    1e-4, 1e-2)\n",
            "/usr/local/lib/python3.11/dist-packages/keras/src/layers/convolutional/base_conv.py:107: UserWarning: Do not pass an `input_shape`/`input_dim` argument to a layer. When using Sequential models, prefer using an `Input(shape)` object as the first layer in the model instead.\n",
            "  super().__init__(activity_regularizer=activity_regularizer, **kwargs)\n"
          ]
        },
        {
          "output_type": "stream",
          "name": "stdout",
          "text": [
            "\u001b[1m43/43\u001b[0m \u001b[32m━━━━━━━━━━━━━━━━━━━━\u001b[0m\u001b[37m\u001b[0m \u001b[1m1s\u001b[0m 10ms/step\n"
          ]
        },
        {
          "output_type": "stream",
          "name": "stderr",
          "text": [
            "[I 2025-05-06 02:23:57,988] Trial 8 finished with value: 0.2763351518170438 and parameters: {'n_filters1': 16, 'n_filters2': 128, 'kernel1': 3, 'kernel2': 5, 'dense_units': 128, 'dropout': 0.30000000000000004, 'lr': 0.0006791287545289717, 'batch_size': 32}. Best is trial 8 with value: 0.2763351518170438.\n",
            "<ipython-input-96-378d2886378b>:16: FutureWarning: suggest_loguniform has been deprecated in v3.0.0. This feature will be removed in v6.0.0. See https://github.com/optuna/optuna/releases/tag/v3.0.0. Use suggest_float(..., log=True) instead.\n",
            "  lr         = trial.suggest_loguniform(\"lr\",    1e-4, 1e-2)\n",
            "/usr/local/lib/python3.11/dist-packages/keras/src/layers/convolutional/base_conv.py:107: UserWarning: Do not pass an `input_shape`/`input_dim` argument to a layer. When using Sequential models, prefer using an `Input(shape)` object as the first layer in the model instead.\n",
            "  super().__init__(activity_regularizer=activity_regularizer, **kwargs)\n"
          ]
        },
        {
          "output_type": "stream",
          "name": "stdout",
          "text": [
            "\u001b[1m43/43\u001b[0m \u001b[32m━━━━━━━━━━━━━━━━━━━━\u001b[0m\u001b[37m\u001b[0m \u001b[1m1s\u001b[0m 11ms/step\n"
          ]
        },
        {
          "output_type": "stream",
          "name": "stderr",
          "text": [
            "[I 2025-05-06 02:24:22,637] Trial 9 finished with value: 0.26362614264095985 and parameters: {'n_filters1': 16, 'n_filters2': 96, 'kernel1': 3, 'kernel2': 3, 'dense_units': 96, 'dropout': 0.5, 'lr': 0.00028770548461053223, 'batch_size': 16}. Best is trial 8 with value: 0.2763351518170438.\n",
            "<ipython-input-96-378d2886378b>:16: FutureWarning: suggest_loguniform has been deprecated in v3.0.0. This feature will be removed in v6.0.0. See https://github.com/optuna/optuna/releases/tag/v3.0.0. Use suggest_float(..., log=True) instead.\n",
            "  lr         = trial.suggest_loguniform(\"lr\",    1e-4, 1e-2)\n",
            "/usr/local/lib/python3.11/dist-packages/keras/src/layers/convolutional/base_conv.py:107: UserWarning: Do not pass an `input_shape`/`input_dim` argument to a layer. When using Sequential models, prefer using an `Input(shape)` object as the first layer in the model instead.\n",
            "  super().__init__(activity_regularizer=activity_regularizer, **kwargs)\n"
          ]
        },
        {
          "output_type": "stream",
          "name": "stdout",
          "text": [
            "\u001b[1m43/43\u001b[0m \u001b[32m━━━━━━━━━━━━━━━━━━━━\u001b[0m\u001b[37m\u001b[0m \u001b[1m1s\u001b[0m 10ms/step\n"
          ]
        },
        {
          "output_type": "stream",
          "name": "stderr",
          "text": [
            "[I 2025-05-06 02:24:40,530] Trial 10 finished with value: 0.2505863902485719 and parameters: {'n_filters1': 16, 'n_filters2': 128, 'kernel1': 7, 'kernel2': 7, 'dense_units': 128, 'dropout': 0.6, 'lr': 0.00013141723601454752, 'batch_size': 32}. Best is trial 8 with value: 0.2763351518170438.\n",
            "<ipython-input-96-378d2886378b>:16: FutureWarning: suggest_loguniform has been deprecated in v3.0.0. This feature will be removed in v6.0.0. See https://github.com/optuna/optuna/releases/tag/v3.0.0. Use suggest_float(..., log=True) instead.\n",
            "  lr         = trial.suggest_loguniform(\"lr\",    1e-4, 1e-2)\n",
            "/usr/local/lib/python3.11/dist-packages/keras/src/layers/convolutional/base_conv.py:107: UserWarning: Do not pass an `input_shape`/`input_dim` argument to a layer. When using Sequential models, prefer using an `Input(shape)` object as the first layer in the model instead.\n",
            "  super().__init__(activity_regularizer=activity_regularizer, **kwargs)\n"
          ]
        },
        {
          "output_type": "stream",
          "name": "stdout",
          "text": [
            "\u001b[1m43/43\u001b[0m \u001b[32m━━━━━━━━━━━━━━━━━━━━\u001b[0m\u001b[37m\u001b[0m \u001b[1m1s\u001b[0m 9ms/step\n"
          ]
        },
        {
          "output_type": "stream",
          "name": "stderr",
          "text": [
            "[I 2025-05-06 02:25:02,757] Trial 11 finished with value: 0.2885508399230538 and parameters: {'n_filters1': 64, 'n_filters2': 32, 'kernel1': 3, 'kernel2': 3, 'dense_units': 32, 'dropout': 0.30000000000000004, 'lr': 0.000540521384891472, 'batch_size': 16}. Best is trial 11 with value: 0.2885508399230538.\n",
            "<ipython-input-96-378d2886378b>:16: FutureWarning: suggest_loguniform has been deprecated in v3.0.0. This feature will be removed in v6.0.0. See https://github.com/optuna/optuna/releases/tag/v3.0.0. Use suggest_float(..., log=True) instead.\n",
            "  lr         = trial.suggest_loguniform(\"lr\",    1e-4, 1e-2)\n",
            "/usr/local/lib/python3.11/dist-packages/keras/src/layers/convolutional/base_conv.py:107: UserWarning: Do not pass an `input_shape`/`input_dim` argument to a layer. When using Sequential models, prefer using an `Input(shape)` object as the first layer in the model instead.\n",
            "  super().__init__(activity_regularizer=activity_regularizer, **kwargs)\n"
          ]
        },
        {
          "output_type": "stream",
          "name": "stdout",
          "text": [
            "\u001b[1m43/43\u001b[0m \u001b[32m━━━━━━━━━━━━━━━━━━━━\u001b[0m\u001b[37m\u001b[0m \u001b[1m1s\u001b[0m 10ms/step\n"
          ]
        },
        {
          "output_type": "stream",
          "name": "stderr",
          "text": [
            "[I 2025-05-06 02:25:26,740] Trial 12 finished with value: 0.2947687352156626 and parameters: {'n_filters1': 64, 'n_filters2': 96, 'kernel1': 3, 'kernel2': 3, 'dense_units': 64, 'dropout': 0.4, 'lr': 0.0006934286257347118, 'batch_size': 16}. Best is trial 12 with value: 0.2947687352156626.\n",
            "<ipython-input-96-378d2886378b>:16: FutureWarning: suggest_loguniform has been deprecated in v3.0.0. This feature will be removed in v6.0.0. See https://github.com/optuna/optuna/releases/tag/v3.0.0. Use suggest_float(..., log=True) instead.\n",
            "  lr         = trial.suggest_loguniform(\"lr\",    1e-4, 1e-2)\n",
            "/usr/local/lib/python3.11/dist-packages/keras/src/layers/convolutional/base_conv.py:107: UserWarning: Do not pass an `input_shape`/`input_dim` argument to a layer. When using Sequential models, prefer using an `Input(shape)` object as the first layer in the model instead.\n",
            "  super().__init__(activity_regularizer=activity_regularizer, **kwargs)\n"
          ]
        },
        {
          "output_type": "stream",
          "name": "stdout",
          "text": [
            "\u001b[1m43/43\u001b[0m \u001b[32m━━━━━━━━━━━━━━━━━━━━\u001b[0m\u001b[37m\u001b[0m \u001b[1m1s\u001b[0m 11ms/step\n"
          ]
        },
        {
          "output_type": "stream",
          "name": "stderr",
          "text": [
            "[I 2025-05-06 02:25:50,214] Trial 13 finished with value: 0.21663776324407094 and parameters: {'n_filters1': 64, 'n_filters2': 96, 'kernel1': 7, 'kernel2': 3, 'dense_units': 32, 'dropout': 0.4, 'lr': 0.0018884550510599486, 'batch_size': 16}. Best is trial 12 with value: 0.2947687352156626.\n",
            "<ipython-input-96-378d2886378b>:16: FutureWarning: suggest_loguniform has been deprecated in v3.0.0. This feature will be removed in v6.0.0. See https://github.com/optuna/optuna/releases/tag/v3.0.0. Use suggest_float(..., log=True) instead.\n",
            "  lr         = trial.suggest_loguniform(\"lr\",    1e-4, 1e-2)\n",
            "/usr/local/lib/python3.11/dist-packages/keras/src/layers/convolutional/base_conv.py:107: UserWarning: Do not pass an `input_shape`/`input_dim` argument to a layer. When using Sequential models, prefer using an `Input(shape)` object as the first layer in the model instead.\n",
            "  super().__init__(activity_regularizer=activity_regularizer, **kwargs)\n"
          ]
        },
        {
          "output_type": "stream",
          "name": "stdout",
          "text": [
            "\u001b[1m43/43\u001b[0m \u001b[32m━━━━━━━━━━━━━━━━━━━━\u001b[0m\u001b[37m\u001b[0m \u001b[1m1s\u001b[0m 8ms/step\n"
          ]
        },
        {
          "output_type": "stream",
          "name": "stderr",
          "text": [
            "[I 2025-05-06 02:26:12,506] Trial 14 finished with value: 0.22443274809836308 and parameters: {'n_filters1': 64, 'n_filters2': 96, 'kernel1': 3, 'kernel2': 3, 'dense_units': 64, 'dropout': 0.4, 'lr': 0.0007147020670234952, 'batch_size': 16}. Best is trial 12 with value: 0.2947687352156626.\n",
            "<ipython-input-96-378d2886378b>:16: FutureWarning: suggest_loguniform has been deprecated in v3.0.0. This feature will be removed in v6.0.0. See https://github.com/optuna/optuna/releases/tag/v3.0.0. Use suggest_float(..., log=True) instead.\n",
            "  lr         = trial.suggest_loguniform(\"lr\",    1e-4, 1e-2)\n",
            "/usr/local/lib/python3.11/dist-packages/keras/src/layers/convolutional/base_conv.py:107: UserWarning: Do not pass an `input_shape`/`input_dim` argument to a layer. When using Sequential models, prefer using an `Input(shape)` object as the first layer in the model instead.\n",
            "  super().__init__(activity_regularizer=activity_regularizer, **kwargs)\n"
          ]
        },
        {
          "output_type": "stream",
          "name": "stdout",
          "text": [
            "\u001b[1m43/43\u001b[0m \u001b[32m━━━━━━━━━━━━━━━━━━━━\u001b[0m\u001b[37m\u001b[0m \u001b[1m1s\u001b[0m 10ms/step\n"
          ]
        },
        {
          "output_type": "stream",
          "name": "stderr",
          "text": [
            "[I 2025-05-06 02:26:34,184] Trial 15 finished with value: 0.2645603207826647 and parameters: {'n_filters1': 48, 'n_filters2': 32, 'kernel1': 3, 'kernel2': 3, 'dense_units': 32, 'dropout': 0.4, 'lr': 0.0002610840431645501, 'batch_size': 16}. Best is trial 12 with value: 0.2947687352156626.\n",
            "<ipython-input-96-378d2886378b>:16: FutureWarning: suggest_loguniform has been deprecated in v3.0.0. This feature will be removed in v6.0.0. See https://github.com/optuna/optuna/releases/tag/v3.0.0. Use suggest_float(..., log=True) instead.\n",
            "  lr         = trial.suggest_loguniform(\"lr\",    1e-4, 1e-2)\n",
            "/usr/local/lib/python3.11/dist-packages/keras/src/layers/convolutional/base_conv.py:107: UserWarning: Do not pass an `input_shape`/`input_dim` argument to a layer. When using Sequential models, prefer using an `Input(shape)` object as the first layer in the model instead.\n",
            "  super().__init__(activity_regularizer=activity_regularizer, **kwargs)\n"
          ]
        },
        {
          "output_type": "stream",
          "name": "stdout",
          "text": [
            "\u001b[1m43/43\u001b[0m \u001b[32m━━━━━━━━━━━━━━━━━━━━\u001b[0m\u001b[37m\u001b[0m \u001b[1m1s\u001b[0m 8ms/step\n"
          ]
        },
        {
          "output_type": "stream",
          "name": "stderr",
          "text": [
            "[I 2025-05-06 02:26:57,121] Trial 16 finished with value: 0.25556267007236333 and parameters: {'n_filters1': 64, 'n_filters2': 96, 'kernel1': 3, 'kernel2': 3, 'dense_units': 64, 'dropout': 0.2, 'lr': 0.0008597675673341525, 'batch_size': 16}. Best is trial 12 with value: 0.2947687352156626.\n",
            "<ipython-input-96-378d2886378b>:16: FutureWarning: suggest_loguniform has been deprecated in v3.0.0. This feature will be removed in v6.0.0. See https://github.com/optuna/optuna/releases/tag/v3.0.0. Use suggest_float(..., log=True) instead.\n",
            "  lr         = trial.suggest_loguniform(\"lr\",    1e-4, 1e-2)\n",
            "/usr/local/lib/python3.11/dist-packages/keras/src/layers/convolutional/base_conv.py:107: UserWarning: Do not pass an `input_shape`/`input_dim` argument to a layer. When using Sequential models, prefer using an `Input(shape)` object as the first layer in the model instead.\n",
            "  super().__init__(activity_regularizer=activity_regularizer, **kwargs)\n"
          ]
        },
        {
          "output_type": "stream",
          "name": "stdout",
          "text": [
            "\u001b[1m43/43\u001b[0m \u001b[32m━━━━━━━━━━━━━━━━━━━━\u001b[0m\u001b[37m\u001b[0m \u001b[1m1s\u001b[0m 10ms/step\n"
          ]
        },
        {
          "output_type": "stream",
          "name": "stderr",
          "text": [
            "[I 2025-05-06 02:27:19,360] Trial 17 finished with value: 0.1864951768488746 and parameters: {'n_filters1': 48, 'n_filters2': 32, 'kernel1': 7, 'kernel2': 3, 'dense_units': 32, 'dropout': 0.6, 'lr': 0.009304983295294368, 'batch_size': 16}. Best is trial 12 with value: 0.2947687352156626.\n",
            "<ipython-input-96-378d2886378b>:16: FutureWarning: suggest_loguniform has been deprecated in v3.0.0. This feature will be removed in v6.0.0. See https://github.com/optuna/optuna/releases/tag/v3.0.0. Use suggest_float(..., log=True) instead.\n",
            "  lr         = trial.suggest_loguniform(\"lr\",    1e-4, 1e-2)\n",
            "/usr/local/lib/python3.11/dist-packages/keras/src/layers/convolutional/base_conv.py:107: UserWarning: Do not pass an `input_shape`/`input_dim` argument to a layer. When using Sequential models, prefer using an `Input(shape)` object as the first layer in the model instead.\n",
            "  super().__init__(activity_regularizer=activity_regularizer, **kwargs)\n"
          ]
        },
        {
          "output_type": "stream",
          "name": "stdout",
          "text": [
            "\u001b[1m43/43\u001b[0m \u001b[32m━━━━━━━━━━━━━━━━━━━━\u001b[0m\u001b[37m\u001b[0m \u001b[1m1s\u001b[0m 8ms/step\n"
          ]
        },
        {
          "output_type": "stream",
          "name": "stderr",
          "text": [
            "[I 2025-05-06 02:27:42,330] Trial 18 finished with value: 0.29150878841894906 and parameters: {'n_filters1': 64, 'n_filters2': 96, 'kernel1': 3, 'kernel2': 3, 'dense_units': 64, 'dropout': 0.30000000000000004, 'lr': 0.0004595074104167494, 'batch_size': 16}. Best is trial 12 with value: 0.2947687352156626.\n",
            "<ipython-input-96-378d2886378b>:16: FutureWarning: suggest_loguniform has been deprecated in v3.0.0. This feature will be removed in v6.0.0. See https://github.com/optuna/optuna/releases/tag/v3.0.0. Use suggest_float(..., log=True) instead.\n",
            "  lr         = trial.suggest_loguniform(\"lr\",    1e-4, 1e-2)\n",
            "/usr/local/lib/python3.11/dist-packages/keras/src/layers/convolutional/base_conv.py:107: UserWarning: Do not pass an `input_shape`/`input_dim` argument to a layer. When using Sequential models, prefer using an `Input(shape)` object as the first layer in the model instead.\n",
            "  super().__init__(activity_regularizer=activity_regularizer, **kwargs)\n"
          ]
        },
        {
          "output_type": "stream",
          "name": "stdout",
          "text": [
            "\u001b[1m43/43\u001b[0m \u001b[32m━━━━━━━━━━━━━━━━━━━━\u001b[0m\u001b[37m\u001b[0m \u001b[1m1s\u001b[0m 11ms/step\n"
          ]
        },
        {
          "output_type": "stream",
          "name": "stderr",
          "text": [
            "[I 2025-05-06 02:28:06,285] Trial 19 finished with value: 0.30918116091127135 and parameters: {'n_filters1': 64, 'n_filters2': 96, 'kernel1': 5, 'kernel2': 3, 'dense_units': 64, 'dropout': 0.5, 'lr': 0.00020280095282475342, 'batch_size': 16}. Best is trial 19 with value: 0.30918116091127135.\n"
          ]
        },
        {
          "output_type": "stream",
          "name": "stdout",
          "text": [
            "🔍 Mejores hiperparámetros: {'n_filters1': 64, 'n_filters2': 96, 'kernel1': 5, 'kernel2': 3, 'dense_units': 64, 'dropout': 0.5, 'lr': 0.00020280095282475342, 'batch_size': 16}\n",
            "🔍 Mejor macro-F1 en validación: 0.30918116091127135\n"
          ]
        }
      ]
    },
    {
      "cell_type": "code",
      "source": [
        "# 8.5 – Reentrenar el modelo campeón con los mejores parámetros\n",
        "best = study.best_params\n",
        "\n",
        "# Combinar train+val para entrenamiento final\n",
        "X_full = np.concatenate([X_train_cnn, X_val_cnn], axis=0)\n",
        "y_full = np.concatenate([y_train_enc, y_val_enc], axis=0)\n",
        "\n",
        "model_champ = keras.models.Sequential([\n",
        "    keras.layers.Conv1D(best[\"n_filters1\"], kernel_size=best[\"kernel1\"], activation='relu', input_shape=(9000,1)),\n",
        "    keras.layers.MaxPooling1D(2),\n",
        "    keras.layers.Conv1D(best[\"n_filters2\"], kernel_size=best[\"kernel2\"], activation='relu'),\n",
        "    keras.layers.MaxPooling1D(2),\n",
        "    keras.layers.Flatten(),\n",
        "    keras.layers.Dense(best[\"dense_units\"], activation='relu'),\n",
        "    keras.layers.Dropout(best[\"dropout\"]),\n",
        "    keras.layers.Dense(4, activation='softmax')\n",
        "])\n",
        "model_champ.compile(\n",
        "    optimizer=keras.optimizers.Adam(learning_rate=best[\"lr\"]),\n",
        "    loss='sparse_categorical_crossentropy',\n",
        "    metrics=['accuracy']\n",
        ")\n",
        "\n",
        "# Entrenamiento completo (más épocas)\n",
        "model_champ.fit(\n",
        "    X_full, y_full,\n",
        "    epochs=20,\n",
        "    batch_size=best[\"batch_size\"],\n",
        "    validation_split=0.1,\n",
        "    callbacks=[\n",
        "        keras.callbacks.EarlyStopping(monitor='val_loss', patience=5, restore_best_weights=True),\n",
        "        keras.callbacks.ReduceLROnPlateau(monitor='val_loss', factor=0.5, patience=3)\n",
        "    ],\n",
        "    verbose=1\n",
        ")\n"
      ],
      "metadata": {
        "colab": {
          "base_uri": "https://localhost:8080/"
        },
        "id": "VGzaZtPJY8KG",
        "outputId": "35763d92-785f-4946-efb2-a24231bd544f"
      },
      "id": "VGzaZtPJY8KG",
      "execution_count": 99,
      "outputs": [
        {
          "output_type": "stream",
          "name": "stderr",
          "text": [
            "/usr/local/lib/python3.11/dist-packages/keras/src/layers/convolutional/base_conv.py:107: UserWarning: Do not pass an `input_shape`/`input_dim` argument to a layer. When using Sequential models, prefer using an `Input(shape)` object as the first layer in the model instead.\n",
            "  super().__init__(activity_regularizer=activity_regularizer, **kwargs)\n"
          ]
        },
        {
          "output_type": "stream",
          "name": "stdout",
          "text": [
            "Epoch 1/20\n",
            "\u001b[1m384/384\u001b[0m \u001b[32m━━━━━━━━━━━━━━━━━━━━\u001b[0m\u001b[37m\u001b[0m \u001b[1m9s\u001b[0m 17ms/step - accuracy: 0.5654 - loss: 1.1849 - val_accuracy: 0.6003 - val_loss: 0.9454 - learning_rate: 2.0280e-04\n",
            "Epoch 2/20\n",
            "\u001b[1m384/384\u001b[0m \u001b[32m━━━━━━━━━━━━━━━━━━━━\u001b[0m\u001b[37m\u001b[0m \u001b[1m4s\u001b[0m 10ms/step - accuracy: 0.5926 - loss: 0.9802 - val_accuracy: 0.6003 - val_loss: 0.9331 - learning_rate: 2.0280e-04\n",
            "Epoch 3/20\n",
            "\u001b[1m384/384\u001b[0m \u001b[32m━━━━━━━━━━━━━━━━━━━━\u001b[0m\u001b[37m\u001b[0m \u001b[1m4s\u001b[0m 10ms/step - accuracy: 0.6085 - loss: 0.9074 - val_accuracy: 0.6018 - val_loss: 0.9446 - learning_rate: 2.0280e-04\n",
            "Epoch 4/20\n",
            "\u001b[1m384/384\u001b[0m \u001b[32m━━━━━━━━━━━━━━━━━━━━\u001b[0m\u001b[37m\u001b[0m \u001b[1m4s\u001b[0m 10ms/step - accuracy: 0.6306 - loss: 0.8307 - val_accuracy: 0.5974 - val_loss: 0.9656 - learning_rate: 2.0280e-04\n",
            "Epoch 5/20\n",
            "\u001b[1m384/384\u001b[0m \u001b[32m━━━━━━━━━━━━━━━━━━━━\u001b[0m\u001b[37m\u001b[0m \u001b[1m4s\u001b[0m 10ms/step - accuracy: 0.6666 - loss: 0.7494 - val_accuracy: 0.5798 - val_loss: 1.0475 - learning_rate: 2.0280e-04\n",
            "Epoch 6/20\n",
            "\u001b[1m384/384\u001b[0m \u001b[32m━━━━━━━━━━━━━━━━━━━━\u001b[0m\u001b[37m\u001b[0m \u001b[1m4s\u001b[0m 10ms/step - accuracy: 0.7194 - loss: 0.6417 - val_accuracy: 0.5695 - val_loss: 1.1441 - learning_rate: 1.0140e-04\n",
            "Epoch 7/20\n",
            "\u001b[1m384/384\u001b[0m \u001b[32m━━━━━━━━━━━━━━━━━━━━\u001b[0m\u001b[37m\u001b[0m \u001b[1m4s\u001b[0m 10ms/step - accuracy: 0.7673 - loss: 0.5355 - val_accuracy: 0.5417 - val_loss: 1.1708 - learning_rate: 1.0140e-04\n"
          ]
        },
        {
          "output_type": "execute_result",
          "data": {
            "text/plain": [
              "<keras.src.callbacks.history.History at 0x792afb8e7fd0>"
            ]
          },
          "metadata": {},
          "execution_count": 99
        }
      ]
    },
    {
      "cell_type": "code",
      "source": [
        "# 1. Codificar y_test a numérico usando el mismo 'mapping'\n",
        "mapping = {'~': 0, 'A': 1, 'N': 2, 'O': 3}\n",
        "y_test_enc = np.array([mapping[c] for c in y_test])  # Convertir y_test (texto) a números\n",
        "\n",
        "# 2. Predecir y evaluar en TEST\n",
        "X_test_cnn = X_test_scaled.reshape(-1, 9000, 1)  # Asegurar el reshape correcto\n",
        "y_test_prob = model_champ.predict(X_test_cnn)\n",
        "y_test_pred = np.argmax(y_test_prob, axis=1)\n",
        "\n",
        "# 3. Generar el reporte de clasificación\n",
        "from sklearn.metrics import classification_report\n",
        "print(\"=== Resultados FINALES en TEST ===\")\n",
        "print(classification_report(\n",
        "    y_test_enc, y_test_pred, digits=4,\n",
        "    target_names=['~','A','N','O']  # Las etiquetas se muestran como texto, pero y_test_enc y y_test_pred son numéricas internamente\n",
        "))"
      ],
      "metadata": {
        "colab": {
          "base_uri": "https://localhost:8080/"
        },
        "id": "nN2kxK9BZ2Jt",
        "outputId": "da031aa7-7a29-4a61-a8f4-ece7445575d1"
      },
      "id": "nN2kxK9BZ2Jt",
      "execution_count": 104,
      "outputs": [
        {
          "output_type": "stream",
          "name": "stdout",
          "text": [
            "\u001b[1m54/54\u001b[0m \u001b[32m━━━━━━━━━━━━━━━━━━━━\u001b[0m\u001b[37m\u001b[0m \u001b[1m0s\u001b[0m 2ms/step\n",
            "=== Resultados FINALES en TEST ===\n",
            "              precision    recall  f1-score   support\n",
            "\n",
            "           ~     0.8333    0.0893    0.1613        56\n",
            "           A     0.0000    0.0000    0.0000       152\n",
            "           N     0.5971    1.0000    0.7477      1015\n",
            "           O     0.0000    0.0000    0.0000       483\n",
            "\n",
            "    accuracy                         0.5979      1706\n",
            "   macro avg     0.3576    0.2723    0.2272      1706\n",
            "weighted avg     0.3826    0.5979    0.4501      1706\n",
            "\n"
          ]
        },
        {
          "output_type": "stream",
          "name": "stderr",
          "text": [
            "/usr/local/lib/python3.11/dist-packages/sklearn/metrics/_classification.py:1565: UndefinedMetricWarning: Precision is ill-defined and being set to 0.0 in labels with no predicted samples. Use `zero_division` parameter to control this behavior.\n",
            "  _warn_prf(average, modifier, f\"{metric.capitalize()} is\", len(result))\n",
            "/usr/local/lib/python3.11/dist-packages/sklearn/metrics/_classification.py:1565: UndefinedMetricWarning: Precision is ill-defined and being set to 0.0 in labels with no predicted samples. Use `zero_division` parameter to control this behavior.\n",
            "  _warn_prf(average, modifier, f\"{metric.capitalize()} is\", len(result))\n",
            "/usr/local/lib/python3.11/dist-packages/sklearn/metrics/_classification.py:1565: UndefinedMetricWarning: Precision is ill-defined and being set to 0.0 in labels with no predicted samples. Use `zero_division` parameter to control this behavior.\n",
            "  _warn_prf(average, modifier, f\"{metric.capitalize()} is\", len(result))\n"
          ]
        }
      ]
    },
    {
      "cell_type": "code",
      "source": [],
      "metadata": {
        "id": "--WR874_bM2z"
      },
      "id": "--WR874_bM2z",
      "execution_count": null,
      "outputs": []
    }
  ],
  "metadata": {
    "kernelspec": {
      "display_name": "Python 3",
      "name": "python3"
    },
    "language_info": {
      "codemirror_mode": {
        "name": "ipython",
        "version": 3
      },
      "file_extension": ".py",
      "mimetype": "text/x-python",
      "name": "python",
      "nbconvert_exporter": "python",
      "pygments_lexer": "ipython3",
      "version": "3.11.8"
    },
    "colab": {
      "provenance": [],
      "gpuType": "A100"
    },
    "accelerator": "GPU"
  },
  "nbformat": 4,
  "nbformat_minor": 5
}